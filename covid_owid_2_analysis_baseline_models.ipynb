{
  "nbformat": 4,
  "nbformat_minor": 0,
  "metadata": {
    "colab": {
      "name": "covid_owid_2_analysis_baseline_models.ipynb",
      "provenance": [],
      "include_colab_link": true
    },
    "kernelspec": {
      "name": "python3",
      "display_name": "Python 3"
    },
    "language_info": {
      "name": "python"
    }
  },
  "cells": [
    {
      "cell_type": "markdown",
      "metadata": {
        "id": "view-in-github",
        "colab_type": "text"
      },
      "source": [
        "<a href=\"https://colab.research.google.com/github/w-oke/covid_reproduction/blob/main/covid_owid_2_analysis_baseline_models.ipynb\" target=\"_parent\"><img src=\"https://colab.research.google.com/assets/colab-badge.svg\" alt=\"Open In Colab\"/></a>"
      ]
    },
    {
      "cell_type": "markdown",
      "metadata": {
        "id": "AcknS606OT5D"
      },
      "source": [
        "The data loaded in this Notebook is based on the output of: covid_owid_1_preparation.ipynb, which can be accessed from:\n",
        "https://github.com/w-oke/covid_reproduction."
      ]
    },
    {
      "cell_type": "code",
      "metadata": {
        "id": "vIXW7GbeaT8u"
      },
      "source": [
        "PYTHONHASHSEED=0\n",
        "import urllib.request\n",
        "import pickle\n",
        "import numpy as np\n",
        "import pandas as pd\n",
        "import matplotlib.pyplot as plt\n",
        "from sklearn.model_selection import train_test_split\n",
        "from sklearn.preprocessing import MinMaxScaler\n",
        "from sklearn.impute import KNNImputer\n",
        "from tensorflow import keras"
      ],
      "execution_count": null,
      "outputs": []
    },
    {
      "cell_type": "code",
      "metadata": {
        "id": "laGKjQDkPOML",
        "colab": {
          "base_uri": "https://localhost:8080/"
        },
        "outputId": "77c5a41e-cfe0-414c-d998-7702297239bb"
      },
      "source": [
        "df_link = 'https://github.com/w-oke/covid_reproduction/raw/main/covid_owid_df.parquet'\n",
        "df1 = pd.read_parquet(df_link)\n",
        "df1.info()"
      ],
      "execution_count": null,
      "outputs": [
        {
          "output_type": "stream",
          "name": "stdout",
          "text": [
            "<class 'pandas.core.frame.DataFrame'>\n",
            "RangeIndex: 14671 entries, 0 to 14670\n",
            "Data columns (total 30 columns):\n",
            " #   Column                               Non-Null Count  Dtype         \n",
            "---  ------                               --------------  -----         \n",
            " 0   iso_code                             14671 non-null  object        \n",
            " 1   location                             14671 non-null  object        \n",
            " 2   date                                 14671 non-null  datetime64[ns]\n",
            " 3   reproduction_rate                    14671 non-null  float64       \n",
            " 4   new_tests_smoothed_per_thousand      14671 non-null  float64       \n",
            " 5   people_vaccinated_per_hundred        14671 non-null  float64       \n",
            " 6   people_fully_vaccinated_per_hundred  14671 non-null  float64       \n",
            " 7   total_boosters_per_hundred           14671 non-null  float64       \n",
            " 8   stringency_index                     14671 non-null  float64       \n",
            " 9   population_density                   14671 non-null  float64       \n",
            " 10  median_age                           14671 non-null  float64       \n",
            " 11  gdp_per_capita                       14671 non-null  float64       \n",
            " 12  extreme_poverty                      14671 non-null  float64       \n",
            " 13  handwashing_facilities               14671 non-null  float64       \n",
            " 14  hospital_beds_per_thousand           14671 non-null  float64       \n",
            " 15  life_expectancy                      14671 non-null  float64       \n",
            " 16  human_development_index              14671 non-null  float64       \n",
            " 17  Alpha                                14671 non-null  float64       \n",
            " 18  Beta                                 14671 non-null  float64       \n",
            " 19  Delta                                14671 non-null  float64       \n",
            " 20  Epsilon                              14671 non-null  float64       \n",
            " 21  Eta                                  14671 non-null  float64       \n",
            " 22  Gamma                                14671 non-null  float64       \n",
            " 23  Iota                                 14671 non-null  float64       \n",
            " 24  Kappa                                14671 non-null  float64       \n",
            " 25  Lambda                               14671 non-null  float64       \n",
            " 26  Mu                                   14671 non-null  float64       \n",
            " 27  Omicron                              14671 non-null  float64       \n",
            " 28  non_who                              14671 non-null  float64       \n",
            " 29  date_diff                            14671 non-null  float64       \n",
            "dtypes: datetime64[ns](1), float64(27), object(2)\n",
            "memory usage: 3.4+ MB\n"
          ]
        }
      ]
    },
    {
      "cell_type": "code",
      "metadata": {
        "colab": {
          "base_uri": "https://localhost:8080/",
          "height": 320
        },
        "id": "7KM7x1gqExM-",
        "outputId": "b028cd84-42df-4e39-ade6-dbd95ed587f0"
      },
      "source": [
        "df1.describe()"
      ],
      "execution_count": null,
      "outputs": [
        {
          "output_type": "execute_result",
          "data": {
            "text/html": [
              "<div>\n",
              "<style scoped>\n",
              "    .dataframe tbody tr th:only-of-type {\n",
              "        vertical-align: middle;\n",
              "    }\n",
              "\n",
              "    .dataframe tbody tr th {\n",
              "        vertical-align: top;\n",
              "    }\n",
              "\n",
              "    .dataframe thead th {\n",
              "        text-align: right;\n",
              "    }\n",
              "</style>\n",
              "<table border=\"1\" class=\"dataframe\">\n",
              "  <thead>\n",
              "    <tr style=\"text-align: right;\">\n",
              "      <th></th>\n",
              "      <th>reproduction_rate</th>\n",
              "      <th>new_tests_smoothed_per_thousand</th>\n",
              "      <th>people_vaccinated_per_hundred</th>\n",
              "      <th>people_fully_vaccinated_per_hundred</th>\n",
              "      <th>total_boosters_per_hundred</th>\n",
              "      <th>stringency_index</th>\n",
              "      <th>population_density</th>\n",
              "      <th>median_age</th>\n",
              "      <th>gdp_per_capita</th>\n",
              "      <th>extreme_poverty</th>\n",
              "      <th>handwashing_facilities</th>\n",
              "      <th>hospital_beds_per_thousand</th>\n",
              "      <th>life_expectancy</th>\n",
              "      <th>human_development_index</th>\n",
              "      <th>Alpha</th>\n",
              "      <th>Beta</th>\n",
              "      <th>Delta</th>\n",
              "      <th>Epsilon</th>\n",
              "      <th>Eta</th>\n",
              "      <th>Gamma</th>\n",
              "      <th>Iota</th>\n",
              "      <th>Kappa</th>\n",
              "      <th>Lambda</th>\n",
              "      <th>Mu</th>\n",
              "      <th>Omicron</th>\n",
              "      <th>non_who</th>\n",
              "      <th>date_diff</th>\n",
              "    </tr>\n",
              "  </thead>\n",
              "  <tbody>\n",
              "    <tr>\n",
              "      <th>count</th>\n",
              "      <td>14671.000000</td>\n",
              "      <td>14671.000000</td>\n",
              "      <td>14671.000000</td>\n",
              "      <td>14671.000000</td>\n",
              "      <td>14671.000000</td>\n",
              "      <td>14671.000000</td>\n",
              "      <td>14671.000000</td>\n",
              "      <td>14671.000000</td>\n",
              "      <td>14671.000000</td>\n",
              "      <td>14671.000000</td>\n",
              "      <td>14671.000000</td>\n",
              "      <td>14671.000000</td>\n",
              "      <td>14671.000000</td>\n",
              "      <td>14671.000000</td>\n",
              "      <td>14671.000000</td>\n",
              "      <td>14671.000000</td>\n",
              "      <td>14671.000000</td>\n",
              "      <td>14671.000000</td>\n",
              "      <td>14671.000000</td>\n",
              "      <td>14671.000000</td>\n",
              "      <td>14671.000000</td>\n",
              "      <td>14671.000000</td>\n",
              "      <td>14671.000000</td>\n",
              "      <td>14671.000000</td>\n",
              "      <td>14671.000000</td>\n",
              "      <td>14671.000000</td>\n",
              "      <td>14671.000000</td>\n",
              "    </tr>\n",
              "    <tr>\n",
              "      <th>mean</th>\n",
              "      <td>0.981247</td>\n",
              "      <td>0.024932</td>\n",
              "      <td>0.142838</td>\n",
              "      <td>0.114042</td>\n",
              "      <td>0.021666</td>\n",
              "      <td>0.560950</td>\n",
              "      <td>0.015554</td>\n",
              "      <td>0.473407</td>\n",
              "      <td>0.156399</td>\n",
              "      <td>0.134494</td>\n",
              "      <td>0.681668</td>\n",
              "      <td>0.199699</td>\n",
              "      <td>0.587462</td>\n",
              "      <td>0.590860</td>\n",
              "      <td>0.135999</td>\n",
              "      <td>0.031464</td>\n",
              "      <td>0.278307</td>\n",
              "      <td>0.001583</td>\n",
              "      <td>0.005016</td>\n",
              "      <td>0.021805</td>\n",
              "      <td>0.002054</td>\n",
              "      <td>0.002174</td>\n",
              "      <td>0.006041</td>\n",
              "      <td>0.005961</td>\n",
              "      <td>0.001984</td>\n",
              "      <td>0.510628</td>\n",
              "      <td>0.510624</td>\n",
              "    </tr>\n",
              "    <tr>\n",
              "      <th>std</th>\n",
              "      <td>0.309696</td>\n",
              "      <td>0.059803</td>\n",
              "      <td>0.224880</td>\n",
              "      <td>0.209447</td>\n",
              "      <td>0.066831</td>\n",
              "      <td>0.185213</td>\n",
              "      <td>0.078171</td>\n",
              "      <td>0.280223</td>\n",
              "      <td>0.168096</td>\n",
              "      <td>0.241245</td>\n",
              "      <td>0.314402</td>\n",
              "      <td>0.175682</td>\n",
              "      <td>0.230449</td>\n",
              "      <td>0.272662</td>\n",
              "      <td>0.240658</td>\n",
              "      <td>0.101743</td>\n",
              "      <td>0.407454</td>\n",
              "      <td>0.013383</td>\n",
              "      <td>0.031222</td>\n",
              "      <td>0.079873</td>\n",
              "      <td>0.017536</td>\n",
              "      <td>0.019252</td>\n",
              "      <td>0.039937</td>\n",
              "      <td>0.040701</td>\n",
              "      <td>0.019252</td>\n",
              "      <td>0.443168</td>\n",
              "      <td>0.289618</td>\n",
              "    </tr>\n",
              "    <tr>\n",
              "      <th>min</th>\n",
              "      <td>-0.030000</td>\n",
              "      <td>0.000000</td>\n",
              "      <td>0.000000</td>\n",
              "      <td>0.000000</td>\n",
              "      <td>0.000000</td>\n",
              "      <td>0.000000</td>\n",
              "      <td>0.000000</td>\n",
              "      <td>0.000000</td>\n",
              "      <td>0.000000</td>\n",
              "      <td>0.000000</td>\n",
              "      <td>0.000000</td>\n",
              "      <td>0.000000</td>\n",
              "      <td>0.000000</td>\n",
              "      <td>0.000000</td>\n",
              "      <td>0.000000</td>\n",
              "      <td>0.000000</td>\n",
              "      <td>0.000000</td>\n",
              "      <td>0.000000</td>\n",
              "      <td>0.000000</td>\n",
              "      <td>0.000000</td>\n",
              "      <td>0.000000</td>\n",
              "      <td>0.000000</td>\n",
              "      <td>0.000000</td>\n",
              "      <td>0.000000</td>\n",
              "      <td>0.000000</td>\n",
              "      <td>0.000000</td>\n",
              "      <td>0.000000</td>\n",
              "    </tr>\n",
              "    <tr>\n",
              "      <th>25%</th>\n",
              "      <td>0.830000</td>\n",
              "      <td>0.002293</td>\n",
              "      <td>0.000000</td>\n",
              "      <td>0.000000</td>\n",
              "      <td>0.000000</td>\n",
              "      <td>0.435200</td>\n",
              "      <td>0.001848</td>\n",
              "      <td>0.208459</td>\n",
              "      <td>0.032584</td>\n",
              "      <td>0.006452</td>\n",
              "      <td>0.443836</td>\n",
              "      <td>0.068613</td>\n",
              "      <td>0.413206</td>\n",
              "      <td>0.355240</td>\n",
              "      <td>0.000000</td>\n",
              "      <td>0.000000</td>\n",
              "      <td>0.000000</td>\n",
              "      <td>0.000000</td>\n",
              "      <td>0.000000</td>\n",
              "      <td>0.000000</td>\n",
              "      <td>0.000000</td>\n",
              "      <td>0.000000</td>\n",
              "      <td>0.000000</td>\n",
              "      <td>0.000000</td>\n",
              "      <td>0.000000</td>\n",
              "      <td>0.026047</td>\n",
              "      <td>0.259259</td>\n",
              "    </tr>\n",
              "    <tr>\n",
              "      <th>50%</th>\n",
              "      <td>1.000000</td>\n",
              "      <td>0.009071</td>\n",
              "      <td>0.011376</td>\n",
              "      <td>0.003167</td>\n",
              "      <td>0.000000</td>\n",
              "      <td>0.564800</td>\n",
              "      <td>0.004167</td>\n",
              "      <td>0.468278</td>\n",
              "      <td>0.099553</td>\n",
              "      <td>0.012903</td>\n",
              "      <td>0.858901</td>\n",
              "      <td>0.153285</td>\n",
              "      <td>0.633403</td>\n",
              "      <td>0.632327</td>\n",
              "      <td>0.002397</td>\n",
              "      <td>0.000156</td>\n",
              "      <td>0.000434</td>\n",
              "      <td>0.000000</td>\n",
              "      <td>0.000000</td>\n",
              "      <td>0.000000</td>\n",
              "      <td>0.000000</td>\n",
              "      <td>0.000000</td>\n",
              "      <td>0.000000</td>\n",
              "      <td>0.000000</td>\n",
              "      <td>0.000000</td>\n",
              "      <td>0.500050</td>\n",
              "      <td>0.518519</td>\n",
              "    </tr>\n",
              "    <tr>\n",
              "      <th>75%</th>\n",
              "      <td>1.150000</td>\n",
              "      <td>0.025561</td>\n",
              "      <td>0.214730</td>\n",
              "      <td>0.119361</td>\n",
              "      <td>0.003309</td>\n",
              "      <td>0.703700</td>\n",
              "      <td>0.010465</td>\n",
              "      <td>0.740181</td>\n",
              "      <td>0.228384</td>\n",
              "      <td>0.127742</td>\n",
              "      <td>0.906227</td>\n",
              "      <td>0.270073</td>\n",
              "      <td>0.755602</td>\n",
              "      <td>0.813499</td>\n",
              "      <td>0.177391</td>\n",
              "      <td>0.023175</td>\n",
              "      <td>0.732812</td>\n",
              "      <td>0.000137</td>\n",
              "      <td>0.000303</td>\n",
              "      <td>0.012787</td>\n",
              "      <td>0.000101</td>\n",
              "      <td>0.000042</td>\n",
              "      <td>0.003552</td>\n",
              "      <td>0.001837</td>\n",
              "      <td>0.000000</td>\n",
              "      <td>0.999999</td>\n",
              "      <td>0.765432</td>\n",
              "    </tr>\n",
              "    <tr>\n",
              "      <th>max</th>\n",
              "      <td>4.190000</td>\n",
              "      <td>1.000000</td>\n",
              "      <td>1.000000</td>\n",
              "      <td>1.000000</td>\n",
              "      <td>1.000000</td>\n",
              "      <td>1.000000</td>\n",
              "      <td>1.000000</td>\n",
              "      <td>1.000000</td>\n",
              "      <td>1.000000</td>\n",
              "      <td>1.000000</td>\n",
              "      <td>1.000000</td>\n",
              "      <td>1.000000</td>\n",
              "      <td>1.000000</td>\n",
              "      <td>1.000000</td>\n",
              "      <td>1.000000</td>\n",
              "      <td>1.000000</td>\n",
              "      <td>1.000000</td>\n",
              "      <td>1.000000</td>\n",
              "      <td>1.000000</td>\n",
              "      <td>1.000000</td>\n",
              "      <td>1.000000</td>\n",
              "      <td>1.000000</td>\n",
              "      <td>1.000000</td>\n",
              "      <td>1.000000</td>\n",
              "      <td>1.000000</td>\n",
              "      <td>1.000000</td>\n",
              "      <td>1.000000</td>\n",
              "    </tr>\n",
              "  </tbody>\n",
              "</table>\n",
              "</div>"
            ],
            "text/plain": [
              "       reproduction_rate  ...     date_diff\n",
              "count       14671.000000  ...  14671.000000\n",
              "mean            0.981247  ...      0.510624\n",
              "std             0.309696  ...      0.289618\n",
              "min            -0.030000  ...      0.000000\n",
              "25%             0.830000  ...      0.259259\n",
              "50%             1.000000  ...      0.518519\n",
              "75%             1.150000  ...      0.765432\n",
              "max             4.190000  ...      1.000000\n",
              "\n",
              "[8 rows x 27 columns]"
            ]
          },
          "metadata": {},
          "execution_count": 3
        }
      ]
    },
    {
      "cell_type": "code",
      "metadata": {
        "id": "KyimQktVeszY",
        "colab": {
          "base_uri": "https://localhost:8080/"
        },
        "outputId": "4567d048-5d52-4037-a08f-d03a0d38db17"
      },
      "source": [
        "# import the dictionary var with lists of features:\n",
        "var_link = 'https://github.com/w-oke/covid_reproduction/raw/main/covid_owid_var_dictionary.pkl'\n",
        "a_file = \"covid_owid_var_dictionary.pkl\"\n",
        "data = urllib.request.urlretrieve(var_link, a_file) # download the file\n",
        "with open(a_file, 'rb') as f:\n",
        "        var = pickle.load(f)\n",
        "\n",
        "print('The keys of the \\'var\\' dict are: ', var.keys())\n",
        "print()\n",
        "var"
      ],
      "execution_count": null,
      "outputs": [
        {
          "output_type": "stream",
          "name": "stdout",
          "text": [
            "The keys of the 'var' dict are:  dict_keys(['y', 'meta', 'number', 'variants', 'scale', 'vaccine', 'imputer_no_date', 'imputer_date'])\n",
            "\n"
          ]
        },
        {
          "output_type": "execute_result",
          "data": {
            "text/plain": [
              "{'imputer_date': ['new_tests_smoothed_per_thousand',\n",
              "  'people_vaccinated_per_hundred',\n",
              "  'people_fully_vaccinated_per_hundred',\n",
              "  'total_boosters_per_hundred',\n",
              "  'gdp_per_capita',\n",
              "  'hospital_beds_per_thousand',\n",
              "  'stringency_index',\n",
              "  'date_diff'],\n",
              " 'imputer_no_date': ['population_density',\n",
              "  'median_age',\n",
              "  'gdp_per_capita',\n",
              "  'extreme_poverty',\n",
              "  'handwashing_facilities',\n",
              "  'hospital_beds_per_thousand',\n",
              "  'life_expectancy',\n",
              "  'human_development_index'],\n",
              " 'meta': ['date', 'iso_code', 'location'],\n",
              " 'number': ['new_tests_smoothed_per_thousand',\n",
              "  'people_vaccinated_per_hundred',\n",
              "  'people_fully_vaccinated_per_hundred',\n",
              "  'total_boosters_per_hundred',\n",
              "  'stringency_index',\n",
              "  'population_density',\n",
              "  'median_age',\n",
              "  'human_development_index',\n",
              "  'gdp_per_capita',\n",
              "  'extreme_poverty',\n",
              "  'handwashing_facilities',\n",
              "  'hospital_beds_per_thousand',\n",
              "  'life_expectancy'],\n",
              " 'scale': ['new_tests_smoothed_per_thousand',\n",
              "  'people_vaccinated_per_hundred',\n",
              "  'people_fully_vaccinated_per_hundred',\n",
              "  'total_boosters_per_hundred',\n",
              "  'stringency_index',\n",
              "  'population_density',\n",
              "  'median_age',\n",
              "  'human_development_index',\n",
              "  'gdp_per_capita',\n",
              "  'extreme_poverty',\n",
              "  'handwashing_facilities',\n",
              "  'hospital_beds_per_thousand',\n",
              "  'life_expectancy',\n",
              "  'Alpha',\n",
              "  'Beta',\n",
              "  'Delta',\n",
              "  'Epsilon',\n",
              "  'Eta',\n",
              "  'Gamma',\n",
              "  'Iota',\n",
              "  'Kappa',\n",
              "  'Lambda',\n",
              "  'Mu',\n",
              "  'Omicron',\n",
              "  'non_who',\n",
              "  'date_diff'],\n",
              " 'vaccine': ['people_vaccinated_per_hundred',\n",
              "  'people_fully_vaccinated_per_hundred',\n",
              "  'total_boosters_per_hundred'],\n",
              " 'variants': ['Alpha',\n",
              "  'Beta',\n",
              "  'Delta',\n",
              "  'Epsilon',\n",
              "  'Eta',\n",
              "  'Gamma',\n",
              "  'Iota',\n",
              "  'Kappa',\n",
              "  'Lambda',\n",
              "  'Mu',\n",
              "  'Omicron',\n",
              "  'non_who'],\n",
              " 'y': ['reproduction_rate']}"
            ]
          },
          "metadata": {},
          "execution_count": 4
        }
      ]
    },
    {
      "cell_type": "markdown",
      "metadata": {
        "id": "-RWxZuUy1hn0"
      },
      "source": [
        "## Data Preparation and Visualization Function\n",
        "\n"
      ]
    },
    {
      "cell_type": "code",
      "metadata": {
        "id": "2sknNv1_-GXH"
      },
      "source": [
        "# allocate 20% of the data set to testing\n",
        "X_train, X_test, y_train, y_test = train_test_split(\n",
        "                        df1[var['number']+var['variants']], df1[var['y']].values, \n",
        "                        test_size=0.2, random_state=1)"
      ],
      "execution_count": null,
      "outputs": []
    },
    {
      "cell_type": "code",
      "metadata": {
        "id": "CXE1W-b747HH"
      },
      "source": [
        "def visualize_regression_results(df, title):\n",
        "  dfPd = df.copy()\n",
        "  dfPd.sort_values(\"reproduction_rate\", ascending=False, inplace=True)\n",
        "\n",
        "  plt.plot(dfPd.prediction, dfPd.reproduction_rate, 'o', label = 'Observations')\n",
        "  plt.xlabel('reproduction_rate')\n",
        "  plt.ylabel('reproduction_rate')\n",
        "\n",
        "  # Draw estimates\n",
        "  plt.plot(dfPd.prediction, dfPd.prediction, 'r+', label='Estimates')\n",
        "\n",
        "  # Plot regression line\n",
        "  plt.plot(dfPd.prediction, dfPd.prediction, 'r-', label='Regression line')\n",
        "\n",
        "  # Plot errors\n",
        "  plt.vlines(dfPd.prediction, dfPd.prediction, dfPd.reproduction_rate, linestyles='dashed', label = 'errors')\n",
        "\n",
        "  # Add legend\n",
        "  plt.legend()\n",
        "  plt.title(title)\n",
        "  plt.show()"
      ],
      "execution_count": null,
      "outputs": []
    },
    {
      "cell_type": "markdown",
      "metadata": {
        "id": "NiGOuBEt8Snq"
      },
      "source": [
        "## Linear Regression Model - Baseline"
      ]
    },
    {
      "cell_type": "code",
      "metadata": {
        "id": "t-r_AKeWG4bL",
        "colab": {
          "base_uri": "https://localhost:8080/",
          "height": 383
        },
        "outputId": "90c4e42b-48ed-4eff-d1ae-b3a43a5eb419"
      },
      "source": [
        "# create a baseline linear regression model to compare other models\n",
        "\n",
        "from sklearn.linear_model import LinearRegression\n",
        "from sklearn.metrics import explained_variance_score, mean_squared_error\n",
        "\n",
        "baseline_model = LinearRegression().fit(X_train, y_train)\n",
        "predictions = baseline_model.predict(X_test)\n",
        "predictions = [p[0] for p in predictions]\n",
        "\n",
        "df_baseline_linear = pd.DataFrame()\n",
        "df_baseline_linear['prediction'] = predictions\n",
        "df_baseline_linear['reproduction_rate'] = y_test\n",
        "\n",
        "visualize_regression_results(df_baseline_linear, \"Linear Regression Baseline\")\n",
        "\n",
        "print(\"\\n\\nMetrics for Linear Regression Baseline\")\n",
        "print(f\"Explained variance: {explained_variance_score(y_test, predictions):.2f}\")\n",
        "print(f\"Mean squared error: {mean_squared_error(y_test, predictions):.2f}\")"
      ],
      "execution_count": null,
      "outputs": [
        {
          "output_type": "display_data",
          "data": {
            "image/png": "[encoded data removed]",
            "text/plain": [
              "<Figure size 432x288 with 1 Axes>"
            ]
          },
          "metadata": {
            "needs_background": "light"
          }
        },
        {
          "output_type": "stream",
          "name": "stdout",
          "text": [
            "\n",
            "\n",
            "Metrics for Linear Regression Baseline\n",
            "Explained variance: 0.08\n",
            "Mean squared error: 0.09\n"
          ]
        }
      ]
    },
    {
      "cell_type": "markdown",
      "metadata": {
        "id": "ok7_B8zm8H_8"
      },
      "source": [
        "## Random Forest Regression - Advanced Baseline"
      ]
    },
    {
      "cell_type": "code",
      "metadata": {
        "colab": {
          "base_uri": "https://localhost:8080/",
          "height": 438
        },
        "id": "nXMCblAc8HCQ",
        "outputId": "951fac23-58d5-4724-85e7-4cee9d7246d9"
      },
      "source": [
        "# create a baseline linear regression model to compare other models\n",
        "\n",
        "from sklearn.ensemble import RandomForestRegressor\n",
        "\n",
        "baseline_model_rfr = RandomForestRegressor().fit(X_train, y_train)\n",
        "predictions = baseline_model_rfr.predict(X_test)\n",
        "# predictions = [p[0] for p in predictions]\n",
        "\n",
        "df_baseline_rfr = pd.DataFrame()\n",
        "df_baseline_rfr['prediction'] = predictions\n",
        "df_baseline_rfr['reproduction_rate'] = y_test\n",
        "\n",
        "visualize_regression_results(df_baseline_rfr, \"Random Forest Regression Baseline\")\n",
        "\n",
        "print(\"\\n\\nMetrics for Random Forest Regression Baseline\")\n",
        "print(f\"Explained variance: {explained_variance_score(y_test, predictions):.2f}\")\n",
        "print(f\"Mean squared error: {mean_squared_error(y_test, predictions):.2f}\")"
      ],
      "execution_count": null,
      "outputs": [
        {
          "output_type": "stream",
          "name": "stderr",
          "text": [
            "/usr/local/lib/python3.7/dist-packages/ipykernel_launcher.py:5: DataConversionWarning: A column-vector y was passed when a 1d array was expected. Please change the shape of y to (n_samples,), for example using ravel().\n",
            "  \"\"\"\n"
          ]
        },
        {
          "output_type": "display_data",
          "data": {
            "image/png": "[encoded data removed]",
            "text/plain": [
              "<Figure size 432x288 with 1 Axes>"
            ]
          },
          "metadata": {
            "needs_background": "light"
          }
        },
        {
          "output_type": "stream",
          "name": "stdout",
          "text": [
            "\n",
            "\n",
            "Metrics for Random Forest Regression Baseline\n",
            "Explained variance: 0.69\n",
            "Mean squared error: 0.03\n"
          ]
        }
      ]
    },
    {
      "cell_type": "markdown",
      "metadata": {
        "id": "RVlHwxJA9HVV"
      },
      "source": [
        "## Feature Importances"
      ]
    },
    {
      "cell_type": "code",
      "metadata": {
        "colab": {
          "base_uri": "https://localhost:8080/",
          "height": 865
        },
        "id": "IUB-kX818ymn",
        "outputId": "0246ad2e-b336-4fb7-c9e4-00630ec056a3"
      },
      "source": [
        "# From the Random Forest Regressor model, the following features are the most \n",
        "# important for predicting reproduction_rate of the virus\n",
        "\n",
        "feature_importance_df = pd.DataFrame()\n",
        "feature_importance_df['features'] = var['number'] + var['variants']\n",
        "feature_importance_df['feature_importance'] = baseline_model_rfr.feature_importances_\n",
        "feature_importance_df.set_index(\"features\", inplace=True)\n",
        "feature_importance_df.sort_values(\"feature_importance\", inplace=True, ascending=False)\n",
        "feature_importance_df"
      ],
      "execution_count": null,
      "outputs": [
        {
          "output_type": "execute_result",
          "data": {
            "text/html": [
              "<div>\n",
              "<style scoped>\n",
              "    .dataframe tbody tr th:only-of-type {\n",
              "        vertical-align: middle;\n",
              "    }\n",
              "\n",
              "    .dataframe tbody tr th {\n",
              "        vertical-align: top;\n",
              "    }\n",
              "\n",
              "    .dataframe thead th {\n",
              "        text-align: right;\n",
              "    }\n",
              "</style>\n",
              "<table border=\"1\" class=\"dataframe\">\n",
              "  <thead>\n",
              "    <tr style=\"text-align: right;\">\n",
              "      <th></th>\n",
              "      <th>feature_importance</th>\n",
              "    </tr>\n",
              "    <tr>\n",
              "      <th>features</th>\n",
              "      <th></th>\n",
              "    </tr>\n",
              "  </thead>\n",
              "  <tbody>\n",
              "    <tr>\n",
              "      <th>stringency_index</th>\n",
              "      <td>0.155812</td>\n",
              "    </tr>\n",
              "    <tr>\n",
              "      <th>new_tests_smoothed_per_thousand</th>\n",
              "      <td>0.138385</td>\n",
              "    </tr>\n",
              "    <tr>\n",
              "      <th>life_expectancy</th>\n",
              "      <td>0.057297</td>\n",
              "    </tr>\n",
              "    <tr>\n",
              "      <th>hospital_beds_per_thousand</th>\n",
              "      <td>0.053029</td>\n",
              "    </tr>\n",
              "    <tr>\n",
              "      <th>population_density</th>\n",
              "      <td>0.051394</td>\n",
              "    </tr>\n",
              "    <tr>\n",
              "      <th>handwashing_facilities</th>\n",
              "      <td>0.050956</td>\n",
              "    </tr>\n",
              "    <tr>\n",
              "      <th>median_age</th>\n",
              "      <td>0.049616</td>\n",
              "    </tr>\n",
              "    <tr>\n",
              "      <th>human_development_index</th>\n",
              "      <td>0.043383</td>\n",
              "    </tr>\n",
              "    <tr>\n",
              "      <th>gdp_per_capita</th>\n",
              "      <td>0.042132</td>\n",
              "    </tr>\n",
              "    <tr>\n",
              "      <th>people_vaccinated_per_hundred</th>\n",
              "      <td>0.041695</td>\n",
              "    </tr>\n",
              "    <tr>\n",
              "      <th>Alpha</th>\n",
              "      <td>0.040965</td>\n",
              "    </tr>\n",
              "    <tr>\n",
              "      <th>extreme_poverty</th>\n",
              "      <td>0.038348</td>\n",
              "    </tr>\n",
              "    <tr>\n",
              "      <th>people_fully_vaccinated_per_hundred</th>\n",
              "      <td>0.037594</td>\n",
              "    </tr>\n",
              "    <tr>\n",
              "      <th>non_who</th>\n",
              "      <td>0.036214</td>\n",
              "    </tr>\n",
              "    <tr>\n",
              "      <th>Delta</th>\n",
              "      <td>0.028056</td>\n",
              "    </tr>\n",
              "    <tr>\n",
              "      <th>total_boosters_per_hundred</th>\n",
              "      <td>0.024226</td>\n",
              "    </tr>\n",
              "    <tr>\n",
              "      <th>Beta</th>\n",
              "      <td>0.023903</td>\n",
              "    </tr>\n",
              "    <tr>\n",
              "      <th>Epsilon</th>\n",
              "      <td>0.018321</td>\n",
              "    </tr>\n",
              "    <tr>\n",
              "      <th>Gamma</th>\n",
              "      <td>0.016656</td>\n",
              "    </tr>\n",
              "    <tr>\n",
              "      <th>Eta</th>\n",
              "      <td>0.012336</td>\n",
              "    </tr>\n",
              "    <tr>\n",
              "      <th>Mu</th>\n",
              "      <td>0.010853</td>\n",
              "    </tr>\n",
              "    <tr>\n",
              "      <th>Lambda</th>\n",
              "      <td>0.010426</td>\n",
              "    </tr>\n",
              "    <tr>\n",
              "      <th>Kappa</th>\n",
              "      <td>0.007295</td>\n",
              "    </tr>\n",
              "    <tr>\n",
              "      <th>Iota</th>\n",
              "      <td>0.007109</td>\n",
              "    </tr>\n",
              "    <tr>\n",
              "      <th>Omicron</th>\n",
              "      <td>0.003998</td>\n",
              "    </tr>\n",
              "  </tbody>\n",
              "</table>\n",
              "</div>"
            ],
            "text/plain": [
              "                                     feature_importance\n",
              "features                                               \n",
              "stringency_index                               0.155812\n",
              "new_tests_smoothed_per_thousand                0.138385\n",
              "life_expectancy                                0.057297\n",
              "hospital_beds_per_thousand                     0.053029\n",
              "population_density                             0.051394\n",
              "handwashing_facilities                         0.050956\n",
              "median_age                                     0.049616\n",
              "human_development_index                        0.043383\n",
              "gdp_per_capita                                 0.042132\n",
              "people_vaccinated_per_hundred                  0.041695\n",
              "Alpha                                          0.040965\n",
              "extreme_poverty                                0.038348\n",
              "people_fully_vaccinated_per_hundred            0.037594\n",
              "non_who                                        0.036214\n",
              "Delta                                          0.028056\n",
              "total_boosters_per_hundred                     0.024226\n",
              "Beta                                           0.023903\n",
              "Epsilon                                        0.018321\n",
              "Gamma                                          0.016656\n",
              "Eta                                            0.012336\n",
              "Mu                                             0.010853\n",
              "Lambda                                         0.010426\n",
              "Kappa                                          0.007295\n",
              "Iota                                           0.007109\n",
              "Omicron                                        0.003998"
            ]
          },
          "metadata": {},
          "execution_count": 41
        }
      ]
    },
    {
      "cell_type": "code",
      "metadata": {
        "colab": {
          "base_uri": "https://localhost:8080/",
          "height": 458
        },
        "id": "1T_KQiq_9ZfO",
        "outputId": "d462dd6f-375c-4c8a-e746-6277785c6451"
      },
      "source": [
        "feature_importance_df.plot(kind='bar')\n",
        "plt.show()"
      ],
      "execution_count": null,
      "outputs": [
        {
          "output_type": "display_data",
          "data": {
            "image/png": "[encoded data removed]",
            "text/plain": [
              "<Figure size 432x288 with 1 Axes>"
            ]
          },
          "metadata": {
            "needs_background": "light"
          }
        }
      ]
    },
    {
      "cell_type": "code",
      "metadata": {
        "id": "8q11p92_98It"
      },
      "source": [
        ""
      ],
      "execution_count": null,
      "outputs": []
    }
  ]
}