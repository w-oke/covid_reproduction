{
  "nbformat": 4,
  "nbformat_minor": 5,
  "metadata": {
    "kernelspec": {
      "display_name": "Python 3 (ipykernel)",
      "language": "python",
      "name": "python3"
    },
    "language_info": {
      "codemirror_mode": {
        "name": "ipython",
        "version": 3
      },
      "file_extension": ".py",
      "mimetype": "text/x-python",
      "name": "python",
      "nbconvert_exporter": "python",
      "pygments_lexer": "ipython3",
      "version": "3.8.8"
    },
    "colab": {
      "name": "covid_google_2_analysis.ipynb",
      "provenance": [],
      "include_colab_link": true
    }
  },
  "cells": [
    {
      "cell_type": "markdown",
      "metadata": {
        "id": "view-in-github",
        "colab_type": "text"
      },
      "source": [
        "<a href=\"https://colab.research.google.com/github/w-oke/covid_reproduction/blob/main/covid_google_2_analysis.ipynb\" target=\"_parent\"><img src=\"https://colab.research.google.com/assets/colab-badge.svg\" alt=\"Open In Colab\"/></a>"
      ]
    },
    {
      "cell_type": "code",
      "metadata": {
        "id": "8ddccace-4e2d-48a4-b0cf-8a9622d998c6"
      },
      "source": [
        "import numpy as np\n",
        "import pandas as pd\n",
        "import matplotlib.pyplot as plt\n",
        "import urllib.request\n",
        "import pickle"
      ],
      "id": "8ddccace-4e2d-48a4-b0cf-8a9622d998c6",
      "execution_count": 1,
      "outputs": []
    },
    {
      "cell_type": "code",
      "metadata": {
        "id": "f516b7c9-41f4-42fb-93e4-0c9ab17999b0",
        "outputId": "1109ebb0-b08a-4d44-f704-b2a292b3d116",
        "colab": {
          "base_uri": "https://localhost:8080/"
        }
      },
      "source": [
        "# the 2 datasets from Google are North American data and have the same columns\n",
        "# the mobility dataset has 193k rows, which includes most of the mobility data\n",
        "mob_link = 'https://github.com/w-oke/covid_reproduction/raw/main/covid_google_df_mobility.parquet'\n",
        "mob_df = pd.read_parquet(mob_link)\n",
        "\n",
        "# the policy/measures data \n",
        "pol_link = 'https://github.com/w-oke/covid_reproduction/raw/main/covid_google_df_policy_measures.parquet'\n",
        "pol_df = pd.read_parquet(pol_link)\n",
        "pol_df.shape"
      ],
      "id": "f516b7c9-41f4-42fb-93e4-0c9ab17999b0",
      "execution_count": 9,
      "outputs": [
        {
          "output_type": "execute_result",
          "data": {
            "text/plain": [
              "(35048, 52)"
            ]
          },
          "metadata": {},
          "execution_count": 9
        }
      ]
    },
    {
      "cell_type": "code",
      "metadata": {
        "id": "d0uYuq5GZxVJ",
        "outputId": "882cea61-3340-4a6f-9da4-be97b657eaa1",
        "colab": {
          "base_uri": "https://localhost:8080/"
        }
      },
      "source": [
        "mob_df.info()"
      ],
      "id": "d0uYuq5GZxVJ",
      "execution_count": 8,
      "outputs": [
        {
          "output_type": "stream",
          "name": "stdout",
          "text": [
            "<class 'pandas.core.frame.DataFrame'>\n",
            "RangeIndex: 193530 entries, 0 to 193529\n",
            "Data columns (total 52 columns):\n",
            " #   Column                                 Non-Null Count   Dtype         \n",
            "---  ------                                 --------------   -----         \n",
            " 0   new_tested                             193530 non-null  object        \n",
            " 1   new_confirmed                          193012 non-null  float64       \n",
            " 2   location_key                           193530 non-null  object        \n",
            " 3   place_id                               193530 non-null  object        \n",
            " 4   wikidata_id                            193530 non-null  object        \n",
            " 5   country_code                           193530 non-null  object        \n",
            " 6   subregion1_code                        177793 non-null  object        \n",
            " 7   subregion1_name                        177793 non-null  object        \n",
            " 8   date                                   193530 non-null  datetime64[ns]\n",
            " 9   population                             193477 non-null  float64       \n",
            " 10  population_age_00_09                   193480 non-null  float64       \n",
            " 11  population_age_10_19                   193480 non-null  float64       \n",
            " 12  population_age_20_29                   193480 non-null  float64       \n",
            " 13  population_age_30_39                   193480 non-null  float64       \n",
            " 14  population_age_40_49                   193480 non-null  float64       \n",
            " 15  population_age_50_59                   193480 non-null  float64       \n",
            " 16  population_age_60_69                   193480 non-null  float64       \n",
            " 17  population_age_70_79                   193480 non-null  float64       \n",
            " 18  population_age_80_and_older            193480 non-null  float64       \n",
            " 19  area_sq_km                             133069 non-null  float64       \n",
            " 20  cumulative_persons_vaccinated          175578 non-null  float64       \n",
            " 21  cumulative_persons_fully_vaccinated    193530 non-null  int64         \n",
            " 22  cumulative_vaccine_doses_administered  175422 non-null  float64       \n",
            " 23  mobility_retail_and_recreation         170059 non-null  object        \n",
            " 24  mobility_grocery_and_pharmacy          167340 non-null  object        \n",
            " 25  mobility_parks                         193530 non-null  object        \n",
            " 26  mobility_transit_stations              144717 non-null  object        \n",
            " 27  mobility_workplaces                    191450 non-null  object        \n",
            " 28  mobility_residential                   169865 non-null  object        \n",
            " 29  stringency_index                       31520 non-null   float64       \n",
            " 30  average_temperature_celsius            190945 non-null  float64       \n",
            " 31  rainfall_mm                            190807 non-null  float64       \n",
            " 32  snowfall_mm                            10037 non-null   float64       \n",
            " 33  school_closing                         31560 non-null   float64       \n",
            " 34  workplace_closing                      31551 non-null   float64       \n",
            " 35  cancel_public_events                   31544 non-null   float64       \n",
            " 36  restrictions_on_gatherings             31539 non-null   float64       \n",
            " 37  public_transport_closing               31549 non-null   float64       \n",
            " 38  stay_at_home_requirements              31506 non-null   float64       \n",
            " 39  restrictions_on_internal_movement      31468 non-null   float64       \n",
            " 40  international_travel_controls          31547 non-null   float64       \n",
            " 41  income_support                         32245 non-null   float64       \n",
            " 42  debt_relief                            31486 non-null   float64       \n",
            " 43  fiscal_measures                        11777 non-null   float64       \n",
            " 44  international_support                  11754 non-null   float64       \n",
            " 45  public_information_campaigns           31471 non-null   float64       \n",
            " 46  testing_policy                         31568 non-null   float64       \n",
            " 47  contact_tracing                        31419 non-null   float64       \n",
            " 48  emergency_investment_in_healthcare     11692 non-null   float64       \n",
            " 49  investment_in_vaccines                 16287 non-null   float64       \n",
            " 50  facial_coverings                       31421 non-null   float64       \n",
            " 51  vaccination_policy                     31559 non-null   float64       \n",
            "dtypes: datetime64[ns](1), float64(37), int64(1), object(13)\n",
            "memory usage: 76.8+ MB\n"
          ]
        }
      ]
    },
    {
      "cell_type": "code",
      "metadata": {
        "id": "rmmQfqIUZxMx"
      },
      "source": [
        ""
      ],
      "id": "rmmQfqIUZxMx",
      "execution_count": null,
      "outputs": []
    },
    {
      "cell_type": "code",
      "metadata": {
        "id": "eNajHEAbZw6S"
      },
      "source": [
        ""
      ],
      "id": "eNajHEAbZw6S",
      "execution_count": null,
      "outputs": []
    },
    {
      "cell_type": "code",
      "metadata": {
        "id": "ca403b96-98c4-42e5-a338-c0b44f8f3a50"
      },
      "source": [
        "# make sure that the var_dictionary.pkl matches the dataset imported above\n",
        "var_link = 'https://github.com/w-oke/covid_reproduction/raw/main/covid_google_var_dictionary.pkl'\n",
        "\n",
        "with urllib.request.urlopen(var_link) as response:\n",
        "   var = pickle.load(response)"
      ],
      "id": "ca403b96-98c4-42e5-a338-c0b44f8f3a50",
      "execution_count": 7,
      "outputs": []
    },
    {
      "cell_type": "code",
      "metadata": {
        "id": "cEqeec1WUC7b"
      },
      "source": [
        "data = urllib.request.urlopen(\"http://.../file.csv\", \"file.pkl\")"
      ],
      "id": "cEqeec1WUC7b",
      "execution_count": 4,
      "outputs": []
    },
    {
      "cell_type": "code",
      "metadata": {
        "id": "9zIzdkx8S0Sb",
        "outputId": "350ed1e4-4b72-4f22-9cf8-7dbae1d37f03",
        "colab": {
          "base_uri": "https://localhost:8080/"
        }
      },
      "source": [
        "var"
      ],
      "id": "9zIzdkx8S0Sb",
      "execution_count": 5,
      "outputs": [
        {
          "output_type": "execute_result",
          "data": {
            "text/plain": [
              "{'date': ['date'],\n",
              " 'float': ['stringency_index',\n",
              "  'average_temperature_celsius',\n",
              "  'rainfall_mm',\n",
              "  'snowfall_mm'],\n",
              " 'population': ['population',\n",
              "  'population_age_00_09',\n",
              "  'population_age_10_19',\n",
              "  'population_age_20_29',\n",
              "  'population_age_30_39',\n",
              "  'population_age_40_49',\n",
              "  'population_age_50_59',\n",
              "  'population_age_60_69',\n",
              "  'population_age_70_79',\n",
              "  'population_age_80_and_older',\n",
              "  'area_sq_km',\n",
              "  'cumulative_persons_vaccinated',\n",
              "  'cumulative_persons_fully_vaccinated',\n",
              "  'cumulative_vaccine_doses_administered'],\n",
              " 'rating': ['school_closing',\n",
              "  'workplace_closing',\n",
              "  'cancel_public_events',\n",
              "  'restrictions_on_gatherings',\n",
              "  'public_transport_closing',\n",
              "  'stay_at_home_requirements',\n",
              "  'restrictions_on_internal_movement',\n",
              "  'international_travel_controls',\n",
              "  'income_support',\n",
              "  'debt_relief',\n",
              "  'fiscal_measures',\n",
              "  'international_support',\n",
              "  'public_information_campaigns',\n",
              "  'testing_policy',\n",
              "  'contact_tracing',\n",
              "  'emergency_investment_in_healthcare',\n",
              "  'investment_in_vaccines',\n",
              "  'facial_coverings',\n",
              "  'vaccination_policy'],\n",
              " 'region': ['location_key',\n",
              "  'place_id',\n",
              "  'wikidata_id',\n",
              "  'country_code',\n",
              "  'subregion1_code',\n",
              "  'subregion1_name'],\n",
              " 'string': ['mobility_retail_and_recreation',\n",
              "  'mobility_grocery_and_pharmacy',\n",
              "  'mobility_parks',\n",
              "  'mobility_transit_stations',\n",
              "  'mobility_workplaces',\n",
              "  'mobility_residential'],\n",
              " 'y': ['new_tested', 'new_confirmed']}"
            ]
          },
          "metadata": {},
          "execution_count": 5
        }
      ]
    },
    {
      "cell_type": "code",
      "metadata": {
        "id": "oSmboMjXryI9",
        "colab": {
          "base_uri": "https://localhost:8080/"
        },
        "outputId": "c40efa74-e70f-41fc-feb8-58751f96ec49"
      },
      "source": [
        "var"
      ],
      "id": "oSmboMjXryI9",
      "execution_count": 5,
      "outputs": [
        {
          "output_type": "execute_result",
          "data": {
            "text/plain": [
              "{'date': ['date'],\n",
              " 'float': ['stringency_index',\n",
              "  'average_temperature_celsius',\n",
              "  'rainfall_mm',\n",
              "  'snowfall_mm'],\n",
              " 'population': ['population',\n",
              "  'population_age_00_09',\n",
              "  'population_age_10_19',\n",
              "  'population_age_20_29',\n",
              "  'population_age_30_39',\n",
              "  'population_age_40_49',\n",
              "  'population_age_50_59',\n",
              "  'population_age_60_69',\n",
              "  'population_age_70_79',\n",
              "  'population_age_80_and_older',\n",
              "  'area_sq_km',\n",
              "  'cumulative_persons_vaccinated',\n",
              "  'cumulative_persons_fully_vaccinated',\n",
              "  'cumulative_vaccine_doses_administered'],\n",
              " 'rating': ['school_closing',\n",
              "  'workplace_closing',\n",
              "  'cancel_public_events',\n",
              "  'restrictions_on_gatherings',\n",
              "  'public_transport_closing',\n",
              "  'stay_at_home_requirements',\n",
              "  'restrictions_on_internal_movement',\n",
              "  'international_travel_controls',\n",
              "  'income_support',\n",
              "  'debt_relief',\n",
              "  'fiscal_measures',\n",
              "  'international_support',\n",
              "  'public_information_campaigns',\n",
              "  'testing_policy',\n",
              "  'contact_tracing',\n",
              "  'emergency_investment_in_healthcare',\n",
              "  'investment_in_vaccines',\n",
              "  'facial_coverings',\n",
              "  'vaccination_policy'],\n",
              " 'region': ['location_key',\n",
              "  'place_id',\n",
              "  'wikidata_id',\n",
              "  'country_code',\n",
              "  'subregion1_code',\n",
              "  'subregion1_name'],\n",
              " 'string': ['mobility_retail_and_recreation',\n",
              "  'mobility_grocery_and_pharmacy',\n",
              "  'mobility_parks',\n",
              "  'mobility_transit_stations',\n",
              "  'mobility_workplaces',\n",
              "  'mobility_residential'],\n",
              " 'y': ['new_tested', 'new_confirmed']}"
            ]
          },
          "metadata": {},
          "execution_count": 5
        }
      ]
    },
    {
      "cell_type": "code",
      "metadata": {
        "id": "vB47hHN1uuIU"
      },
      "source": [
        ""
      ],
      "id": "vB47hHN1uuIU",
      "execution_count": null,
      "outputs": []
    }
  ]
}