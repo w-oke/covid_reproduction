{
  "nbformat": 4,
  "nbformat_minor": 5,
  "metadata": {
    "kernelspec": {
      "display_name": "Python 3 (ipykernel)",
      "language": "python",
      "name": "python3"
    },
    "language_info": {
      "codemirror_mode": {
        "name": "ipython",
        "version": 3
      },
      "file_extension": ".py",
      "mimetype": "text/x-python",
      "name": "python",
      "nbconvert_exporter": "python",
      "pygments_lexer": "ipython3",
      "version": "3.8.8"
    },
    "colab": {
      "name": "prepare_data_covid_19.ipynb",
      "provenance": [],
      "include_colab_link": true
    }
  },
  "cells": [
    {
      "cell_type": "markdown",
      "metadata": {
        "id": "view-in-github",
        "colab_type": "text"
      },
      "source": [
        "<a href=\"https://colab.research.google.com/github/w-oke/covid_reproduction/blob/main/prepare_data_covid_19.ipynb\" target=\"_parent\"><img src=\"https://colab.research.google.com/assets/colab-badge.svg\" alt=\"Open In Colab\"/></a>"
      ]
    },
    {
      "cell_type": "code",
      "metadata": {
        "id": "de58c844-f8a6-476b-b1ba-a1c2a1d84d63"
      },
      "source": [
        ""
      ],
      "id": "de58c844-f8a6-476b-b1ba-a1c2a1d84d63",
      "execution_count": null,
      "outputs": []
    },
    {
      "cell_type": "code",
      "metadata": {
        "id": "3433e5ab-0156-4c5b-8de9-fcf0151f42d0"
      },
      "source": [
        ""
      ],
      "id": "3433e5ab-0156-4c5b-8de9-fcf0151f42d0",
      "execution_count": null,
      "outputs": []
    },
    {
      "cell_type": "code",
      "metadata": {
        "id": "8ddccace-4e2d-48a4-b0cf-8a9622d998c6"
      },
      "source": [
        "import numpy as np\n",
        "import pandas as pd\n",
        "import matplotlib.pyplot as plt\n",
        "import urllib.request\n",
        "import pickle"
      ],
      "id": "8ddccace-4e2d-48a4-b0cf-8a9622d998c6",
      "execution_count": 15,
      "outputs": []
    },
    {
      "cell_type": "code",
      "metadata": {
        "id": "f516b7c9-41f4-42fb-93e4-0c9ab17999b0"
      },
      "source": [
        "link1 = 'https://github.com/w-oke/covid_reproduction/blob/main/covid_google_df_mobility_parks.parquet?raw=true'\n",
        "# df.read_parquet(link1)\n",
        "\n",
        "link2 = 'https://github.com/w-oke/covid_reproduction/blob/main/covid_google_df_school_closing.parquet?raw=true'\n",
        "df = pd.read_parquet(link2)"
      ],
      "id": "f516b7c9-41f4-42fb-93e4-0c9ab17999b0",
      "execution_count": 2,
      "outputs": []
    },
    {
      "cell_type": "code",
      "metadata": {
        "id": "ca403b96-98c4-42e5-a338-c0b44f8f3a50"
      },
      "source": [
        "# make sure that the var_dictionary.pkl matches the dataset imported above\n",
        "link3 = 'https://github.com/w-oke/covid_reproduction/blob/main/var_dictionary.pkl?raw=true'\n",
        "\n",
        "a_file = \"var_dictionary.pkl\"\n",
        "data = urllib.request.urlretrieve(link3, a_file)\n",
        "\n",
        "with open(a_file, 'rb') as f:\n",
        "        var = pickle.load(f)"
      ],
      "id": "ca403b96-98c4-42e5-a338-c0b44f8f3a50",
      "execution_count": 13,
      "outputs": []
    },
    {
      "cell_type": "code",
      "metadata": {
        "id": "oSmboMjXryI9",
        "outputId": "1a56068f-bfc4-4c46-bf72-448b32b8571e",
        "colab": {
          "base_uri": "https://localhost:8080/"
        }
      },
      "source": [
        "var"
      ],
      "id": "oSmboMjXryI9",
      "execution_count": 14,
      "outputs": [
        {
          "output_type": "execute_result",
          "data": {
            "text/plain": [
              "{'date': ['date'],\n",
              " 'float': ['stringency_index',\n",
              "  'average_temperature_celsius',\n",
              "  'rainfall_mm',\n",
              "  'snowfall_mm'],\n",
              " 'population': ['population',\n",
              "  'population_age_00_09',\n",
              "  'population_age_10_19',\n",
              "  'population_age_20_29',\n",
              "  'population_age_30_39',\n",
              "  'population_age_40_49',\n",
              "  'population_age_50_59',\n",
              "  'population_age_60_69',\n",
              "  'population_age_70_79',\n",
              "  'population_age_80_and_older',\n",
              "  'area_sq_km',\n",
              "  'cumulative_persons_vaccinated',\n",
              "  'cumulative_persons_fully_vaccinated',\n",
              "  'cumulative_vaccine_doses_administered'],\n",
              " 'rating': ['school_closing',\n",
              "  'workplace_closing',\n",
              "  'cancel_public_events',\n",
              "  'restrictions_on_gatherings',\n",
              "  'public_transport_closing',\n",
              "  'stay_at_home_requirements',\n",
              "  'restrictions_on_internal_movement',\n",
              "  'international_travel_controls',\n",
              "  'income_support',\n",
              "  'debt_relief',\n",
              "  'fiscal_measures',\n",
              "  'international_support',\n",
              "  'public_information_campaigns',\n",
              "  'testing_policy',\n",
              "  'contact_tracing',\n",
              "  'emergency_investment_in_healthcare',\n",
              "  'investment_in_vaccines',\n",
              "  'facial_coverings',\n",
              "  'vaccination_policy'],\n",
              " 'region': ['location_key',\n",
              "  'place_id',\n",
              "  'wikidata_id',\n",
              "  'country_code',\n",
              "  'subregion1_code',\n",
              "  'subregion1_name'],\n",
              " 'string': ['mobility_retail_and_recreation',\n",
              "  'mobility_grocery_and_pharmacy',\n",
              "  'mobility_parks',\n",
              "  'mobility_transit_stations',\n",
              "  'mobility_workplaces',\n",
              "  'mobility_residential'],\n",
              " 'y': ['new_tested', 'new_confirmed']}"
            ]
          },
          "metadata": {},
          "execution_count": 14
        }
      ]
    },
    {
      "cell_type": "code",
      "metadata": {
        "id": "vB47hHN1uuIU"
      },
      "source": [
        ""
      ],
      "id": "vB47hHN1uuIU",
      "execution_count": null,
      "outputs": []
    }
  ]
}
