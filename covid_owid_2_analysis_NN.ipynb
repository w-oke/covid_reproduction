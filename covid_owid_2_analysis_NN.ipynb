{
  "nbformat": 4,
  "nbformat_minor": 0,
  "metadata": {
    "colab": {
      "name": "covid_owid_2_analysis_NN.ipynb",
      "provenance": [],
      "authorship_tag": "ABX9TyPx+muBgCXXsIFTbDPAAAJS",
      "include_colab_link": true
    },
    "kernelspec": {
      "name": "python3",
      "display_name": "Python 3"
    },
    "language_info": {
      "name": "python"
    }
  },
  "cells": [
    {
      "cell_type": "markdown",
      "metadata": {
        "id": "view-in-github",
        "colab_type": "text"
      },
      "source": [
        "<a href=\"https://colab.research.google.com/github/w-oke/covid_reproduction/blob/main/covid_owid_2_analysis_NN.ipynb\" target=\"_parent\"><img src=\"https://colab.research.google.com/assets/colab-badge.svg\" alt=\"Open In Colab\"/></a>"
      ]
    },
    {
      "cell_type": "markdown",
      "metadata": {
        "id": "AcknS606OT5D"
      },
      "source": [
        "The data loaded in this Notebook is based on the output of: covid_owid_1_preparation.ipynb, which can be accessed from:\n",
        "https://github.com/w-oke/covid_reproduction."
      ]
    },
    {
      "cell_type": "code",
      "metadata": {
        "id": "vIXW7GbeaT8u"
      },
      "source": [
        "import urllib.request\n",
        "import pickle\n",
        "import numpy as np\n",
        "import pandas as pd\n",
        "from sklearn.model_selection import train_test_split\n",
        "from sklearn.preprocessing import MinMaxScaler\n",
        "from sklearn.impute import KNNImputer\n",
        "from tensorflow import keras"
      ],
      "execution_count": null,
      "outputs": []
    },
    {
      "cell_type": "code",
      "metadata": {
        "id": "laGKjQDkPOML",
        "colab": {
          "base_uri": "https://localhost:8080/"
        },
        "outputId": "8e076612-789c-4c7f-f207-4edb51d2d2f0"
      },
      "source": [
        "df_link = 'https://github.com/w-oke/covid_reproduction/raw/main/covid_owid_df.parquet'\n",
        "df1 = pd.read_parquet(df_link)\n",
        "df1.info()"
      ],
      "execution_count": null,
      "outputs": [
        {
          "output_type": "stream",
          "name": "stdout",
          "text": [
            "<class 'pandas.core.frame.DataFrame'>\n",
            "RangeIndex: 14301 entries, 0 to 14300\n",
            "Data columns (total 29 columns):\n",
            " #   Column                               Non-Null Count  Dtype         \n",
            "---  ------                               --------------  -----         \n",
            " 0   iso_code                             14301 non-null  object        \n",
            " 1   location                             14301 non-null  object        \n",
            " 2   date                                 14301 non-null  datetime64[ns]\n",
            " 3   reproduction_rate                    14301 non-null  float64       \n",
            " 4   new_tests_smoothed_per_thousand      8803 non-null   float64       \n",
            " 5   people_vaccinated_per_hundred        4093 non-null   float64       \n",
            " 6   people_fully_vaccinated_per_hundred  3690 non-null   float64       \n",
            " 7   total_boosters_per_hundred           738 non-null    float64       \n",
            " 8   stringency_index                     13289 non-null  float64       \n",
            " 9   population_density                   14064 non-null  float64       \n",
            " 10  median_age                           13854 non-null  float64       \n",
            " 11  gdp_per_capita                       13765 non-null  float64       \n",
            " 12  extreme_poverty                      9549 non-null   float64       \n",
            " 13  handwashing_facilities               7151 non-null   float64       \n",
            " 14  hospital_beds_per_thousand           12736 non-null  float64       \n",
            " 15  life_expectancy                      14221 non-null  float64       \n",
            " 16  human_development_index              13907 non-null  float64       \n",
            " 17  Alpha                                14301 non-null  float64       \n",
            " 18  Beta                                 14301 non-null  float64       \n",
            " 19  Delta                                14301 non-null  float64       \n",
            " 20  Epsilon                              14301 non-null  float64       \n",
            " 21  Eta                                  14301 non-null  float64       \n",
            " 22  Gamma                                14301 non-null  float64       \n",
            " 23  Iota                                 14301 non-null  float64       \n",
            " 24  Kappa                                14301 non-null  float64       \n",
            " 25  Lambda                               14301 non-null  float64       \n",
            " 26  Mu                                   14301 non-null  float64       \n",
            " 27  Omicron                              14301 non-null  float64       \n",
            " 28  non_who                              14301 non-null  float64       \n",
            "dtypes: datetime64[ns](1), float64(26), object(2)\n",
            "memory usage: 3.2+ MB\n"
          ]
        }
      ]
    },
    {
      "cell_type": "code",
      "metadata": {
        "colab": {
          "base_uri": "https://localhost:8080/",
          "height": 320
        },
        "id": "7KM7x1gqExM-",
        "outputId": "ee0c4be9-e8db-4b45-84a4-5d424952bc48"
      },
      "source": [
        "df1.describe()"
      ],
      "execution_count": null,
      "outputs": [
        {
          "output_type": "execute_result",
          "data": {
            "text/html": [
              "<div>\n",
              "<style scoped>\n",
              "    .dataframe tbody tr th:only-of-type {\n",
              "        vertical-align: middle;\n",
              "    }\n",
              "\n",
              "    .dataframe tbody tr th {\n",
              "        vertical-align: top;\n",
              "    }\n",
              "\n",
              "    .dataframe thead th {\n",
              "        text-align: right;\n",
              "    }\n",
              "</style>\n",
              "<table border=\"1\" class=\"dataframe\">\n",
              "  <thead>\n",
              "    <tr style=\"text-align: right;\">\n",
              "      <th></th>\n",
              "      <th>reproduction_rate</th>\n",
              "      <th>new_tests_smoothed_per_thousand</th>\n",
              "      <th>people_vaccinated_per_hundred</th>\n",
              "      <th>people_fully_vaccinated_per_hundred</th>\n",
              "      <th>total_boosters_per_hundred</th>\n",
              "      <th>stringency_index</th>\n",
              "      <th>population_density</th>\n",
              "      <th>median_age</th>\n",
              "      <th>gdp_per_capita</th>\n",
              "      <th>extreme_poverty</th>\n",
              "      <th>handwashing_facilities</th>\n",
              "      <th>hospital_beds_per_thousand</th>\n",
              "      <th>life_expectancy</th>\n",
              "      <th>human_development_index</th>\n",
              "      <th>Alpha</th>\n",
              "      <th>Beta</th>\n",
              "      <th>Delta</th>\n",
              "      <th>Epsilon</th>\n",
              "      <th>Eta</th>\n",
              "      <th>Gamma</th>\n",
              "      <th>Iota</th>\n",
              "      <th>Kappa</th>\n",
              "      <th>Lambda</th>\n",
              "      <th>Mu</th>\n",
              "      <th>Omicron</th>\n",
              "      <th>non_who</th>\n",
              "    </tr>\n",
              "  </thead>\n",
              "  <tbody>\n",
              "    <tr>\n",
              "      <th>count</th>\n",
              "      <td>14301.000000</td>\n",
              "      <td>8803.000000</td>\n",
              "      <td>4093.000000</td>\n",
              "      <td>3690.000000</td>\n",
              "      <td>738.000000</td>\n",
              "      <td>13289.000000</td>\n",
              "      <td>14064.000000</td>\n",
              "      <td>13854.000000</td>\n",
              "      <td>13765.000000</td>\n",
              "      <td>9549.000000</td>\n",
              "      <td>7151.000000</td>\n",
              "      <td>12736.000000</td>\n",
              "      <td>14221.000000</td>\n",
              "      <td>13907.000000</td>\n",
              "      <td>14301.000000</td>\n",
              "      <td>14301.000000</td>\n",
              "      <td>14301.000000</td>\n",
              "      <td>14301.000000</td>\n",
              "      <td>14301.000000</td>\n",
              "      <td>14301.000000</td>\n",
              "      <td>14301.000000</td>\n",
              "      <td>14301.000000</td>\n",
              "      <td>14301.000000</td>\n",
              "      <td>14301.000000</td>\n",
              "      <td>14301.000000</td>\n",
              "      <td>14301.000000</td>\n",
              "    </tr>\n",
              "    <tr>\n",
              "      <th>mean</th>\n",
              "      <td>0.981942</td>\n",
              "      <td>2.622169</td>\n",
              "      <td>29.124486</td>\n",
              "      <td>22.970561</td>\n",
              "      <td>3.515393</td>\n",
              "      <td>56.023194</td>\n",
              "      <td>306.259138</td>\n",
              "      <td>30.405190</td>\n",
              "      <td>18884.689561</td>\n",
              "      <td>13.711687</td>\n",
              "      <td>50.390141</td>\n",
              "      <td>3.015318</td>\n",
              "      <td>72.882941</td>\n",
              "      <td>0.724233</td>\n",
              "      <td>15.087567</td>\n",
              "      <td>2.863510</td>\n",
              "      <td>25.805796</td>\n",
              "      <td>0.187539</td>\n",
              "      <td>0.336964</td>\n",
              "      <td>2.355922</td>\n",
              "      <td>0.162038</td>\n",
              "      <td>0.152970</td>\n",
              "      <td>0.705505</td>\n",
              "      <td>0.569767</td>\n",
              "      <td>0.001632</td>\n",
              "      <td>51.770789</td>\n",
              "    </tr>\n",
              "    <tr>\n",
              "      <th>std</th>\n",
              "      <td>0.307368</td>\n",
              "      <td>5.994082</td>\n",
              "      <td>25.946311</td>\n",
              "      <td>23.518525</td>\n",
              "      <td>7.522536</td>\n",
              "      <td>18.812211</td>\n",
              "      <td>1524.105201</td>\n",
              "      <td>9.162506</td>\n",
              "      <td>19696.509909</td>\n",
              "      <td>20.394417</td>\n",
              "      <td>32.011542</td>\n",
              "      <td>2.468386</td>\n",
              "      <td>7.693613</td>\n",
              "      <td>0.152332</td>\n",
              "      <td>24.067069</td>\n",
              "      <td>7.715949</td>\n",
              "      <td>39.575243</td>\n",
              "      <td>0.732054</td>\n",
              "      <td>1.751733</td>\n",
              "      <td>6.774350</td>\n",
              "      <td>0.924724</td>\n",
              "      <td>1.054033</td>\n",
              "      <td>3.335233</td>\n",
              "      <td>3.051138</td>\n",
              "      <td>0.043042</td>\n",
              "      <td>43.977821</td>\n",
              "    </tr>\n",
              "    <tr>\n",
              "      <th>min</th>\n",
              "      <td>-0.030000</td>\n",
              "      <td>0.002000</td>\n",
              "      <td>0.000000</td>\n",
              "      <td>0.000000</td>\n",
              "      <td>0.000000</td>\n",
              "      <td>0.000000</td>\n",
              "      <td>1.980000</td>\n",
              "      <td>15.100000</td>\n",
              "      <td>661.240000</td>\n",
              "      <td>0.100000</td>\n",
              "      <td>1.188000</td>\n",
              "      <td>0.100000</td>\n",
              "      <td>53.280000</td>\n",
              "      <td>0.394000</td>\n",
              "      <td>0.000000</td>\n",
              "      <td>0.000000</td>\n",
              "      <td>0.000000</td>\n",
              "      <td>0.000000</td>\n",
              "      <td>0.000000</td>\n",
              "      <td>0.000000</td>\n",
              "      <td>0.000000</td>\n",
              "      <td>0.000000</td>\n",
              "      <td>0.000000</td>\n",
              "      <td>0.000000</td>\n",
              "      <td>0.000000</td>\n",
              "      <td>-0.020000</td>\n",
              "    </tr>\n",
              "    <tr>\n",
              "      <th>25%</th>\n",
              "      <td>0.830000</td>\n",
              "      <td>0.291000</td>\n",
              "      <td>4.200000</td>\n",
              "      <td>2.540000</td>\n",
              "      <td>0.000000</td>\n",
              "      <td>42.590000</td>\n",
              "      <td>36.253000</td>\n",
              "      <td>21.700000</td>\n",
              "      <td>4227.630000</td>\n",
              "      <td>0.500000</td>\n",
              "      <td>19.275000</td>\n",
              "      <td>1.300000</td>\n",
              "      <td>67.110000</td>\n",
              "      <td>0.594000</td>\n",
              "      <td>0.000000</td>\n",
              "      <td>0.000000</td>\n",
              "      <td>0.040375</td>\n",
              "      <td>0.000000</td>\n",
              "      <td>0.000000</td>\n",
              "      <td>0.000000</td>\n",
              "      <td>0.000000</td>\n",
              "      <td>0.000000</td>\n",
              "      <td>0.000000</td>\n",
              "      <td>0.000000</td>\n",
              "      <td>0.000000</td>\n",
              "      <td>3.723235</td>\n",
              "    </tr>\n",
              "    <tr>\n",
              "      <th>50%</th>\n",
              "      <td>1.000000</td>\n",
              "      <td>0.977000</td>\n",
              "      <td>22.040000</td>\n",
              "      <td>13.795000</td>\n",
              "      <td>0.160000</td>\n",
              "      <td>56.480000</td>\n",
              "      <td>82.600000</td>\n",
              "      <td>29.700000</td>\n",
              "      <td>12294.876000</td>\n",
              "      <td>2.200000</td>\n",
              "      <td>49.542000</td>\n",
              "      <td>2.397000</td>\n",
              "      <td>74.470000</td>\n",
              "      <td>0.744000</td>\n",
              "      <td>0.640000</td>\n",
              "      <td>0.345000</td>\n",
              "      <td>0.502778</td>\n",
              "      <td>0.000643</td>\n",
              "      <td>0.000000</td>\n",
              "      <td>0.024545</td>\n",
              "      <td>0.000000</td>\n",
              "      <td>0.000000</td>\n",
              "      <td>0.000000</td>\n",
              "      <td>0.000000</td>\n",
              "      <td>0.000000</td>\n",
              "      <td>54.498500</td>\n",
              "    </tr>\n",
              "    <tr>\n",
              "      <th>75%</th>\n",
              "      <td>1.150000</td>\n",
              "      <td>2.614000</td>\n",
              "      <td>52.040000</td>\n",
              "      <td>40.397500</td>\n",
              "      <td>3.420000</td>\n",
              "      <td>70.830000</td>\n",
              "      <td>205.859000</td>\n",
              "      <td>38.700000</td>\n",
              "      <td>26808.164000</td>\n",
              "      <td>21.200000</td>\n",
              "      <td>83.241000</td>\n",
              "      <td>4.000000</td>\n",
              "      <td>78.570000</td>\n",
              "      <td>0.848000</td>\n",
              "      <td>23.769274</td>\n",
              "      <td>3.655000</td>\n",
              "      <td>55.913235</td>\n",
              "      <td>0.084615</td>\n",
              "      <td>0.239722</td>\n",
              "      <td>2.399407</td>\n",
              "      <td>0.070000</td>\n",
              "      <td>0.024111</td>\n",
              "      <td>0.711053</td>\n",
              "      <td>0.500397</td>\n",
              "      <td>0.000000</td>\n",
              "      <td>99.247750</td>\n",
              "    </tr>\n",
              "    <tr>\n",
              "      <th>max</th>\n",
              "      <td>3.200000</td>\n",
              "      <td>83.721000</td>\n",
              "      <td>98.100000</td>\n",
              "      <td>88.400000</td>\n",
              "      <td>43.360000</td>\n",
              "      <td>100.000000</td>\n",
              "      <td>19347.500000</td>\n",
              "      <td>48.200000</td>\n",
              "      <td>116935.600000</td>\n",
              "      <td>77.600000</td>\n",
              "      <td>98.999000</td>\n",
              "      <td>13.800000</td>\n",
              "      <td>86.750000</td>\n",
              "      <td>0.957000</td>\n",
              "      <td>100.000000</td>\n",
              "      <td>100.000000</td>\n",
              "      <td>100.000000</td>\n",
              "      <td>23.750000</td>\n",
              "      <td>62.800000</td>\n",
              "      <td>96.170000</td>\n",
              "      <td>34.730000</td>\n",
              "      <td>60.190000</td>\n",
              "      <td>82.080000</td>\n",
              "      <td>87.010000</td>\n",
              "      <td>4.920000</td>\n",
              "      <td>100.000000</td>\n",
              "    </tr>\n",
              "  </tbody>\n",
              "</table>\n",
              "</div>"
            ],
            "text/plain": [
              "       reproduction_rate  ...       non_who\n",
              "count       14301.000000  ...  14301.000000\n",
              "mean            0.981942  ...     51.770789\n",
              "std             0.307368  ...     43.977821\n",
              "min            -0.030000  ...     -0.020000\n",
              "25%             0.830000  ...      3.723235\n",
              "50%             1.000000  ...     54.498500\n",
              "75%             1.150000  ...     99.247750\n",
              "max             3.200000  ...    100.000000\n",
              "\n",
              "[8 rows x 26 columns]"
            ]
          },
          "metadata": {},
          "execution_count": 3
        }
      ]
    },
    {
      "cell_type": "markdown",
      "metadata": {
        "id": "xa4LYsEmzN7W"
      },
      "source": [
        "Note that:\n",
        "* about half the data has 'handwashing_facilities', 'extreme_poverty', and 'new_tests_smoothed_per_thousand'\n",
        "* about a quarter of the data has vaccination data\n",
        "\n",
        "It is thought that the reason that many of the vaccination and booster data values are null is due to the timeframes (2019-2020) and countries where no vaccinations were available or provided.  Most of these values could therefore be filled with 0 (zero).\n"
      ]
    },
    {
      "cell_type": "code",
      "metadata": {
        "id": "J3T5Y1ITPOEp",
        "colab": {
          "base_uri": "https://localhost:8080/",
          "height": 312
        },
        "outputId": "22245a75-0b26-4b46-f4f4-ea09fb6e2a49"
      },
      "source": [
        "df1.head()"
      ],
      "execution_count": null,
      "outputs": [
        {
          "output_type": "execute_result",
          "data": {
            "text/html": [
              "<div>\n",
              "<style scoped>\n",
              "    .dataframe tbody tr th:only-of-type {\n",
              "        vertical-align: middle;\n",
              "    }\n",
              "\n",
              "    .dataframe tbody tr th {\n",
              "        vertical-align: top;\n",
              "    }\n",
              "\n",
              "    .dataframe thead th {\n",
              "        text-align: right;\n",
              "    }\n",
              "</style>\n",
              "<table border=\"1\" class=\"dataframe\">\n",
              "  <thead>\n",
              "    <tr style=\"text-align: right;\">\n",
              "      <th></th>\n",
              "      <th>iso_code</th>\n",
              "      <th>location</th>\n",
              "      <th>date</th>\n",
              "      <th>reproduction_rate</th>\n",
              "      <th>new_tests_smoothed_per_thousand</th>\n",
              "      <th>people_vaccinated_per_hundred</th>\n",
              "      <th>people_fully_vaccinated_per_hundred</th>\n",
              "      <th>total_boosters_per_hundred</th>\n",
              "      <th>stringency_index</th>\n",
              "      <th>population_density</th>\n",
              "      <th>median_age</th>\n",
              "      <th>gdp_per_capita</th>\n",
              "      <th>extreme_poverty</th>\n",
              "      <th>handwashing_facilities</th>\n",
              "      <th>hospital_beds_per_thousand</th>\n",
              "      <th>life_expectancy</th>\n",
              "      <th>human_development_index</th>\n",
              "      <th>Alpha</th>\n",
              "      <th>Beta</th>\n",
              "      <th>Delta</th>\n",
              "      <th>Epsilon</th>\n",
              "      <th>Eta</th>\n",
              "      <th>Gamma</th>\n",
              "      <th>Iota</th>\n",
              "      <th>Kappa</th>\n",
              "      <th>Lambda</th>\n",
              "      <th>Mu</th>\n",
              "      <th>Omicron</th>\n",
              "      <th>non_who</th>\n",
              "    </tr>\n",
              "  </thead>\n",
              "  <tbody>\n",
              "    <tr>\n",
              "      <th>0</th>\n",
              "      <td>AGO</td>\n",
              "      <td>Angola</td>\n",
              "      <td>2020-12-21</td>\n",
              "      <td>0.96</td>\n",
              "      <td>NaN</td>\n",
              "      <td>NaN</td>\n",
              "      <td>NaN</td>\n",
              "      <td>NaN</td>\n",
              "      <td>65.74</td>\n",
              "      <td>23.89</td>\n",
              "      <td>16.8</td>\n",
              "      <td>5819.495</td>\n",
              "      <td>NaN</td>\n",
              "      <td>26.664</td>\n",
              "      <td>NaN</td>\n",
              "      <td>61.15</td>\n",
              "      <td>0.581</td>\n",
              "      <td>0.000</td>\n",
              "      <td>74.19</td>\n",
              "      <td>0.0</td>\n",
              "      <td>0.0</td>\n",
              "      <td>1.08</td>\n",
              "      <td>0.0</td>\n",
              "      <td>0.0</td>\n",
              "      <td>0.0</td>\n",
              "      <td>0.0</td>\n",
              "      <td>0.0</td>\n",
              "      <td>0.0</td>\n",
              "      <td>24.730</td>\n",
              "    </tr>\n",
              "    <tr>\n",
              "      <th>1</th>\n",
              "      <td>AGO</td>\n",
              "      <td>Angola</td>\n",
              "      <td>2021-01-25</td>\n",
              "      <td>0.91</td>\n",
              "      <td>NaN</td>\n",
              "      <td>NaN</td>\n",
              "      <td>NaN</td>\n",
              "      <td>NaN</td>\n",
              "      <td>62.96</td>\n",
              "      <td>23.89</td>\n",
              "      <td>16.8</td>\n",
              "      <td>5819.495</td>\n",
              "      <td>NaN</td>\n",
              "      <td>26.664</td>\n",
              "      <td>NaN</td>\n",
              "      <td>61.15</td>\n",
              "      <td>0.581</td>\n",
              "      <td>5.770</td>\n",
              "      <td>3.85</td>\n",
              "      <td>0.0</td>\n",
              "      <td>0.0</td>\n",
              "      <td>0.00</td>\n",
              "      <td>0.0</td>\n",
              "      <td>0.0</td>\n",
              "      <td>0.0</td>\n",
              "      <td>0.0</td>\n",
              "      <td>0.0</td>\n",
              "      <td>0.0</td>\n",
              "      <td>90.380</td>\n",
              "    </tr>\n",
              "    <tr>\n",
              "      <th>2</th>\n",
              "      <td>AGO</td>\n",
              "      <td>Angola</td>\n",
              "      <td>2021-02-01</td>\n",
              "      <td>0.87</td>\n",
              "      <td>NaN</td>\n",
              "      <td>NaN</td>\n",
              "      <td>NaN</td>\n",
              "      <td>NaN</td>\n",
              "      <td>62.96</td>\n",
              "      <td>23.89</td>\n",
              "      <td>16.8</td>\n",
              "      <td>5819.495</td>\n",
              "      <td>NaN</td>\n",
              "      <td>26.664</td>\n",
              "      <td>NaN</td>\n",
              "      <td>61.15</td>\n",
              "      <td>0.581</td>\n",
              "      <td>7.645</td>\n",
              "      <td>16.21</td>\n",
              "      <td>0.0</td>\n",
              "      <td>0.0</td>\n",
              "      <td>0.00</td>\n",
              "      <td>0.0</td>\n",
              "      <td>0.0</td>\n",
              "      <td>0.0</td>\n",
              "      <td>0.0</td>\n",
              "      <td>0.0</td>\n",
              "      <td>0.0</td>\n",
              "      <td>76.145</td>\n",
              "    </tr>\n",
              "    <tr>\n",
              "      <th>3</th>\n",
              "      <td>AGO</td>\n",
              "      <td>Angola</td>\n",
              "      <td>2021-02-08</td>\n",
              "      <td>0.88</td>\n",
              "      <td>NaN</td>\n",
              "      <td>NaN</td>\n",
              "      <td>NaN</td>\n",
              "      <td>NaN</td>\n",
              "      <td>61.11</td>\n",
              "      <td>23.89</td>\n",
              "      <td>16.8</td>\n",
              "      <td>5819.495</td>\n",
              "      <td>NaN</td>\n",
              "      <td>26.664</td>\n",
              "      <td>NaN</td>\n",
              "      <td>61.15</td>\n",
              "      <td>0.581</td>\n",
              "      <td>9.520</td>\n",
              "      <td>28.57</td>\n",
              "      <td>0.0</td>\n",
              "      <td>0.0</td>\n",
              "      <td>0.00</td>\n",
              "      <td>0.0</td>\n",
              "      <td>0.0</td>\n",
              "      <td>0.0</td>\n",
              "      <td>0.0</td>\n",
              "      <td>0.0</td>\n",
              "      <td>0.0</td>\n",
              "      <td>61.910</td>\n",
              "    </tr>\n",
              "    <tr>\n",
              "      <th>4</th>\n",
              "      <td>AGO</td>\n",
              "      <td>Angola</td>\n",
              "      <td>2021-02-15</td>\n",
              "      <td>0.90</td>\n",
              "      <td>NaN</td>\n",
              "      <td>NaN</td>\n",
              "      <td>NaN</td>\n",
              "      <td>NaN</td>\n",
              "      <td>61.11</td>\n",
              "      <td>23.89</td>\n",
              "      <td>16.8</td>\n",
              "      <td>5819.495</td>\n",
              "      <td>NaN</td>\n",
              "      <td>26.664</td>\n",
              "      <td>NaN</td>\n",
              "      <td>61.15</td>\n",
              "      <td>0.581</td>\n",
              "      <td>6.040</td>\n",
              "      <td>34.80</td>\n",
              "      <td>0.0</td>\n",
              "      <td>0.0</td>\n",
              "      <td>0.00</td>\n",
              "      <td>0.0</td>\n",
              "      <td>0.0</td>\n",
              "      <td>0.0</td>\n",
              "      <td>0.0</td>\n",
              "      <td>0.0</td>\n",
              "      <td>0.0</td>\n",
              "      <td>59.160</td>\n",
              "    </tr>\n",
              "  </tbody>\n",
              "</table>\n",
              "</div>"
            ],
            "text/plain": [
              "  iso_code location       date  ...   Mu  Omicron  non_who\n",
              "0      AGO   Angola 2020-12-21  ...  0.0      0.0   24.730\n",
              "1      AGO   Angola 2021-01-25  ...  0.0      0.0   90.380\n",
              "2      AGO   Angola 2021-02-01  ...  0.0      0.0   76.145\n",
              "3      AGO   Angola 2021-02-08  ...  0.0      0.0   61.910\n",
              "4      AGO   Angola 2021-02-15  ...  0.0      0.0   59.160\n",
              "\n",
              "[5 rows x 29 columns]"
            ]
          },
          "metadata": {},
          "execution_count": 4
        }
      ]
    },
    {
      "cell_type": "code",
      "metadata": {
        "id": "UwUVoHhRPN8S"
      },
      "source": [
        ""
      ],
      "execution_count": null,
      "outputs": []
    },
    {
      "cell_type": "code",
      "metadata": {
        "id": "wNgNIHZrPvxq",
        "colab": {
          "base_uri": "https://localhost:8080/",
          "height": 206
        },
        "outputId": "9f37ba97-f409-488a-ba9c-40fe495b7851"
      },
      "source": [
        "# column descriptions from OWID:\n",
        "owid_col_desc_link = 'https://github.com/owid/covid-19-data/raw/master/public/data/owid-covid-codebook.csv'\n",
        "owid_col_desc = pd.read_csv(owid_col_desc_link)\n",
        "owid_col_desc.head()\n",
        "# Note: the Variant data isn't described here, but is percentage by country or as calculated globally\n",
        "# on that date if the country's data wasn't available."
      ],
      "execution_count": null,
      "outputs": [
        {
          "output_type": "execute_result",
          "data": {
            "text/html": [
              "<div>\n",
              "<style scoped>\n",
              "    .dataframe tbody tr th:only-of-type {\n",
              "        vertical-align: middle;\n",
              "    }\n",
              "\n",
              "    .dataframe tbody tr th {\n",
              "        vertical-align: top;\n",
              "    }\n",
              "\n",
              "    .dataframe thead th {\n",
              "        text-align: right;\n",
              "    }\n",
              "</style>\n",
              "<table border=\"1\" class=\"dataframe\">\n",
              "  <thead>\n",
              "    <tr style=\"text-align: right;\">\n",
              "      <th></th>\n",
              "      <th>column</th>\n",
              "      <th>source</th>\n",
              "      <th>category</th>\n",
              "      <th>description</th>\n",
              "    </tr>\n",
              "  </thead>\n",
              "  <tbody>\n",
              "    <tr>\n",
              "      <th>0</th>\n",
              "      <td>iso_code</td>\n",
              "      <td>International Organization for Standardization</td>\n",
              "      <td>Others</td>\n",
              "      <td>ISO 3166-1 alpha-3 – three-letter country codes</td>\n",
              "    </tr>\n",
              "    <tr>\n",
              "      <th>1</th>\n",
              "      <td>continent</td>\n",
              "      <td>Our World in Data</td>\n",
              "      <td>Others</td>\n",
              "      <td>Continent of the geographical location</td>\n",
              "    </tr>\n",
              "    <tr>\n",
              "      <th>2</th>\n",
              "      <td>location</td>\n",
              "      <td>Our World in Data</td>\n",
              "      <td>Others</td>\n",
              "      <td>Geographical location</td>\n",
              "    </tr>\n",
              "    <tr>\n",
              "      <th>3</th>\n",
              "      <td>date</td>\n",
              "      <td>Our World in Data</td>\n",
              "      <td>Others</td>\n",
              "      <td>Date of observation</td>\n",
              "    </tr>\n",
              "    <tr>\n",
              "      <th>4</th>\n",
              "      <td>total_cases</td>\n",
              "      <td>COVID-19 Data Repository by the Center for Sys...</td>\n",
              "      <td>Confirmed cases</td>\n",
              "      <td>Total confirmed cases of COVID-19</td>\n",
              "    </tr>\n",
              "  </tbody>\n",
              "</table>\n",
              "</div>"
            ],
            "text/plain": [
              "        column  ...                                      description\n",
              "0     iso_code  ...  ISO 3166-1 alpha-3 – three-letter country codes\n",
              "1    continent  ...           Continent of the geographical location\n",
              "2     location  ...                            Geographical location\n",
              "3         date  ...                              Date of observation\n",
              "4  total_cases  ...                Total confirmed cases of COVID-19\n",
              "\n",
              "[5 rows x 4 columns]"
            ]
          },
          "metadata": {},
          "execution_count": 5
        }
      ]
    },
    {
      "cell_type": "code",
      "metadata": {
        "id": "KyimQktVeszY",
        "colab": {
          "base_uri": "https://localhost:8080/"
        },
        "outputId": "7a79a59f-3538-4ff1-beb0-df68b7a15cab"
      },
      "source": [
        "# make sure that the var_dictionary.pkl matches the dataset imported above\n",
        "var_link = 'https://github.com/w-oke/covid_reproduction/raw/main/covid_owid_var_dictionary.pkl'\n",
        "\n",
        "a_file = \"covid_owid_var_dictionary.pkl\"\n",
        "data = urllib.request.urlretrieve(var_link, a_file)\n",
        "\n",
        "with open(a_file, 'rb') as f:\n",
        "        var = pickle.load(f)\n",
        "\n",
        "print('The variables in df have been categorized into 4 groups: ', print(var.keys()))\n",
        "print()\n",
        "var"
      ],
      "execution_count": null,
      "outputs": [
        {
          "output_type": "stream",
          "name": "stdout",
          "text": [
            "dict_keys(['y', 'meta', 'number', 'variants'])\n",
            "The variables in df have been categorized into 4 groups:  None\n",
            "\n"
          ]
        },
        {
          "output_type": "execute_result",
          "data": {
            "text/plain": [
              "{'meta': ['date', 'iso_code', 'location'],\n",
              " 'number': ['new_tests_smoothed_per_thousand',\n",
              "  'people_vaccinated_per_hundred',\n",
              "  'people_fully_vaccinated_per_hundred',\n",
              "  'total_boosters_per_hundred',\n",
              "  'stringency_index',\n",
              "  'population_density',\n",
              "  'median_age',\n",
              "  'human_development_index',\n",
              "  'gdp_per_capita',\n",
              "  'extreme_poverty',\n",
              "  'handwashing_facilities',\n",
              "  'hospital_beds_per_thousand',\n",
              "  'life_expectancy'],\n",
              " 'variants': ['Alpha',\n",
              "  'Beta',\n",
              "  'Delta',\n",
              "  'Epsilon',\n",
              "  'Eta',\n",
              "  'Gamma',\n",
              "  'Iota',\n",
              "  'Kappa',\n",
              "  'Lambda',\n",
              "  'Mu',\n",
              "  'Omicron',\n",
              "  'non_who'],\n",
              " 'y': ['reproduction_rate']}"
            ]
          },
          "metadata": {},
          "execution_count": 6
        }
      ]
    },
    {
      "cell_type": "code",
      "metadata": {
        "id": "h-3MmvlfN_sq",
        "colab": {
          "base_uri": "https://localhost:8080/"
        },
        "outputId": "f7567699-5ed2-45b0-b7e7-35c4a5276ab1"
      },
      "source": [
        "# create a single list of all the features\n",
        "var_all = [item for sublist in list(var.values()) for item in sublist]\n",
        "print('The first 4 items in \"var_all\" are: ', var_all[0:4])\n",
        "print('There are {} variables in var_all'.format(len(var_all)))\n",
        "\n",
        "# create a single string of all the features\n",
        "var_all2 = ', '.join(var_all)\n",
        "print('var_all2: ', var_all2)"
      ],
      "execution_count": null,
      "outputs": [
        {
          "output_type": "stream",
          "name": "stdout",
          "text": [
            "The first 4 items in \"var_all\" are:  ['reproduction_rate', 'date', 'iso_code', 'location']\n",
            "There are 29 variables in var_all\n",
            "var_all2:  reproduction_rate, date, iso_code, location, new_tests_smoothed_per_thousand, people_vaccinated_per_hundred, people_fully_vaccinated_per_hundred, total_boosters_per_hundred, stringency_index, population_density, median_age, human_development_index, gdp_per_capita, extreme_poverty, handwashing_facilities, hospital_beds_per_thousand, life_expectancy, Alpha, Beta, Delta, Epsilon, Eta, Gamma, Iota, Kappa, Lambda, Mu, Omicron, non_who\n"
          ]
        }
      ]
    },
    {
      "cell_type": "code",
      "metadata": {
        "id": "zaAMKGfCN_V7",
        "colab": {
          "base_uri": "https://localhost:8080/"
        },
        "outputId": "3a609550-0da7-43c8-9d90-fe3f866442bd"
      },
      "source": [
        "(df1.date <= pd.Timestamp(2020,12,31)).sum()"
      ],
      "execution_count": null,
      "outputs": [
        {
          "output_type": "execute_result",
          "data": {
            "text/plain": [
              "5854"
            ]
          },
          "metadata": {},
          "execution_count": 8
        }
      ]
    },
    {
      "cell_type": "code",
      "metadata": {
        "colab": {
          "base_uri": "https://localhost:8080/"
        },
        "id": "LTcuyzd83r6f",
        "outputId": "2e698e53-54d8-40b2-b0d4-1bc4f6306503"
      },
      "source": [
        "df1.date.min()"
      ],
      "execution_count": null,
      "outputs": [
        {
          "output_type": "execute_result",
          "data": {
            "text/plain": [
              "Timestamp('2020-05-11 00:00:00')"
            ]
          },
          "metadata": {},
          "execution_count": 9
        }
      ]
    },
    {
      "cell_type": "code",
      "metadata": {
        "id": "dWSRSLlYyDgl"
      },
      "source": [
        "var['vaccine'] = ['people_vaccinated_per_hundred',\n",
        "                  'people_fully_vaccinated_per_hundred',\n",
        "                  'total_boosters_per_hundred']\n",
        "# inpute vaccine columns with nulls if date <= 31 Dec 2020\n",
        "df1.loc[df1.date <= pd.Timestamp(2020,12,31), var['vaccine']] = \\\n",
        "        df1.loc[df1.date <= pd.Timestamp(2020,12,31), var['vaccine']].fillna(0.0)"
      ],
      "execution_count": null,
      "outputs": []
    },
    {
      "cell_type": "code",
      "metadata": {
        "id": "1B92NdPAoRgm",
        "colab": {
          "base_uri": "https://localhost:8080/"
        },
        "outputId": "0037b353-e6f4-4be2-922d-d3deaa279633"
      },
      "source": [
        "df1.info()"
      ],
      "execution_count": null,
      "outputs": [
        {
          "output_type": "stream",
          "name": "stdout",
          "text": [
            "<class 'pandas.core.frame.DataFrame'>\n",
            "RangeIndex: 14301 entries, 0 to 14300\n",
            "Data columns (total 29 columns):\n",
            " #   Column                               Non-Null Count  Dtype         \n",
            "---  ------                               --------------  -----         \n",
            " 0   iso_code                             14301 non-null  object        \n",
            " 1   location                             14301 non-null  object        \n",
            " 2   date                                 14301 non-null  datetime64[ns]\n",
            " 3   reproduction_rate                    14301 non-null  float64       \n",
            " 4   new_tests_smoothed_per_thousand      8803 non-null   float64       \n",
            " 5   people_vaccinated_per_hundred        9902 non-null   float64       \n",
            " 6   people_fully_vaccinated_per_hundred  9531 non-null   float64       \n",
            " 7   total_boosters_per_hundred           6592 non-null   float64       \n",
            " 8   stringency_index                     13289 non-null  float64       \n",
            " 9   population_density                   14064 non-null  float64       \n",
            " 10  median_age                           13854 non-null  float64       \n",
            " 11  gdp_per_capita                       13765 non-null  float64       \n",
            " 12  extreme_poverty                      9549 non-null   float64       \n",
            " 13  handwashing_facilities               7151 non-null   float64       \n",
            " 14  hospital_beds_per_thousand           12736 non-null  float64       \n",
            " 15  life_expectancy                      14221 non-null  float64       \n",
            " 16  human_development_index              13907 non-null  float64       \n",
            " 17  Alpha                                14301 non-null  float64       \n",
            " 18  Beta                                 14301 non-null  float64       \n",
            " 19  Delta                                14301 non-null  float64       \n",
            " 20  Epsilon                              14301 non-null  float64       \n",
            " 21  Eta                                  14301 non-null  float64       \n",
            " 22  Gamma                                14301 non-null  float64       \n",
            " 23  Iota                                 14301 non-null  float64       \n",
            " 24  Kappa                                14301 non-null  float64       \n",
            " 25  Lambda                               14301 non-null  float64       \n",
            " 26  Mu                                   14301 non-null  float64       \n",
            " 27  Omicron                              14301 non-null  float64       \n",
            " 28  non_who                              14301 non-null  float64       \n",
            "dtypes: datetime64[ns](1), float64(26), object(2)\n",
            "memory usage: 3.2+ MB\n"
          ]
        }
      ]
    },
    {
      "cell_type": "code",
      "metadata": {
        "colab": {
          "base_uri": "https://localhost:8080/"
        },
        "id": "1DUjWeKq-4Yn",
        "outputId": "52b601e2-523f-4b2c-afe7-6a99638d89dc"
      },
      "source": [
        "type(df1.date.max()-df1.date.min())\n",
        "(df1.date.max()-df1.date.min()).days"
      ],
      "execution_count": null,
      "outputs": [
        {
          "output_type": "execute_result",
          "data": {
            "text/plain": [
              "553"
            ]
          },
          "metadata": {},
          "execution_count": 12
        }
      ]
    },
    {
      "cell_type": "code",
      "metadata": {
        "colab": {
          "base_uri": "https://localhost:8080/"
        },
        "id": "wKAJCK0ZyG52",
        "outputId": "463399f0-4854-49fa-c09d-eb8482106a16"
      },
      "source": [
        "# create an integer date_diff column to help with imputation\n",
        "df1['date_diff'] = pd.TimedeltaIndex(df1.date - df1.date.min()).days\n",
        "df1['date_diff'].head()"
      ],
      "execution_count": null,
      "outputs": [
        {
          "output_type": "execute_result",
          "data": {
            "text/plain": [
              "0    224\n",
              "1    259\n",
              "2    266\n",
              "3    273\n",
              "4    280\n",
              "Name: date_diff, dtype: int64"
            ]
          },
          "metadata": {},
          "execution_count": 13
        }
      ]
    },
    {
      "cell_type": "code",
      "metadata": {
        "colab": {
          "base_uri": "https://localhost:8080/",
          "height": 226
        },
        "id": "yiZ0hXTr6p1s",
        "outputId": "5ad88cae-e2d1-4a30-eff2-a8de64672a25"
      },
      "source": [
        "var['scale'] = var['number'] + var['variants'] + ['date_diff']\n",
        "scaler = MinMaxScaler()\n",
        "df2_scaled = pd.DataFrame(scaler.fit_transform(df1[var['scale']]), columns = var['scale'])\n",
        "df2_scaled.head()"
      ],
      "execution_count": null,
      "outputs": [
        {
          "output_type": "execute_result",
          "data": {
            "text/html": [
              "<div>\n",
              "<style scoped>\n",
              "    .dataframe tbody tr th:only-of-type {\n",
              "        vertical-align: middle;\n",
              "    }\n",
              "\n",
              "    .dataframe tbody tr th {\n",
              "        vertical-align: top;\n",
              "    }\n",
              "\n",
              "    .dataframe thead th {\n",
              "        text-align: right;\n",
              "    }\n",
              "</style>\n",
              "<table border=\"1\" class=\"dataframe\">\n",
              "  <thead>\n",
              "    <tr style=\"text-align: right;\">\n",
              "      <th></th>\n",
              "      <th>new_tests_smoothed_per_thousand</th>\n",
              "      <th>people_vaccinated_per_hundred</th>\n",
              "      <th>people_fully_vaccinated_per_hundred</th>\n",
              "      <th>total_boosters_per_hundred</th>\n",
              "      <th>stringency_index</th>\n",
              "      <th>population_density</th>\n",
              "      <th>median_age</th>\n",
              "      <th>human_development_index</th>\n",
              "      <th>gdp_per_capita</th>\n",
              "      <th>extreme_poverty</th>\n",
              "      <th>handwashing_facilities</th>\n",
              "      <th>hospital_beds_per_thousand</th>\n",
              "      <th>life_expectancy</th>\n",
              "      <th>Alpha</th>\n",
              "      <th>Beta</th>\n",
              "      <th>Delta</th>\n",
              "      <th>Epsilon</th>\n",
              "      <th>Eta</th>\n",
              "      <th>Gamma</th>\n",
              "      <th>Iota</th>\n",
              "      <th>Kappa</th>\n",
              "      <th>Lambda</th>\n",
              "      <th>Mu</th>\n",
              "      <th>Omicron</th>\n",
              "      <th>non_who</th>\n",
              "      <th>date_diff</th>\n",
              "    </tr>\n",
              "  </thead>\n",
              "  <tbody>\n",
              "    <tr>\n",
              "      <th>0</th>\n",
              "      <td>NaN</td>\n",
              "      <td>0.0</td>\n",
              "      <td>0.0</td>\n",
              "      <td>0.0</td>\n",
              "      <td>0.6574</td>\n",
              "      <td>0.001133</td>\n",
              "      <td>0.05136</td>\n",
              "      <td>0.332149</td>\n",
              "      <td>0.044363</td>\n",
              "      <td>NaN</td>\n",
              "      <td>0.260462</td>\n",
              "      <td>NaN</td>\n",
              "      <td>0.235136</td>\n",
              "      <td>0.00000</td>\n",
              "      <td>0.7419</td>\n",
              "      <td>0.0</td>\n",
              "      <td>0.0</td>\n",
              "      <td>0.017197</td>\n",
              "      <td>0.0</td>\n",
              "      <td>0.0</td>\n",
              "      <td>0.0</td>\n",
              "      <td>0.0</td>\n",
              "      <td>0.0</td>\n",
              "      <td>0.0</td>\n",
              "      <td>0.247451</td>\n",
              "      <td>0.405063</td>\n",
              "    </tr>\n",
              "    <tr>\n",
              "      <th>1</th>\n",
              "      <td>NaN</td>\n",
              "      <td>NaN</td>\n",
              "      <td>NaN</td>\n",
              "      <td>NaN</td>\n",
              "      <td>0.6296</td>\n",
              "      <td>0.001133</td>\n",
              "      <td>0.05136</td>\n",
              "      <td>0.332149</td>\n",
              "      <td>0.044363</td>\n",
              "      <td>NaN</td>\n",
              "      <td>0.260462</td>\n",
              "      <td>NaN</td>\n",
              "      <td>0.235136</td>\n",
              "      <td>0.05770</td>\n",
              "      <td>0.0385</td>\n",
              "      <td>0.0</td>\n",
              "      <td>0.0</td>\n",
              "      <td>0.000000</td>\n",
              "      <td>0.0</td>\n",
              "      <td>0.0</td>\n",
              "      <td>0.0</td>\n",
              "      <td>0.0</td>\n",
              "      <td>0.0</td>\n",
              "      <td>0.0</td>\n",
              "      <td>0.903819</td>\n",
              "      <td>0.468354</td>\n",
              "    </tr>\n",
              "    <tr>\n",
              "      <th>2</th>\n",
              "      <td>NaN</td>\n",
              "      <td>NaN</td>\n",
              "      <td>NaN</td>\n",
              "      <td>NaN</td>\n",
              "      <td>0.6296</td>\n",
              "      <td>0.001133</td>\n",
              "      <td>0.05136</td>\n",
              "      <td>0.332149</td>\n",
              "      <td>0.044363</td>\n",
              "      <td>NaN</td>\n",
              "      <td>0.260462</td>\n",
              "      <td>NaN</td>\n",
              "      <td>0.235136</td>\n",
              "      <td>0.07645</td>\n",
              "      <td>0.1621</td>\n",
              "      <td>0.0</td>\n",
              "      <td>0.0</td>\n",
              "      <td>0.000000</td>\n",
              "      <td>0.0</td>\n",
              "      <td>0.0</td>\n",
              "      <td>0.0</td>\n",
              "      <td>0.0</td>\n",
              "      <td>0.0</td>\n",
              "      <td>0.0</td>\n",
              "      <td>0.761498</td>\n",
              "      <td>0.481013</td>\n",
              "    </tr>\n",
              "    <tr>\n",
              "      <th>3</th>\n",
              "      <td>NaN</td>\n",
              "      <td>NaN</td>\n",
              "      <td>NaN</td>\n",
              "      <td>NaN</td>\n",
              "      <td>0.6111</td>\n",
              "      <td>0.001133</td>\n",
              "      <td>0.05136</td>\n",
              "      <td>0.332149</td>\n",
              "      <td>0.044363</td>\n",
              "      <td>NaN</td>\n",
              "      <td>0.260462</td>\n",
              "      <td>NaN</td>\n",
              "      <td>0.235136</td>\n",
              "      <td>0.09520</td>\n",
              "      <td>0.2857</td>\n",
              "      <td>0.0</td>\n",
              "      <td>0.0</td>\n",
              "      <td>0.000000</td>\n",
              "      <td>0.0</td>\n",
              "      <td>0.0</td>\n",
              "      <td>0.0</td>\n",
              "      <td>0.0</td>\n",
              "      <td>0.0</td>\n",
              "      <td>0.0</td>\n",
              "      <td>0.619176</td>\n",
              "      <td>0.493671</td>\n",
              "    </tr>\n",
              "    <tr>\n",
              "      <th>4</th>\n",
              "      <td>NaN</td>\n",
              "      <td>NaN</td>\n",
              "      <td>NaN</td>\n",
              "      <td>NaN</td>\n",
              "      <td>0.6111</td>\n",
              "      <td>0.001133</td>\n",
              "      <td>0.05136</td>\n",
              "      <td>0.332149</td>\n",
              "      <td>0.044363</td>\n",
              "      <td>NaN</td>\n",
              "      <td>0.260462</td>\n",
              "      <td>NaN</td>\n",
              "      <td>0.235136</td>\n",
              "      <td>0.06040</td>\n",
              "      <td>0.3480</td>\n",
              "      <td>0.0</td>\n",
              "      <td>0.0</td>\n",
              "      <td>0.000000</td>\n",
              "      <td>0.0</td>\n",
              "      <td>0.0</td>\n",
              "      <td>0.0</td>\n",
              "      <td>0.0</td>\n",
              "      <td>0.0</td>\n",
              "      <td>0.0</td>\n",
              "      <td>0.591682</td>\n",
              "      <td>0.506329</td>\n",
              "    </tr>\n",
              "  </tbody>\n",
              "</table>\n",
              "</div>"
            ],
            "text/plain": [
              "   new_tests_smoothed_per_thousand  ...  date_diff\n",
              "0                              NaN  ...   0.405063\n",
              "1                              NaN  ...   0.468354\n",
              "2                              NaN  ...   0.481013\n",
              "3                              NaN  ...   0.493671\n",
              "4                              NaN  ...   0.506329\n",
              "\n",
              "[5 rows x 26 columns]"
            ]
          },
          "metadata": {},
          "execution_count": 14
        }
      ]
    },
    {
      "cell_type": "code",
      "metadata": {
        "id": "376rjWIa8RQ2"
      },
      "source": [
        "imputer = KNNImputer(n_neighbors=10, add_indicator=False)\n",
        "\n",
        "# use the KNN imputer to first impute values that won't vary significantly with time:\n",
        "var['imputer_no_date'] = ['population_density', 'median_age',\n",
        "       'gdp_per_capita', 'extreme_poverty', 'handwashing_facilities',\n",
        "       'hospital_beds_per_thousand', 'life_expectancy',\n",
        "       'human_development_index']\n",
        "df1[var['imputer_no_date']] = pd.DataFrame(imputer.fit_transform(df2_scaled[var['imputer_no_date']]),\n",
        "                                        columns = var['imputer_no_date'])\n",
        "\n",
        "# next, use the KNN imputer to impute time-sensitive health-related values:\n",
        "var['imputer_date'] = ['new_tests_smoothed_per_thousand', 'people_vaccinated_per_hundred',\n",
        "       'people_fully_vaccinated_per_hundred', 'total_boosters_per_hundred',\n",
        "       'gdp_per_capita', 'hospital_beds_per_thousand',\n",
        "       'stringency_index', 'date_diff']\n",
        "df1[var['imputer_date']] = pd.DataFrame(imputer.fit_transform(df2_scaled[var['imputer_date']]),\n",
        "                                        columns = var['imputer_date'])"
      ],
      "execution_count": null,
      "outputs": []
    },
    {
      "cell_type": "code",
      "metadata": {
        "colab": {
          "base_uri": "https://localhost:8080/"
        },
        "id": "qxGhogO6KBD9",
        "outputId": "986f6242-c419-45bf-e0c9-e777cdd1c4be"
      },
      "source": [
        "df1.info() # the result is a fully populated DF:"
      ],
      "execution_count": null,
      "outputs": [
        {
          "output_type": "stream",
          "name": "stdout",
          "text": [
            "<class 'pandas.core.frame.DataFrame'>\n",
            "RangeIndex: 14301 entries, 0 to 14300\n",
            "Data columns (total 30 columns):\n",
            " #   Column                               Non-Null Count  Dtype         \n",
            "---  ------                               --------------  -----         \n",
            " 0   iso_code                             14301 non-null  object        \n",
            " 1   location                             14301 non-null  object        \n",
            " 2   date                                 14301 non-null  datetime64[ns]\n",
            " 3   reproduction_rate                    14301 non-null  float64       \n",
            " 4   new_tests_smoothed_per_thousand      14301 non-null  float64       \n",
            " 5   people_vaccinated_per_hundred        14301 non-null  float64       \n",
            " 6   people_fully_vaccinated_per_hundred  14301 non-null  float64       \n",
            " 7   total_boosters_per_hundred           14301 non-null  float64       \n",
            " 8   stringency_index                     14301 non-null  float64       \n",
            " 9   population_density                   14301 non-null  float64       \n",
            " 10  median_age                           14301 non-null  float64       \n",
            " 11  gdp_per_capita                       14301 non-null  float64       \n",
            " 12  extreme_poverty                      14301 non-null  float64       \n",
            " 13  handwashing_facilities               14301 non-null  float64       \n",
            " 14  hospital_beds_per_thousand           14301 non-null  float64       \n",
            " 15  life_expectancy                      14301 non-null  float64       \n",
            " 16  human_development_index              14301 non-null  float64       \n",
            " 17  Alpha                                14301 non-null  float64       \n",
            " 18  Beta                                 14301 non-null  float64       \n",
            " 19  Delta                                14301 non-null  float64       \n",
            " 20  Epsilon                              14301 non-null  float64       \n",
            " 21  Eta                                  14301 non-null  float64       \n",
            " 22  Gamma                                14301 non-null  float64       \n",
            " 23  Iota                                 14301 non-null  float64       \n",
            " 24  Kappa                                14301 non-null  float64       \n",
            " 25  Lambda                               14301 non-null  float64       \n",
            " 26  Mu                                   14301 non-null  float64       \n",
            " 27  Omicron                              14301 non-null  float64       \n",
            " 28  non_who                              14301 non-null  float64       \n",
            " 29  date_diff                            14301 non-null  float64       \n",
            "dtypes: datetime64[ns](1), float64(27), object(2)\n",
            "memory usage: 3.3+ MB\n"
          ]
        }
      ]
    },
    {
      "cell_type": "code",
      "metadata": {
        "id": "2sknNv1_-GXH"
      },
      "source": [
        "X_train, X_test, y_train, y_test = train_test_split(\n",
        "                        df1[var['number']+var['variants']], df1[var['y']], \n",
        "                        test_size=0.2, random_state=1)\n",
        "\n",
        "X_train, X_val, y_train, y_val = train_test_split(\n",
        "                        X_train, y_train, test_size=0.25, random_state=1) # 0.25 x 0.8 = 0.2"
      ],
      "execution_count": null,
      "outputs": []
    },
    {
      "cell_type": "code",
      "metadata": {
        "id": "t-r_AKeWG4bL"
      },
      "source": [
        "model = keras.Sequential([\n",
        "    keras.layers.Dense(units=128, activation='relu'),\t# hidden ReLU layer\n",
        "    keras.layers.Dense(units=128, activation='relu'),\t# hidden ReLU layer 2\n",
        "    #keras.layers.Dense(units=64, activation='relu'),\t# hidden ReLU layer 3\n",
        "    keras.layers.Dense(units=1)]) # linear output layer for regression\n",
        "    #keras.layers.Dropout(rate=0.1)\n",
        "model.compile(optimizer='adam',\n",
        "              loss='mse',\n",
        "              metrics=[keras.metrics.RootMeanSquaredError()])"
      ],
      "execution_count": null,
      "outputs": []
    },
    {
      "cell_type": "code",
      "metadata": {
        "colab": {
          "base_uri": "https://localhost:8080/"
        },
        "id": "nBXXzkIsRRaz",
        "outputId": "6aee9753-9fd7-4def-950f-2dd48a9e5003"
      },
      "source": [
        "early_stopping = keras.callbacks.EarlyStopping(patience=20,\n",
        "                                               restore_best_weights=True)\n",
        "lr_schedule = keras.callbacks.ReduceLROnPlateau(factor=0.2)\n",
        "history = model.fit(X_train, y_train, # 'verbose = 0' turns off text output\n",
        "    batch_size = 16, \t# number of examples in each batch before step\n",
        "    epochs = 500, \t\t# will cycle through all trg data 500 times unless:\n",
        "    callbacks=[early_stopping, lr_schedule], # put callbacks in a list; use lg epochs value\n",
        "    validation_data = (X_val, y_val)) # to monitor performance"
      ],
      "execution_count": null,
      "outputs": [
        {
          "output_type": "stream",
          "name": "stdout",
          "text": [
            "Epoch 1/500\n",
            "537/537 [==============================] - 1s 2ms/step - loss: 0.0905 - root_mean_squared_error: 0.3009 - val_loss: 0.0923 - val_root_mean_squared_error: 0.3038 - lr: 1.0000e-04\n",
            "Epoch 2/500\n",
            "537/537 [==============================] - 1s 2ms/step - loss: 0.0912 - root_mean_squared_error: 0.3019 - val_loss: 0.0910 - val_root_mean_squared_error: 0.3017 - lr: 1.0000e-04\n",
            "Epoch 3/500\n",
            "537/537 [==============================] - 1s 2ms/step - loss: 0.0907 - root_mean_squared_error: 0.3011 - val_loss: 0.0923 - val_root_mean_squared_error: 0.3038 - lr: 1.0000e-04\n",
            "Epoch 4/500\n",
            "537/537 [==============================] - 1s 2ms/step - loss: 0.0896 - root_mean_squared_error: 0.2993 - val_loss: 0.0935 - val_root_mean_squared_error: 0.3058 - lr: 1.0000e-04\n",
            "Epoch 5/500\n",
            "537/537 [==============================] - 1s 2ms/step - loss: 0.0913 - root_mean_squared_error: 0.3022 - val_loss: 0.0959 - val_root_mean_squared_error: 0.3096 - lr: 1.0000e-04\n",
            "Epoch 6/500\n",
            "537/537 [==============================] - 1s 2ms/step - loss: 0.0902 - root_mean_squared_error: 0.3004 - val_loss: 0.1139 - val_root_mean_squared_error: 0.3374 - lr: 1.0000e-04\n",
            "Epoch 7/500\n",
            "537/537 [==============================] - 1s 2ms/step - loss: 0.0892 - root_mean_squared_error: 0.2987 - val_loss: 0.0849 - val_root_mean_squared_error: 0.2914 - lr: 1.0000e-04\n",
            "Epoch 8/500\n",
            "537/537 [==============================] - 1s 2ms/step - loss: 0.0892 - root_mean_squared_error: 0.2987 - val_loss: 0.0858 - val_root_mean_squared_error: 0.2930 - lr: 1.0000e-04\n",
            "Epoch 9/500\n",
            "537/537 [==============================] - 1s 2ms/step - loss: 0.0897 - root_mean_squared_error: 0.2995 - val_loss: 0.0907 - val_root_mean_squared_error: 0.3012 - lr: 1.0000e-04\n",
            "Epoch 10/500\n",
            "537/537 [==============================] - 1s 2ms/step - loss: 0.0891 - root_mean_squared_error: 0.2985 - val_loss: 0.0847 - val_root_mean_squared_error: 0.2910 - lr: 1.0000e-04\n",
            "Epoch 11/500\n",
            "537/537 [==============================] - 1s 2ms/step - loss: 0.0888 - root_mean_squared_error: 0.2980 - val_loss: 0.0843 - val_root_mean_squared_error: 0.2903 - lr: 1.0000e-04\n",
            "Epoch 12/500\n",
            "537/537 [==============================] - 1s 2ms/step - loss: 0.0897 - root_mean_squared_error: 0.2995 - val_loss: 0.0864 - val_root_mean_squared_error: 0.2939 - lr: 1.0000e-04\n",
            "Epoch 13/500\n",
            "537/537 [==============================] - 1s 2ms/step - loss: 0.0877 - root_mean_squared_error: 0.2961 - val_loss: 0.0823 - val_root_mean_squared_error: 0.2869 - lr: 1.0000e-04\n",
            "Epoch 14/500\n",
            "537/537 [==============================] - 1s 2ms/step - loss: 0.0886 - root_mean_squared_error: 0.2976 - val_loss: 0.1059 - val_root_mean_squared_error: 0.3255 - lr: 1.0000e-04\n",
            "Epoch 15/500\n",
            "537/537 [==============================] - 1s 2ms/step - loss: 0.0892 - root_mean_squared_error: 0.2987 - val_loss: 0.0829 - val_root_mean_squared_error: 0.2880 - lr: 1.0000e-04\n",
            "Epoch 16/500\n",
            "537/537 [==============================] - 1s 2ms/step - loss: 0.0898 - root_mean_squared_error: 0.2997 - val_loss: 0.0916 - val_root_mean_squared_error: 0.3026 - lr: 1.0000e-04\n",
            "Epoch 17/500\n",
            "537/537 [==============================] - 1s 2ms/step - loss: 0.0886 - root_mean_squared_error: 0.2977 - val_loss: 0.0858 - val_root_mean_squared_error: 0.2930 - lr: 1.0000e-04\n",
            "Epoch 18/500\n",
            "537/537 [==============================] - 1s 2ms/step - loss: 0.0893 - root_mean_squared_error: 0.2988 - val_loss: 0.0858 - val_root_mean_squared_error: 0.2929 - lr: 1.0000e-04\n",
            "Epoch 19/500\n",
            "537/537 [==============================] - 1s 2ms/step - loss: 0.0892 - root_mean_squared_error: 0.2987 - val_loss: 0.0854 - val_root_mean_squared_error: 0.2922 - lr: 1.0000e-04\n",
            "Epoch 20/500\n",
            "537/537 [==============================] - 1s 2ms/step - loss: 0.0882 - root_mean_squared_error: 0.2969 - val_loss: 0.0874 - val_root_mean_squared_error: 0.2957 - lr: 1.0000e-04\n",
            "Epoch 21/500\n",
            "537/537 [==============================] - 1s 2ms/step - loss: 0.0894 - root_mean_squared_error: 0.2990 - val_loss: 0.0826 - val_root_mean_squared_error: 0.2875 - lr: 1.0000e-04\n",
            "Epoch 22/500\n",
            "537/537 [==============================] - 1s 2ms/step - loss: 0.0881 - root_mean_squared_error: 0.2969 - val_loss: 0.0895 - val_root_mean_squared_error: 0.2991 - lr: 1.0000e-04\n",
            "Epoch 23/500\n",
            "537/537 [==============================] - 1s 2ms/step - loss: 0.0881 - root_mean_squared_error: 0.2969 - val_loss: 0.0837 - val_root_mean_squared_error: 0.2894 - lr: 1.0000e-04\n",
            "Epoch 24/500\n",
            "537/537 [==============================] - 1s 2ms/step - loss: 0.0831 - root_mean_squared_error: 0.2883 - val_loss: 0.0829 - val_root_mean_squared_error: 0.2879 - lr: 2.0000e-05\n",
            "Epoch 25/500\n",
            "537/537 [==============================] - 1s 2ms/step - loss: 0.0825 - root_mean_squared_error: 0.2873 - val_loss: 0.0816 - val_root_mean_squared_error: 0.2856 - lr: 2.0000e-05\n",
            "Epoch 26/500\n",
            "537/537 [==============================] - 1s 2ms/step - loss: 0.0826 - root_mean_squared_error: 0.2874 - val_loss: 0.0874 - val_root_mean_squared_error: 0.2956 - lr: 2.0000e-05\n",
            "Epoch 27/500\n",
            "537/537 [==============================] - 1s 2ms/step - loss: 0.0828 - root_mean_squared_error: 0.2877 - val_loss: 0.0839 - val_root_mean_squared_error: 0.2897 - lr: 2.0000e-05\n",
            "Epoch 28/500\n",
            "537/537 [==============================] - 1s 2ms/step - loss: 0.0827 - root_mean_squared_error: 0.2876 - val_loss: 0.0835 - val_root_mean_squared_error: 0.2890 - lr: 2.0000e-05\n",
            "Epoch 29/500\n",
            "537/537 [==============================] - 1s 2ms/step - loss: 0.0825 - root_mean_squared_error: 0.2873 - val_loss: 0.0825 - val_root_mean_squared_error: 0.2873 - lr: 2.0000e-05\n",
            "Epoch 30/500\n",
            "537/537 [==============================] - 1s 2ms/step - loss: 0.0824 - root_mean_squared_error: 0.2870 - val_loss: 0.0826 - val_root_mean_squared_error: 0.2873 - lr: 2.0000e-05\n",
            "Epoch 31/500\n",
            "537/537 [==============================] - 1s 2ms/step - loss: 0.0828 - root_mean_squared_error: 0.2877 - val_loss: 0.0818 - val_root_mean_squared_error: 0.2860 - lr: 2.0000e-05\n",
            "Epoch 32/500\n",
            "537/537 [==============================] - 1s 2ms/step - loss: 0.0824 - root_mean_squared_error: 0.2871 - val_loss: 0.0833 - val_root_mean_squared_error: 0.2887 - lr: 2.0000e-05\n",
            "Epoch 33/500\n",
            "537/537 [==============================] - 1s 2ms/step - loss: 0.0825 - root_mean_squared_error: 0.2872 - val_loss: 0.0847 - val_root_mean_squared_error: 0.2910 - lr: 2.0000e-05\n",
            "Epoch 34/500\n",
            "537/537 [==============================] - 1s 2ms/step - loss: 0.0826 - root_mean_squared_error: 0.2874 - val_loss: 0.0839 - val_root_mean_squared_error: 0.2896 - lr: 2.0000e-05\n",
            "Epoch 35/500\n",
            "537/537 [==============================] - 1s 2ms/step - loss: 0.0826 - root_mean_squared_error: 0.2874 - val_loss: 0.0828 - val_root_mean_squared_error: 0.2878 - lr: 2.0000e-05\n",
            "Epoch 36/500\n",
            "537/537 [==============================] - 1s 2ms/step - loss: 0.0814 - root_mean_squared_error: 0.2853 - val_loss: 0.0816 - val_root_mean_squared_error: 0.2856 - lr: 4.0000e-06\n",
            "Epoch 37/500\n",
            "537/537 [==============================] - 1s 2ms/step - loss: 0.0813 - root_mean_squared_error: 0.2851 - val_loss: 0.0818 - val_root_mean_squared_error: 0.2861 - lr: 4.0000e-06\n",
            "Epoch 38/500\n",
            "537/537 [==============================] - 1s 2ms/step - loss: 0.0812 - root_mean_squared_error: 0.2850 - val_loss: 0.0820 - val_root_mean_squared_error: 0.2863 - lr: 4.0000e-06\n",
            "Epoch 39/500\n",
            "537/537 [==============================] - 1s 2ms/step - loss: 0.0813 - root_mean_squared_error: 0.2851 - val_loss: 0.0816 - val_root_mean_squared_error: 0.2857 - lr: 4.0000e-06\n",
            "Epoch 40/500\n",
            "537/537 [==============================] - 1s 2ms/step - loss: 0.0813 - root_mean_squared_error: 0.2851 - val_loss: 0.0832 - val_root_mean_squared_error: 0.2884 - lr: 4.0000e-06\n",
            "Epoch 41/500\n",
            "537/537 [==============================] - 1s 2ms/step - loss: 0.0815 - root_mean_squared_error: 0.2854 - val_loss: 0.0816 - val_root_mean_squared_error: 0.2856 - lr: 4.0000e-06\n",
            "Epoch 42/500\n",
            "537/537 [==============================] - 1s 2ms/step - loss: 0.0813 - root_mean_squared_error: 0.2851 - val_loss: 0.0821 - val_root_mean_squared_error: 0.2865 - lr: 4.0000e-06\n",
            "Epoch 43/500\n",
            "537/537 [==============================] - 1s 2ms/step - loss: 0.0815 - root_mean_squared_error: 0.2854 - val_loss: 0.0817 - val_root_mean_squared_error: 0.2858 - lr: 4.0000e-06\n",
            "Epoch 44/500\n",
            "537/537 [==============================] - 1s 2ms/step - loss: 0.0813 - root_mean_squared_error: 0.2851 - val_loss: 0.0817 - val_root_mean_squared_error: 0.2859 - lr: 4.0000e-06\n",
            "Epoch 45/500\n",
            "537/537 [==============================] - 1s 2ms/step - loss: 0.0813 - root_mean_squared_error: 0.2851 - val_loss: 0.0818 - val_root_mean_squared_error: 0.2861 - lr: 4.0000e-06\n",
            "Epoch 46/500\n",
            "537/537 [==============================] - 1s 2ms/step - loss: 0.0811 - root_mean_squared_error: 0.2847 - val_loss: 0.0817 - val_root_mean_squared_error: 0.2859 - lr: 8.0000e-07\n",
            "Epoch 47/500\n",
            "537/537 [==============================] - 1s 2ms/step - loss: 0.0810 - root_mean_squared_error: 0.2847 - val_loss: 0.0816 - val_root_mean_squared_error: 0.2857 - lr: 8.0000e-07\n",
            "Epoch 48/500\n",
            "537/537 [==============================] - 1s 2ms/step - loss: 0.0810 - root_mean_squared_error: 0.2846 - val_loss: 0.0819 - val_root_mean_squared_error: 0.2861 - lr: 8.0000e-07\n",
            "Epoch 49/500\n",
            "537/537 [==============================] - 1s 2ms/step - loss: 0.0810 - root_mean_squared_error: 0.2847 - val_loss: 0.0817 - val_root_mean_squared_error: 0.2857 - lr: 8.0000e-07\n",
            "Epoch 50/500\n",
            "537/537 [==============================] - 1s 2ms/step - loss: 0.0810 - root_mean_squared_error: 0.2847 - val_loss: 0.0817 - val_root_mean_squared_error: 0.2858 - lr: 8.0000e-07\n",
            "Epoch 51/500\n",
            "537/537 [==============================] - 1s 2ms/step - loss: 0.0810 - root_mean_squared_error: 0.2847 - val_loss: 0.0817 - val_root_mean_squared_error: 0.2859 - lr: 8.0000e-07\n",
            "Epoch 52/500\n",
            "537/537 [==============================] - 1s 2ms/step - loss: 0.0810 - root_mean_squared_error: 0.2847 - val_loss: 0.0818 - val_root_mean_squared_error: 0.2860 - lr: 8.0000e-07\n",
            "Epoch 53/500\n",
            "537/537 [==============================] - 1s 2ms/step - loss: 0.0810 - root_mean_squared_error: 0.2847 - val_loss: 0.0816 - val_root_mean_squared_error: 0.2857 - lr: 8.0000e-07\n",
            "Epoch 54/500\n",
            "537/537 [==============================] - 1s 2ms/step - loss: 0.0810 - root_mean_squared_error: 0.2846 - val_loss: 0.0818 - val_root_mean_squared_error: 0.2860 - lr: 8.0000e-07\n",
            "Epoch 55/500\n",
            "537/537 [==============================] - 1s 2ms/step - loss: 0.0811 - root_mean_squared_error: 0.2847 - val_loss: 0.0817 - val_root_mean_squared_error: 0.2858 - lr: 8.0000e-07\n",
            "Epoch 56/500\n",
            "537/537 [==============================] - 1s 2ms/step - loss: 0.0810 - root_mean_squared_error: 0.2845 - val_loss: 0.0816 - val_root_mean_squared_error: 0.2857 - lr: 1.6000e-07\n"
          ]
        }
      ]
    },
    {
      "cell_type": "code",
      "metadata": {
        "colab": {
          "base_uri": "https://localhost:8080/",
          "height": 283
        },
        "id": "Ud9PePMHaFJt",
        "outputId": "ba58c2e6-0518-455b-8304-2d78324df4de"
      },
      "source": [
        "history_df = pd.DataFrame(history.history) # convert the trg history to a DF\n",
        "history_df.loc[5:, ['loss', 'val_loss']].plot()"
      ],
      "execution_count": null,
      "outputs": [
        {
          "output_type": "execute_result",
          "data": {
            "text/plain": [
              "<matplotlib.axes._subplots.AxesSubplot at 0x7f0e2e9ca850>"
            ]
          },
          "metadata": {},
          "execution_count": 20
        },
        {
          "output_type": "display_data",
          "data": {
            "image/png": "[encoded data removed]",
            "text/plain": [
              "<Figure size 432x288 with 1 Axes>"
            ]
          },
          "metadata": {
            "needs_background": "light"
          }
        }
      ]
    },
    {
      "cell_type": "code",
      "metadata": {
        "colab": {
          "base_uri": "https://localhost:8080/"
        },
        "id": "oTe6zC8FWDZ6",
        "outputId": "d933b27a-c4d6-48c8-b4d8-ffe61b743238"
      },
      "source": [
        "model.evaluate(X_test, y_test)"
      ],
      "execution_count": null,
      "outputs": [
        {
          "output_type": "stream",
          "name": "stdout",
          "text": [
            "90/90 [==============================] - 0s 1ms/step - loss: 0.0844 - root_mean_squared_error: 0.2906\n"
          ]
        },
        {
          "output_type": "execute_result",
          "data": {
            "text/plain": [
              "[0.08444170653820038, 0.2905885577201843]"
            ]
          },
          "metadata": {},
          "execution_count": 21
        }
      ]
    },
    {
      "cell_type": "code",
      "metadata": {
        "colab": {
          "base_uri": "https://localhost:8080/"
        },
        "id": "7RaLxzJKZfM6",
        "outputId": "5e940839-0dbc-4c30-9495-2e6d6582a53a"
      },
      "source": [
        "print(\"The Standard Deviation of the Reproduction Rate (the dependent variable) is {:.4f}\".format(np.sqrt(float(df1[var['y']].var()))))"
      ],
      "execution_count": null,
      "outputs": [
        {
          "output_type": "stream",
          "name": "stdout",
          "text": [
            "The Standard Deviation of the Reproduction Rate (the dependent variable) is 0.3074\n"
          ]
        }
      ]
    },
    {
      "cell_type": "code",
      "metadata": {
        "id": "Thf8o9vrdoKQ"
      },
      "source": [
        ""
      ],
      "execution_count": null,
      "outputs": []
    }
  ]
}