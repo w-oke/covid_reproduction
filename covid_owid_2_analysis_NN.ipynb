{
  "nbformat": 4,
  "nbformat_minor": 0,
  "metadata": {
    "colab": {
      "name": "covid_owid_2_analysis_NN.ipynb",
      "provenance": [],
      "authorship_tag": "ABX9TyMUvbC/FAuBhhL1Wn/SQ+FP",
      "include_colab_link": true
    },
    "kernelspec": {
      "name": "python3",
      "display_name": "Python 3"
    },
    "language_info": {
      "name": "python"
    }
  },
  "cells": [
    {
      "cell_type": "markdown",
      "metadata": {
        "id": "view-in-github",
        "colab_type": "text"
      },
      "source": [
        "<a href=\"https://colab.research.google.com/github/w-oke/covid_reproduction/blob/main/covid_owid_2_analysis_NN.ipynb\" target=\"_parent\"><img src=\"https://colab.research.google.com/assets/colab-badge.svg\" alt=\"Open In Colab\"/></a>"
      ]
    },
    {
      "cell_type": "markdown",
      "metadata": {
        "id": "AcknS606OT5D"
      },
      "source": [
        "The data loaded in this Notebook is based on the output of: covid_owid_1_preparation.ipynb, which can be accessed from:\n",
        "https://github.com/w-oke/covid_reproduction."
      ]
    },
    {
      "cell_type": "code",
      "metadata": {
        "id": "vIXW7GbeaT8u"
      },
      "source": [
        "import urllib.request\n",
        "import pickle\n",
        "import numpy as np\n",
        "import pandas as pd\n",
        "import matplotlib.pyplot as plt\n",
        "from sklearn.model_selection import train_test_split\n",
        "from sklearn.preprocessing import MinMaxScaler\n",
        "from sklearn.impute import KNNImputer\n",
        "from tensorflow import keras"
      ],
      "execution_count": 2,
      "outputs": []
    },
    {
      "cell_type": "code",
      "metadata": {
        "id": "laGKjQDkPOML",
        "colab": {
          "base_uri": "https://localhost:8080/"
        },
        "outputId": "60e4a0bc-553c-4b0f-f7d9-e3db2103639d"
      },
      "source": [
        "df_link = 'https://github.com/w-oke/covid_reproduction/raw/main/covid_owid_df.parquet'\n",
        "df1 = pd.read_parquet(df_link)\n",
        "df1.info()"
      ],
      "execution_count": 2,
      "outputs": [
        {
          "output_type": "stream",
          "name": "stdout",
          "text": [
            "<class 'pandas.core.frame.DataFrame'>\n",
            "RangeIndex: 14671 entries, 0 to 14670\n",
            "Data columns (total 30 columns):\n",
            " #   Column                               Non-Null Count  Dtype         \n",
            "---  ------                               --------------  -----         \n",
            " 0   iso_code                             14671 non-null  object        \n",
            " 1   location                             14671 non-null  object        \n",
            " 2   date                                 14671 non-null  datetime64[ns]\n",
            " 3   reproduction_rate                    14671 non-null  float64       \n",
            " 4   new_tests_smoothed_per_thousand      14671 non-null  float64       \n",
            " 5   people_vaccinated_per_hundred        14671 non-null  float64       \n",
            " 6   people_fully_vaccinated_per_hundred  14671 non-null  float64       \n",
            " 7   total_boosters_per_hundred           14671 non-null  float64       \n",
            " 8   stringency_index                     14671 non-null  float64       \n",
            " 9   population_density                   14671 non-null  float64       \n",
            " 10  median_age                           14671 non-null  float64       \n",
            " 11  gdp_per_capita                       14671 non-null  float64       \n",
            " 12  extreme_poverty                      14671 non-null  float64       \n",
            " 13  handwashing_facilities               14671 non-null  float64       \n",
            " 14  hospital_beds_per_thousand           14671 non-null  float64       \n",
            " 15  life_expectancy                      14671 non-null  float64       \n",
            " 16  human_development_index              14671 non-null  float64       \n",
            " 17  Alpha                                14671 non-null  float64       \n",
            " 18  Beta                                 14671 non-null  float64       \n",
            " 19  Delta                                14671 non-null  float64       \n",
            " 20  Epsilon                              14671 non-null  float64       \n",
            " 21  Eta                                  14671 non-null  float64       \n",
            " 22  Gamma                                14671 non-null  float64       \n",
            " 23  Iota                                 14671 non-null  float64       \n",
            " 24  Kappa                                14671 non-null  float64       \n",
            " 25  Lambda                               14671 non-null  float64       \n",
            " 26  Mu                                   14671 non-null  float64       \n",
            " 27  Omicron                              14671 non-null  float64       \n",
            " 28  non_who                              14671 non-null  float64       \n",
            " 29  date_diff                            14671 non-null  float64       \n",
            "dtypes: datetime64[ns](1), float64(27), object(2)\n",
            "memory usage: 3.4+ MB\n"
          ]
        }
      ]
    },
    {
      "cell_type": "code",
      "metadata": {
        "colab": {
          "base_uri": "https://localhost:8080/",
          "height": 320
        },
        "id": "7KM7x1gqExM-",
        "outputId": "77f562d9-01a4-4c96-98e4-35f7db5373a0"
      },
      "source": [
        "df1.describe()"
      ],
      "execution_count": 3,
      "outputs": [
        {
          "output_type": "execute_result",
          "data": {
            "text/html": [
              "<div>\n",
              "<style scoped>\n",
              "    .dataframe tbody tr th:only-of-type {\n",
              "        vertical-align: middle;\n",
              "    }\n",
              "\n",
              "    .dataframe tbody tr th {\n",
              "        vertical-align: top;\n",
              "    }\n",
              "\n",
              "    .dataframe thead th {\n",
              "        text-align: right;\n",
              "    }\n",
              "</style>\n",
              "<table border=\"1\" class=\"dataframe\">\n",
              "  <thead>\n",
              "    <tr style=\"text-align: right;\">\n",
              "      <th></th>\n",
              "      <th>reproduction_rate</th>\n",
              "      <th>new_tests_smoothed_per_thousand</th>\n",
              "      <th>people_vaccinated_per_hundred</th>\n",
              "      <th>people_fully_vaccinated_per_hundred</th>\n",
              "      <th>total_boosters_per_hundred</th>\n",
              "      <th>stringency_index</th>\n",
              "      <th>population_density</th>\n",
              "      <th>median_age</th>\n",
              "      <th>gdp_per_capita</th>\n",
              "      <th>extreme_poverty</th>\n",
              "      <th>handwashing_facilities</th>\n",
              "      <th>hospital_beds_per_thousand</th>\n",
              "      <th>life_expectancy</th>\n",
              "      <th>human_development_index</th>\n",
              "      <th>Alpha</th>\n",
              "      <th>Beta</th>\n",
              "      <th>Delta</th>\n",
              "      <th>Epsilon</th>\n",
              "      <th>Eta</th>\n",
              "      <th>Gamma</th>\n",
              "      <th>Iota</th>\n",
              "      <th>Kappa</th>\n",
              "      <th>Lambda</th>\n",
              "      <th>Mu</th>\n",
              "      <th>Omicron</th>\n",
              "      <th>non_who</th>\n",
              "      <th>date_diff</th>\n",
              "    </tr>\n",
              "  </thead>\n",
              "  <tbody>\n",
              "    <tr>\n",
              "      <th>count</th>\n",
              "      <td>14671.000000</td>\n",
              "      <td>14671.000000</td>\n",
              "      <td>14671.000000</td>\n",
              "      <td>14671.000000</td>\n",
              "      <td>14671.000000</td>\n",
              "      <td>14671.000000</td>\n",
              "      <td>14671.000000</td>\n",
              "      <td>14671.000000</td>\n",
              "      <td>14671.000000</td>\n",
              "      <td>14671.000000</td>\n",
              "      <td>14671.000000</td>\n",
              "      <td>14671.000000</td>\n",
              "      <td>14671.000000</td>\n",
              "      <td>14671.000000</td>\n",
              "      <td>14671.000000</td>\n",
              "      <td>14671.000000</td>\n",
              "      <td>14671.000000</td>\n",
              "      <td>14671.000000</td>\n",
              "      <td>14671.000000</td>\n",
              "      <td>14671.000000</td>\n",
              "      <td>14671.000000</td>\n",
              "      <td>14671.000000</td>\n",
              "      <td>14671.000000</td>\n",
              "      <td>14671.000000</td>\n",
              "      <td>14671.000000</td>\n",
              "      <td>14671.000000</td>\n",
              "      <td>14671.000000</td>\n",
              "    </tr>\n",
              "    <tr>\n",
              "      <th>mean</th>\n",
              "      <td>0.981247</td>\n",
              "      <td>0.026298</td>\n",
              "      <td>0.148454</td>\n",
              "      <td>0.114431</td>\n",
              "      <td>0.021224</td>\n",
              "      <td>0.555056</td>\n",
              "      <td>0.015554</td>\n",
              "      <td>0.473407</td>\n",
              "      <td>0.153223</td>\n",
              "      <td>0.134494</td>\n",
              "      <td>0.681668</td>\n",
              "      <td>0.208556</td>\n",
              "      <td>0.587462</td>\n",
              "      <td>0.590860</td>\n",
              "      <td>13.710374</td>\n",
              "      <td>3.134258</td>\n",
              "      <td>27.818503</td>\n",
              "      <td>0.159002</td>\n",
              "      <td>0.454525</td>\n",
              "      <td>2.199476</td>\n",
              "      <td>0.207535</td>\n",
              "      <td>0.131778</td>\n",
              "      <td>0.503047</td>\n",
              "      <td>0.498972</td>\n",
              "      <td>0.252521</td>\n",
              "      <td>50.930009</td>\n",
              "      <td>0.510624</td>\n",
              "    </tr>\n",
              "    <tr>\n",
              "      <th>std</th>\n",
              "      <td>0.309696</td>\n",
              "      <td>0.059445</td>\n",
              "      <td>0.226695</td>\n",
              "      <td>0.205292</td>\n",
              "      <td>0.066018</td>\n",
              "      <td>0.182632</td>\n",
              "      <td>0.078171</td>\n",
              "      <td>0.280223</td>\n",
              "      <td>0.167145</td>\n",
              "      <td>0.241245</td>\n",
              "      <td>0.314402</td>\n",
              "      <td>0.172136</td>\n",
              "      <td>0.230449</td>\n",
              "      <td>0.272662</td>\n",
              "      <td>24.165125</td>\n",
              "      <td>10.122518</td>\n",
              "      <td>40.730910</td>\n",
              "      <td>1.338521</td>\n",
              "      <td>2.929623</td>\n",
              "      <td>7.994121</td>\n",
              "      <td>1.754144</td>\n",
              "      <td>1.158653</td>\n",
              "      <td>3.291833</td>\n",
              "      <td>3.367829</td>\n",
              "      <td>2.399186</td>\n",
              "      <td>44.403557</td>\n",
              "      <td>0.289618</td>\n",
              "    </tr>\n",
              "    <tr>\n",
              "      <th>min</th>\n",
              "      <td>-0.030000</td>\n",
              "      <td>0.000000</td>\n",
              "      <td>0.000000</td>\n",
              "      <td>0.000000</td>\n",
              "      <td>0.000000</td>\n",
              "      <td>0.000000</td>\n",
              "      <td>0.000000</td>\n",
              "      <td>0.000000</td>\n",
              "      <td>0.000000</td>\n",
              "      <td>0.000000</td>\n",
              "      <td>0.000000</td>\n",
              "      <td>0.000000</td>\n",
              "      <td>0.000000</td>\n",
              "      <td>0.000000</td>\n",
              "      <td>0.000000</td>\n",
              "      <td>0.000000</td>\n",
              "      <td>0.000000</td>\n",
              "      <td>0.000000</td>\n",
              "      <td>0.000000</td>\n",
              "      <td>0.000000</td>\n",
              "      <td>0.000000</td>\n",
              "      <td>0.000000</td>\n",
              "      <td>0.000000</td>\n",
              "      <td>0.000000</td>\n",
              "      <td>0.000000</td>\n",
              "      <td>-0.010000</td>\n",
              "      <td>0.000000</td>\n",
              "    </tr>\n",
              "    <tr>\n",
              "      <th>25%</th>\n",
              "      <td>0.830000</td>\n",
              "      <td>0.002815</td>\n",
              "      <td>0.000000</td>\n",
              "      <td>0.000000</td>\n",
              "      <td>0.000000</td>\n",
              "      <td>0.433105</td>\n",
              "      <td>0.001848</td>\n",
              "      <td>0.208459</td>\n",
              "      <td>0.032584</td>\n",
              "      <td>0.006452</td>\n",
              "      <td>0.443836</td>\n",
              "      <td>0.087591</td>\n",
              "      <td>0.413206</td>\n",
              "      <td>0.355240</td>\n",
              "      <td>0.000000</td>\n",
              "      <td>0.000000</td>\n",
              "      <td>0.000000</td>\n",
              "      <td>0.000000</td>\n",
              "      <td>0.000000</td>\n",
              "      <td>0.000000</td>\n",
              "      <td>0.000000</td>\n",
              "      <td>0.000000</td>\n",
              "      <td>0.000000</td>\n",
              "      <td>0.000000</td>\n",
              "      <td>0.000000</td>\n",
              "      <td>2.515000</td>\n",
              "      <td>0.259259</td>\n",
              "    </tr>\n",
              "    <tr>\n",
              "      <th>50%</th>\n",
              "      <td>1.000000</td>\n",
              "      <td>0.011031</td>\n",
              "      <td>0.012334</td>\n",
              "      <td>0.003801</td>\n",
              "      <td>0.000000</td>\n",
              "      <td>0.555600</td>\n",
              "      <td>0.004167</td>\n",
              "      <td>0.468278</td>\n",
              "      <td>0.096149</td>\n",
              "      <td>0.012903</td>\n",
              "      <td>0.858901</td>\n",
              "      <td>0.167664</td>\n",
              "      <td>0.633403</td>\n",
              "      <td>0.632327</td>\n",
              "      <td>0.239675</td>\n",
              "      <td>0.018182</td>\n",
              "      <td>0.042349</td>\n",
              "      <td>0.000000</td>\n",
              "      <td>0.000000</td>\n",
              "      <td>0.000000</td>\n",
              "      <td>0.000000</td>\n",
              "      <td>0.000000</td>\n",
              "      <td>0.000000</td>\n",
              "      <td>0.000000</td>\n",
              "      <td>0.000000</td>\n",
              "      <td>48.950000</td>\n",
              "      <td>0.518519</td>\n",
              "    </tr>\n",
              "    <tr>\n",
              "      <th>75%</th>\n",
              "      <td>1.150000</td>\n",
              "      <td>0.028369</td>\n",
              "      <td>0.241835</td>\n",
              "      <td>0.130882</td>\n",
              "      <td>0.002901</td>\n",
              "      <td>0.694400</td>\n",
              "      <td>0.010465</td>\n",
              "      <td>0.740181</td>\n",
              "      <td>0.224609</td>\n",
              "      <td>0.127742</td>\n",
              "      <td>0.906227</td>\n",
              "      <td>0.270073</td>\n",
              "      <td>0.755602</td>\n",
              "      <td>0.813499</td>\n",
              "      <td>17.745625</td>\n",
              "      <td>2.317532</td>\n",
              "      <td>73.398196</td>\n",
              "      <td>0.013782</td>\n",
              "      <td>0.026742</td>\n",
              "      <td>1.366321</td>\n",
              "      <td>0.010353</td>\n",
              "      <td>0.002574</td>\n",
              "      <td>0.294365</td>\n",
              "      <td>0.156952</td>\n",
              "      <td>0.000000</td>\n",
              "      <td>99.999861</td>\n",
              "      <td>0.765432</td>\n",
              "    </tr>\n",
              "    <tr>\n",
              "      <th>max</th>\n",
              "      <td>4.190000</td>\n",
              "      <td>1.000000</td>\n",
              "      <td>1.000000</td>\n",
              "      <td>1.000000</td>\n",
              "      <td>1.000000</td>\n",
              "      <td>1.000000</td>\n",
              "      <td>1.000000</td>\n",
              "      <td>1.000000</td>\n",
              "      <td>1.000000</td>\n",
              "      <td>1.000000</td>\n",
              "      <td>1.000000</td>\n",
              "      <td>1.000000</td>\n",
              "      <td>1.000000</td>\n",
              "      <td>1.000000</td>\n",
              "      <td>100.000000</td>\n",
              "      <td>100.000000</td>\n",
              "      <td>100.000000</td>\n",
              "      <td>100.000000</td>\n",
              "      <td>100.000000</td>\n",
              "      <td>100.000000</td>\n",
              "      <td>100.000000</td>\n",
              "      <td>60.190000</td>\n",
              "      <td>82.410000</td>\n",
              "      <td>82.830000</td>\n",
              "      <td>100.000000</td>\n",
              "      <td>100.000000</td>\n",
              "      <td>1.000000</td>\n",
              "    </tr>\n",
              "  </tbody>\n",
              "</table>\n",
              "</div>"
            ],
            "text/plain": [
              "       reproduction_rate  ...     date_diff\n",
              "count       14671.000000  ...  14671.000000\n",
              "mean            0.981247  ...      0.510624\n",
              "std             0.309696  ...      0.289618\n",
              "min            -0.030000  ...      0.000000\n",
              "25%             0.830000  ...      0.259259\n",
              "50%             1.000000  ...      0.518519\n",
              "75%             1.150000  ...      0.765432\n",
              "max             4.190000  ...      1.000000\n",
              "\n",
              "[8 rows x 27 columns]"
            ]
          },
          "metadata": {},
          "execution_count": 3
        }
      ]
    },
    {
      "cell_type": "code",
      "metadata": {
        "id": "UwUVoHhRPN8S"
      },
      "source": [
        ""
      ],
      "execution_count": 3,
      "outputs": []
    },
    {
      "cell_type": "code",
      "metadata": {
        "id": "KyimQktVeszY",
        "colab": {
          "base_uri": "https://localhost:8080/"
        },
        "outputId": "cc1a172d-3fef-4769-d2c6-6d58ac7c1e10"
      },
      "source": [
        "# import the dictionary var with lists of features:\n",
        "#var_link = 'https://github.com/w-oke/covid_reproduction/raw/main/covid_owid_var_dictionary.pkl'\n",
        "a_file = \"covid_owid_var_dictionary.pkl\"\n",
        "\n",
        "with open(a_file, 'rb') as f:\n",
        "        var = pickle.load(f)\n",
        "\n",
        "print('The keys of the \\'var\\' dict are: ', var.keys())\n",
        "print()\n",
        "var"
      ],
      "execution_count": 3,
      "outputs": [
        {
          "output_type": "stream",
          "name": "stdout",
          "text": [
            "The keys of the 'var' dict are:  dict_keys(['y', 'meta', 'number', 'variants', 'vaccine', 'scale', 'imputer_no_date', 'imputer_date'])\n",
            "\n"
          ]
        },
        {
          "output_type": "execute_result",
          "data": {
            "text/plain": [
              "{'imputer_date': ['new_tests_smoothed_per_thousand',\n",
              "  'people_vaccinated_per_hundred',\n",
              "  'people_fully_vaccinated_per_hundred',\n",
              "  'total_boosters_per_hundred',\n",
              "  'gdp_per_capita',\n",
              "  'hospital_beds_per_thousand',\n",
              "  'stringency_index',\n",
              "  'date_diff'],\n",
              " 'imputer_no_date': ['population_density',\n",
              "  'median_age',\n",
              "  'gdp_per_capita',\n",
              "  'extreme_poverty',\n",
              "  'handwashing_facilities',\n",
              "  'hospital_beds_per_thousand',\n",
              "  'life_expectancy',\n",
              "  'human_development_index'],\n",
              " 'meta': ['date', 'iso_code', 'location'],\n",
              " 'number': ['new_tests_smoothed_per_thousand',\n",
              "  'people_vaccinated_per_hundred',\n",
              "  'people_fully_vaccinated_per_hundred',\n",
              "  'total_boosters_per_hundred',\n",
              "  'stringency_index',\n",
              "  'population_density',\n",
              "  'median_age',\n",
              "  'human_development_index',\n",
              "  'gdp_per_capita',\n",
              "  'extreme_poverty',\n",
              "  'handwashing_facilities',\n",
              "  'hospital_beds_per_thousand',\n",
              "  'life_expectancy'],\n",
              " 'scale': ['new_tests_smoothed_per_thousand',\n",
              "  'people_vaccinated_per_hundred',\n",
              "  'people_fully_vaccinated_per_hundred',\n",
              "  'total_boosters_per_hundred',\n",
              "  'stringency_index',\n",
              "  'population_density',\n",
              "  'median_age',\n",
              "  'human_development_index',\n",
              "  'gdp_per_capita',\n",
              "  'extreme_poverty',\n",
              "  'handwashing_facilities',\n",
              "  'hospital_beds_per_thousand',\n",
              "  'life_expectancy',\n",
              "  'Alpha',\n",
              "  'Beta',\n",
              "  'Delta',\n",
              "  'Epsilon',\n",
              "  'Eta',\n",
              "  'Gamma',\n",
              "  'Iota',\n",
              "  'Kappa',\n",
              "  'Lambda',\n",
              "  'Mu',\n",
              "  'Omicron',\n",
              "  'non_who',\n",
              "  'date_diff'],\n",
              " 'vaccine': ['people_vaccinated_per_hundred',\n",
              "  'people_fully_vaccinated_per_hundred',\n",
              "  'total_boosters_per_hundred'],\n",
              " 'variants': ['Alpha',\n",
              "  'Beta',\n",
              "  'Delta',\n",
              "  'Epsilon',\n",
              "  'Eta',\n",
              "  'Gamma',\n",
              "  'Iota',\n",
              "  'Kappa',\n",
              "  'Lambda',\n",
              "  'Mu',\n",
              "  'Omicron',\n",
              "  'non_who'],\n",
              " 'y': ['reproduction_rate']}"
            ]
          },
          "metadata": {},
          "execution_count": 3
        }
      ]
    },
    {
      "cell_type": "code",
      "metadata": {
        "id": "2sknNv1_-GXH"
      },
      "source": [
        "# allocate 20% of the data set to testing\n",
        "X_train, X_test, y_train, y_test = train_test_split(\n",
        "                        df1[var['number']+var['variants']], df1[var['y']], \n",
        "                        test_size=0.2, random_state=1)\n",
        "\n",
        "# allocate 25% of the remaining examples (20% of the dataset) to validation\n",
        "X_train, X_val, y_train, y_val = train_test_split(\n",
        "                        X_train, y_train, test_size=0.25, random_state=1) # 0.25 x 0.8 = 0.2"
      ],
      "execution_count": 5,
      "outputs": []
    },
    {
      "cell_type": "code",
      "metadata": {
        "id": "t-r_AKeWG4bL"
      },
      "source": [
        "# create a DNN model with 3 fully connected layers with 64 units each\n",
        "model = keras.Sequential([\n",
        "                          keras.layers.BatchNormalization(),\n",
        "                          keras.layers.Dense(units=64, activation='relu'),\n",
        "                          keras.layers.Dense(units=64, activation='relu'),\n",
        "                          keras.layers.Dense(units=64, activation='relu'),\n",
        "                          keras.layers.Dense(units=1)]) # linear output layer for regression\n",
        "model.compile(optimizer='adam',\n",
        "              loss='mse',\n",
        "              metrics=[keras.metrics.RootMeanSquaredError()])"
      ],
      "execution_count": 6,
      "outputs": []
    },
    {
      "cell_type": "markdown",
      "metadata": {
        "id": "Xe1m0S_waVzT"
      },
      "source": [
        "The following hyperparameter values were evaluated, which all resulted in test data RMSE results in the range of 0.24 to 0.29:\n",
        "* number of Dense layers: 1, 2, 3\n",
        "* number of units per layer: 64, 128\n",
        "* optimizer 'adam' and 'sgd'\n",
        "* keras.layers.Dropout(0.2) between each layer\n",
        "* keras.layers.BatchNormalization() between each layer\n",
        "* training batch size of 16 & 32\n",
        "* keras.callbacks.ReduceLROnPlateau()"
      ]
    },
    {
      "cell_type": "code",
      "metadata": {
        "colab": {
          "base_uri": "https://localhost:8080/"
        },
        "id": "nBXXzkIsRRaz",
        "outputId": "be081404-d9c9-4a21-9c3a-9e04fd030e00"
      },
      "source": [
        "early_stopping = keras.callbacks.EarlyStopping(patience=20,\n",
        "                                               restore_best_weights=True)\n",
        "lr_schedule = keras.callbacks.ReduceLROnPlateau(factor=0.5)\n",
        "history = model.fit(X_train, y_train,\n",
        "    batch_size = 16, \t# number of examples in each batch before step\n",
        "    epochs = 500, \t\t# will cycle through all trg data 500 times unless:\n",
        "    callbacks=[early_stopping, lr_schedule], # put callbacks in a list; use lg epochs value\n",
        "    validation_data = (X_val, y_val)) # to monitor performance"
      ],
      "execution_count": 7,
      "outputs": [
        {
          "output_type": "stream",
          "name": "stdout",
          "text": [
            "Epoch 1/500\n",
            "551/551 [==============================] - 2s 3ms/step - loss: 0.1175 - root_mean_squared_error: 0.3428 - val_loss: 0.2192 - val_root_mean_squared_error: 0.4682 - lr: 0.0010\n",
            "Epoch 2/500\n",
            "551/551 [==============================] - 1s 3ms/step - loss: 0.0918 - root_mean_squared_error: 0.3030 - val_loss: 0.1255 - val_root_mean_squared_error: 0.3543 - lr: 0.0010\n",
            "Epoch 3/500\n",
            "551/551 [==============================] - 1s 2ms/step - loss: 0.0864 - root_mean_squared_error: 0.2939 - val_loss: 0.1043 - val_root_mean_squared_error: 0.3230 - lr: 0.0010\n",
            "Epoch 4/500\n",
            "551/551 [==============================] - 1s 2ms/step - loss: 0.0836 - root_mean_squared_error: 0.2891 - val_loss: 0.1087 - val_root_mean_squared_error: 0.3297 - lr: 0.0010\n",
            "Epoch 5/500\n",
            "551/551 [==============================] - 1s 2ms/step - loss: 0.0817 - root_mean_squared_error: 0.2858 - val_loss: 0.0930 - val_root_mean_squared_error: 0.3049 - lr: 0.0010\n",
            "Epoch 6/500\n",
            "551/551 [==============================] - 1s 3ms/step - loss: 0.0795 - root_mean_squared_error: 0.2820 - val_loss: 0.0858 - val_root_mean_squared_error: 0.2929 - lr: 0.0010\n",
            "Epoch 7/500\n",
            "551/551 [==============================] - 2s 3ms/step - loss: 0.0796 - root_mean_squared_error: 0.2822 - val_loss: 0.0782 - val_root_mean_squared_error: 0.2796 - lr: 0.0010\n",
            "Epoch 8/500\n",
            "551/551 [==============================] - 2s 3ms/step - loss: 0.0774 - root_mean_squared_error: 0.2783 - val_loss: 0.0818 - val_root_mean_squared_error: 0.2860 - lr: 0.0010\n",
            "Epoch 9/500\n",
            "551/551 [==============================] - 1s 3ms/step - loss: 0.0783 - root_mean_squared_error: 0.2799 - val_loss: 0.0814 - val_root_mean_squared_error: 0.2853 - lr: 0.0010\n",
            "Epoch 10/500\n",
            "551/551 [==============================] - 1s 3ms/step - loss: 0.0763 - root_mean_squared_error: 0.2763 - val_loss: 0.0757 - val_root_mean_squared_error: 0.2751 - lr: 0.0010\n",
            "Epoch 11/500\n",
            "551/551 [==============================] - 1s 3ms/step - loss: 0.0759 - root_mean_squared_error: 0.2754 - val_loss: 0.0797 - val_root_mean_squared_error: 0.2824 - lr: 0.0010\n",
            "Epoch 12/500\n",
            "551/551 [==============================] - 1s 3ms/step - loss: 0.0757 - root_mean_squared_error: 0.2752 - val_loss: 0.0710 - val_root_mean_squared_error: 0.2665 - lr: 0.0010\n",
            "Epoch 13/500\n",
            "551/551 [==============================] - 2s 3ms/step - loss: 0.0736 - root_mean_squared_error: 0.2713 - val_loss: 0.0737 - val_root_mean_squared_error: 0.2714 - lr: 0.0010\n",
            "Epoch 14/500\n",
            "551/551 [==============================] - 1s 2ms/step - loss: 0.0737 - root_mean_squared_error: 0.2715 - val_loss: 0.0764 - val_root_mean_squared_error: 0.2764 - lr: 0.0010\n",
            "Epoch 15/500\n",
            "551/551 [==============================] - 1s 3ms/step - loss: 0.0736 - root_mean_squared_error: 0.2713 - val_loss: 0.0710 - val_root_mean_squared_error: 0.2665 - lr: 0.0010\n",
            "Epoch 16/500\n",
            "551/551 [==============================] - 1s 3ms/step - loss: 0.0723 - root_mean_squared_error: 0.2690 - val_loss: 0.0691 - val_root_mean_squared_error: 0.2628 - lr: 0.0010\n",
            "Epoch 17/500\n",
            "551/551 [==============================] - 1s 3ms/step - loss: 0.0720 - root_mean_squared_error: 0.2684 - val_loss: 0.0705 - val_root_mean_squared_error: 0.2654 - lr: 0.0010\n",
            "Epoch 18/500\n",
            "551/551 [==============================] - 1s 3ms/step - loss: 0.0716 - root_mean_squared_error: 0.2675 - val_loss: 0.0692 - val_root_mean_squared_error: 0.2631 - lr: 0.0010\n",
            "Epoch 19/500\n",
            "551/551 [==============================] - 1s 3ms/step - loss: 0.0705 - root_mean_squared_error: 0.2656 - val_loss: 0.0699 - val_root_mean_squared_error: 0.2644 - lr: 0.0010\n",
            "Epoch 20/500\n",
            "551/551 [==============================] - 1s 3ms/step - loss: 0.0706 - root_mean_squared_error: 0.2656 - val_loss: 0.0706 - val_root_mean_squared_error: 0.2657 - lr: 0.0010\n",
            "Epoch 21/500\n",
            "551/551 [==============================] - 1s 2ms/step - loss: 0.0699 - root_mean_squared_error: 0.2644 - val_loss: 0.0694 - val_root_mean_squared_error: 0.2635 - lr: 0.0010\n",
            "Epoch 22/500\n",
            "551/551 [==============================] - 2s 3ms/step - loss: 0.0687 - root_mean_squared_error: 0.2620 - val_loss: 0.0710 - val_root_mean_squared_error: 0.2665 - lr: 0.0010\n",
            "Epoch 23/500\n",
            "551/551 [==============================] - 1s 3ms/step - loss: 0.0693 - root_mean_squared_error: 0.2632 - val_loss: 0.0657 - val_root_mean_squared_error: 0.2564 - lr: 0.0010\n",
            "Epoch 24/500\n",
            "551/551 [==============================] - 2s 3ms/step - loss: 0.0695 - root_mean_squared_error: 0.2636 - val_loss: 0.0669 - val_root_mean_squared_error: 0.2587 - lr: 0.0010\n",
            "Epoch 25/500\n",
            "551/551 [==============================] - 1s 3ms/step - loss: 0.0676 - root_mean_squared_error: 0.2601 - val_loss: 0.0664 - val_root_mean_squared_error: 0.2577 - lr: 0.0010\n",
            "Epoch 26/500\n",
            "551/551 [==============================] - 1s 3ms/step - loss: 0.0685 - root_mean_squared_error: 0.2618 - val_loss: 0.0687 - val_root_mean_squared_error: 0.2621 - lr: 0.0010\n",
            "Epoch 27/500\n",
            "551/551 [==============================] - 2s 3ms/step - loss: 0.0679 - root_mean_squared_error: 0.2606 - val_loss: 0.0653 - val_root_mean_squared_error: 0.2556 - lr: 0.0010\n",
            "Epoch 28/500\n",
            "551/551 [==============================] - 2s 3ms/step - loss: 0.0670 - root_mean_squared_error: 0.2589 - val_loss: 0.0689 - val_root_mean_squared_error: 0.2625 - lr: 0.0010\n",
            "Epoch 29/500\n",
            "551/551 [==============================] - 2s 3ms/step - loss: 0.0661 - root_mean_squared_error: 0.2570 - val_loss: 0.0674 - val_root_mean_squared_error: 0.2596 - lr: 0.0010\n",
            "Epoch 30/500\n",
            "551/551 [==============================] - 1s 3ms/step - loss: 0.0657 - root_mean_squared_error: 0.2563 - val_loss: 0.0693 - val_root_mean_squared_error: 0.2632 - lr: 0.0010\n",
            "Epoch 31/500\n",
            "551/551 [==============================] - 2s 3ms/step - loss: 0.0673 - root_mean_squared_error: 0.2594 - val_loss: 0.0684 - val_root_mean_squared_error: 0.2616 - lr: 0.0010\n",
            "Epoch 32/500\n",
            "551/551 [==============================] - 2s 3ms/step - loss: 0.0650 - root_mean_squared_error: 0.2549 - val_loss: 0.0670 - val_root_mean_squared_error: 0.2589 - lr: 0.0010\n",
            "Epoch 33/500\n",
            "551/551 [==============================] - 1s 3ms/step - loss: 0.0645 - root_mean_squared_error: 0.2539 - val_loss: 0.0644 - val_root_mean_squared_error: 0.2538 - lr: 0.0010\n",
            "Epoch 34/500\n",
            "551/551 [==============================] - 2s 3ms/step - loss: 0.0656 - root_mean_squared_error: 0.2561 - val_loss: 0.0665 - val_root_mean_squared_error: 0.2578 - lr: 0.0010\n",
            "Epoch 35/500\n",
            "551/551 [==============================] - 2s 3ms/step - loss: 0.0652 - root_mean_squared_error: 0.2553 - val_loss: 0.0699 - val_root_mean_squared_error: 0.2644 - lr: 0.0010\n",
            "Epoch 36/500\n",
            "551/551 [==============================] - 1s 3ms/step - loss: 0.0647 - root_mean_squared_error: 0.2544 - val_loss: 0.0705 - val_root_mean_squared_error: 0.2654 - lr: 0.0010\n",
            "Epoch 37/500\n",
            "551/551 [==============================] - 1s 3ms/step - loss: 0.0636 - root_mean_squared_error: 0.2522 - val_loss: 0.0699 - val_root_mean_squared_error: 0.2644 - lr: 0.0010\n",
            "Epoch 38/500\n",
            "551/551 [==============================] - 1s 2ms/step - loss: 0.0636 - root_mean_squared_error: 0.2521 - val_loss: 0.0698 - val_root_mean_squared_error: 0.2643 - lr: 0.0010\n",
            "Epoch 39/500\n",
            "551/551 [==============================] - 1s 3ms/step - loss: 0.0633 - root_mean_squared_error: 0.2515 - val_loss: 0.0692 - val_root_mean_squared_error: 0.2630 - lr: 0.0010\n",
            "Epoch 40/500\n",
            "551/551 [==============================] - 2s 3ms/step - loss: 0.0637 - root_mean_squared_error: 0.2524 - val_loss: 0.0713 - val_root_mean_squared_error: 0.2671 - lr: 0.0010\n",
            "Epoch 41/500\n",
            "551/551 [==============================] - 1s 3ms/step - loss: 0.0621 - root_mean_squared_error: 0.2492 - val_loss: 0.0679 - val_root_mean_squared_error: 0.2605 - lr: 0.0010\n",
            "Epoch 42/500\n",
            "551/551 [==============================] - 1s 3ms/step - loss: 0.0616 - root_mean_squared_error: 0.2482 - val_loss: 0.0686 - val_root_mean_squared_error: 0.2620 - lr: 0.0010\n",
            "Epoch 43/500\n",
            "551/551 [==============================] - 1s 2ms/step - loss: 0.0626 - root_mean_squared_error: 0.2502 - val_loss: 0.0649 - val_root_mean_squared_error: 0.2547 - lr: 0.0010\n",
            "Epoch 44/500\n",
            "551/551 [==============================] - 2s 3ms/step - loss: 0.0606 - root_mean_squared_error: 0.2461 - val_loss: 0.0653 - val_root_mean_squared_error: 0.2555 - lr: 5.0000e-04\n",
            "Epoch 45/500\n",
            "551/551 [==============================] - 2s 3ms/step - loss: 0.0587 - root_mean_squared_error: 0.2423 - val_loss: 0.0667 - val_root_mean_squared_error: 0.2582 - lr: 5.0000e-04\n",
            "Epoch 46/500\n",
            "551/551 [==============================] - 1s 3ms/step - loss: 0.0591 - root_mean_squared_error: 0.2431 - val_loss: 0.0657 - val_root_mean_squared_error: 0.2563 - lr: 5.0000e-04\n",
            "Epoch 47/500\n",
            "551/551 [==============================] - 2s 3ms/step - loss: 0.0589 - root_mean_squared_error: 0.2426 - val_loss: 0.0632 - val_root_mean_squared_error: 0.2515 - lr: 5.0000e-04\n",
            "Epoch 48/500\n",
            "551/551 [==============================] - 2s 3ms/step - loss: 0.0586 - root_mean_squared_error: 0.2420 - val_loss: 0.0643 - val_root_mean_squared_error: 0.2536 - lr: 5.0000e-04\n",
            "Epoch 49/500\n",
            "551/551 [==============================] - 1s 2ms/step - loss: 0.0575 - root_mean_squared_error: 0.2398 - val_loss: 0.0669 - val_root_mean_squared_error: 0.2587 - lr: 5.0000e-04\n",
            "Epoch 50/500\n",
            "551/551 [==============================] - 2s 3ms/step - loss: 0.0578 - root_mean_squared_error: 0.2403 - val_loss: 0.0633 - val_root_mean_squared_error: 0.2516 - lr: 5.0000e-04\n",
            "Epoch 51/500\n",
            "551/551 [==============================] - 1s 2ms/step - loss: 0.0583 - root_mean_squared_error: 0.2414 - val_loss: 0.0622 - val_root_mean_squared_error: 0.2495 - lr: 5.0000e-04\n",
            "Epoch 52/500\n",
            "551/551 [==============================] - 2s 3ms/step - loss: 0.0591 - root_mean_squared_error: 0.2431 - val_loss: 0.0661 - val_root_mean_squared_error: 0.2571 - lr: 5.0000e-04\n",
            "Epoch 53/500\n",
            "551/551 [==============================] - 1s 3ms/step - loss: 0.0583 - root_mean_squared_error: 0.2414 - val_loss: 0.0672 - val_root_mean_squared_error: 0.2593 - lr: 5.0000e-04\n",
            "Epoch 54/500\n",
            "551/551 [==============================] - 2s 3ms/step - loss: 0.0575 - root_mean_squared_error: 0.2398 - val_loss: 0.0630 - val_root_mean_squared_error: 0.2510 - lr: 5.0000e-04\n",
            "Epoch 55/500\n",
            "551/551 [==============================] - 1s 3ms/step - loss: 0.0578 - root_mean_squared_error: 0.2403 - val_loss: 0.0632 - val_root_mean_squared_error: 0.2514 - lr: 5.0000e-04\n",
            "Epoch 56/500\n",
            "551/551 [==============================] - 1s 3ms/step - loss: 0.0572 - root_mean_squared_error: 0.2391 - val_loss: 0.0693 - val_root_mean_squared_error: 0.2633 - lr: 5.0000e-04\n",
            "Epoch 57/500\n",
            "551/551 [==============================] - 1s 2ms/step - loss: 0.0576 - root_mean_squared_error: 0.2399 - val_loss: 0.0676 - val_root_mean_squared_error: 0.2600 - lr: 5.0000e-04\n",
            "Epoch 58/500\n",
            "551/551 [==============================] - 1s 2ms/step - loss: 0.0581 - root_mean_squared_error: 0.2410 - val_loss: 0.0632 - val_root_mean_squared_error: 0.2513 - lr: 5.0000e-04\n",
            "Epoch 59/500\n",
            "551/551 [==============================] - 1s 3ms/step - loss: 0.0556 - root_mean_squared_error: 0.2358 - val_loss: 0.0658 - val_root_mean_squared_error: 0.2564 - lr: 5.0000e-04\n",
            "Epoch 60/500\n",
            "551/551 [==============================] - 1s 3ms/step - loss: 0.0584 - root_mean_squared_error: 0.2416 - val_loss: 0.0678 - val_root_mean_squared_error: 0.2604 - lr: 5.0000e-04\n",
            "Epoch 61/500\n",
            "551/551 [==============================] - 1s 3ms/step - loss: 0.0559 - root_mean_squared_error: 0.2364 - val_loss: 0.0685 - val_root_mean_squared_error: 0.2618 - lr: 5.0000e-04\n",
            "Epoch 62/500\n",
            "551/551 [==============================] - 2s 3ms/step - loss: 0.0556 - root_mean_squared_error: 0.2357 - val_loss: 0.0650 - val_root_mean_squared_error: 0.2549 - lr: 2.5000e-04\n",
            "Epoch 63/500\n",
            "551/551 [==============================] - 2s 3ms/step - loss: 0.0552 - root_mean_squared_error: 0.2350 - val_loss: 0.0651 - val_root_mean_squared_error: 0.2551 - lr: 2.5000e-04\n",
            "Epoch 64/500\n",
            "551/551 [==============================] - 2s 3ms/step - loss: 0.0549 - root_mean_squared_error: 0.2342 - val_loss: 0.0662 - val_root_mean_squared_error: 0.2574 - lr: 2.5000e-04\n",
            "Epoch 65/500\n",
            "551/551 [==============================] - 2s 3ms/step - loss: 0.0554 - root_mean_squared_error: 0.2354 - val_loss: 0.0682 - val_root_mean_squared_error: 0.2611 - lr: 2.5000e-04\n",
            "Epoch 66/500\n",
            "551/551 [==============================] - 1s 3ms/step - loss: 0.0541 - root_mean_squared_error: 0.2325 - val_loss: 0.0654 - val_root_mean_squared_error: 0.2558 - lr: 2.5000e-04\n",
            "Epoch 67/500\n",
            "551/551 [==============================] - 2s 3ms/step - loss: 0.0553 - root_mean_squared_error: 0.2352 - val_loss: 0.0626 - val_root_mean_squared_error: 0.2503 - lr: 2.5000e-04\n",
            "Epoch 68/500\n",
            "551/551 [==============================] - 1s 3ms/step - loss: 0.0550 - root_mean_squared_error: 0.2345 - val_loss: 0.0669 - val_root_mean_squared_error: 0.2587 - lr: 2.5000e-04\n",
            "Epoch 69/500\n",
            "551/551 [==============================] - 2s 3ms/step - loss: 0.0559 - root_mean_squared_error: 0.2365 - val_loss: 0.0656 - val_root_mean_squared_error: 0.2560 - lr: 2.5000e-04\n",
            "Epoch 70/500\n",
            "551/551 [==============================] - 2s 3ms/step - loss: 0.0558 - root_mean_squared_error: 0.2363 - val_loss: 0.0692 - val_root_mean_squared_error: 0.2631 - lr: 2.5000e-04\n",
            "Epoch 71/500\n",
            "551/551 [==============================] - 1s 3ms/step - loss: 0.0532 - root_mean_squared_error: 0.2307 - val_loss: 0.0700 - val_root_mean_squared_error: 0.2646 - lr: 2.5000e-04\n"
          ]
        }
      ]
    },
    {
      "cell_type": "code",
      "metadata": {
        "colab": {
          "base_uri": "https://localhost:8080/",
          "height": 404
        },
        "id": "Ud9PePMHaFJt",
        "outputId": "15b2cb60-1bdb-46d8-e119-fa2befc8ff53"
      },
      "source": [
        "history_df = pd.DataFrame(history.history) # convert the trg history to a DF\n",
        "fig, ax = plt.subplots(figsize=(12,6))\n",
        "history_df.loc[1:, ['loss', 'val_loss']].plot(ax=ax)\n",
        "ax.set(title='Neural Net Learning Curve', xlabel='Epoch', \n",
        "       ylabel='Mean Squared Error');"
      ],
      "execution_count": 25,
      "outputs": [
        {
          "output_type": "display_data",
          "data": {
            "image/png": "[encoded data removed]",
            "text/plain": [
              "<Figure size 864x432 with 1 Axes>"
            ]
          },
          "metadata": {
            "needs_background": "light"
          }
        }
      ]
    },
    {
      "cell_type": "markdown",
      "metadata": {
        "id": "7Ev8z4hLivrS"
      },
      "source": [
        "We can see that the model starts to overtrain the training data set after 30-40 epochs."
      ]
    },
    {
      "cell_type": "code",
      "metadata": {
        "colab": {
          "base_uri": "https://localhost:8080/"
        },
        "id": "7RaLxzJKZfM6",
        "outputId": "2f0f42e7-e277-40ad-a49c-4e74ae9df682"
      },
      "source": [
        "# Calculate the Standard Deviation of y\n",
        "y_sd = float(np.sqrt(df1[var['y']].var()))\n",
        "print(\"The Standard Deviation of the Reproduction Rate (the dependent variable) is {:.4f}\".format(y_sd))"
      ],
      "execution_count": 26,
      "outputs": [
        {
          "output_type": "stream",
          "name": "stdout",
          "text": [
            "The Standard Deviation of the Reproduction Rate (the dependent variable) is 0.3097\n"
          ]
        }
      ]
    },
    {
      "cell_type": "code",
      "metadata": {
        "colab": {
          "base_uri": "https://localhost:8080/"
        },
        "id": "oTe6zC8FWDZ6",
        "outputId": "3add984a-4eb4-48a3-e5e1-8c3dd577797a"
      },
      "source": [
        "rmse = model.evaluate(X_test, y_test)[1]"
      ],
      "execution_count": 13,
      "outputs": [
        {
          "output_type": "stream",
          "name": "stdout",
          "text": [
            "92/92 [==============================] - 0s 1ms/step - loss: 0.0610 - root_mean_squared_error: 0.2470\n"
          ]
        }
      ]
    },
    {
      "cell_type": "code",
      "metadata": {
        "id": "Thf8o9vrdoKQ",
        "outputId": "2be98dd0-16bd-4566-f5ee-95aaa4a30aaf",
        "colab": {
          "base_uri": "https://localhost:8080/"
        }
      },
      "source": [
        "print('Only {:.1f}% of the variability in the Reproduction Rate is explained by this model'.format(100*(y_sd-rmse)/y_sd))"
      ],
      "execution_count": 14,
      "outputs": [
        {
          "output_type": "stream",
          "name": "stdout",
          "text": [
            "Only 20.3% of the variability in the Reproduction Rate is explained by this model\n"
          ]
        }
      ]
    },
    {
      "cell_type": "code",
      "metadata": {
        "id": "f9WqfDi1fu6W"
      },
      "source": [
        ""
      ],
      "execution_count": 11,
      "outputs": []
    }
  ]
}