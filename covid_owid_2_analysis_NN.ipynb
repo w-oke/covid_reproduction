{
  "nbformat": 4,
  "nbformat_minor": 0,
  "metadata": {
    "colab": {
      "name": "covid_owid_2_analysis_NN.ipynb",
      "provenance": [],
      "authorship_tag": "ABX9TyOt8k3ECwdDlsJvu7w6rDMG",
      "include_colab_link": true
    },
    "kernelspec": {
      "name": "python3",
      "display_name": "Python 3"
    },
    "language_info": {
      "name": "python"
    }
  },
  "cells": [
    {
      "cell_type": "markdown",
      "metadata": {
        "id": "view-in-github",
        "colab_type": "text"
      },
      "source": [
        "<a href=\"https://colab.research.google.com/github/w-oke/covid_reproduction/blob/main/covid_owid_2_analysis_NN.ipynb\" target=\"_parent\"><img src=\"https://colab.research.google.com/assets/colab-badge.svg\" alt=\"Open In Colab\"/></a>"
      ]
    },
    {
      "cell_type": "markdown",
      "metadata": {
        "id": "AcknS606OT5D"
      },
      "source": [
        "The data loaded in this Notebook is based on the output of: covid_owid_1_preparation.ipynb, which can be accessed from:\n",
        "https://github.com/w-oke/covid_reproduction."
      ]
    },
    {
      "cell_type": "code",
      "metadata": {
        "id": "vIXW7GbeaT8u"
      },
      "source": [
        "import urllib.request\n",
        "import pickle\n",
        "import numpy as np\n",
        "import pandas as pd\n",
        "import matplotlib.pyplot as plt\n",
        "from sklearn.model_selection import train_test_split\n",
        "from sklearn.preprocessing import MinMaxScaler\n",
        "from sklearn.impute import KNNImputer\n",
        "from tensorflow import keras"
      ],
      "execution_count": 1,
      "outputs": []
    },
    {
      "cell_type": "code",
      "metadata": {
        "id": "laGKjQDkPOML",
        "colab": {
          "base_uri": "https://localhost:8080/"
        },
        "outputId": "ee912f63-b33d-4061-9b20-ade0e2b1e5a9"
      },
      "source": [
        "df_link = 'https://github.com/w-oke/covid_reproduction/raw/main/covid_owid_df.parquet'\n",
        "df1 = pd.read_parquet(df_link)\n",
        "df1.info()"
      ],
      "execution_count": 2,
      "outputs": [
        {
          "output_type": "stream",
          "name": "stdout",
          "text": [
            "<class 'pandas.core.frame.DataFrame'>\n",
            "RangeIndex: 14671 entries, 0 to 14670\n",
            "Data columns (total 30 columns):\n",
            " #   Column                               Non-Null Count  Dtype         \n",
            "---  ------                               --------------  -----         \n",
            " 0   iso_code                             14671 non-null  object        \n",
            " 1   location                             14671 non-null  object        \n",
            " 2   date                                 14671 non-null  datetime64[ns]\n",
            " 3   reproduction_rate                    14671 non-null  float64       \n",
            " 4   new_tests_smoothed_per_thousand      14671 non-null  float64       \n",
            " 5   people_vaccinated_per_hundred        14671 non-null  float64       \n",
            " 6   people_fully_vaccinated_per_hundred  14671 non-null  float64       \n",
            " 7   total_boosters_per_hundred           14671 non-null  float64       \n",
            " 8   stringency_index                     14671 non-null  float64       \n",
            " 9   population_density                   14671 non-null  float64       \n",
            " 10  median_age                           14671 non-null  float64       \n",
            " 11  gdp_per_capita                       14671 non-null  float64       \n",
            " 12  extreme_poverty                      14671 non-null  float64       \n",
            " 13  handwashing_facilities               14671 non-null  float64       \n",
            " 14  hospital_beds_per_thousand           14671 non-null  float64       \n",
            " 15  life_expectancy                      14671 non-null  float64       \n",
            " 16  human_development_index              14671 non-null  float64       \n",
            " 17  Alpha                                14671 non-null  float64       \n",
            " 18  Beta                                 14671 non-null  float64       \n",
            " 19  Delta                                14671 non-null  float64       \n",
            " 20  Epsilon                              14671 non-null  float64       \n",
            " 21  Eta                                  14671 non-null  float64       \n",
            " 22  Gamma                                14671 non-null  float64       \n",
            " 23  Iota                                 14671 non-null  float64       \n",
            " 24  Kappa                                14671 non-null  float64       \n",
            " 25  Lambda                               14671 non-null  float64       \n",
            " 26  Mu                                   14671 non-null  float64       \n",
            " 27  Omicron                              14671 non-null  float64       \n",
            " 28  non_who                              14671 non-null  float64       \n",
            " 29  date_diff                            14671 non-null  float64       \n",
            "dtypes: datetime64[ns](1), float64(27), object(2)\n",
            "memory usage: 3.4+ MB\n"
          ]
        }
      ]
    },
    {
      "cell_type": "code",
      "metadata": {
        "colab": {
          "base_uri": "https://localhost:8080/",
          "height": 320
        },
        "id": "7KM7x1gqExM-",
        "outputId": "4b106e8b-9998-4184-cf50-97e8c10f8d37"
      },
      "source": [
        "df1.describe()"
      ],
      "execution_count": 3,
      "outputs": [
        {
          "output_type": "execute_result",
          "data": {
            "text/html": [
              "<div>\n",
              "<style scoped>\n",
              "    .dataframe tbody tr th:only-of-type {\n",
              "        vertical-align: middle;\n",
              "    }\n",
              "\n",
              "    .dataframe tbody tr th {\n",
              "        vertical-align: top;\n",
              "    }\n",
              "\n",
              "    .dataframe thead th {\n",
              "        text-align: right;\n",
              "    }\n",
              "</style>\n",
              "<table border=\"1\" class=\"dataframe\">\n",
              "  <thead>\n",
              "    <tr style=\"text-align: right;\">\n",
              "      <th></th>\n",
              "      <th>reproduction_rate</th>\n",
              "      <th>new_tests_smoothed_per_thousand</th>\n",
              "      <th>people_vaccinated_per_hundred</th>\n",
              "      <th>people_fully_vaccinated_per_hundred</th>\n",
              "      <th>total_boosters_per_hundred</th>\n",
              "      <th>stringency_index</th>\n",
              "      <th>population_density</th>\n",
              "      <th>median_age</th>\n",
              "      <th>gdp_per_capita</th>\n",
              "      <th>extreme_poverty</th>\n",
              "      <th>handwashing_facilities</th>\n",
              "      <th>hospital_beds_per_thousand</th>\n",
              "      <th>life_expectancy</th>\n",
              "      <th>human_development_index</th>\n",
              "      <th>Alpha</th>\n",
              "      <th>Beta</th>\n",
              "      <th>Delta</th>\n",
              "      <th>Epsilon</th>\n",
              "      <th>Eta</th>\n",
              "      <th>Gamma</th>\n",
              "      <th>Iota</th>\n",
              "      <th>Kappa</th>\n",
              "      <th>Lambda</th>\n",
              "      <th>Mu</th>\n",
              "      <th>Omicron</th>\n",
              "      <th>non_who</th>\n",
              "      <th>date_diff</th>\n",
              "    </tr>\n",
              "  </thead>\n",
              "  <tbody>\n",
              "    <tr>\n",
              "      <th>count</th>\n",
              "      <td>14671.000000</td>\n",
              "      <td>14671.000000</td>\n",
              "      <td>14671.000000</td>\n",
              "      <td>14671.000000</td>\n",
              "      <td>14671.000000</td>\n",
              "      <td>14671.000000</td>\n",
              "      <td>14671.000000</td>\n",
              "      <td>14671.000000</td>\n",
              "      <td>14671.000000</td>\n",
              "      <td>14671.000000</td>\n",
              "      <td>14671.000000</td>\n",
              "      <td>14671.000000</td>\n",
              "      <td>14671.000000</td>\n",
              "      <td>14671.000000</td>\n",
              "      <td>14671.000000</td>\n",
              "      <td>14671.000000</td>\n",
              "      <td>14671.000000</td>\n",
              "      <td>14671.000000</td>\n",
              "      <td>14671.000000</td>\n",
              "      <td>14671.000000</td>\n",
              "      <td>14671.000000</td>\n",
              "      <td>14671.000000</td>\n",
              "      <td>14671.000000</td>\n",
              "      <td>14671.000000</td>\n",
              "      <td>14671.000000</td>\n",
              "      <td>14671.000000</td>\n",
              "      <td>14671.000000</td>\n",
              "    </tr>\n",
              "    <tr>\n",
              "      <th>mean</th>\n",
              "      <td>0.981247</td>\n",
              "      <td>0.026298</td>\n",
              "      <td>0.148454</td>\n",
              "      <td>0.114431</td>\n",
              "      <td>0.021224</td>\n",
              "      <td>0.555056</td>\n",
              "      <td>0.015554</td>\n",
              "      <td>0.473407</td>\n",
              "      <td>0.153223</td>\n",
              "      <td>0.134494</td>\n",
              "      <td>0.681668</td>\n",
              "      <td>0.208556</td>\n",
              "      <td>0.587462</td>\n",
              "      <td>0.590860</td>\n",
              "      <td>13.710374</td>\n",
              "      <td>3.134258</td>\n",
              "      <td>27.818503</td>\n",
              "      <td>0.159002</td>\n",
              "      <td>0.454525</td>\n",
              "      <td>2.199476</td>\n",
              "      <td>0.207535</td>\n",
              "      <td>0.131778</td>\n",
              "      <td>0.503047</td>\n",
              "      <td>0.498972</td>\n",
              "      <td>0.252521</td>\n",
              "      <td>50.930009</td>\n",
              "      <td>0.510624</td>\n",
              "    </tr>\n",
              "    <tr>\n",
              "      <th>std</th>\n",
              "      <td>0.309696</td>\n",
              "      <td>0.059445</td>\n",
              "      <td>0.226695</td>\n",
              "      <td>0.205292</td>\n",
              "      <td>0.066018</td>\n",
              "      <td>0.182632</td>\n",
              "      <td>0.078171</td>\n",
              "      <td>0.280223</td>\n",
              "      <td>0.167145</td>\n",
              "      <td>0.241245</td>\n",
              "      <td>0.314402</td>\n",
              "      <td>0.172136</td>\n",
              "      <td>0.230449</td>\n",
              "      <td>0.272662</td>\n",
              "      <td>24.165125</td>\n",
              "      <td>10.122518</td>\n",
              "      <td>40.730910</td>\n",
              "      <td>1.338521</td>\n",
              "      <td>2.929623</td>\n",
              "      <td>7.994121</td>\n",
              "      <td>1.754144</td>\n",
              "      <td>1.158653</td>\n",
              "      <td>3.291833</td>\n",
              "      <td>3.367829</td>\n",
              "      <td>2.399186</td>\n",
              "      <td>44.403557</td>\n",
              "      <td>0.289618</td>\n",
              "    </tr>\n",
              "    <tr>\n",
              "      <th>min</th>\n",
              "      <td>-0.030000</td>\n",
              "      <td>0.000000</td>\n",
              "      <td>0.000000</td>\n",
              "      <td>0.000000</td>\n",
              "      <td>0.000000</td>\n",
              "      <td>0.000000</td>\n",
              "      <td>0.000000</td>\n",
              "      <td>0.000000</td>\n",
              "      <td>0.000000</td>\n",
              "      <td>0.000000</td>\n",
              "      <td>0.000000</td>\n",
              "      <td>0.000000</td>\n",
              "      <td>0.000000</td>\n",
              "      <td>0.000000</td>\n",
              "      <td>0.000000</td>\n",
              "      <td>0.000000</td>\n",
              "      <td>0.000000</td>\n",
              "      <td>0.000000</td>\n",
              "      <td>0.000000</td>\n",
              "      <td>0.000000</td>\n",
              "      <td>0.000000</td>\n",
              "      <td>0.000000</td>\n",
              "      <td>0.000000</td>\n",
              "      <td>0.000000</td>\n",
              "      <td>0.000000</td>\n",
              "      <td>-0.010000</td>\n",
              "      <td>0.000000</td>\n",
              "    </tr>\n",
              "    <tr>\n",
              "      <th>25%</th>\n",
              "      <td>0.830000</td>\n",
              "      <td>0.002815</td>\n",
              "      <td>0.000000</td>\n",
              "      <td>0.000000</td>\n",
              "      <td>0.000000</td>\n",
              "      <td>0.433105</td>\n",
              "      <td>0.001848</td>\n",
              "      <td>0.208459</td>\n",
              "      <td>0.032584</td>\n",
              "      <td>0.006452</td>\n",
              "      <td>0.443836</td>\n",
              "      <td>0.087591</td>\n",
              "      <td>0.413206</td>\n",
              "      <td>0.355240</td>\n",
              "      <td>0.000000</td>\n",
              "      <td>0.000000</td>\n",
              "      <td>0.000000</td>\n",
              "      <td>0.000000</td>\n",
              "      <td>0.000000</td>\n",
              "      <td>0.000000</td>\n",
              "      <td>0.000000</td>\n",
              "      <td>0.000000</td>\n",
              "      <td>0.000000</td>\n",
              "      <td>0.000000</td>\n",
              "      <td>0.000000</td>\n",
              "      <td>2.515000</td>\n",
              "      <td>0.259259</td>\n",
              "    </tr>\n",
              "    <tr>\n",
              "      <th>50%</th>\n",
              "      <td>1.000000</td>\n",
              "      <td>0.011031</td>\n",
              "      <td>0.012334</td>\n",
              "      <td>0.003801</td>\n",
              "      <td>0.000000</td>\n",
              "      <td>0.555600</td>\n",
              "      <td>0.004167</td>\n",
              "      <td>0.468278</td>\n",
              "      <td>0.096149</td>\n",
              "      <td>0.012903</td>\n",
              "      <td>0.858901</td>\n",
              "      <td>0.167664</td>\n",
              "      <td>0.633403</td>\n",
              "      <td>0.632327</td>\n",
              "      <td>0.239675</td>\n",
              "      <td>0.018182</td>\n",
              "      <td>0.042349</td>\n",
              "      <td>0.000000</td>\n",
              "      <td>0.000000</td>\n",
              "      <td>0.000000</td>\n",
              "      <td>0.000000</td>\n",
              "      <td>0.000000</td>\n",
              "      <td>0.000000</td>\n",
              "      <td>0.000000</td>\n",
              "      <td>0.000000</td>\n",
              "      <td>48.950000</td>\n",
              "      <td>0.518519</td>\n",
              "    </tr>\n",
              "    <tr>\n",
              "      <th>75%</th>\n",
              "      <td>1.150000</td>\n",
              "      <td>0.028369</td>\n",
              "      <td>0.241835</td>\n",
              "      <td>0.130882</td>\n",
              "      <td>0.002901</td>\n",
              "      <td>0.694400</td>\n",
              "      <td>0.010465</td>\n",
              "      <td>0.740181</td>\n",
              "      <td>0.224609</td>\n",
              "      <td>0.127742</td>\n",
              "      <td>0.906227</td>\n",
              "      <td>0.270073</td>\n",
              "      <td>0.755602</td>\n",
              "      <td>0.813499</td>\n",
              "      <td>17.745625</td>\n",
              "      <td>2.317532</td>\n",
              "      <td>73.398196</td>\n",
              "      <td>0.013782</td>\n",
              "      <td>0.026742</td>\n",
              "      <td>1.366321</td>\n",
              "      <td>0.010353</td>\n",
              "      <td>0.002574</td>\n",
              "      <td>0.294365</td>\n",
              "      <td>0.156952</td>\n",
              "      <td>0.000000</td>\n",
              "      <td>99.999861</td>\n",
              "      <td>0.765432</td>\n",
              "    </tr>\n",
              "    <tr>\n",
              "      <th>max</th>\n",
              "      <td>4.190000</td>\n",
              "      <td>1.000000</td>\n",
              "      <td>1.000000</td>\n",
              "      <td>1.000000</td>\n",
              "      <td>1.000000</td>\n",
              "      <td>1.000000</td>\n",
              "      <td>1.000000</td>\n",
              "      <td>1.000000</td>\n",
              "      <td>1.000000</td>\n",
              "      <td>1.000000</td>\n",
              "      <td>1.000000</td>\n",
              "      <td>1.000000</td>\n",
              "      <td>1.000000</td>\n",
              "      <td>1.000000</td>\n",
              "      <td>100.000000</td>\n",
              "      <td>100.000000</td>\n",
              "      <td>100.000000</td>\n",
              "      <td>100.000000</td>\n",
              "      <td>100.000000</td>\n",
              "      <td>100.000000</td>\n",
              "      <td>100.000000</td>\n",
              "      <td>60.190000</td>\n",
              "      <td>82.410000</td>\n",
              "      <td>82.830000</td>\n",
              "      <td>100.000000</td>\n",
              "      <td>100.000000</td>\n",
              "      <td>1.000000</td>\n",
              "    </tr>\n",
              "  </tbody>\n",
              "</table>\n",
              "</div>"
            ],
            "text/plain": [
              "       reproduction_rate  ...     date_diff\n",
              "count       14671.000000  ...  14671.000000\n",
              "mean            0.981247  ...      0.510624\n",
              "std             0.309696  ...      0.289618\n",
              "min            -0.030000  ...      0.000000\n",
              "25%             0.830000  ...      0.259259\n",
              "50%             1.000000  ...      0.518519\n",
              "75%             1.150000  ...      0.765432\n",
              "max             4.190000  ...      1.000000\n",
              "\n",
              "[8 rows x 27 columns]"
            ]
          },
          "metadata": {},
          "execution_count": 3
        }
      ]
    },
    {
      "cell_type": "code",
      "metadata": {
        "id": "UwUVoHhRPN8S"
      },
      "source": [
        ""
      ],
      "execution_count": 3,
      "outputs": []
    },
    {
      "cell_type": "code",
      "metadata": {
        "id": "KyimQktVeszY",
        "colab": {
          "base_uri": "https://localhost:8080/",
          "height": 241
        },
        "outputId": "c947f5fb-ddca-49b9-f4b5-de6e1d0ea81c"
      },
      "source": [
        "# import the dictionary var with lists of features:\n",
        "var_link = 'https://github.com/w-oke/covid_reproduction/raw/main/covid_owid_var_dictionary.pkl'\n",
        "a_file = \"covid_owid_var_dictionary.pkl\"\n",
        "\n",
        "with open(a_file, 'rb') as f:\n",
        "        var = pickle.load(f)\n",
        "\n",
        "print('The keys of the \\'var\\' dict are: ', var.keys())\n",
        "print()\n",
        "var"
      ],
      "execution_count": 5,
      "outputs": [
        {
          "output_type": "error",
          "ename": "FileNotFoundError",
          "evalue": "ignored",
          "traceback": [
            "\u001b[0;31m---------------------------------------------------------------------------\u001b[0m",
            "\u001b[0;31mFileNotFoundError\u001b[0m                         Traceback (most recent call last)",
            "\u001b[0;32m<ipython-input-5-8ab9aafb9e3a>\u001b[0m in \u001b[0;36m<module>\u001b[0;34m()\u001b[0m\n\u001b[1;32m      3\u001b[0m \u001b[0ma_file\u001b[0m \u001b[0;34m=\u001b[0m \u001b[0;34m\"covid_owid_var_dictionary.pkl\"\u001b[0m\u001b[0;34m\u001b[0m\u001b[0;34m\u001b[0m\u001b[0m\n\u001b[1;32m      4\u001b[0m \u001b[0;34m\u001b[0m\u001b[0m\n\u001b[0;32m----> 5\u001b[0;31m \u001b[0;32mwith\u001b[0m \u001b[0mopen\u001b[0m\u001b[0;34m(\u001b[0m\u001b[0ma_file\u001b[0m\u001b[0;34m,\u001b[0m \u001b[0;34m'rb'\u001b[0m\u001b[0;34m)\u001b[0m \u001b[0;32mas\u001b[0m \u001b[0mf\u001b[0m\u001b[0;34m:\u001b[0m\u001b[0;34m\u001b[0m\u001b[0;34m\u001b[0m\u001b[0m\n\u001b[0m\u001b[1;32m      6\u001b[0m         \u001b[0mvar\u001b[0m \u001b[0;34m=\u001b[0m \u001b[0mpickle\u001b[0m\u001b[0;34m.\u001b[0m\u001b[0mload\u001b[0m\u001b[0;34m(\u001b[0m\u001b[0mf\u001b[0m\u001b[0;34m)\u001b[0m\u001b[0;34m\u001b[0m\u001b[0;34m\u001b[0m\u001b[0m\n\u001b[1;32m      7\u001b[0m \u001b[0;34m\u001b[0m\u001b[0m\n",
            "\u001b[0;31mFileNotFoundError\u001b[0m: [Errno 2] No such file or directory: 'covid_owid_var_dictionary.pkl'"
          ]
        }
      ]
    },
    {
      "cell_type": "code",
      "metadata": {
        "id": "2sknNv1_-GXH"
      },
      "source": [
        "# allocate 20% of the data set to testing\n",
        "X_train, X_test, y_train, y_test = train_test_split(\n",
        "                        df1[var['number']+var['variants']], df1[var['y']], \n",
        "                        test_size=0.2, random_state=1)\n",
        "\n",
        "# allocate 25% of the remaining examples (20% of the dataset) to validation\n",
        "X_train, X_val, y_train, y_val = train_test_split(\n",
        "                        X_train, y_train, test_size=0.25, random_state=1) # 0.25 x 0.8 = 0.2"
      ],
      "execution_count": null,
      "outputs": []
    },
    {
      "cell_type": "code",
      "metadata": {
        "id": "t-r_AKeWG4bL"
      },
      "source": [
        "# create a DNN model with 3 fully connected layers with 64 units each\n",
        "model = keras.Sequential([\n",
        "                          keras.layers.BatchNormalization(),\n",
        "                          keras.layers.Dense(units=64, activation='relu'),\n",
        "                          keras.layers.Dense(units=64, activation='relu'),\n",
        "                          keras.layers.Dense(units=64, activation='relu'),\n",
        "                          keras.layers.Dense(units=1)]) # linear output layer for regression\n",
        "opt = keras.optimizers.Adam(learning_rate=0.01)\n",
        "model.compile(optimizer=opt,\n",
        "              loss='mse',\n",
        "              metrics=[keras.metrics.RootMeanSquaredError()])"
      ],
      "execution_count": null,
      "outputs": []
    },
    {
      "cell_type": "markdown",
      "metadata": {
        "id": "Xe1m0S_waVzT"
      },
      "source": [
        "The following hyperparameter values were evaluated, which all resulted in test data RMSE results in the range of 0.24 to 0.29:\n",
        "* number of Dense layers: 1, 2, 3\n",
        "* number of units per layer: 64, 128\n",
        "* optimizer 'adam' and 'sgd'\n",
        "* keras.layers.Dropout(0.2) between each layer\n",
        "* keras.layers.BatchNormalization() between each layer\n",
        "* training batch size of 16 & 32\n",
        "* keras.callbacks.ReduceLROnPlateau()"
      ]
    },
    {
      "cell_type": "code",
      "metadata": {
        "id": "nBXXzkIsRRaz"
      },
      "source": [
        "early_stopping = keras.callbacks.EarlyStopping(patience=20,\n",
        "                                               restore_best_weights=True)\n",
        "lr_schedule = keras.callbacks.ReduceLROnPlateau(factor=0.5)\n",
        "history = model.fit(X_train, y_train,\n",
        "    batch_size = 16, \t# number of examples in each batch before step\n",
        "    epochs = 500, \t\t# will cycle through all trg data 500 times unless:\n",
        "    callbacks=[early_stopping, lr_schedule], # put callbacks in a list; use lg epochs value\n",
        "    validation_data = (X_val, y_val)) # to monitor performance"
      ],
      "execution_count": null,
      "outputs": []
    },
    {
      "cell_type": "code",
      "metadata": {
        "id": "Ud9PePMHaFJt"
      },
      "source": [
        "history_df = pd.DataFrame(history.history) # convert the trg history to a DF\n",
        "fig, ax = plt.subplots(figsize=(12,6))\n",
        "history_df.loc[1:, ['loss', 'val_loss']].plot(ax=ax)\n",
        "ax.set(title='Neural Net Learning Curve', xlabel='Epoch', \n",
        "       ylabel='Mean Squared Error');"
      ],
      "execution_count": null,
      "outputs": []
    },
    {
      "cell_type": "markdown",
      "metadata": {
        "id": "7Ev8z4hLivrS"
      },
      "source": [
        "We can see that the model starts to overtrain the training data set after 30-40 epochs."
      ]
    },
    {
      "cell_type": "code",
      "metadata": {
        "id": "7RaLxzJKZfM6"
      },
      "source": [
        "# Calculate the Standard Deviation of y\n",
        "y_sd = float(np.sqrt(df1[var['y']].var()))\n",
        "print(\"The Standard Deviation of the Reproduction Rate (the dependent variable) is {:.4f}\".format(y_sd))"
      ],
      "execution_count": null,
      "outputs": []
    },
    {
      "cell_type": "code",
      "metadata": {
        "id": "oTe6zC8FWDZ6"
      },
      "source": [
        "rmse = model.evaluate(X_test, y_test)[1]"
      ],
      "execution_count": null,
      "outputs": []
    },
    {
      "cell_type": "code",
      "metadata": {
        "id": "Thf8o9vrdoKQ"
      },
      "source": [
        "print('Only {:.1f}% of the variability in the Reproduction Rate is explained by this model'.format(100*(y_sd-rmse)/y_sd))"
      ],
      "execution_count": null,
      "outputs": []
    },
    {
      "cell_type": "code",
      "metadata": {
        "id": "f9WqfDi1fu6W"
      },
      "source": [
        ""
      ],
      "execution_count": null,
      "outputs": []
    }
  ]
}