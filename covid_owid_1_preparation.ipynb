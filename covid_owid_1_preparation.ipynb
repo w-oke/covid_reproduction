{
  "nbformat": 4,
  "nbformat_minor": 0,
  "metadata": {
    "colab": {
      "name": "covid_owid_1_preparation.ipynb",
      "provenance": [],
      "authorship_tag": "ABX9TyOgJBGg27RquzLj+lqDyhVp",
      "include_colab_link": true
    },
    "kernelspec": {
      "name": "python3",
      "display_name": "Python 3"
    },
    "language_info": {
      "name": "python"
    }
  },
  "cells": [
    {
      "cell_type": "markdown",
      "metadata": {
        "id": "view-in-github",
        "colab_type": "text"
      },
      "source": [
        "<a href=\"https://colab.research.google.com/github/w-oke/covid_reproduction/blob/main/covid_owid_1_preparation.ipynb\" target=\"_parent\"><img src=\"https://colab.research.google.com/assets/colab-badge.svg\" alt=\"Open In Colab\"/></a>"
      ]
    },
    {
      "cell_type": "code",
      "metadata": {
        "id": "vIXW7GbeaT8u"
      },
      "source": [
        "import pandas as pd\n",
        "import pickle"
      ],
      "execution_count": null,
      "outputs": []
    },
    {
      "cell_type": "markdown",
      "metadata": {
        "id": "CFKG-7GiaU05"
      },
      "source": [
        "The Our World In Data (OWID) project provides COVID-19 data on its websites at https://ourworldindata.org/coronavirus and https://github.com/owid/covid-19-data/tree/master/public/data\n"
      ]
    },
    {
      "cell_type": "code",
      "metadata": {
        "id": "wNgNIHZrPvxq",
        "colab": {
          "base_uri": "https://localhost:8080/",
          "height": 206
        },
        "outputId": "9a6bac3c-e140-4022-8f4c-ebb97e0ed0c2"
      },
      "source": [
        "# column descriptions:\n",
        "owid_col_desc_link = 'https://github.com/owid/covid-19-data/raw/master/public/data/owid-covid-codebook.csv'\n",
        "owid_col_desc = pd.read_csv(owid_col_desc_link)\n",
        "owid_col_desc.head()"
      ],
      "execution_count": null,
      "outputs": [
        {
          "output_type": "execute_result",
          "data": {
            "text/html": [
              "<div>\n",
              "<style scoped>\n",
              "    .dataframe tbody tr th:only-of-type {\n",
              "        vertical-align: middle;\n",
              "    }\n",
              "\n",
              "    .dataframe tbody tr th {\n",
              "        vertical-align: top;\n",
              "    }\n",
              "\n",
              "    .dataframe thead th {\n",
              "        text-align: right;\n",
              "    }\n",
              "</style>\n",
              "<table border=\"1\" class=\"dataframe\">\n",
              "  <thead>\n",
              "    <tr style=\"text-align: right;\">\n",
              "      <th></th>\n",
              "      <th>column</th>\n",
              "      <th>source</th>\n",
              "      <th>category</th>\n",
              "      <th>description</th>\n",
              "    </tr>\n",
              "  </thead>\n",
              "  <tbody>\n",
              "    <tr>\n",
              "      <th>0</th>\n",
              "      <td>iso_code</td>\n",
              "      <td>International Organization for Standardization</td>\n",
              "      <td>Others</td>\n",
              "      <td>ISO 3166-1 alpha-3 – three-letter country codes</td>\n",
              "    </tr>\n",
              "    <tr>\n",
              "      <th>1</th>\n",
              "      <td>continent</td>\n",
              "      <td>Our World in Data</td>\n",
              "      <td>Others</td>\n",
              "      <td>Continent of the geographical location</td>\n",
              "    </tr>\n",
              "    <tr>\n",
              "      <th>2</th>\n",
              "      <td>location</td>\n",
              "      <td>Our World in Data</td>\n",
              "      <td>Others</td>\n",
              "      <td>Geographical location</td>\n",
              "    </tr>\n",
              "    <tr>\n",
              "      <th>3</th>\n",
              "      <td>date</td>\n",
              "      <td>Our World in Data</td>\n",
              "      <td>Others</td>\n",
              "      <td>Date of observation</td>\n",
              "    </tr>\n",
              "    <tr>\n",
              "      <th>4</th>\n",
              "      <td>total_cases</td>\n",
              "      <td>COVID-19 Data Repository by the Center for Sys...</td>\n",
              "      <td>Confirmed cases</td>\n",
              "      <td>Total confirmed cases of COVID-19</td>\n",
              "    </tr>\n",
              "  </tbody>\n",
              "</table>\n",
              "</div>"
            ],
            "text/plain": [
              "        column  ...                                      description\n",
              "0     iso_code  ...  ISO 3166-1 alpha-3 – three-letter country codes\n",
              "1    continent  ...           Continent of the geographical location\n",
              "2     location  ...                            Geographical location\n",
              "3         date  ...                              Date of observation\n",
              "4  total_cases  ...                Total confirmed cases of COVID-19\n",
              "\n",
              "[5 rows x 4 columns]"
            ]
          },
          "metadata": {},
          "execution_count": 2
        }
      ]
    },
    {
      "cell_type": "code",
      "metadata": {
        "id": "rX7Gg4DDbXf7"
      },
      "source": [
        "# create a list of all the columns in the dataset\n",
        "cols = owid_col_desc.column.to_list()"
      ],
      "execution_count": null,
      "outputs": []
    },
    {
      "cell_type": "code",
      "metadata": {
        "id": "cfCiXsDrc8Ny"
      },
      "source": [
        "# possible independent variables\n",
        "var = {'y': [ \n",
        " # 'new_cases_smoothed_per_million',\n",
        " 'reproduction_rate',\n",
        " # 'positive_rate',\n",
        " # 'tests_per_case', # inverse of positiviy rate\n",
        " ]}\n",
        "\n",
        "# metadata - not intended for training\n",
        "var['meta'] = [    \n",
        " 'date',\n",
        " 'iso_code',\n",
        " 'location',\n",
        " # 'population', \n",
        "  ]\n",
        "\n",
        "var['number'] = [\n",
        " # 'tests_units',\n",
        " 'new_tests_smoothed_per_thousand',\n",
        " # 'total_vaccinations',\n",
        " # 'total_vaccinations_per_hundred', # use people_vaccinated & people_fully_vaccinated instead\n",
        " 'people_vaccinated_per_hundred',\n",
        " 'people_fully_vaccinated_per_hundred',\n",
        " 'total_boosters_per_hundred',\n",
        " 'stringency_index',\n",
        " 'population_density',\n",
        " 'median_age',\n",
        " 'human_development_index',\n",
        " #'aged_65_older',\n",
        " #'aged_70_older',\n",
        " 'gdp_per_capita',\n",
        " 'extreme_poverty',\n",
        " #'cardiovasc_death_rate',\n",
        " #'diabetes_prevalence',\n",
        " #'female_smokers',\n",
        " #'male_smokers',\n",
        " 'handwashing_facilities', # Share of the population with basic handwashing facilities on premises\n",
        " 'hospital_beds_per_thousand', # Hospital beds per 1,000 people, most recent year available since 2010\n",
        " 'life_expectancy',\n",
        " ]"
      ],
      "execution_count": null,
      "outputs": []
    },
    {
      "cell_type": "code",
      "metadata": {
        "id": "KyimQktVeszY",
        "colab": {
          "base_uri": "https://localhost:8080/"
        },
        "outputId": "0088a069-e460-4ccd-8e94-13d62ef35435"
      },
      "source": [
        "# create a single list of all the features\n",
        "var_all = [item for sublist in list(var.values()) for item in sublist]\n",
        "print('The first 4 items in \"var_all\" are: ', var_all[0:4])\n",
        "print('There are {} variables in var_all'.format(len(var_all)))\n",
        "\n",
        "# create a single string of all the features\n",
        "var_all2 = ', '.join(var_all)\n",
        "print('var_all2: ', var_all2)"
      ],
      "execution_count": null,
      "outputs": [
        {
          "output_type": "stream",
          "name": "stdout",
          "text": [
            "The first 4 items in \"var_all\" are:  ['reproduction_rate', 'date', 'iso_code', 'location']\n",
            "There are 17 variables in var_all\n",
            "var_all2:  reproduction_rate, date, iso_code, location, new_tests_smoothed_per_thousand, people_vaccinated_per_hundred, people_fully_vaccinated_per_hundred, total_boosters_per_hundred, stringency_index, population_density, median_age, human_development_index, gdp_per_capita, extreme_poverty, handwashing_facilities, hospital_beds_per_thousand, life_expectancy\n"
          ]
        }
      ]
    },
    {
      "cell_type": "code",
      "metadata": {
        "colab": {
          "base_uri": "https://localhost:8080/"
        },
        "id": "g5DBocbolueM",
        "outputId": "4e23a498-6946-48a2-b4fa-cc0c70bcb6b7"
      },
      "source": [
        "# owid dataset:\n",
        "owid_link = 'https://github.com/owid/covid-19-data/raw/master/public/data/owid-covid-data.csv'\n",
        "owid = pd.read_csv(owid_link, usecols=var_all)\n",
        "owid.dropna(subset=['reproduction_rate'], inplace=True)\n",
        "owid['date'] = pd.to_datetime(owid['date']) # Convert the 'date' column to a Datetime format\n",
        "owid.info()"
      ],
      "execution_count": null,
      "outputs": [
        {
          "output_type": "stream",
          "name": "stdout",
          "text": [
            "<class 'pandas.core.frame.DataFrame'>\n",
            "Int64Index: 107755 entries, 34 to 136247\n",
            "Data columns (total 17 columns):\n",
            " #   Column                               Non-Null Count   Dtype         \n",
            "---  ------                               --------------   -----         \n",
            " 0   iso_code                             107755 non-null  object        \n",
            " 1   location                             107755 non-null  object        \n",
            " 2   date                                 107755 non-null  datetime64[ns]\n",
            " 3   reproduction_rate                    107755 non-null  float64       \n",
            " 4   new_tests_smoothed_per_thousand      65863 non-null   float64       \n",
            " 5   people_vaccinated_per_hundred        27707 non-null   float64       \n",
            " 6   people_fully_vaccinated_per_hundred  25016 non-null   float64       \n",
            " 7   total_boosters_per_hundred           5413 non-null    float64       \n",
            " 8   stringency_index                     99508 non-null   float64       \n",
            " 9   population_density                   106023 non-null  float64       \n",
            " 10  median_age                           104448 non-null  float64       \n",
            " 11  gdp_per_capita                       103799 non-null  float64       \n",
            " 12  extreme_poverty                      72207 non-null   float64       \n",
            " 13  handwashing_facilities               53017 non-null   float64       \n",
            " 14  hospital_beds_per_thousand           96240 non-null   float64       \n",
            " 15  life_expectancy                      107151 non-null  float64       \n",
            " 16  human_development_index              104807 non-null  float64       \n",
            "dtypes: datetime64[ns](1), float64(14), object(2)\n",
            "memory usage: 14.8+ MB\n"
          ]
        }
      ]
    },
    {
      "cell_type": "markdown",
      "metadata": {
        "id": "xa4LYsEmzN7W"
      },
      "source": [
        "Note that:\n",
        "* about half the data has 'handwashing_facilities' data\n",
        "* about a quarter of the data has vaccination data, but this might be due to no vaccinations being available for large portions of the time\n"
      ]
    },
    {
      "cell_type": "code",
      "metadata": {
        "colab": {
          "base_uri": "https://localhost:8080/",
          "height": 312
        },
        "id": "VRPTS0_6-ojw",
        "outputId": "48655195-74e5-4466-f2b5-6e44fae0063c"
      },
      "source": [
        "owid.head()"
      ],
      "execution_count": null,
      "outputs": [
        {
          "output_type": "execute_result",
          "data": {
            "text/html": [
              "<div>\n",
              "<style scoped>\n",
              "    .dataframe tbody tr th:only-of-type {\n",
              "        vertical-align: middle;\n",
              "    }\n",
              "\n",
              "    .dataframe tbody tr th {\n",
              "        vertical-align: top;\n",
              "    }\n",
              "\n",
              "    .dataframe thead th {\n",
              "        text-align: right;\n",
              "    }\n",
              "</style>\n",
              "<table border=\"1\" class=\"dataframe\">\n",
              "  <thead>\n",
              "    <tr style=\"text-align: right;\">\n",
              "      <th></th>\n",
              "      <th>iso_code</th>\n",
              "      <th>location</th>\n",
              "      <th>date</th>\n",
              "      <th>reproduction_rate</th>\n",
              "      <th>new_tests_smoothed_per_thousand</th>\n",
              "      <th>people_vaccinated_per_hundred</th>\n",
              "      <th>people_fully_vaccinated_per_hundred</th>\n",
              "      <th>total_boosters_per_hundred</th>\n",
              "      <th>stringency_index</th>\n",
              "      <th>population_density</th>\n",
              "      <th>median_age</th>\n",
              "      <th>gdp_per_capita</th>\n",
              "      <th>extreme_poverty</th>\n",
              "      <th>handwashing_facilities</th>\n",
              "      <th>hospital_beds_per_thousand</th>\n",
              "      <th>life_expectancy</th>\n",
              "      <th>human_development_index</th>\n",
              "    </tr>\n",
              "  </thead>\n",
              "  <tbody>\n",
              "    <tr>\n",
              "      <th>34</th>\n",
              "      <td>AFG</td>\n",
              "      <td>Afghanistan</td>\n",
              "      <td>2020-03-29</td>\n",
              "      <td>1.51</td>\n",
              "      <td>NaN</td>\n",
              "      <td>NaN</td>\n",
              "      <td>NaN</td>\n",
              "      <td>NaN</td>\n",
              "      <td>67.59</td>\n",
              "      <td>54.422</td>\n",
              "      <td>18.6</td>\n",
              "      <td>1803.987</td>\n",
              "      <td>NaN</td>\n",
              "      <td>37.746</td>\n",
              "      <td>0.5</td>\n",
              "      <td>64.83</td>\n",
              "      <td>0.511</td>\n",
              "    </tr>\n",
              "    <tr>\n",
              "      <th>35</th>\n",
              "      <td>AFG</td>\n",
              "      <td>Afghanistan</td>\n",
              "      <td>2020-03-30</td>\n",
              "      <td>1.51</td>\n",
              "      <td>NaN</td>\n",
              "      <td>NaN</td>\n",
              "      <td>NaN</td>\n",
              "      <td>NaN</td>\n",
              "      <td>67.59</td>\n",
              "      <td>54.422</td>\n",
              "      <td>18.6</td>\n",
              "      <td>1803.987</td>\n",
              "      <td>NaN</td>\n",
              "      <td>37.746</td>\n",
              "      <td>0.5</td>\n",
              "      <td>64.83</td>\n",
              "      <td>0.511</td>\n",
              "    </tr>\n",
              "    <tr>\n",
              "      <th>36</th>\n",
              "      <td>AFG</td>\n",
              "      <td>Afghanistan</td>\n",
              "      <td>2020-03-31</td>\n",
              "      <td>1.52</td>\n",
              "      <td>NaN</td>\n",
              "      <td>NaN</td>\n",
              "      <td>NaN</td>\n",
              "      <td>NaN</td>\n",
              "      <td>67.59</td>\n",
              "      <td>54.422</td>\n",
              "      <td>18.6</td>\n",
              "      <td>1803.987</td>\n",
              "      <td>NaN</td>\n",
              "      <td>37.746</td>\n",
              "      <td>0.5</td>\n",
              "      <td>64.83</td>\n",
              "      <td>0.511</td>\n",
              "    </tr>\n",
              "    <tr>\n",
              "      <th>37</th>\n",
              "      <td>AFG</td>\n",
              "      <td>Afghanistan</td>\n",
              "      <td>2020-04-01</td>\n",
              "      <td>1.51</td>\n",
              "      <td>NaN</td>\n",
              "      <td>NaN</td>\n",
              "      <td>NaN</td>\n",
              "      <td>NaN</td>\n",
              "      <td>67.59</td>\n",
              "      <td>54.422</td>\n",
              "      <td>18.6</td>\n",
              "      <td>1803.987</td>\n",
              "      <td>NaN</td>\n",
              "      <td>37.746</td>\n",
              "      <td>0.5</td>\n",
              "      <td>64.83</td>\n",
              "      <td>0.511</td>\n",
              "    </tr>\n",
              "    <tr>\n",
              "      <th>38</th>\n",
              "      <td>AFG</td>\n",
              "      <td>Afghanistan</td>\n",
              "      <td>2020-04-02</td>\n",
              "      <td>1.51</td>\n",
              "      <td>NaN</td>\n",
              "      <td>NaN</td>\n",
              "      <td>NaN</td>\n",
              "      <td>NaN</td>\n",
              "      <td>67.59</td>\n",
              "      <td>54.422</td>\n",
              "      <td>18.6</td>\n",
              "      <td>1803.987</td>\n",
              "      <td>NaN</td>\n",
              "      <td>37.746</td>\n",
              "      <td>0.5</td>\n",
              "      <td>64.83</td>\n",
              "      <td>0.511</td>\n",
              "    </tr>\n",
              "  </tbody>\n",
              "</table>\n",
              "</div>"
            ],
            "text/plain": [
              "   iso_code     location  ... life_expectancy  human_development_index\n",
              "34      AFG  Afghanistan  ...           64.83                    0.511\n",
              "35      AFG  Afghanistan  ...           64.83                    0.511\n",
              "36      AFG  Afghanistan  ...           64.83                    0.511\n",
              "37      AFG  Afghanistan  ...           64.83                    0.511\n",
              "38      AFG  Afghanistan  ...           64.83                    0.511\n",
              "\n",
              "[5 rows x 17 columns]"
            ]
          },
          "metadata": {},
          "execution_count": 7
        }
      ]
    },
    {
      "cell_type": "markdown",
      "metadata": {
        "id": "AmakxKacyuK9"
      },
      "source": [
        "## Variant Data\n",
        "\n",
        "The OWID variant data is provided by country at a frequency of every two weeks."
      ]
    },
    {
      "cell_type": "code",
      "metadata": {
        "colab": {
          "base_uri": "https://localhost:8080/"
        },
        "id": "XY4bLGaMhM1F",
        "outputId": "89a2239a-d089-4ec5-c180-d339d37da8e0"
      },
      "source": [
        "variant_link = 'https://github.com/owid/covid-19-data/raw/master/public/data/variants/covid-variants.csv'\n",
        "variants = pd.read_csv(variant_link)\n",
        "variants['date'] = pd.to_datetime(variants['date']) # Convert the 'date' column to a Datetime format\n",
        "variants.info()"
      ],
      "execution_count": null,
      "outputs": [
        {
          "output_type": "stream",
          "name": "stdout",
          "text": [
            "<class 'pandas.core.frame.DataFrame'>\n",
            "RangeIndex: 54096 entries, 0 to 54095\n",
            "Data columns (total 6 columns):\n",
            " #   Column               Non-Null Count  Dtype         \n",
            "---  ------               --------------  -----         \n",
            " 0   location             54096 non-null  object        \n",
            " 1   date                 54096 non-null  datetime64[ns]\n",
            " 2   variant              54096 non-null  object        \n",
            " 3   num_sequences        54096 non-null  int64         \n",
            " 4   perc_sequences       54096 non-null  float64       \n",
            " 5   num_sequences_total  54096 non-null  int64         \n",
            "dtypes: datetime64[ns](1), float64(1), int64(2), object(2)\n",
            "memory usage: 2.5+ MB\n"
          ]
        }
      ]
    },
    {
      "cell_type": "code",
      "metadata": {
        "colab": {
          "base_uri": "https://localhost:8080/",
          "height": 206
        },
        "id": "x5WYITRhn0V-",
        "outputId": "78da6764-01b4-4b6e-86f2-0144ad4bc9d5"
      },
      "source": [
        "variants.head()"
      ],
      "execution_count": null,
      "outputs": [
        {
          "output_type": "execute_result",
          "data": {
            "text/html": [
              "<div>\n",
              "<style scoped>\n",
              "    .dataframe tbody tr th:only-of-type {\n",
              "        vertical-align: middle;\n",
              "    }\n",
              "\n",
              "    .dataframe tbody tr th {\n",
              "        vertical-align: top;\n",
              "    }\n",
              "\n",
              "    .dataframe thead th {\n",
              "        text-align: right;\n",
              "    }\n",
              "</style>\n",
              "<table border=\"1\" class=\"dataframe\">\n",
              "  <thead>\n",
              "    <tr style=\"text-align: right;\">\n",
              "      <th></th>\n",
              "      <th>location</th>\n",
              "      <th>date</th>\n",
              "      <th>variant</th>\n",
              "      <th>num_sequences</th>\n",
              "      <th>perc_sequences</th>\n",
              "      <th>num_sequences_total</th>\n",
              "    </tr>\n",
              "  </thead>\n",
              "  <tbody>\n",
              "    <tr>\n",
              "      <th>0</th>\n",
              "      <td>Angola</td>\n",
              "      <td>2020-12-21</td>\n",
              "      <td>Alpha</td>\n",
              "      <td>0</td>\n",
              "      <td>0.0</td>\n",
              "      <td>93</td>\n",
              "    </tr>\n",
              "    <tr>\n",
              "      <th>1</th>\n",
              "      <td>Angola</td>\n",
              "      <td>2020-12-21</td>\n",
              "      <td>B.1.1.277</td>\n",
              "      <td>0</td>\n",
              "      <td>0.0</td>\n",
              "      <td>93</td>\n",
              "    </tr>\n",
              "    <tr>\n",
              "      <th>2</th>\n",
              "      <td>Angola</td>\n",
              "      <td>2020-12-21</td>\n",
              "      <td>B.1.1.302</td>\n",
              "      <td>0</td>\n",
              "      <td>0.0</td>\n",
              "      <td>93</td>\n",
              "    </tr>\n",
              "    <tr>\n",
              "      <th>3</th>\n",
              "      <td>Angola</td>\n",
              "      <td>2020-12-21</td>\n",
              "      <td>B.1.1.519</td>\n",
              "      <td>0</td>\n",
              "      <td>0.0</td>\n",
              "      <td>93</td>\n",
              "    </tr>\n",
              "    <tr>\n",
              "      <th>4</th>\n",
              "      <td>Angola</td>\n",
              "      <td>2020-12-21</td>\n",
              "      <td>B.1.160</td>\n",
              "      <td>0</td>\n",
              "      <td>0.0</td>\n",
              "      <td>93</td>\n",
              "    </tr>\n",
              "  </tbody>\n",
              "</table>\n",
              "</div>"
            ],
            "text/plain": [
              "  location       date  ... perc_sequences  num_sequences_total\n",
              "0   Angola 2020-12-21  ...            0.0                   93\n",
              "1   Angola 2020-12-21  ...            0.0                   93\n",
              "2   Angola 2020-12-21  ...            0.0                   93\n",
              "3   Angola 2020-12-21  ...            0.0                   93\n",
              "4   Angola 2020-12-21  ...            0.0                   93\n",
              "\n",
              "[5 rows x 6 columns]"
            ]
          },
          "metadata": {},
          "execution_count": 9
        }
      ]
    },
    {
      "cell_type": "code",
      "metadata": {
        "colab": {
          "base_uri": "https://localhost:8080/"
        },
        "id": "YVTTj979qB62",
        "outputId": "adcf6920-85fa-4cdb-de0a-e353f0d67ff7"
      },
      "source": [
        "variants.drop(['num_sequences', 'num_sequences_total'], axis=1, inplace=True)\n",
        "variants.variant.unique()"
      ],
      "execution_count": null,
      "outputs": [
        {
          "output_type": "execute_result",
          "data": {
            "text/plain": [
              "array(['Alpha', 'B.1.1.277', 'B.1.1.302', 'B.1.1.519', 'B.1.160',\n",
              "       'B.1.177', 'B.1.221', 'B.1.258', 'B.1.367', 'B.1.620', 'Beta',\n",
              "       'Delta', 'Epsilon', 'Eta', 'Gamma', 'Iota', 'Kappa', 'Lambda',\n",
              "       'Mu', 'Omicron', 'S:677H.Robin1', 'S:677P.Pelican', 'others',\n",
              "       'non_who'], dtype=object)"
            ]
          },
          "metadata": {},
          "execution_count": 10
        }
      ]
    },
    {
      "cell_type": "code",
      "metadata": {
        "id": "IgCJfKANn0K1"
      },
      "source": [
        "# create a list of the variants of interest\n",
        "var['variants'] = '''\n",
        "    Alpha\n",
        "    Beta\n",
        "    Delta\n",
        "    Epsilon\n",
        "    Eta\n",
        "    Gamma\n",
        "    Iota\n",
        "    Kappa\n",
        "    Lambda\n",
        "    Mu\n",
        "    Omicron\n",
        "    non_who'''.split()\n",
        "# note that the sum will add to 100% for any given day/location"
      ],
      "execution_count": null,
      "outputs": []
    },
    {
      "cell_type": "code",
      "metadata": {
        "colab": {
          "base_uri": "https://localhost:8080/"
        },
        "id": "ehkMRukcn0AW",
        "outputId": "1606ea5b-4b1c-43f9-b82b-0b25bd6f79d2"
      },
      "source": [
        "variants2 = variants[variants.variant.isin(var['variants'])]\n",
        "variants2.info()"
      ],
      "execution_count": null,
      "outputs": [
        {
          "output_type": "stream",
          "name": "stdout",
          "text": [
            "<class 'pandas.core.frame.DataFrame'>\n",
            "Int64Index: 27048 entries, 0 to 54095\n",
            "Data columns (total 4 columns):\n",
            " #   Column          Non-Null Count  Dtype         \n",
            "---  ------          --------------  -----         \n",
            " 0   location        27048 non-null  object        \n",
            " 1   date            27048 non-null  datetime64[ns]\n",
            " 2   variant         27048 non-null  object        \n",
            " 3   perc_sequences  27048 non-null  float64       \n",
            "dtypes: datetime64[ns](1), float64(1), object(2)\n",
            "memory usage: 1.0+ MB\n"
          ]
        }
      ]
    },
    {
      "cell_type": "code",
      "metadata": {
        "colab": {
          "base_uri": "https://localhost:8080/",
          "height": 424
        },
        "id": "LnWkGKOHtEJO",
        "outputId": "0a73e641-7df7-4736-ea87-ecb0b807671c"
      },
      "source": [
        "variants3 = variants2.pivot(index=['location','date'], columns='variant', values='perc_sequences')\n",
        "variants3.reset_index(inplace=True)\n",
        "variants3"
      ],
      "execution_count": null,
      "outputs": [
        {
          "output_type": "execute_result",
          "data": {
            "text/html": [
              "<div>\n",
              "<style scoped>\n",
              "    .dataframe tbody tr th:only-of-type {\n",
              "        vertical-align: middle;\n",
              "    }\n",
              "\n",
              "    .dataframe tbody tr th {\n",
              "        vertical-align: top;\n",
              "    }\n",
              "\n",
              "    .dataframe thead th {\n",
              "        text-align: right;\n",
              "    }\n",
              "</style>\n",
              "<table border=\"1\" class=\"dataframe\">\n",
              "  <thead>\n",
              "    <tr style=\"text-align: right;\">\n",
              "      <th>variant</th>\n",
              "      <th>location</th>\n",
              "      <th>date</th>\n",
              "      <th>Alpha</th>\n",
              "      <th>Beta</th>\n",
              "      <th>Delta</th>\n",
              "      <th>Epsilon</th>\n",
              "      <th>Eta</th>\n",
              "      <th>Gamma</th>\n",
              "      <th>Iota</th>\n",
              "      <th>Kappa</th>\n",
              "      <th>Lambda</th>\n",
              "      <th>Mu</th>\n",
              "      <th>Omicron</th>\n",
              "      <th>non_who</th>\n",
              "    </tr>\n",
              "  </thead>\n",
              "  <tbody>\n",
              "    <tr>\n",
              "      <th>0</th>\n",
              "      <td>Angola</td>\n",
              "      <td>2020-12-21</td>\n",
              "      <td>0.00</td>\n",
              "      <td>74.19</td>\n",
              "      <td>0.0</td>\n",
              "      <td>0.0</td>\n",
              "      <td>1.08</td>\n",
              "      <td>0.0</td>\n",
              "      <td>0.0</td>\n",
              "      <td>0.0</td>\n",
              "      <td>0.0</td>\n",
              "      <td>0.0</td>\n",
              "      <td>0.0</td>\n",
              "      <td>24.73</td>\n",
              "    </tr>\n",
              "    <tr>\n",
              "      <th>1</th>\n",
              "      <td>Angola</td>\n",
              "      <td>2021-01-25</td>\n",
              "      <td>5.77</td>\n",
              "      <td>3.85</td>\n",
              "      <td>0.0</td>\n",
              "      <td>0.0</td>\n",
              "      <td>0.00</td>\n",
              "      <td>0.0</td>\n",
              "      <td>0.0</td>\n",
              "      <td>0.0</td>\n",
              "      <td>0.0</td>\n",
              "      <td>0.0</td>\n",
              "      <td>0.0</td>\n",
              "      <td>90.38</td>\n",
              "    </tr>\n",
              "    <tr>\n",
              "      <th>2</th>\n",
              "      <td>Angola</td>\n",
              "      <td>2021-02-08</td>\n",
              "      <td>9.52</td>\n",
              "      <td>28.57</td>\n",
              "      <td>0.0</td>\n",
              "      <td>0.0</td>\n",
              "      <td>0.00</td>\n",
              "      <td>0.0</td>\n",
              "      <td>0.0</td>\n",
              "      <td>0.0</td>\n",
              "      <td>0.0</td>\n",
              "      <td>0.0</td>\n",
              "      <td>0.0</td>\n",
              "      <td>61.91</td>\n",
              "    </tr>\n",
              "    <tr>\n",
              "      <th>3</th>\n",
              "      <td>Angola</td>\n",
              "      <td>2021-02-22</td>\n",
              "      <td>2.56</td>\n",
              "      <td>41.03</td>\n",
              "      <td>0.0</td>\n",
              "      <td>0.0</td>\n",
              "      <td>0.00</td>\n",
              "      <td>0.0</td>\n",
              "      <td>0.0</td>\n",
              "      <td>0.0</td>\n",
              "      <td>0.0</td>\n",
              "      <td>0.0</td>\n",
              "      <td>0.0</td>\n",
              "      <td>56.41</td>\n",
              "    </tr>\n",
              "    <tr>\n",
              "      <th>4</th>\n",
              "      <td>Angola</td>\n",
              "      <td>2021-03-08</td>\n",
              "      <td>6.19</td>\n",
              "      <td>61.06</td>\n",
              "      <td>0.0</td>\n",
              "      <td>0.0</td>\n",
              "      <td>0.00</td>\n",
              "      <td>0.0</td>\n",
              "      <td>0.0</td>\n",
              "      <td>0.0</td>\n",
              "      <td>0.0</td>\n",
              "      <td>0.0</td>\n",
              "      <td>0.0</td>\n",
              "      <td>32.75</td>\n",
              "    </tr>\n",
              "    <tr>\n",
              "      <th>...</th>\n",
              "      <td>...</td>\n",
              "      <td>...</td>\n",
              "      <td>...</td>\n",
              "      <td>...</td>\n",
              "      <td>...</td>\n",
              "      <td>...</td>\n",
              "      <td>...</td>\n",
              "      <td>...</td>\n",
              "      <td>...</td>\n",
              "      <td>...</td>\n",
              "      <td>...</td>\n",
              "      <td>...</td>\n",
              "      <td>...</td>\n",
              "      <td>...</td>\n",
              "    </tr>\n",
              "    <tr>\n",
              "      <th>2249</th>\n",
              "      <td>Zimbabwe</td>\n",
              "      <td>2021-01-11</td>\n",
              "      <td>0.00</td>\n",
              "      <td>95.61</td>\n",
              "      <td>0.0</td>\n",
              "      <td>0.0</td>\n",
              "      <td>0.00</td>\n",
              "      <td>0.0</td>\n",
              "      <td>0.0</td>\n",
              "      <td>0.0</td>\n",
              "      <td>0.0</td>\n",
              "      <td>0.0</td>\n",
              "      <td>0.0</td>\n",
              "      <td>4.39</td>\n",
              "    </tr>\n",
              "    <tr>\n",
              "      <th>2250</th>\n",
              "      <td>Zimbabwe</td>\n",
              "      <td>2021-01-25</td>\n",
              "      <td>0.00</td>\n",
              "      <td>94.74</td>\n",
              "      <td>0.0</td>\n",
              "      <td>0.0</td>\n",
              "      <td>0.00</td>\n",
              "      <td>0.0</td>\n",
              "      <td>0.0</td>\n",
              "      <td>0.0</td>\n",
              "      <td>0.0</td>\n",
              "      <td>0.0</td>\n",
              "      <td>0.0</td>\n",
              "      <td>5.26</td>\n",
              "    </tr>\n",
              "    <tr>\n",
              "      <th>2251</th>\n",
              "      <td>Zimbabwe</td>\n",
              "      <td>2021-02-08</td>\n",
              "      <td>0.00</td>\n",
              "      <td>100.00</td>\n",
              "      <td>0.0</td>\n",
              "      <td>0.0</td>\n",
              "      <td>0.00</td>\n",
              "      <td>0.0</td>\n",
              "      <td>0.0</td>\n",
              "      <td>0.0</td>\n",
              "      <td>0.0</td>\n",
              "      <td>0.0</td>\n",
              "      <td>0.0</td>\n",
              "      <td>0.00</td>\n",
              "    </tr>\n",
              "    <tr>\n",
              "      <th>2252</th>\n",
              "      <td>Zimbabwe</td>\n",
              "      <td>2021-07-12</td>\n",
              "      <td>0.00</td>\n",
              "      <td>0.00</td>\n",
              "      <td>100.0</td>\n",
              "      <td>0.0</td>\n",
              "      <td>0.00</td>\n",
              "      <td>0.0</td>\n",
              "      <td>0.0</td>\n",
              "      <td>0.0</td>\n",
              "      <td>0.0</td>\n",
              "      <td>0.0</td>\n",
              "      <td>0.0</td>\n",
              "      <td>0.00</td>\n",
              "    </tr>\n",
              "    <tr>\n",
              "      <th>2253</th>\n",
              "      <td>Zimbabwe</td>\n",
              "      <td>2021-07-26</td>\n",
              "      <td>0.00</td>\n",
              "      <td>0.00</td>\n",
              "      <td>100.0</td>\n",
              "      <td>0.0</td>\n",
              "      <td>0.00</td>\n",
              "      <td>0.0</td>\n",
              "      <td>0.0</td>\n",
              "      <td>0.0</td>\n",
              "      <td>0.0</td>\n",
              "      <td>0.0</td>\n",
              "      <td>0.0</td>\n",
              "      <td>0.00</td>\n",
              "    </tr>\n",
              "  </tbody>\n",
              "</table>\n",
              "<p>2254 rows × 14 columns</p>\n",
              "</div>"
            ],
            "text/plain": [
              "variant  location       date  Alpha    Beta  ...  Lambda   Mu  Omicron  non_who\n",
              "0          Angola 2020-12-21   0.00   74.19  ...     0.0  0.0      0.0    24.73\n",
              "1          Angola 2021-01-25   5.77    3.85  ...     0.0  0.0      0.0    90.38\n",
              "2          Angola 2021-02-08   9.52   28.57  ...     0.0  0.0      0.0    61.91\n",
              "3          Angola 2021-02-22   2.56   41.03  ...     0.0  0.0      0.0    56.41\n",
              "4          Angola 2021-03-08   6.19   61.06  ...     0.0  0.0      0.0    32.75\n",
              "...           ...        ...    ...     ...  ...     ...  ...      ...      ...\n",
              "2249     Zimbabwe 2021-01-11   0.00   95.61  ...     0.0  0.0      0.0     4.39\n",
              "2250     Zimbabwe 2021-01-25   0.00   94.74  ...     0.0  0.0      0.0     5.26\n",
              "2251     Zimbabwe 2021-02-08   0.00  100.00  ...     0.0  0.0      0.0     0.00\n",
              "2252     Zimbabwe 2021-07-12   0.00    0.00  ...     0.0  0.0      0.0     0.00\n",
              "2253     Zimbabwe 2021-07-26   0.00    0.00  ...     0.0  0.0      0.0     0.00\n",
              "\n",
              "[2254 rows x 14 columns]"
            ]
          },
          "metadata": {},
          "execution_count": 13
        }
      ]
    },
    {
      "cell_type": "code",
      "metadata": {
        "colab": {
          "base_uri": "https://localhost:8080/"
        },
        "id": "TtmXq1L3upX2",
        "outputId": "502015e8-b7d8-42f5-e394-135b964b68be"
      },
      "source": [
        "variants3.info()"
      ],
      "execution_count": null,
      "outputs": [
        {
          "output_type": "stream",
          "name": "stdout",
          "text": [
            "<class 'pandas.core.frame.DataFrame'>\n",
            "RangeIndex: 2254 entries, 0 to 2253\n",
            "Data columns (total 14 columns):\n",
            " #   Column    Non-Null Count  Dtype         \n",
            "---  ------    --------------  -----         \n",
            " 0   location  2254 non-null   object        \n",
            " 1   date      2254 non-null   datetime64[ns]\n",
            " 2   Alpha     2254 non-null   float64       \n",
            " 3   Beta      2254 non-null   float64       \n",
            " 4   Delta     2254 non-null   float64       \n",
            " 5   Epsilon   2254 non-null   float64       \n",
            " 6   Eta       2254 non-null   float64       \n",
            " 7   Gamma     2254 non-null   float64       \n",
            " 8   Iota      2254 non-null   float64       \n",
            " 9   Kappa     2254 non-null   float64       \n",
            " 10  Lambda    2254 non-null   float64       \n",
            " 11  Mu        2254 non-null   float64       \n",
            " 12  Omicron   2254 non-null   float64       \n",
            " 13  non_who   2254 non-null   float64       \n",
            "dtypes: datetime64[ns](1), float64(12), object(1)\n",
            "memory usage: 246.7+ KB\n"
          ]
        }
      ]
    },
    {
      "cell_type": "markdown",
      "metadata": {
        "id": "Axl8CXTx43pD"
      },
      "source": [
        "We want to increase the amount of data available.  We will do this by:\n",
        "1. Populating dates between each 2-week date stamp.  The values will be the average of the previous and following week's data.\n",
        "2. Creating a 'Global' location for each week who's values will be the average of all available locations for that week."
      ]
    },
    {
      "cell_type": "code",
      "metadata": {
        "colab": {
          "base_uri": "https://localhost:8080/"
        },
        "id": "UvDPAiJg4u9E",
        "outputId": "00341c0d-7dcc-4560-a7d7-914797d6b501"
      },
      "source": [
        "dates_new = variants3.date[:-1] + pd.Timedelta('1W')\n",
        "dates_new"
      ],
      "execution_count": null,
      "outputs": [
        {
          "output_type": "execute_result",
          "data": {
            "text/plain": [
              "0      2020-12-28\n",
              "1      2021-02-01\n",
              "2      2021-02-15\n",
              "3      2021-03-01\n",
              "4      2021-03-15\n",
              "          ...    \n",
              "2248   2021-01-11\n",
              "2249   2021-01-18\n",
              "2250   2021-02-01\n",
              "2251   2021-02-15\n",
              "2252   2021-07-19\n",
              "Name: date, Length: 2253, dtype: datetime64[ns]"
            ]
          },
          "metadata": {},
          "execution_count": 15
        }
      ]
    },
    {
      "cell_type": "code",
      "metadata": {
        "colab": {
          "base_uri": "https://localhost:8080/"
        },
        "id": "gTqu38m59Nbk",
        "outputId": "c9df64f9-9bd2-40df-b00a-0368f52a7d66"
      },
      "source": [
        "variants3.date[0]+pd.Timedelta('1W')"
      ],
      "execution_count": null,
      "outputs": [
        {
          "output_type": "execute_result",
          "data": {
            "text/plain": [
              "Timestamp('2020-12-28 00:00:00')"
            ]
          },
          "metadata": {},
          "execution_count": 16
        }
      ]
    },
    {
      "cell_type": "code",
      "metadata": {
        "id": "bSaeOmIi4ugk"
      },
      "source": [
        "# create a new dataframe based on the existing one, which will be populated with the dates between each 2-week datestamp. The values will be the average of the previous and following week's data.\n",
        "def edit_week(df, row1, row2, cols):\n",
        "    ''' If the two 2nd row is two weeks after the first row in the same location,\n",
        "    modify the first row so that its date is between the two dates and the variant data\n",
        "    contains the average values of the two rows (for the columns in cols).\n",
        "    Note: The df must be sorted by Location and Date!\n",
        "\n",
        "    df: the dataframe that will be modified\n",
        "    row1: the name of the row to be modified\n",
        "    row2: the name of the 2nd row to be checked/averaged\n",
        "    cols: a list of the columns to be averaged'''\n",
        "    if (df.location[row1] == df.location[row2]) and (df.date[row2] == df.date[row1]+pd.Timedelta('2W')):\n",
        "        df.loc[row1, 'date'] = df.loc[row1, 'date'] + pd.Timedelta('1W')\n",
        "        df.loc[row1,cols] = (df.loc[row1,cols] + df.loc[row2,cols])/2\n",
        "    else:\n",
        "        df.drop(row1, inplace=True)\n",
        "    return df"
      ],
      "execution_count": null,
      "outputs": []
    },
    {
      "cell_type": "code",
      "metadata": {
        "id": "-WcUCrAHV0G7"
      },
      "source": [
        "variants3W = variants3.copy()\n",
        "cols = variants3.columns[2:].to_list() # identify the columns that have the variant data\n",
        "idx = variants3.index\n",
        "for n in range(len(idx)-1):\n",
        "    variants3W = edit_week(variants3W, idx[n], idx[n+1], cols)\n",
        "variants3W.drop(idx[-1], inplace=True) # drop the last row"
      ],
      "execution_count": null,
      "outputs": []
    },
    {
      "cell_type": "code",
      "metadata": {
        "colab": {
          "base_uri": "https://localhost:8080/"
        },
        "id": "bMNaPjPYV0DC",
        "outputId": "48573818-1a87-4c79-b040-d0f8336bf245"
      },
      "source": [
        "variants3W.info()"
      ],
      "execution_count": null,
      "outputs": [
        {
          "output_type": "stream",
          "name": "stdout",
          "text": [
            "<class 'pandas.core.frame.DataFrame'>\n",
            "Int64Index: 1902 entries, 1 to 2252\n",
            "Data columns (total 14 columns):\n",
            " #   Column    Non-Null Count  Dtype         \n",
            "---  ------    --------------  -----         \n",
            " 0   location  1902 non-null   object        \n",
            " 1   date      1902 non-null   datetime64[ns]\n",
            " 2   Alpha     1902 non-null   float64       \n",
            " 3   Beta      1902 non-null   float64       \n",
            " 4   Delta     1902 non-null   float64       \n",
            " 5   Epsilon   1902 non-null   float64       \n",
            " 6   Eta       1902 non-null   float64       \n",
            " 7   Gamma     1902 non-null   float64       \n",
            " 8   Iota      1902 non-null   float64       \n",
            " 9   Kappa     1902 non-null   float64       \n",
            " 10  Lambda    1902 non-null   float64       \n",
            " 11  Mu        1902 non-null   float64       \n",
            " 12  Omicron   1902 non-null   float64       \n",
            " 13  non_who   1902 non-null   float64       \n",
            "dtypes: datetime64[ns](1), float64(12), object(1)\n",
            "memory usage: 222.9+ KB\n"
          ]
        }
      ]
    },
    {
      "cell_type": "code",
      "metadata": {
        "colab": {
          "base_uri": "https://localhost:8080/",
          "height": 206
        },
        "id": "CYZvs6gkVz5r",
        "outputId": "b5895681-218d-4b03-e97e-c973df56aacb"
      },
      "source": [
        "variants4 = variants3.append(variants3W)\n",
        "variants4.sort_values(by=['location','date'], inplace=True)\n",
        "variants4.reset_index(drop=True, inplace=True)\n",
        "variants4.head()"
      ],
      "execution_count": null,
      "outputs": [
        {
          "output_type": "execute_result",
          "data": {
            "text/html": [
              "<div>\n",
              "<style scoped>\n",
              "    .dataframe tbody tr th:only-of-type {\n",
              "        vertical-align: middle;\n",
              "    }\n",
              "\n",
              "    .dataframe tbody tr th {\n",
              "        vertical-align: top;\n",
              "    }\n",
              "\n",
              "    .dataframe thead th {\n",
              "        text-align: right;\n",
              "    }\n",
              "</style>\n",
              "<table border=\"1\" class=\"dataframe\">\n",
              "  <thead>\n",
              "    <tr style=\"text-align: right;\">\n",
              "      <th>variant</th>\n",
              "      <th>location</th>\n",
              "      <th>date</th>\n",
              "      <th>Alpha</th>\n",
              "      <th>Beta</th>\n",
              "      <th>Delta</th>\n",
              "      <th>Epsilon</th>\n",
              "      <th>Eta</th>\n",
              "      <th>Gamma</th>\n",
              "      <th>Iota</th>\n",
              "      <th>Kappa</th>\n",
              "      <th>Lambda</th>\n",
              "      <th>Mu</th>\n",
              "      <th>Omicron</th>\n",
              "      <th>non_who</th>\n",
              "    </tr>\n",
              "  </thead>\n",
              "  <tbody>\n",
              "    <tr>\n",
              "      <th>0</th>\n",
              "      <td>Angola</td>\n",
              "      <td>2020-12-21</td>\n",
              "      <td>0.000</td>\n",
              "      <td>74.19</td>\n",
              "      <td>0.0</td>\n",
              "      <td>0.0</td>\n",
              "      <td>1.08</td>\n",
              "      <td>0.0</td>\n",
              "      <td>0.0</td>\n",
              "      <td>0.0</td>\n",
              "      <td>0.0</td>\n",
              "      <td>0.0</td>\n",
              "      <td>0.0</td>\n",
              "      <td>24.730</td>\n",
              "    </tr>\n",
              "    <tr>\n",
              "      <th>1</th>\n",
              "      <td>Angola</td>\n",
              "      <td>2021-01-25</td>\n",
              "      <td>5.770</td>\n",
              "      <td>3.85</td>\n",
              "      <td>0.0</td>\n",
              "      <td>0.0</td>\n",
              "      <td>0.00</td>\n",
              "      <td>0.0</td>\n",
              "      <td>0.0</td>\n",
              "      <td>0.0</td>\n",
              "      <td>0.0</td>\n",
              "      <td>0.0</td>\n",
              "      <td>0.0</td>\n",
              "      <td>90.380</td>\n",
              "    </tr>\n",
              "    <tr>\n",
              "      <th>2</th>\n",
              "      <td>Angola</td>\n",
              "      <td>2021-02-01</td>\n",
              "      <td>7.645</td>\n",
              "      <td>16.21</td>\n",
              "      <td>0.0</td>\n",
              "      <td>0.0</td>\n",
              "      <td>0.00</td>\n",
              "      <td>0.0</td>\n",
              "      <td>0.0</td>\n",
              "      <td>0.0</td>\n",
              "      <td>0.0</td>\n",
              "      <td>0.0</td>\n",
              "      <td>0.0</td>\n",
              "      <td>76.145</td>\n",
              "    </tr>\n",
              "    <tr>\n",
              "      <th>3</th>\n",
              "      <td>Angola</td>\n",
              "      <td>2021-02-08</td>\n",
              "      <td>9.520</td>\n",
              "      <td>28.57</td>\n",
              "      <td>0.0</td>\n",
              "      <td>0.0</td>\n",
              "      <td>0.00</td>\n",
              "      <td>0.0</td>\n",
              "      <td>0.0</td>\n",
              "      <td>0.0</td>\n",
              "      <td>0.0</td>\n",
              "      <td>0.0</td>\n",
              "      <td>0.0</td>\n",
              "      <td>61.910</td>\n",
              "    </tr>\n",
              "    <tr>\n",
              "      <th>4</th>\n",
              "      <td>Angola</td>\n",
              "      <td>2021-02-15</td>\n",
              "      <td>6.040</td>\n",
              "      <td>34.80</td>\n",
              "      <td>0.0</td>\n",
              "      <td>0.0</td>\n",
              "      <td>0.00</td>\n",
              "      <td>0.0</td>\n",
              "      <td>0.0</td>\n",
              "      <td>0.0</td>\n",
              "      <td>0.0</td>\n",
              "      <td>0.0</td>\n",
              "      <td>0.0</td>\n",
              "      <td>59.160</td>\n",
              "    </tr>\n",
              "  </tbody>\n",
              "</table>\n",
              "</div>"
            ],
            "text/plain": [
              "variant location       date  Alpha   Beta  ...  Lambda   Mu  Omicron  non_who\n",
              "0         Angola 2020-12-21  0.000  74.19  ...     0.0  0.0      0.0   24.730\n",
              "1         Angola 2021-01-25  5.770   3.85  ...     0.0  0.0      0.0   90.380\n",
              "2         Angola 2021-02-01  7.645  16.21  ...     0.0  0.0      0.0   76.145\n",
              "3         Angola 2021-02-08  9.520  28.57  ...     0.0  0.0      0.0   61.910\n",
              "4         Angola 2021-02-15  6.040  34.80  ...     0.0  0.0      0.0   59.160\n",
              "\n",
              "[5 rows x 14 columns]"
            ]
          },
          "metadata": {},
          "execution_count": 20
        }
      ]
    },
    {
      "cell_type": "code",
      "metadata": {
        "colab": {
          "base_uri": "https://localhost:8080/"
        },
        "id": "f59lTWGpydxr",
        "outputId": "a6738f62-ea32-4125-f942-065b43ad18fc"
      },
      "source": [
        "variants4.shape"
      ],
      "execution_count": null,
      "outputs": [
        {
          "output_type": "execute_result",
          "data": {
            "text/plain": [
              "(4156, 14)"
            ]
          },
          "metadata": {},
          "execution_count": 21
        }
      ]
    },
    {
      "cell_type": "markdown",
      "metadata": {
        "id": "MbtEC2uxfIye"
      },
      "source": [
        "### Create a 'Global' location\n",
        "With the average of all the countries data."
      ]
    },
    {
      "cell_type": "code",
      "metadata": {
        "colab": {
          "base_uri": "https://localhost:8080/"
        },
        "id": "woadlGFcgLNB",
        "outputId": "a61997f4-b948-47f4-b558-d3e9a3ffc019"
      },
      "source": [
        "variants_glob = variants4.groupby('date').mean()\n",
        "variants_glob['date'] = variants_glob.index\n",
        "variants_glob['location'] = 'Global'\n",
        "variants_glob.reset_index(drop=True, inplace=True)\n",
        "variants_glob.info()"
      ],
      "execution_count": null,
      "outputs": [
        {
          "output_type": "stream",
          "name": "stdout",
          "text": [
            "<class 'pandas.core.frame.DataFrame'>\n",
            "RangeIndex: 81 entries, 0 to 80\n",
            "Data columns (total 14 columns):\n",
            " #   Column    Non-Null Count  Dtype         \n",
            "---  ------    --------------  -----         \n",
            " 0   Alpha     81 non-null     float64       \n",
            " 1   Beta      81 non-null     float64       \n",
            " 2   Delta     81 non-null     float64       \n",
            " 3   Epsilon   81 non-null     float64       \n",
            " 4   Eta       81 non-null     float64       \n",
            " 5   Gamma     81 non-null     float64       \n",
            " 6   Iota      81 non-null     float64       \n",
            " 7   Kappa     81 non-null     float64       \n",
            " 8   Lambda    81 non-null     float64       \n",
            " 9   Mu        81 non-null     float64       \n",
            " 10  Omicron   81 non-null     float64       \n",
            " 11  non_who   81 non-null     float64       \n",
            " 12  date      81 non-null     datetime64[ns]\n",
            " 13  location  81 non-null     object        \n",
            "dtypes: datetime64[ns](1), float64(12), object(1)\n",
            "memory usage: 9.0+ KB\n"
          ]
        }
      ]
    },
    {
      "cell_type": "markdown",
      "metadata": {
        "id": "HPrTc0IF4v3Z"
      },
      "source": [
        "## Merge the OWID and Variant data:"
      ]
    },
    {
      "cell_type": "code",
      "metadata": {
        "id": "895peBHJ1F20"
      },
      "source": [
        "owid2 = pd.merge(left=owid, right=variants_glob,\n",
        "    how=\"inner\",\n",
        "    on=['date'],\n",
        "    suffixes=[None, \"_y\"]\n",
        ")\n",
        "owid2.drop('location_y', axis=1, inplace=True)"
      ],
      "execution_count": null,
      "outputs": []
    },
    {
      "cell_type": "code",
      "metadata": {
        "id": "bvJAE0RT1cz6",
        "colab": {
          "base_uri": "https://localhost:8080/"
        },
        "outputId": "94df62a3-0435-4346-9d2b-020a810c6dde"
      },
      "source": [
        "owid2.info()"
      ],
      "execution_count": null,
      "outputs": [
        {
          "output_type": "stream",
          "name": "stdout",
          "text": [
            "<class 'pandas.core.frame.DataFrame'>\n",
            "Int64Index: 14301 entries, 0 to 14300\n",
            "Data columns (total 29 columns):\n",
            " #   Column                               Non-Null Count  Dtype         \n",
            "---  ------                               --------------  -----         \n",
            " 0   iso_code                             14301 non-null  object        \n",
            " 1   location                             14301 non-null  object        \n",
            " 2   date                                 14301 non-null  datetime64[ns]\n",
            " 3   reproduction_rate                    14301 non-null  float64       \n",
            " 4   new_tests_smoothed_per_thousand      8803 non-null   float64       \n",
            " 5   people_vaccinated_per_hundred        4093 non-null   float64       \n",
            " 6   people_fully_vaccinated_per_hundred  3690 non-null   float64       \n",
            " 7   total_boosters_per_hundred           738 non-null    float64       \n",
            " 8   stringency_index                     13289 non-null  float64       \n",
            " 9   population_density                   14064 non-null  float64       \n",
            " 10  median_age                           13854 non-null  float64       \n",
            " 11  gdp_per_capita                       13765 non-null  float64       \n",
            " 12  extreme_poverty                      9549 non-null   float64       \n",
            " 13  handwashing_facilities               7151 non-null   float64       \n",
            " 14  hospital_beds_per_thousand           12736 non-null  float64       \n",
            " 15  life_expectancy                      14221 non-null  float64       \n",
            " 16  human_development_index              13907 non-null  float64       \n",
            " 17  Alpha                                14301 non-null  float64       \n",
            " 18  Beta                                 14301 non-null  float64       \n",
            " 19  Delta                                14301 non-null  float64       \n",
            " 20  Epsilon                              14301 non-null  float64       \n",
            " 21  Eta                                  14301 non-null  float64       \n",
            " 22  Gamma                                14301 non-null  float64       \n",
            " 23  Iota                                 14301 non-null  float64       \n",
            " 24  Kappa                                14301 non-null  float64       \n",
            " 25  Lambda                               14301 non-null  float64       \n",
            " 26  Mu                                   14301 non-null  float64       \n",
            " 27  Omicron                              14301 non-null  float64       \n",
            " 28  non_who                              14301 non-null  float64       \n",
            "dtypes: datetime64[ns](1), float64(26), object(2)\n",
            "memory usage: 3.3+ MB\n"
          ]
        }
      ]
    },
    {
      "cell_type": "code",
      "metadata": {
        "colab": {
          "base_uri": "https://localhost:8080/"
        },
        "id": "EgraJGhWz-X8",
        "outputId": "0039d77e-9572-4956-b448-299dc550621c"
      },
      "source": [
        "owid_countries = pd.merge(left=owid, right=variants4,\n",
        "    how=\"inner\",\n",
        "    on=['location', 'date']\n",
        ")\n",
        "owid_countries.shape"
      ],
      "execution_count": null,
      "outputs": [
        {
          "output_type": "execute_result",
          "data": {
            "text/plain": [
              "(4027, 29)"
            ]
          },
          "metadata": {},
          "execution_count": 25
        }
      ]
    },
    {
      "cell_type": "code",
      "metadata": {
        "colab": {
          "base_uri": "https://localhost:8080/"
        },
        "id": "kw8ScSnIz-Ob",
        "outputId": "e397d68f-decb-4a1b-ec26-c3815675c911"
      },
      "source": [
        "# we want to replace the Global data with  the Countries data where available.\n",
        "# To do so, we will add the two datasets together, and then drop the duplicate\n",
        "# entries (that match both location & date) from merged set, keeping the Country data\n",
        "owid3 = owid_countries.append(owid2)\n",
        "owid3.shape"
      ],
      "execution_count": null,
      "outputs": [
        {
          "output_type": "execute_result",
          "data": {
            "text/plain": [
              "(18328, 29)"
            ]
          },
          "metadata": {},
          "execution_count": 26
        }
      ]
    },
    {
      "cell_type": "code",
      "metadata": {
        "colab": {
          "base_uri": "https://localhost:8080/"
        },
        "id": "TzXPsnvjz-Ct",
        "outputId": "66423b1b-1bfe-4f55-8457-2304104a07f3"
      },
      "source": [
        "owid3.drop_duplicates(subset=['location', 'date'], inplace=True, keep='first', ignore_index=True)\n",
        "owid3.info()"
      ],
      "execution_count": null,
      "outputs": [
        {
          "output_type": "stream",
          "name": "stdout",
          "text": [
            "<class 'pandas.core.frame.DataFrame'>\n",
            "RangeIndex: 14301 entries, 0 to 14300\n",
            "Data columns (total 29 columns):\n",
            " #   Column                               Non-Null Count  Dtype         \n",
            "---  ------                               --------------  -----         \n",
            " 0   iso_code                             14301 non-null  object        \n",
            " 1   location                             14301 non-null  object        \n",
            " 2   date                                 14301 non-null  datetime64[ns]\n",
            " 3   reproduction_rate                    14301 non-null  float64       \n",
            " 4   new_tests_smoothed_per_thousand      8803 non-null   float64       \n",
            " 5   people_vaccinated_per_hundred        4093 non-null   float64       \n",
            " 6   people_fully_vaccinated_per_hundred  3690 non-null   float64       \n",
            " 7   total_boosters_per_hundred           738 non-null    float64       \n",
            " 8   stringency_index                     13289 non-null  float64       \n",
            " 9   population_density                   14064 non-null  float64       \n",
            " 10  median_age                           13854 non-null  float64       \n",
            " 11  gdp_per_capita                       13765 non-null  float64       \n",
            " 12  extreme_poverty                      9549 non-null   float64       \n",
            " 13  handwashing_facilities               7151 non-null   float64       \n",
            " 14  hospital_beds_per_thousand           12736 non-null  float64       \n",
            " 15  life_expectancy                      14221 non-null  float64       \n",
            " 16  human_development_index              13907 non-null  float64       \n",
            " 17  Alpha                                14301 non-null  float64       \n",
            " 18  Beta                                 14301 non-null  float64       \n",
            " 19  Delta                                14301 non-null  float64       \n",
            " 20  Epsilon                              14301 non-null  float64       \n",
            " 21  Eta                                  14301 non-null  float64       \n",
            " 22  Gamma                                14301 non-null  float64       \n",
            " 23  Iota                                 14301 non-null  float64       \n",
            " 24  Kappa                                14301 non-null  float64       \n",
            " 25  Lambda                               14301 non-null  float64       \n",
            " 26  Mu                                   14301 non-null  float64       \n",
            " 27  Omicron                              14301 non-null  float64       \n",
            " 28  non_who                              14301 non-null  float64       \n",
            "dtypes: datetime64[ns](1), float64(26), object(2)\n",
            "memory usage: 3.2+ MB\n"
          ]
        }
      ]
    },
    {
      "cell_type": "code",
      "metadata": {
        "id": "-WeFQDf2AlIS"
      },
      "source": [
        "owid3.to_parquet('covid_owid_df.parquet') # output to a parquet file"
      ],
      "execution_count": null,
      "outputs": []
    },
    {
      "cell_type": "code",
      "metadata": {
        "id": "Qd60fLY9CPHF",
        "colab": {
          "base_uri": "https://localhost:8080/"
        },
        "outputId": "a34ea252-826f-4974-e61c-362014c5a17c"
      },
      "source": [
        "var"
      ],
      "execution_count": null,
      "outputs": [
        {
          "output_type": "execute_result",
          "data": {
            "text/plain": [
              "{'meta': ['date', 'iso_code', 'location'],\n",
              " 'number': ['new_tests_smoothed_per_thousand',\n",
              "  'people_vaccinated_per_hundred',\n",
              "  'people_fully_vaccinated_per_hundred',\n",
              "  'total_boosters_per_hundred',\n",
              "  'stringency_index',\n",
              "  'population_density',\n",
              "  'median_age',\n",
              "  'human_development_index',\n",
              "  'gdp_per_capita',\n",
              "  'extreme_poverty',\n",
              "  'handwashing_facilities',\n",
              "  'hospital_beds_per_thousand',\n",
              "  'life_expectancy'],\n",
              " 'variants': ['Alpha',\n",
              "  'Beta',\n",
              "  'Delta',\n",
              "  'Epsilon',\n",
              "  'Eta',\n",
              "  'Gamma',\n",
              "  'Iota',\n",
              "  'Kappa',\n",
              "  'Lambda',\n",
              "  'Mu',\n",
              "  'Omicron',\n",
              "  'non_who'],\n",
              " 'y': ['reproduction_rate']}"
            ]
          },
          "metadata": {},
          "execution_count": 29
        }
      ]
    },
    {
      "cell_type": "code",
      "metadata": {
        "id": "JSTP8PWaAx56"
      },
      "source": [
        "# save the variables to file\n",
        "with open('covid_owid_var_dictionary.pkl', 'wb') as f:\n",
        "    pickle.dump(var, f)"
      ],
      "execution_count": null,
      "outputs": []
    }
  ]
}