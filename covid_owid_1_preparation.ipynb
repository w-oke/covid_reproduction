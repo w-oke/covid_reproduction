{
  "nbformat": 4,
  "nbformat_minor": 0,
  "metadata": {
    "colab": {
      "name": "covid_owid_1_preparation.ipynb",
      "provenance": [],
      "authorship_tag": "ABX9TyNq3bxHFoyCldwkUV3kHSnK",
      "include_colab_link": true
    },
    "kernelspec": {
      "name": "python3",
      "display_name": "Python 3"
    },
    "language_info": {
      "name": "python"
    }
  },
  "cells": [
    {
      "cell_type": "markdown",
      "metadata": {
        "id": "view-in-github",
        "colab_type": "text"
      },
      "source": [
        "<a href=\"https://colab.research.google.com/github/w-oke/covid_reproduction/blob/main/covid_owid_1_preparation.ipynb\" target=\"_parent\"><img src=\"https://colab.research.google.com/assets/colab-badge.svg\" alt=\"Open In Colab\"/></a>"
      ]
    },
    {
      "cell_type": "code",
      "metadata": {
        "id": "vIXW7GbeaT8u"
      },
      "source": [
        "import urllib.request\n",
        "import pickle\n",
        "import numpy as np\n",
        "import pandas as pd\n",
        "from sklearn.model_selection import train_test_split\n",
        "from sklearn.preprocessing import MinMaxScaler\n",
        "from sklearn.impute import KNNImputer"
      ],
      "execution_count": 1,
      "outputs": []
    },
    {
      "cell_type": "markdown",
      "metadata": {
        "id": "CFKG-7GiaU05"
      },
      "source": [
        "The Our World In Data (OWID) project provides COVID-19 data on its websites at https://ourworldindata.org/coronavirus and https://github.com/owid/covid-19-data/tree/master/public/data\n"
      ]
    },
    {
      "cell_type": "code",
      "metadata": {
        "id": "wNgNIHZrPvxq",
        "colab": {
          "base_uri": "https://localhost:8080/",
          "height": 206
        },
        "outputId": "7f5c27fb-7ab0-46bf-bdf1-2f6ddbe471d6"
      },
      "source": [
        "# column descriptions from OWID:\n",
        "owid_col_desc_link = 'https://github.com/owid/covid-19-data/raw/master/public/data/owid-covid-codebook.csv'\n",
        "owid_col_desc = pd.read_csv(owid_col_desc_link)\n",
        "owid_col_desc.head()\n",
        "# Note: the Variant data isn't described here, but is percentage by country or as calculated globally\n",
        "# on that date if the country's data wasn't available."
      ],
      "execution_count": 2,
      "outputs": [
        {
          "output_type": "execute_result",
          "data": {
            "text/html": [
              "<div>\n",
              "<style scoped>\n",
              "    .dataframe tbody tr th:only-of-type {\n",
              "        vertical-align: middle;\n",
              "    }\n",
              "\n",
              "    .dataframe tbody tr th {\n",
              "        vertical-align: top;\n",
              "    }\n",
              "\n",
              "    .dataframe thead th {\n",
              "        text-align: right;\n",
              "    }\n",
              "</style>\n",
              "<table border=\"1\" class=\"dataframe\">\n",
              "  <thead>\n",
              "    <tr style=\"text-align: right;\">\n",
              "      <th></th>\n",
              "      <th>column</th>\n",
              "      <th>source</th>\n",
              "      <th>category</th>\n",
              "      <th>description</th>\n",
              "    </tr>\n",
              "  </thead>\n",
              "  <tbody>\n",
              "    <tr>\n",
              "      <th>0</th>\n",
              "      <td>iso_code</td>\n",
              "      <td>International Organization for Standardization</td>\n",
              "      <td>Others</td>\n",
              "      <td>ISO 3166-1 alpha-3 – three-letter country codes</td>\n",
              "    </tr>\n",
              "    <tr>\n",
              "      <th>1</th>\n",
              "      <td>continent</td>\n",
              "      <td>Our World in Data</td>\n",
              "      <td>Others</td>\n",
              "      <td>Continent of the geographical location</td>\n",
              "    </tr>\n",
              "    <tr>\n",
              "      <th>2</th>\n",
              "      <td>location</td>\n",
              "      <td>Our World in Data</td>\n",
              "      <td>Others</td>\n",
              "      <td>Geographical location</td>\n",
              "    </tr>\n",
              "    <tr>\n",
              "      <th>3</th>\n",
              "      <td>date</td>\n",
              "      <td>Our World in Data</td>\n",
              "      <td>Others</td>\n",
              "      <td>Date of observation</td>\n",
              "    </tr>\n",
              "    <tr>\n",
              "      <th>4</th>\n",
              "      <td>total_cases</td>\n",
              "      <td>COVID-19 Data Repository by the Center for Sys...</td>\n",
              "      <td>Confirmed cases</td>\n",
              "      <td>Total confirmed cases of COVID-19</td>\n",
              "    </tr>\n",
              "  </tbody>\n",
              "</table>\n",
              "</div>"
            ],
            "text/plain": [
              "        column  ...                                      description\n",
              "0     iso_code  ...  ISO 3166-1 alpha-3 – three-letter country codes\n",
              "1    continent  ...           Continent of the geographical location\n",
              "2     location  ...                            Geographical location\n",
              "3         date  ...                              Date of observation\n",
              "4  total_cases  ...                Total confirmed cases of COVID-19\n",
              "\n",
              "[5 rows x 4 columns]"
            ]
          },
          "metadata": {},
          "execution_count": 2
        }
      ]
    },
    {
      "cell_type": "code",
      "metadata": {
        "id": "rX7Gg4DDbXf7"
      },
      "source": [
        "# create a list of all the columns in the dataset\n",
        "cols = owid_col_desc.column.to_list()"
      ],
      "execution_count": 3,
      "outputs": []
    },
    {
      "cell_type": "code",
      "metadata": {
        "id": "cfCiXsDrc8Ny"
      },
      "source": [
        "# independent variables\n",
        "var = {'y': [ \n",
        " # 'new_cases_smoothed_per_million',\n",
        " 'reproduction_rate',\n",
        " # 'positive_rate',\n",
        " # 'tests_per_case', # inverse of positiviy rate\n",
        " ]}\n",
        "\n",
        "# metadata - not intended for training\n",
        "var['meta'] = [    \n",
        " 'date',\n",
        " 'iso_code',\n",
        " 'location',\n",
        " # 'population', \n",
        "  ]\n",
        "\n",
        "var['number'] = [\n",
        " # 'tests_units',\n",
        " 'new_tests_smoothed_per_thousand',\n",
        " # 'total_vaccinations',\n",
        " # 'total_vaccinations_per_hundred', # use people_vaccinated & people_fully_vaccinated instead\n",
        " 'people_vaccinated_per_hundred',\n",
        " 'people_fully_vaccinated_per_hundred',\n",
        " 'total_boosters_per_hundred',\n",
        " 'stringency_index',\n",
        " 'population_density',\n",
        " 'median_age',\n",
        " 'human_development_index',\n",
        " #'aged_65_older',\n",
        " #'aged_70_older',\n",
        " 'gdp_per_capita',\n",
        " 'extreme_poverty',\n",
        " #'cardiovasc_death_rate',\n",
        " #'diabetes_prevalence',\n",
        " #'female_smokers',\n",
        " #'male_smokers',\n",
        " 'handwashing_facilities', # Share of the population with basic handwashing facilities on premises\n",
        " 'hospital_beds_per_thousand', # Hospital beds per 1,000 people, most recent year available since 2010\n",
        " 'life_expectancy',\n",
        " ]"
      ],
      "execution_count": 4,
      "outputs": []
    },
    {
      "cell_type": "code",
      "metadata": {
        "id": "KyimQktVeszY",
        "colab": {
          "base_uri": "https://localhost:8080/"
        },
        "outputId": "ab958bf8-f151-4b2a-b478-a69e48713082"
      },
      "source": [
        "# create a single list of all the features\n",
        "var_all = [item for sublist in list(var.values()) for item in sublist]\n",
        "print('The first 4 items in \"var_all\" are: ', var_all[0:4])\n",
        "print('There are {} variables in var_all'.format(len(var_all)))\n",
        "\n",
        "# create a single string of all the features\n",
        "var_all2 = ', '.join(var_all)\n",
        "print('var_all2: ', var_all2)"
      ],
      "execution_count": 5,
      "outputs": [
        {
          "output_type": "stream",
          "name": "stdout",
          "text": [
            "The first 4 items in \"var_all\" are:  ['reproduction_rate', 'date', 'iso_code', 'location']\n",
            "There are 17 variables in var_all\n",
            "var_all2:  reproduction_rate, date, iso_code, location, new_tests_smoothed_per_thousand, people_vaccinated_per_hundred, people_fully_vaccinated_per_hundred, total_boosters_per_hundred, stringency_index, population_density, median_age, human_development_index, gdp_per_capita, extreme_poverty, handwashing_facilities, hospital_beds_per_thousand, life_expectancy\n"
          ]
        }
      ]
    },
    {
      "cell_type": "code",
      "metadata": {
        "colab": {
          "base_uri": "https://localhost:8080/"
        },
        "id": "g5DBocbolueM",
        "outputId": "596c360f-b9b2-4b4a-afc4-8953e9fb08ff"
      },
      "source": [
        "# owid dataset:\n",
        "owid_link = 'https://github.com/owid/covid-19-data/raw/master/public/data/owid-covid-data.csv'\n",
        "owid = pd.read_csv(owid_link, usecols=var_all)\n",
        "owid.dropna(subset=['reproduction_rate'], inplace=True)\n",
        "owid['date'] = pd.to_datetime(owid['date']) # Convert the 'date' column to a Datetime format\n",
        "owid.info()"
      ],
      "execution_count": 6,
      "outputs": [
        {
          "output_type": "stream",
          "name": "stdout",
          "text": [
            "<class 'pandas.core.frame.DataFrame'>\n",
            "Int64Index: 108865 entries, 34 to 138043\n",
            "Data columns (total 17 columns):\n",
            " #   Column                               Non-Null Count   Dtype         \n",
            "---  ------                               --------------   -----         \n",
            " 0   iso_code                             108865 non-null  object        \n",
            " 1   location                             108865 non-null  object        \n",
            " 2   date                                 108865 non-null  datetime64[ns]\n",
            " 3   reproduction_rate                    108865 non-null  float64       \n",
            " 4   new_tests_smoothed_per_thousand      66535 non-null   float64       \n",
            " 5   people_vaccinated_per_hundred        28477 non-null   float64       \n",
            " 6   people_fully_vaccinated_per_hundred  25779 non-null   float64       \n",
            " 7   total_boosters_per_hundred           6304 non-null    float64       \n",
            " 8   stringency_index                     100827 non-null  float64       \n",
            " 9   population_density                   107115 non-null  float64       \n",
            " 10  median_age                           105516 non-null  float64       \n",
            " 11  gdp_per_capita                       104867 non-null  float64       \n",
            " 12  extreme_poverty                      72939 non-null   float64       \n",
            " 13  handwashing_facilities               53569 non-null   float64       \n",
            " 14  hospital_beds_per_thousand           97230 non-null   float64       \n",
            " 15  life_expectancy                      108255 non-null  float64       \n",
            " 16  human_development_index              105887 non-null  float64       \n",
            "dtypes: datetime64[ns](1), float64(14), object(2)\n",
            "memory usage: 15.0+ MB\n"
          ]
        }
      ]
    },
    {
      "cell_type": "markdown",
      "metadata": {
        "id": "xa4LYsEmzN7W"
      },
      "source": [
        "Note that:\n",
        "* about half the data has 'handwashing_facilities' data\n",
        "* about a quarter of the data has vaccination data, but this might be due to no vaccinations being available for large portions of the time\n",
        "\n",
        "It is thought that the reason that many of the vaccination and booster data values are null is due to the timeframes (2019-2020) and countries where no vaccinations were available or provided.  Most of these values could therefore be filled with 0 (zero)."
      ]
    },
    {
      "cell_type": "code",
      "metadata": {
        "colab": {
          "base_uri": "https://localhost:8080/",
          "height": 312
        },
        "id": "VRPTS0_6-ojw",
        "outputId": "ec7b3598-5687-4731-8db2-d532f140fa53"
      },
      "source": [
        "owid.head()"
      ],
      "execution_count": 7,
      "outputs": [
        {
          "output_type": "execute_result",
          "data": {
            "text/html": [
              "<div>\n",
              "<style scoped>\n",
              "    .dataframe tbody tr th:only-of-type {\n",
              "        vertical-align: middle;\n",
              "    }\n",
              "\n",
              "    .dataframe tbody tr th {\n",
              "        vertical-align: top;\n",
              "    }\n",
              "\n",
              "    .dataframe thead th {\n",
              "        text-align: right;\n",
              "    }\n",
              "</style>\n",
              "<table border=\"1\" class=\"dataframe\">\n",
              "  <thead>\n",
              "    <tr style=\"text-align: right;\">\n",
              "      <th></th>\n",
              "      <th>iso_code</th>\n",
              "      <th>location</th>\n",
              "      <th>date</th>\n",
              "      <th>reproduction_rate</th>\n",
              "      <th>new_tests_smoothed_per_thousand</th>\n",
              "      <th>people_vaccinated_per_hundred</th>\n",
              "      <th>people_fully_vaccinated_per_hundred</th>\n",
              "      <th>total_boosters_per_hundred</th>\n",
              "      <th>stringency_index</th>\n",
              "      <th>population_density</th>\n",
              "      <th>median_age</th>\n",
              "      <th>gdp_per_capita</th>\n",
              "      <th>extreme_poverty</th>\n",
              "      <th>handwashing_facilities</th>\n",
              "      <th>hospital_beds_per_thousand</th>\n",
              "      <th>life_expectancy</th>\n",
              "      <th>human_development_index</th>\n",
              "    </tr>\n",
              "  </thead>\n",
              "  <tbody>\n",
              "    <tr>\n",
              "      <th>34</th>\n",
              "      <td>AFG</td>\n",
              "      <td>Afghanistan</td>\n",
              "      <td>2020-03-29</td>\n",
              "      <td>1.50</td>\n",
              "      <td>NaN</td>\n",
              "      <td>NaN</td>\n",
              "      <td>NaN</td>\n",
              "      <td>NaN</td>\n",
              "      <td>67.59</td>\n",
              "      <td>54.422</td>\n",
              "      <td>18.6</td>\n",
              "      <td>1803.987</td>\n",
              "      <td>NaN</td>\n",
              "      <td>37.746</td>\n",
              "      <td>0.5</td>\n",
              "      <td>64.83</td>\n",
              "      <td>0.511</td>\n",
              "    </tr>\n",
              "    <tr>\n",
              "      <th>35</th>\n",
              "      <td>AFG</td>\n",
              "      <td>Afghanistan</td>\n",
              "      <td>2020-03-30</td>\n",
              "      <td>1.50</td>\n",
              "      <td>NaN</td>\n",
              "      <td>NaN</td>\n",
              "      <td>NaN</td>\n",
              "      <td>NaN</td>\n",
              "      <td>67.59</td>\n",
              "      <td>54.422</td>\n",
              "      <td>18.6</td>\n",
              "      <td>1803.987</td>\n",
              "      <td>NaN</td>\n",
              "      <td>37.746</td>\n",
              "      <td>0.5</td>\n",
              "      <td>64.83</td>\n",
              "      <td>0.511</td>\n",
              "    </tr>\n",
              "    <tr>\n",
              "      <th>36</th>\n",
              "      <td>AFG</td>\n",
              "      <td>Afghanistan</td>\n",
              "      <td>2020-03-31</td>\n",
              "      <td>1.51</td>\n",
              "      <td>NaN</td>\n",
              "      <td>NaN</td>\n",
              "      <td>NaN</td>\n",
              "      <td>NaN</td>\n",
              "      <td>67.59</td>\n",
              "      <td>54.422</td>\n",
              "      <td>18.6</td>\n",
              "      <td>1803.987</td>\n",
              "      <td>NaN</td>\n",
              "      <td>37.746</td>\n",
              "      <td>0.5</td>\n",
              "      <td>64.83</td>\n",
              "      <td>0.511</td>\n",
              "    </tr>\n",
              "    <tr>\n",
              "      <th>37</th>\n",
              "      <td>AFG</td>\n",
              "      <td>Afghanistan</td>\n",
              "      <td>2020-04-01</td>\n",
              "      <td>1.51</td>\n",
              "      <td>NaN</td>\n",
              "      <td>NaN</td>\n",
              "      <td>NaN</td>\n",
              "      <td>NaN</td>\n",
              "      <td>67.59</td>\n",
              "      <td>54.422</td>\n",
              "      <td>18.6</td>\n",
              "      <td>1803.987</td>\n",
              "      <td>NaN</td>\n",
              "      <td>37.746</td>\n",
              "      <td>0.5</td>\n",
              "      <td>64.83</td>\n",
              "      <td>0.511</td>\n",
              "    </tr>\n",
              "    <tr>\n",
              "      <th>38</th>\n",
              "      <td>AFG</td>\n",
              "      <td>Afghanistan</td>\n",
              "      <td>2020-04-02</td>\n",
              "      <td>1.50</td>\n",
              "      <td>NaN</td>\n",
              "      <td>NaN</td>\n",
              "      <td>NaN</td>\n",
              "      <td>NaN</td>\n",
              "      <td>67.59</td>\n",
              "      <td>54.422</td>\n",
              "      <td>18.6</td>\n",
              "      <td>1803.987</td>\n",
              "      <td>NaN</td>\n",
              "      <td>37.746</td>\n",
              "      <td>0.5</td>\n",
              "      <td>64.83</td>\n",
              "      <td>0.511</td>\n",
              "    </tr>\n",
              "  </tbody>\n",
              "</table>\n",
              "</div>"
            ],
            "text/plain": [
              "   iso_code     location  ... life_expectancy  human_development_index\n",
              "34      AFG  Afghanistan  ...           64.83                    0.511\n",
              "35      AFG  Afghanistan  ...           64.83                    0.511\n",
              "36      AFG  Afghanistan  ...           64.83                    0.511\n",
              "37      AFG  Afghanistan  ...           64.83                    0.511\n",
              "38      AFG  Afghanistan  ...           64.83                    0.511\n",
              "\n",
              "[5 rows x 17 columns]"
            ]
          },
          "metadata": {},
          "execution_count": 7
        }
      ]
    },
    {
      "cell_type": "markdown",
      "metadata": {
        "id": "AmakxKacyuK9"
      },
      "source": [
        "## Variant Data\n",
        "\n",
        "The OWID variant data is provided by country at a frequency of every two weeks."
      ]
    },
    {
      "cell_type": "code",
      "metadata": {
        "colab": {
          "base_uri": "https://localhost:8080/"
        },
        "id": "XY4bLGaMhM1F",
        "outputId": "aa6384ea-5b7c-46e9-c3a5-f9d136ec624c"
      },
      "source": [
        "variant_link = 'https://github.com/owid/covid-19-data/raw/master/public/data/variants/covid-variants.csv'\n",
        "variants = pd.read_csv(variant_link)\n",
        "variants['date'] = pd.to_datetime(variants['date']) # Convert the 'date' column to a Datetime format\n",
        "variants.info()"
      ],
      "execution_count": 8,
      "outputs": [
        {
          "output_type": "stream",
          "name": "stdout",
          "text": [
            "<class 'pandas.core.frame.DataFrame'>\n",
            "RangeIndex: 92256 entries, 0 to 92255\n",
            "Data columns (total 6 columns):\n",
            " #   Column               Non-Null Count  Dtype         \n",
            "---  ------               --------------  -----         \n",
            " 0   location             92256 non-null  object        \n",
            " 1   date                 92256 non-null  datetime64[ns]\n",
            " 2   variant              92256 non-null  object        \n",
            " 3   num_sequences        92256 non-null  int64         \n",
            " 4   perc_sequences       92256 non-null  float64       \n",
            " 5   num_sequences_total  92256 non-null  int64         \n",
            "dtypes: datetime64[ns](1), float64(1), int64(2), object(2)\n",
            "memory usage: 4.2+ MB\n"
          ]
        }
      ]
    },
    {
      "cell_type": "code",
      "metadata": {
        "colab": {
          "base_uri": "https://localhost:8080/",
          "height": 206
        },
        "id": "x5WYITRhn0V-",
        "outputId": "d16bcce6-df0c-4606-f522-5e912b9d139e"
      },
      "source": [
        "variants.head()"
      ],
      "execution_count": 9,
      "outputs": [
        {
          "output_type": "execute_result",
          "data": {
            "text/html": [
              "<div>\n",
              "<style scoped>\n",
              "    .dataframe tbody tr th:only-of-type {\n",
              "        vertical-align: middle;\n",
              "    }\n",
              "\n",
              "    .dataframe tbody tr th {\n",
              "        vertical-align: top;\n",
              "    }\n",
              "\n",
              "    .dataframe thead th {\n",
              "        text-align: right;\n",
              "    }\n",
              "</style>\n",
              "<table border=\"1\" class=\"dataframe\">\n",
              "  <thead>\n",
              "    <tr style=\"text-align: right;\">\n",
              "      <th></th>\n",
              "      <th>location</th>\n",
              "      <th>date</th>\n",
              "      <th>variant</th>\n",
              "      <th>num_sequences</th>\n",
              "      <th>perc_sequences</th>\n",
              "      <th>num_sequences_total</th>\n",
              "    </tr>\n",
              "  </thead>\n",
              "  <tbody>\n",
              "    <tr>\n",
              "      <th>0</th>\n",
              "      <td>Angola</td>\n",
              "      <td>2020-07-06</td>\n",
              "      <td>Alpha</td>\n",
              "      <td>0</td>\n",
              "      <td>0.0</td>\n",
              "      <td>3</td>\n",
              "    </tr>\n",
              "    <tr>\n",
              "      <th>1</th>\n",
              "      <td>Angola</td>\n",
              "      <td>2020-07-06</td>\n",
              "      <td>B.1.1.277</td>\n",
              "      <td>0</td>\n",
              "      <td>0.0</td>\n",
              "      <td>3</td>\n",
              "    </tr>\n",
              "    <tr>\n",
              "      <th>2</th>\n",
              "      <td>Angola</td>\n",
              "      <td>2020-07-06</td>\n",
              "      <td>B.1.1.302</td>\n",
              "      <td>0</td>\n",
              "      <td>0.0</td>\n",
              "      <td>3</td>\n",
              "    </tr>\n",
              "    <tr>\n",
              "      <th>3</th>\n",
              "      <td>Angola</td>\n",
              "      <td>2020-07-06</td>\n",
              "      <td>B.1.1.519</td>\n",
              "      <td>0</td>\n",
              "      <td>0.0</td>\n",
              "      <td>3</td>\n",
              "    </tr>\n",
              "    <tr>\n",
              "      <th>4</th>\n",
              "      <td>Angola</td>\n",
              "      <td>2020-07-06</td>\n",
              "      <td>B.1.160</td>\n",
              "      <td>0</td>\n",
              "      <td>0.0</td>\n",
              "      <td>3</td>\n",
              "    </tr>\n",
              "  </tbody>\n",
              "</table>\n",
              "</div>"
            ],
            "text/plain": [
              "  location       date  ... perc_sequences  num_sequences_total\n",
              "0   Angola 2020-07-06  ...            0.0                    3\n",
              "1   Angola 2020-07-06  ...            0.0                    3\n",
              "2   Angola 2020-07-06  ...            0.0                    3\n",
              "3   Angola 2020-07-06  ...            0.0                    3\n",
              "4   Angola 2020-07-06  ...            0.0                    3\n",
              "\n",
              "[5 rows x 6 columns]"
            ]
          },
          "metadata": {},
          "execution_count": 9
        }
      ]
    },
    {
      "cell_type": "code",
      "metadata": {
        "colab": {
          "base_uri": "https://localhost:8080/"
        },
        "id": "YVTTj979qB62",
        "outputId": "651089ad-713e-44f6-c4aa-b9b20130ac6c"
      },
      "source": [
        "variants.drop(['num_sequences', 'num_sequences_total'], axis=1, inplace=True)\n",
        "variants.variant.unique()"
      ],
      "execution_count": 10,
      "outputs": [
        {
          "output_type": "execute_result",
          "data": {
            "text/plain": [
              "array(['Alpha', 'B.1.1.277', 'B.1.1.302', 'B.1.1.519', 'B.1.160',\n",
              "       'B.1.177', 'B.1.221', 'B.1.258', 'B.1.367', 'B.1.620', 'Beta',\n",
              "       'Delta', 'Epsilon', 'Eta', 'Gamma', 'Iota', 'Kappa', 'Lambda',\n",
              "       'Mu', 'Omicron', 'S:677H.Robin1', 'S:677P.Pelican', 'others',\n",
              "       'non_who'], dtype=object)"
            ]
          },
          "metadata": {},
          "execution_count": 10
        }
      ]
    },
    {
      "cell_type": "code",
      "metadata": {
        "id": "IgCJfKANn0K1"
      },
      "source": [
        "# create a list of the variants of interest\n",
        "var['variants'] = '''\n",
        "    Alpha\n",
        "    Beta\n",
        "    Delta\n",
        "    Epsilon\n",
        "    Eta\n",
        "    Gamma\n",
        "    Iota\n",
        "    Kappa\n",
        "    Lambda\n",
        "    Mu\n",
        "    Omicron\n",
        "    non_who'''.split()\n",
        "# note that the sum will add to 100% for any given day/location"
      ],
      "execution_count": 11,
      "outputs": []
    },
    {
      "cell_type": "code",
      "metadata": {
        "colab": {
          "base_uri": "https://localhost:8080/"
        },
        "id": "ehkMRukcn0AW",
        "outputId": "73fd6727-1557-4e78-8985-a4cfbdc0221d"
      },
      "source": [
        "variants2 = variants[variants.variant.isin(var['variants'])]\n",
        "variants2.info()"
      ],
      "execution_count": 12,
      "outputs": [
        {
          "output_type": "stream",
          "name": "stdout",
          "text": [
            "<class 'pandas.core.frame.DataFrame'>\n",
            "Int64Index: 46128 entries, 0 to 92255\n",
            "Data columns (total 4 columns):\n",
            " #   Column          Non-Null Count  Dtype         \n",
            "---  ------          --------------  -----         \n",
            " 0   location        46128 non-null  object        \n",
            " 1   date            46128 non-null  datetime64[ns]\n",
            " 2   variant         46128 non-null  object        \n",
            " 3   perc_sequences  46128 non-null  float64       \n",
            "dtypes: datetime64[ns](1), float64(1), object(2)\n",
            "memory usage: 1.8+ MB\n"
          ]
        }
      ]
    },
    {
      "cell_type": "code",
      "metadata": {
        "colab": {
          "base_uri": "https://localhost:8080/",
          "height": 424
        },
        "id": "LnWkGKOHtEJO",
        "outputId": "ac3ee573-0703-4c4d-afcf-f9e2a7bdcd37"
      },
      "source": [
        "variants3 = variants2.pivot(index=['location','date'], columns='variant', values='perc_sequences')\n",
        "variants3.reset_index(inplace=True)\n",
        "variants3"
      ],
      "execution_count": 13,
      "outputs": [
        {
          "output_type": "execute_result",
          "data": {
            "text/html": [
              "<div>\n",
              "<style scoped>\n",
              "    .dataframe tbody tr th:only-of-type {\n",
              "        vertical-align: middle;\n",
              "    }\n",
              "\n",
              "    .dataframe tbody tr th {\n",
              "        vertical-align: top;\n",
              "    }\n",
              "\n",
              "    .dataframe thead th {\n",
              "        text-align: right;\n",
              "    }\n",
              "</style>\n",
              "<table border=\"1\" class=\"dataframe\">\n",
              "  <thead>\n",
              "    <tr style=\"text-align: right;\">\n",
              "      <th>variant</th>\n",
              "      <th>location</th>\n",
              "      <th>date</th>\n",
              "      <th>Alpha</th>\n",
              "      <th>Beta</th>\n",
              "      <th>Delta</th>\n",
              "      <th>Epsilon</th>\n",
              "      <th>Eta</th>\n",
              "      <th>Gamma</th>\n",
              "      <th>Iota</th>\n",
              "      <th>Kappa</th>\n",
              "      <th>Lambda</th>\n",
              "      <th>Mu</th>\n",
              "      <th>Omicron</th>\n",
              "      <th>non_who</th>\n",
              "    </tr>\n",
              "  </thead>\n",
              "  <tbody>\n",
              "    <tr>\n",
              "      <th>0</th>\n",
              "      <td>Angola</td>\n",
              "      <td>2020-07-06</td>\n",
              "      <td>0.0</td>\n",
              "      <td>0.00</td>\n",
              "      <td>0.0</td>\n",
              "      <td>0.0</td>\n",
              "      <td>0.0</td>\n",
              "      <td>0.0</td>\n",
              "      <td>0.0</td>\n",
              "      <td>0.0</td>\n",
              "      <td>0.0</td>\n",
              "      <td>0.0</td>\n",
              "      <td>0.0</td>\n",
              "      <td>100.00</td>\n",
              "    </tr>\n",
              "    <tr>\n",
              "      <th>1</th>\n",
              "      <td>Angola</td>\n",
              "      <td>2020-08-31</td>\n",
              "      <td>0.0</td>\n",
              "      <td>100.00</td>\n",
              "      <td>0.0</td>\n",
              "      <td>0.0</td>\n",
              "      <td>0.0</td>\n",
              "      <td>0.0</td>\n",
              "      <td>0.0</td>\n",
              "      <td>0.0</td>\n",
              "      <td>0.0</td>\n",
              "      <td>0.0</td>\n",
              "      <td>0.0</td>\n",
              "      <td>0.00</td>\n",
              "    </tr>\n",
              "    <tr>\n",
              "      <th>2</th>\n",
              "      <td>Angola</td>\n",
              "      <td>2020-09-28</td>\n",
              "      <td>0.0</td>\n",
              "      <td>60.00</td>\n",
              "      <td>0.0</td>\n",
              "      <td>0.0</td>\n",
              "      <td>0.0</td>\n",
              "      <td>0.0</td>\n",
              "      <td>0.0</td>\n",
              "      <td>0.0</td>\n",
              "      <td>0.0</td>\n",
              "      <td>0.0</td>\n",
              "      <td>0.0</td>\n",
              "      <td>40.00</td>\n",
              "    </tr>\n",
              "    <tr>\n",
              "      <th>3</th>\n",
              "      <td>Angola</td>\n",
              "      <td>2020-10-12</td>\n",
              "      <td>0.0</td>\n",
              "      <td>48.28</td>\n",
              "      <td>0.0</td>\n",
              "      <td>0.0</td>\n",
              "      <td>0.0</td>\n",
              "      <td>0.0</td>\n",
              "      <td>0.0</td>\n",
              "      <td>0.0</td>\n",
              "      <td>0.0</td>\n",
              "      <td>0.0</td>\n",
              "      <td>0.0</td>\n",
              "      <td>51.72</td>\n",
              "    </tr>\n",
              "    <tr>\n",
              "      <th>4</th>\n",
              "      <td>Angola</td>\n",
              "      <td>2020-10-26</td>\n",
              "      <td>0.0</td>\n",
              "      <td>100.00</td>\n",
              "      <td>0.0</td>\n",
              "      <td>0.0</td>\n",
              "      <td>0.0</td>\n",
              "      <td>0.0</td>\n",
              "      <td>0.0</td>\n",
              "      <td>0.0</td>\n",
              "      <td>0.0</td>\n",
              "      <td>0.0</td>\n",
              "      <td>0.0</td>\n",
              "      <td>0.00</td>\n",
              "    </tr>\n",
              "    <tr>\n",
              "      <th>...</th>\n",
              "      <td>...</td>\n",
              "      <td>...</td>\n",
              "      <td>...</td>\n",
              "      <td>...</td>\n",
              "      <td>...</td>\n",
              "      <td>...</td>\n",
              "      <td>...</td>\n",
              "      <td>...</td>\n",
              "      <td>...</td>\n",
              "      <td>...</td>\n",
              "      <td>...</td>\n",
              "      <td>...</td>\n",
              "      <td>...</td>\n",
              "      <td>...</td>\n",
              "    </tr>\n",
              "    <tr>\n",
              "      <th>3839</th>\n",
              "      <td>Zimbabwe</td>\n",
              "      <td>2021-09-06</td>\n",
              "      <td>0.0</td>\n",
              "      <td>0.00</td>\n",
              "      <td>100.0</td>\n",
              "      <td>0.0</td>\n",
              "      <td>0.0</td>\n",
              "      <td>0.0</td>\n",
              "      <td>0.0</td>\n",
              "      <td>0.0</td>\n",
              "      <td>0.0</td>\n",
              "      <td>0.0</td>\n",
              "      <td>0.0</td>\n",
              "      <td>0.00</td>\n",
              "    </tr>\n",
              "    <tr>\n",
              "      <th>3840</th>\n",
              "      <td>Zimbabwe</td>\n",
              "      <td>2021-09-20</td>\n",
              "      <td>0.0</td>\n",
              "      <td>0.00</td>\n",
              "      <td>100.0</td>\n",
              "      <td>0.0</td>\n",
              "      <td>0.0</td>\n",
              "      <td>0.0</td>\n",
              "      <td>0.0</td>\n",
              "      <td>0.0</td>\n",
              "      <td>0.0</td>\n",
              "      <td>0.0</td>\n",
              "      <td>0.0</td>\n",
              "      <td>0.00</td>\n",
              "    </tr>\n",
              "    <tr>\n",
              "      <th>3841</th>\n",
              "      <td>Zimbabwe</td>\n",
              "      <td>2021-10-04</td>\n",
              "      <td>0.0</td>\n",
              "      <td>0.00</td>\n",
              "      <td>100.0</td>\n",
              "      <td>0.0</td>\n",
              "      <td>0.0</td>\n",
              "      <td>0.0</td>\n",
              "      <td>0.0</td>\n",
              "      <td>0.0</td>\n",
              "      <td>0.0</td>\n",
              "      <td>0.0</td>\n",
              "      <td>0.0</td>\n",
              "      <td>0.00</td>\n",
              "    </tr>\n",
              "    <tr>\n",
              "      <th>3842</th>\n",
              "      <td>Zimbabwe</td>\n",
              "      <td>2021-10-18</td>\n",
              "      <td>0.0</td>\n",
              "      <td>0.00</td>\n",
              "      <td>100.0</td>\n",
              "      <td>0.0</td>\n",
              "      <td>0.0</td>\n",
              "      <td>0.0</td>\n",
              "      <td>0.0</td>\n",
              "      <td>0.0</td>\n",
              "      <td>0.0</td>\n",
              "      <td>0.0</td>\n",
              "      <td>0.0</td>\n",
              "      <td>0.00</td>\n",
              "    </tr>\n",
              "    <tr>\n",
              "      <th>3843</th>\n",
              "      <td>Zimbabwe</td>\n",
              "      <td>2021-11-01</td>\n",
              "      <td>0.0</td>\n",
              "      <td>0.00</td>\n",
              "      <td>100.0</td>\n",
              "      <td>0.0</td>\n",
              "      <td>0.0</td>\n",
              "      <td>0.0</td>\n",
              "      <td>0.0</td>\n",
              "      <td>0.0</td>\n",
              "      <td>0.0</td>\n",
              "      <td>0.0</td>\n",
              "      <td>0.0</td>\n",
              "      <td>0.00</td>\n",
              "    </tr>\n",
              "  </tbody>\n",
              "</table>\n",
              "<p>3844 rows × 14 columns</p>\n",
              "</div>"
            ],
            "text/plain": [
              "variant  location       date  Alpha    Beta  ...  Lambda   Mu  Omicron  non_who\n",
              "0          Angola 2020-07-06    0.0    0.00  ...     0.0  0.0      0.0   100.00\n",
              "1          Angola 2020-08-31    0.0  100.00  ...     0.0  0.0      0.0     0.00\n",
              "2          Angola 2020-09-28    0.0   60.00  ...     0.0  0.0      0.0    40.00\n",
              "3          Angola 2020-10-12    0.0   48.28  ...     0.0  0.0      0.0    51.72\n",
              "4          Angola 2020-10-26    0.0  100.00  ...     0.0  0.0      0.0     0.00\n",
              "...           ...        ...    ...     ...  ...     ...  ...      ...      ...\n",
              "3839     Zimbabwe 2021-09-06    0.0    0.00  ...     0.0  0.0      0.0     0.00\n",
              "3840     Zimbabwe 2021-09-20    0.0    0.00  ...     0.0  0.0      0.0     0.00\n",
              "3841     Zimbabwe 2021-10-04    0.0    0.00  ...     0.0  0.0      0.0     0.00\n",
              "3842     Zimbabwe 2021-10-18    0.0    0.00  ...     0.0  0.0      0.0     0.00\n",
              "3843     Zimbabwe 2021-11-01    0.0    0.00  ...     0.0  0.0      0.0     0.00\n",
              "\n",
              "[3844 rows x 14 columns]"
            ]
          },
          "metadata": {},
          "execution_count": 13
        }
      ]
    },
    {
      "cell_type": "code",
      "metadata": {
        "colab": {
          "base_uri": "https://localhost:8080/"
        },
        "id": "TtmXq1L3upX2",
        "outputId": "c48ea574-c84e-4852-c906-074ee34c78d7"
      },
      "source": [
        "variants3.info()"
      ],
      "execution_count": 14,
      "outputs": [
        {
          "output_type": "stream",
          "name": "stdout",
          "text": [
            "<class 'pandas.core.frame.DataFrame'>\n",
            "RangeIndex: 3844 entries, 0 to 3843\n",
            "Data columns (total 14 columns):\n",
            " #   Column    Non-Null Count  Dtype         \n",
            "---  ------    --------------  -----         \n",
            " 0   location  3844 non-null   object        \n",
            " 1   date      3844 non-null   datetime64[ns]\n",
            " 2   Alpha     3844 non-null   float64       \n",
            " 3   Beta      3844 non-null   float64       \n",
            " 4   Delta     3844 non-null   float64       \n",
            " 5   Epsilon   3844 non-null   float64       \n",
            " 6   Eta       3844 non-null   float64       \n",
            " 7   Gamma     3844 non-null   float64       \n",
            " 8   Iota      3844 non-null   float64       \n",
            " 9   Kappa     3844 non-null   float64       \n",
            " 10  Lambda    3844 non-null   float64       \n",
            " 11  Mu        3844 non-null   float64       \n",
            " 12  Omicron   3844 non-null   float64       \n",
            " 13  non_who   3844 non-null   float64       \n",
            "dtypes: datetime64[ns](1), float64(12), object(1)\n",
            "memory usage: 420.6+ KB\n"
          ]
        }
      ]
    },
    {
      "cell_type": "markdown",
      "metadata": {
        "id": "Axl8CXTx43pD"
      },
      "source": [
        "We want to increase the amount of data available.  We will do this by:\n",
        "1. Populating dates between each 2-week date stamp.  The values will be the average of the previous and following week's data.\n",
        "2. Creating a 'Global' location for each week who's values will be the average of all available locations for that week."
      ]
    },
    {
      "cell_type": "code",
      "metadata": {
        "colab": {
          "base_uri": "https://localhost:8080/"
        },
        "id": "UvDPAiJg4u9E",
        "outputId": "c6c9aa98-923b-4b14-9622-1c6f359b58c2"
      },
      "source": [
        "dates_new = variants3.date[:-1] + pd.Timedelta('1W')\n",
        "dates_new"
      ],
      "execution_count": 15,
      "outputs": [
        {
          "output_type": "execute_result",
          "data": {
            "text/plain": [
              "0      2020-07-13\n",
              "1      2020-09-07\n",
              "2      2020-10-05\n",
              "3      2020-10-19\n",
              "4      2020-11-02\n",
              "          ...    \n",
              "3838   2021-08-30\n",
              "3839   2021-09-13\n",
              "3840   2021-09-27\n",
              "3841   2021-10-11\n",
              "3842   2021-10-25\n",
              "Name: date, Length: 3843, dtype: datetime64[ns]"
            ]
          },
          "metadata": {},
          "execution_count": 15
        }
      ]
    },
    {
      "cell_type": "code",
      "metadata": {
        "colab": {
          "base_uri": "https://localhost:8080/"
        },
        "id": "gTqu38m59Nbk",
        "outputId": "f7b53f07-d831-44d3-f0d9-f7ca93181559"
      },
      "source": [
        "variants3.date[0]+pd.Timedelta('1W')"
      ],
      "execution_count": 16,
      "outputs": [
        {
          "output_type": "execute_result",
          "data": {
            "text/plain": [
              "Timestamp('2020-07-13 00:00:00')"
            ]
          },
          "metadata": {},
          "execution_count": 16
        }
      ]
    },
    {
      "cell_type": "code",
      "metadata": {
        "id": "bSaeOmIi4ugk"
      },
      "source": [
        "# create a new dataframe based on the existing one, which will be populated with the dates between each 2-week datestamp. The values will be the average of the previous and following week's data.\n",
        "def edit_week(df, row1, row2, cols):\n",
        "    ''' If the two 2nd row is two weeks after the first row in the same location,\n",
        "    modify the first row so that its date is between the two dates and the variant data\n",
        "    contains the average values of the two rows (for the columns in cols).\n",
        "    Note: The df must be sorted by Location and Date!\n",
        "\n",
        "    df: the dataframe that will be modified\n",
        "    row1: the name of the row to be modified\n",
        "    row2: the name of the 2nd row to be checked/averaged\n",
        "    cols: a list of the columns to be averaged'''\n",
        "    if (df.location[row1] == df.location[row2]) and (df.date[row2] == df.date[row1]+pd.Timedelta('2W')):\n",
        "        df.loc[row1, 'date'] = df.loc[row1, 'date'] + pd.Timedelta('1W')\n",
        "        df.loc[row1,cols] = (df.loc[row1,cols] + df.loc[row2,cols])/2\n",
        "    else:\n",
        "        df.drop(row1, inplace=True)\n",
        "    return df"
      ],
      "execution_count": 17,
      "outputs": []
    },
    {
      "cell_type": "code",
      "metadata": {
        "id": "-WcUCrAHV0G7"
      },
      "source": [
        "variants3W = variants3.copy()\n",
        "cols = variants3.columns[2:].to_list() # identify the columns that have the variant data\n",
        "idx = variants3.index\n",
        "for n in range(len(idx)-1):\n",
        "    variants3W = edit_week(variants3W, idx[n], idx[n+1], cols)\n",
        "variants3W.drop(idx[-1], inplace=True) # drop the last row"
      ],
      "execution_count": 18,
      "outputs": []
    },
    {
      "cell_type": "code",
      "metadata": {
        "colab": {
          "base_uri": "https://localhost:8080/"
        },
        "id": "bMNaPjPYV0DC",
        "outputId": "a350e3c1-1a62-4ee3-e474-bf951b144eca"
      },
      "source": [
        "variants3W.info()"
      ],
      "execution_count": 19,
      "outputs": [
        {
          "output_type": "stream",
          "name": "stdout",
          "text": [
            "<class 'pandas.core.frame.DataFrame'>\n",
            "Int64Index: 3410 entries, 2 to 3842\n",
            "Data columns (total 14 columns):\n",
            " #   Column    Non-Null Count  Dtype         \n",
            "---  ------    --------------  -----         \n",
            " 0   location  3410 non-null   object        \n",
            " 1   date      3410 non-null   datetime64[ns]\n",
            " 2   Alpha     3410 non-null   float64       \n",
            " 3   Beta      3410 non-null   float64       \n",
            " 4   Delta     3410 non-null   float64       \n",
            " 5   Epsilon   3410 non-null   float64       \n",
            " 6   Eta       3410 non-null   float64       \n",
            " 7   Gamma     3410 non-null   float64       \n",
            " 8   Iota      3410 non-null   float64       \n",
            " 9   Kappa     3410 non-null   float64       \n",
            " 10  Lambda    3410 non-null   float64       \n",
            " 11  Mu        3410 non-null   float64       \n",
            " 12  Omicron   3410 non-null   float64       \n",
            " 13  non_who   3410 non-null   float64       \n",
            "dtypes: datetime64[ns](1), float64(12), object(1)\n",
            "memory usage: 399.6+ KB\n"
          ]
        }
      ]
    },
    {
      "cell_type": "code",
      "metadata": {
        "colab": {
          "base_uri": "https://localhost:8080/",
          "height": 206
        },
        "id": "CYZvs6gkVz5r",
        "outputId": "bfb308c0-a30b-479c-e5ea-cfafdd9356e7"
      },
      "source": [
        "variants4 = variants3.append(variants3W)\n",
        "variants4.sort_values(by=['location','date'], inplace=True)\n",
        "variants4.reset_index(drop=True, inplace=True)\n",
        "variants4.head()"
      ],
      "execution_count": 20,
      "outputs": [
        {
          "output_type": "execute_result",
          "data": {
            "text/html": [
              "<div>\n",
              "<style scoped>\n",
              "    .dataframe tbody tr th:only-of-type {\n",
              "        vertical-align: middle;\n",
              "    }\n",
              "\n",
              "    .dataframe tbody tr th {\n",
              "        vertical-align: top;\n",
              "    }\n",
              "\n",
              "    .dataframe thead th {\n",
              "        text-align: right;\n",
              "    }\n",
              "</style>\n",
              "<table border=\"1\" class=\"dataframe\">\n",
              "  <thead>\n",
              "    <tr style=\"text-align: right;\">\n",
              "      <th>variant</th>\n",
              "      <th>location</th>\n",
              "      <th>date</th>\n",
              "      <th>Alpha</th>\n",
              "      <th>Beta</th>\n",
              "      <th>Delta</th>\n",
              "      <th>Epsilon</th>\n",
              "      <th>Eta</th>\n",
              "      <th>Gamma</th>\n",
              "      <th>Iota</th>\n",
              "      <th>Kappa</th>\n",
              "      <th>Lambda</th>\n",
              "      <th>Mu</th>\n",
              "      <th>Omicron</th>\n",
              "      <th>non_who</th>\n",
              "    </tr>\n",
              "  </thead>\n",
              "  <tbody>\n",
              "    <tr>\n",
              "      <th>0</th>\n",
              "      <td>Angola</td>\n",
              "      <td>2020-07-06</td>\n",
              "      <td>0.0</td>\n",
              "      <td>0.00</td>\n",
              "      <td>0.0</td>\n",
              "      <td>0.0</td>\n",
              "      <td>0.0</td>\n",
              "      <td>0.0</td>\n",
              "      <td>0.0</td>\n",
              "      <td>0.0</td>\n",
              "      <td>0.0</td>\n",
              "      <td>0.0</td>\n",
              "      <td>0.0</td>\n",
              "      <td>100.00</td>\n",
              "    </tr>\n",
              "    <tr>\n",
              "      <th>1</th>\n",
              "      <td>Angola</td>\n",
              "      <td>2020-08-31</td>\n",
              "      <td>0.0</td>\n",
              "      <td>100.00</td>\n",
              "      <td>0.0</td>\n",
              "      <td>0.0</td>\n",
              "      <td>0.0</td>\n",
              "      <td>0.0</td>\n",
              "      <td>0.0</td>\n",
              "      <td>0.0</td>\n",
              "      <td>0.0</td>\n",
              "      <td>0.0</td>\n",
              "      <td>0.0</td>\n",
              "      <td>0.00</td>\n",
              "    </tr>\n",
              "    <tr>\n",
              "      <th>2</th>\n",
              "      <td>Angola</td>\n",
              "      <td>2020-09-28</td>\n",
              "      <td>0.0</td>\n",
              "      <td>60.00</td>\n",
              "      <td>0.0</td>\n",
              "      <td>0.0</td>\n",
              "      <td>0.0</td>\n",
              "      <td>0.0</td>\n",
              "      <td>0.0</td>\n",
              "      <td>0.0</td>\n",
              "      <td>0.0</td>\n",
              "      <td>0.0</td>\n",
              "      <td>0.0</td>\n",
              "      <td>40.00</td>\n",
              "    </tr>\n",
              "    <tr>\n",
              "      <th>3</th>\n",
              "      <td>Angola</td>\n",
              "      <td>2020-10-05</td>\n",
              "      <td>0.0</td>\n",
              "      <td>54.14</td>\n",
              "      <td>0.0</td>\n",
              "      <td>0.0</td>\n",
              "      <td>0.0</td>\n",
              "      <td>0.0</td>\n",
              "      <td>0.0</td>\n",
              "      <td>0.0</td>\n",
              "      <td>0.0</td>\n",
              "      <td>0.0</td>\n",
              "      <td>0.0</td>\n",
              "      <td>45.86</td>\n",
              "    </tr>\n",
              "    <tr>\n",
              "      <th>4</th>\n",
              "      <td>Angola</td>\n",
              "      <td>2020-10-12</td>\n",
              "      <td>0.0</td>\n",
              "      <td>48.28</td>\n",
              "      <td>0.0</td>\n",
              "      <td>0.0</td>\n",
              "      <td>0.0</td>\n",
              "      <td>0.0</td>\n",
              "      <td>0.0</td>\n",
              "      <td>0.0</td>\n",
              "      <td>0.0</td>\n",
              "      <td>0.0</td>\n",
              "      <td>0.0</td>\n",
              "      <td>51.72</td>\n",
              "    </tr>\n",
              "  </tbody>\n",
              "</table>\n",
              "</div>"
            ],
            "text/plain": [
              "variant location       date  Alpha    Beta  ...  Lambda   Mu  Omicron  non_who\n",
              "0         Angola 2020-07-06    0.0    0.00  ...     0.0  0.0      0.0   100.00\n",
              "1         Angola 2020-08-31    0.0  100.00  ...     0.0  0.0      0.0     0.00\n",
              "2         Angola 2020-09-28    0.0   60.00  ...     0.0  0.0      0.0    40.00\n",
              "3         Angola 2020-10-05    0.0   54.14  ...     0.0  0.0      0.0    45.86\n",
              "4         Angola 2020-10-12    0.0   48.28  ...     0.0  0.0      0.0    51.72\n",
              "\n",
              "[5 rows x 14 columns]"
            ]
          },
          "metadata": {},
          "execution_count": 20
        }
      ]
    },
    {
      "cell_type": "code",
      "metadata": {
        "colab": {
          "base_uri": "https://localhost:8080/"
        },
        "id": "f59lTWGpydxr",
        "outputId": "f332e0e3-731a-47e4-c44c-27ed88d4efed"
      },
      "source": [
        "variants4.shape"
      ],
      "execution_count": 21,
      "outputs": [
        {
          "output_type": "execute_result",
          "data": {
            "text/plain": [
              "(7254, 14)"
            ]
          },
          "metadata": {},
          "execution_count": 21
        }
      ]
    },
    {
      "cell_type": "markdown",
      "metadata": {
        "id": "MbtEC2uxfIye"
      },
      "source": [
        "### Create a 'Global' location\n",
        "With the average of all the countries data."
      ]
    },
    {
      "cell_type": "code",
      "metadata": {
        "colab": {
          "base_uri": "https://localhost:8080/"
        },
        "id": "woadlGFcgLNB",
        "outputId": "5838cc8b-e4d6-477c-bf0c-19539fdf74d3"
      },
      "source": [
        "variants_glob = variants4.groupby('date').mean()\n",
        "variants_glob['date'] = variants_glob.index\n",
        "variants_glob['location'] = 'Global'\n",
        "variants_glob.reset_index(drop=True, inplace=True)\n",
        "variants_glob.info()"
      ],
      "execution_count": 22,
      "outputs": [
        {
          "output_type": "stream",
          "name": "stdout",
          "text": [
            "<class 'pandas.core.frame.DataFrame'>\n",
            "RangeIndex: 83 entries, 0 to 82\n",
            "Data columns (total 14 columns):\n",
            " #   Column    Non-Null Count  Dtype         \n",
            "---  ------    --------------  -----         \n",
            " 0   Alpha     83 non-null     float64       \n",
            " 1   Beta      83 non-null     float64       \n",
            " 2   Delta     83 non-null     float64       \n",
            " 3   Epsilon   83 non-null     float64       \n",
            " 4   Eta       83 non-null     float64       \n",
            " 5   Gamma     83 non-null     float64       \n",
            " 6   Iota      83 non-null     float64       \n",
            " 7   Kappa     83 non-null     float64       \n",
            " 8   Lambda    83 non-null     float64       \n",
            " 9   Mu        83 non-null     float64       \n",
            " 10  Omicron   83 non-null     float64       \n",
            " 11  non_who   83 non-null     float64       \n",
            " 12  date      83 non-null     datetime64[ns]\n",
            " 13  location  83 non-null     object        \n",
            "dtypes: datetime64[ns](1), float64(12), object(1)\n",
            "memory usage: 9.2+ KB\n"
          ]
        }
      ]
    },
    {
      "cell_type": "markdown",
      "metadata": {
        "id": "HPrTc0IF4v3Z"
      },
      "source": [
        "## Merge the OWID and Variant data:"
      ]
    },
    {
      "cell_type": "code",
      "metadata": {
        "id": "895peBHJ1F20"
      },
      "source": [
        "owid2 = pd.merge(left=owid, right=variants_glob,\n",
        "    how=\"inner\",\n",
        "    on=['date'],\n",
        "    suffixes=[None, \"_y\"]\n",
        ")\n",
        "owid2.drop('location_y', axis=1, inplace=True)"
      ],
      "execution_count": 23,
      "outputs": []
    },
    {
      "cell_type": "code",
      "metadata": {
        "id": "bvJAE0RT1cz6",
        "colab": {
          "base_uri": "https://localhost:8080/"
        },
        "outputId": "a55d4551-832e-4287-dca2-e72c9d06695f"
      },
      "source": [
        "owid2.info()"
      ],
      "execution_count": 24,
      "outputs": [
        {
          "output_type": "stream",
          "name": "stdout",
          "text": [
            "<class 'pandas.core.frame.DataFrame'>\n",
            "Int64Index: 14671 entries, 0 to 14670\n",
            "Data columns (total 29 columns):\n",
            " #   Column                               Non-Null Count  Dtype         \n",
            "---  ------                               --------------  -----         \n",
            " 0   iso_code                             14671 non-null  object        \n",
            " 1   location                             14671 non-null  object        \n",
            " 2   date                                 14671 non-null  datetime64[ns]\n",
            " 3   reproduction_rate                    14671 non-null  float64       \n",
            " 4   new_tests_smoothed_per_thousand      9006 non-null   float64       \n",
            " 5   people_vaccinated_per_hundred        4313 non-null   float64       \n",
            " 6   people_fully_vaccinated_per_hundred  3918 non-null   float64       \n",
            " 7   total_boosters_per_hundred           913 non-null    float64       \n",
            " 8   stringency_index                     13562 non-null  float64       \n",
            " 9   population_density                   14428 non-null  float64       \n",
            " 10  median_age                           14210 non-null  float64       \n",
            " 11  gdp_per_capita                       14121 non-null  float64       \n",
            " 12  extreme_poverty                      9793 non-null   float64       \n",
            " 13  handwashing_facilities               7335 non-null   float64       \n",
            " 14  hospital_beds_per_thousand           13066 non-null  float64       \n",
            " 15  life_expectancy                      14589 non-null  float64       \n",
            " 16  human_development_index              14267 non-null  float64       \n",
            " 17  Alpha                                14671 non-null  float64       \n",
            " 18  Beta                                 14671 non-null  float64       \n",
            " 19  Delta                                14671 non-null  float64       \n",
            " 20  Epsilon                              14671 non-null  float64       \n",
            " 21  Eta                                  14671 non-null  float64       \n",
            " 22  Gamma                                14671 non-null  float64       \n",
            " 23  Iota                                 14671 non-null  float64       \n",
            " 24  Kappa                                14671 non-null  float64       \n",
            " 25  Lambda                               14671 non-null  float64       \n",
            " 26  Mu                                   14671 non-null  float64       \n",
            " 27  Omicron                              14671 non-null  float64       \n",
            " 28  non_who                              14671 non-null  float64       \n",
            "dtypes: datetime64[ns](1), float64(26), object(2)\n",
            "memory usage: 3.4+ MB\n"
          ]
        }
      ]
    },
    {
      "cell_type": "code",
      "metadata": {
        "colab": {
          "base_uri": "https://localhost:8080/"
        },
        "id": "EgraJGhWz-X8",
        "outputId": "92059977-a2a1-463a-beeb-8bf21ca0f42f"
      },
      "source": [
        "owid_countries = pd.merge(left=owid, right=variants4,\n",
        "    how=\"inner\",\n",
        "    on=['location', 'date']\n",
        ")\n",
        "owid_countries.shape"
      ],
      "execution_count": 25,
      "outputs": [
        {
          "output_type": "execute_result",
          "data": {
            "text/plain": [
              "(6995, 29)"
            ]
          },
          "metadata": {},
          "execution_count": 25
        }
      ]
    },
    {
      "cell_type": "code",
      "metadata": {
        "colab": {
          "base_uri": "https://localhost:8080/"
        },
        "id": "kw8ScSnIz-Ob",
        "outputId": "4958dcf8-3070-465a-9d1f-0a9dcba78b1f"
      },
      "source": [
        "# we want to replace the Global data with  the Countries data where available.\n",
        "# To do so, we will add the two datasets together, and then drop the duplicate\n",
        "# entries (that match both location & date) from merged set, keeping the Country data\n",
        "owid3 = owid_countries.append(owid2)\n",
        "owid3.shape"
      ],
      "execution_count": 34,
      "outputs": [
        {
          "output_type": "execute_result",
          "data": {
            "text/plain": [
              "(21666, 29)"
            ]
          },
          "metadata": {},
          "execution_count": 34
        }
      ]
    },
    {
      "cell_type": "code",
      "metadata": {
        "colab": {
          "base_uri": "https://localhost:8080/"
        },
        "id": "wKAJCK0ZyG52",
        "outputId": "476a05f6-3520-4e80-be1f-c52b5871f68a"
      },
      "source": [
        "# create an integer date_diff column to help with imputation\n",
        "owid3['date_diff'] = pd.TimedeltaIndex(owid3.date - owid3.date.min()).days\n",
        "owid3['date_diff'].head()"
      ],
      "execution_count": 35,
      "outputs": [
        {
          "output_type": "execute_result",
          "data": {
            "text/plain": [
              "0     56\n",
              "1    112\n",
              "2    140\n",
              "3    147\n",
              "4    154\n",
              "Name: date_diff, dtype: int64"
            ]
          },
          "metadata": {},
          "execution_count": 35
        }
      ]
    },
    {
      "cell_type": "code",
      "metadata": {
        "colab": {
          "base_uri": "https://localhost:8080/"
        },
        "id": "TzXPsnvjz-Ct",
        "outputId": "d271a89d-9bc9-4654-a8a5-eba5b396df79"
      },
      "source": [
        "owid3.drop_duplicates(subset=['location', 'date'], inplace=True, keep='first', ignore_index=True)\n",
        "owid3.info()"
      ],
      "execution_count": 36,
      "outputs": [
        {
          "output_type": "stream",
          "name": "stdout",
          "text": [
            "<class 'pandas.core.frame.DataFrame'>\n",
            "RangeIndex: 14671 entries, 0 to 14670\n",
            "Data columns (total 30 columns):\n",
            " #   Column                               Non-Null Count  Dtype         \n",
            "---  ------                               --------------  -----         \n",
            " 0   iso_code                             14671 non-null  object        \n",
            " 1   location                             14671 non-null  object        \n",
            " 2   date                                 14671 non-null  datetime64[ns]\n",
            " 3   reproduction_rate                    14671 non-null  float64       \n",
            " 4   new_tests_smoothed_per_thousand      9006 non-null   float64       \n",
            " 5   people_vaccinated_per_hundred        4313 non-null   float64       \n",
            " 6   people_fully_vaccinated_per_hundred  3918 non-null   float64       \n",
            " 7   total_boosters_per_hundred           913 non-null    float64       \n",
            " 8   stringency_index                     13562 non-null  float64       \n",
            " 9   population_density                   14428 non-null  float64       \n",
            " 10  median_age                           14210 non-null  float64       \n",
            " 11  gdp_per_capita                       14121 non-null  float64       \n",
            " 12  extreme_poverty                      9793 non-null   float64       \n",
            " 13  handwashing_facilities               7335 non-null   float64       \n",
            " 14  hospital_beds_per_thousand           13066 non-null  float64       \n",
            " 15  life_expectancy                      14589 non-null  float64       \n",
            " 16  human_development_index              14267 non-null  float64       \n",
            " 17  Alpha                                14671 non-null  float64       \n",
            " 18  Beta                                 14671 non-null  float64       \n",
            " 19  Delta                                14671 non-null  float64       \n",
            " 20  Epsilon                              14671 non-null  float64       \n",
            " 21  Eta                                  14671 non-null  float64       \n",
            " 22  Gamma                                14671 non-null  float64       \n",
            " 23  Iota                                 14671 non-null  float64       \n",
            " 24  Kappa                                14671 non-null  float64       \n",
            " 25  Lambda                               14671 non-null  float64       \n",
            " 26  Mu                                   14671 non-null  float64       \n",
            " 27  Omicron                              14671 non-null  float64       \n",
            " 28  non_who                              14671 non-null  float64       \n",
            " 29  date_diff                            14671 non-null  int64         \n",
            "dtypes: datetime64[ns](1), float64(26), int64(1), object(2)\n",
            "memory usage: 3.4+ MB\n"
          ]
        }
      ]
    },
    {
      "cell_type": "markdown",
      "metadata": {
        "id": "DSVjMxB7vFKF"
      },
      "source": [
        "## Scale Data"
      ]
    },
    {
      "cell_type": "code",
      "metadata": {
        "colab": {
          "base_uri": "https://localhost:8080/",
          "height": 312
        },
        "id": "yiZ0hXTr6p1s",
        "outputId": "929c725f-433c-43ac-e8f1-4c0a4ea53c13"
      },
      "source": [
        "# use the MinMaxScaler to scale the Number, Variant, and date_diff columns\n",
        "var['scale'] = var['number'] + var['variants'] + ['date_diff']\n",
        "scaler = MinMaxScaler()\n",
        "owid3[var['scale']] = pd.DataFrame(scaler.fit_transform(owid3[var['scale']]), columns = var['scale'])\n",
        "owid3.head()"
      ],
      "execution_count": 37,
      "outputs": [
        {
          "output_type": "execute_result",
          "data": {
            "text/html": [
              "<div>\n",
              "<style scoped>\n",
              "    .dataframe tbody tr th:only-of-type {\n",
              "        vertical-align: middle;\n",
              "    }\n",
              "\n",
              "    .dataframe tbody tr th {\n",
              "        vertical-align: top;\n",
              "    }\n",
              "\n",
              "    .dataframe thead th {\n",
              "        text-align: right;\n",
              "    }\n",
              "</style>\n",
              "<table border=\"1\" class=\"dataframe\">\n",
              "  <thead>\n",
              "    <tr style=\"text-align: right;\">\n",
              "      <th></th>\n",
              "      <th>iso_code</th>\n",
              "      <th>location</th>\n",
              "      <th>date</th>\n",
              "      <th>reproduction_rate</th>\n",
              "      <th>new_tests_smoothed_per_thousand</th>\n",
              "      <th>people_vaccinated_per_hundred</th>\n",
              "      <th>people_fully_vaccinated_per_hundred</th>\n",
              "      <th>total_boosters_per_hundred</th>\n",
              "      <th>stringency_index</th>\n",
              "      <th>population_density</th>\n",
              "      <th>median_age</th>\n",
              "      <th>gdp_per_capita</th>\n",
              "      <th>extreme_poverty</th>\n",
              "      <th>handwashing_facilities</th>\n",
              "      <th>hospital_beds_per_thousand</th>\n",
              "      <th>life_expectancy</th>\n",
              "      <th>human_development_index</th>\n",
              "      <th>Alpha</th>\n",
              "      <th>Beta</th>\n",
              "      <th>Delta</th>\n",
              "      <th>Epsilon</th>\n",
              "      <th>Eta</th>\n",
              "      <th>Gamma</th>\n",
              "      <th>Iota</th>\n",
              "      <th>Kappa</th>\n",
              "      <th>Lambda</th>\n",
              "      <th>Mu</th>\n",
              "      <th>Omicron</th>\n",
              "      <th>non_who</th>\n",
              "      <th>date_diff</th>\n",
              "    </tr>\n",
              "  </thead>\n",
              "  <tbody>\n",
              "    <tr>\n",
              "      <th>0</th>\n",
              "      <td>AGO</td>\n",
              "      <td>Angola</td>\n",
              "      <td>2020-07-06</td>\n",
              "      <td>1.30</td>\n",
              "      <td>NaN</td>\n",
              "      <td>NaN</td>\n",
              "      <td>NaN</td>\n",
              "      <td>NaN</td>\n",
              "      <td>0.7593</td>\n",
              "      <td>0.001133</td>\n",
              "      <td>0.05136</td>\n",
              "      <td>0.044363</td>\n",
              "      <td>NaN</td>\n",
              "      <td>0.260462</td>\n",
              "      <td>NaN</td>\n",
              "      <td>0.235136</td>\n",
              "      <td>0.332149</td>\n",
              "      <td>0.0</td>\n",
              "      <td>0.0000</td>\n",
              "      <td>0.0</td>\n",
              "      <td>0.0</td>\n",
              "      <td>0.0</td>\n",
              "      <td>0.0</td>\n",
              "      <td>0.0</td>\n",
              "      <td>0.0</td>\n",
              "      <td>0.0</td>\n",
              "      <td>0.0</td>\n",
              "      <td>0.0</td>\n",
              "      <td>1.000000</td>\n",
              "      <td>0.098765</td>\n",
              "    </tr>\n",
              "    <tr>\n",
              "      <th>1</th>\n",
              "      <td>AGO</td>\n",
              "      <td>Angola</td>\n",
              "      <td>2020-08-31</td>\n",
              "      <td>1.13</td>\n",
              "      <td>NaN</td>\n",
              "      <td>NaN</td>\n",
              "      <td>NaN</td>\n",
              "      <td>NaN</td>\n",
              "      <td>0.7639</td>\n",
              "      <td>0.001133</td>\n",
              "      <td>0.05136</td>\n",
              "      <td>0.044363</td>\n",
              "      <td>NaN</td>\n",
              "      <td>0.260462</td>\n",
              "      <td>NaN</td>\n",
              "      <td>0.235136</td>\n",
              "      <td>0.332149</td>\n",
              "      <td>0.0</td>\n",
              "      <td>1.0000</td>\n",
              "      <td>0.0</td>\n",
              "      <td>0.0</td>\n",
              "      <td>0.0</td>\n",
              "      <td>0.0</td>\n",
              "      <td>0.0</td>\n",
              "      <td>0.0</td>\n",
              "      <td>0.0</td>\n",
              "      <td>0.0</td>\n",
              "      <td>0.0</td>\n",
              "      <td>0.000100</td>\n",
              "      <td>0.197531</td>\n",
              "    </tr>\n",
              "    <tr>\n",
              "      <th>2</th>\n",
              "      <td>AGO</td>\n",
              "      <td>Angola</td>\n",
              "      <td>2020-09-28</td>\n",
              "      <td>1.16</td>\n",
              "      <td>NaN</td>\n",
              "      <td>NaN</td>\n",
              "      <td>NaN</td>\n",
              "      <td>NaN</td>\n",
              "      <td>0.7500</td>\n",
              "      <td>0.001133</td>\n",
              "      <td>0.05136</td>\n",
              "      <td>0.044363</td>\n",
              "      <td>NaN</td>\n",
              "      <td>0.260462</td>\n",
              "      <td>NaN</td>\n",
              "      <td>0.235136</td>\n",
              "      <td>0.332149</td>\n",
              "      <td>0.0</td>\n",
              "      <td>0.6000</td>\n",
              "      <td>0.0</td>\n",
              "      <td>0.0</td>\n",
              "      <td>0.0</td>\n",
              "      <td>0.0</td>\n",
              "      <td>0.0</td>\n",
              "      <td>0.0</td>\n",
              "      <td>0.0</td>\n",
              "      <td>0.0</td>\n",
              "      <td>0.0</td>\n",
              "      <td>0.400060</td>\n",
              "      <td>0.246914</td>\n",
              "    </tr>\n",
              "    <tr>\n",
              "      <th>3</th>\n",
              "      <td>AGO</td>\n",
              "      <td>Angola</td>\n",
              "      <td>2020-10-05</td>\n",
              "      <td>1.18</td>\n",
              "      <td>NaN</td>\n",
              "      <td>NaN</td>\n",
              "      <td>NaN</td>\n",
              "      <td>NaN</td>\n",
              "      <td>0.7130</td>\n",
              "      <td>0.001133</td>\n",
              "      <td>0.05136</td>\n",
              "      <td>0.044363</td>\n",
              "      <td>NaN</td>\n",
              "      <td>0.260462</td>\n",
              "      <td>NaN</td>\n",
              "      <td>0.235136</td>\n",
              "      <td>0.332149</td>\n",
              "      <td>0.0</td>\n",
              "      <td>0.5414</td>\n",
              "      <td>0.0</td>\n",
              "      <td>0.0</td>\n",
              "      <td>0.0</td>\n",
              "      <td>0.0</td>\n",
              "      <td>0.0</td>\n",
              "      <td>0.0</td>\n",
              "      <td>0.0</td>\n",
              "      <td>0.0</td>\n",
              "      <td>0.0</td>\n",
              "      <td>0.458654</td>\n",
              "      <td>0.259259</td>\n",
              "    </tr>\n",
              "    <tr>\n",
              "      <th>4</th>\n",
              "      <td>AGO</td>\n",
              "      <td>Angola</td>\n",
              "      <td>2020-10-12</td>\n",
              "      <td>1.20</td>\n",
              "      <td>NaN</td>\n",
              "      <td>NaN</td>\n",
              "      <td>NaN</td>\n",
              "      <td>NaN</td>\n",
              "      <td>0.7130</td>\n",
              "      <td>0.001133</td>\n",
              "      <td>0.05136</td>\n",
              "      <td>0.044363</td>\n",
              "      <td>NaN</td>\n",
              "      <td>0.260462</td>\n",
              "      <td>NaN</td>\n",
              "      <td>0.235136</td>\n",
              "      <td>0.332149</td>\n",
              "      <td>0.0</td>\n",
              "      <td>0.4828</td>\n",
              "      <td>0.0</td>\n",
              "      <td>0.0</td>\n",
              "      <td>0.0</td>\n",
              "      <td>0.0</td>\n",
              "      <td>0.0</td>\n",
              "      <td>0.0</td>\n",
              "      <td>0.0</td>\n",
              "      <td>0.0</td>\n",
              "      <td>0.0</td>\n",
              "      <td>0.517248</td>\n",
              "      <td>0.271605</td>\n",
              "    </tr>\n",
              "  </tbody>\n",
              "</table>\n",
              "</div>"
            ],
            "text/plain": [
              "  iso_code location       date  ...  Omicron   non_who  date_diff\n",
              "0      AGO   Angola 2020-07-06  ...      0.0  1.000000   0.098765\n",
              "1      AGO   Angola 2020-08-31  ...      0.0  0.000100   0.197531\n",
              "2      AGO   Angola 2020-09-28  ...      0.0  0.400060   0.246914\n",
              "3      AGO   Angola 2020-10-05  ...      0.0  0.458654   0.259259\n",
              "4      AGO   Angola 2020-10-12  ...      0.0  0.517248   0.271605\n",
              "\n",
              "[5 rows x 30 columns]"
            ]
          },
          "metadata": {},
          "execution_count": 37
        }
      ]
    },
    {
      "cell_type": "code",
      "metadata": {
        "id": "gZmGjaR4tv-m",
        "outputId": "28c0ebfa-ca12-43d2-b3a4-8b85da98a56c",
        "colab": {
          "base_uri": "https://localhost:8080/",
          "height": 320
        }
      },
      "source": [
        "# check that the values were properly scaled\n",
        "owid3[var['scale']].describe()"
      ],
      "execution_count": 38,
      "outputs": [
        {
          "output_type": "execute_result",
          "data": {
            "text/html": [
              "<div>\n",
              "<style scoped>\n",
              "    .dataframe tbody tr th:only-of-type {\n",
              "        vertical-align: middle;\n",
              "    }\n",
              "\n",
              "    .dataframe tbody tr th {\n",
              "        vertical-align: top;\n",
              "    }\n",
              "\n",
              "    .dataframe thead th {\n",
              "        text-align: right;\n",
              "    }\n",
              "</style>\n",
              "<table border=\"1\" class=\"dataframe\">\n",
              "  <thead>\n",
              "    <tr style=\"text-align: right;\">\n",
              "      <th></th>\n",
              "      <th>new_tests_smoothed_per_thousand</th>\n",
              "      <th>people_vaccinated_per_hundred</th>\n",
              "      <th>people_fully_vaccinated_per_hundred</th>\n",
              "      <th>total_boosters_per_hundred</th>\n",
              "      <th>stringency_index</th>\n",
              "      <th>population_density</th>\n",
              "      <th>median_age</th>\n",
              "      <th>human_development_index</th>\n",
              "      <th>gdp_per_capita</th>\n",
              "      <th>extreme_poverty</th>\n",
              "      <th>handwashing_facilities</th>\n",
              "      <th>hospital_beds_per_thousand</th>\n",
              "      <th>life_expectancy</th>\n",
              "      <th>Alpha</th>\n",
              "      <th>Beta</th>\n",
              "      <th>Delta</th>\n",
              "      <th>Epsilon</th>\n",
              "      <th>Eta</th>\n",
              "      <th>Gamma</th>\n",
              "      <th>Iota</th>\n",
              "      <th>Kappa</th>\n",
              "      <th>Lambda</th>\n",
              "      <th>Mu</th>\n",
              "      <th>Omicron</th>\n",
              "      <th>non_who</th>\n",
              "      <th>date_diff</th>\n",
              "    </tr>\n",
              "  </thead>\n",
              "  <tbody>\n",
              "    <tr>\n",
              "      <th>count</th>\n",
              "      <td>9006.000000</td>\n",
              "      <td>4313.000000</td>\n",
              "      <td>3918.000000</td>\n",
              "      <td>913.000000</td>\n",
              "      <td>13562.000000</td>\n",
              "      <td>14428.000000</td>\n",
              "      <td>14210.000000</td>\n",
              "      <td>14267.000000</td>\n",
              "      <td>14121.000000</td>\n",
              "      <td>9793.000000</td>\n",
              "      <td>7335.000000</td>\n",
              "      <td>13066.000000</td>\n",
              "      <td>14589.000000</td>\n",
              "      <td>14671.000000</td>\n",
              "      <td>14671.000000</td>\n",
              "      <td>14671.000000</td>\n",
              "      <td>14671.000000</td>\n",
              "      <td>14671.000000</td>\n",
              "      <td>14671.000000</td>\n",
              "      <td>14671.000000</td>\n",
              "      <td>14671.000000</td>\n",
              "      <td>14671.000000</td>\n",
              "      <td>14671.000000</td>\n",
              "      <td>14671.000000</td>\n",
              "      <td>14671.000000</td>\n",
              "      <td>14671.000000</td>\n",
              "    </tr>\n",
              "    <tr>\n",
              "      <th>mean</th>\n",
              "      <td>0.031861</td>\n",
              "      <td>0.309481</td>\n",
              "      <td>0.274807</td>\n",
              "      <td>0.089975</td>\n",
              "      <td>0.558454</td>\n",
              "      <td>0.015732</td>\n",
              "      <td>0.462314</td>\n",
              "      <td>0.586523</td>\n",
              "      <td>0.156674</td>\n",
              "      <td>0.175673</td>\n",
              "      <td>0.503022</td>\n",
              "      <td>0.212789</td>\n",
              "      <td>0.585650</td>\n",
              "      <td>0.135999</td>\n",
              "      <td>0.031464</td>\n",
              "      <td>0.278307</td>\n",
              "      <td>0.001583</td>\n",
              "      <td>0.005016</td>\n",
              "      <td>0.021805</td>\n",
              "      <td>0.002054</td>\n",
              "      <td>0.002174</td>\n",
              "      <td>0.006041</td>\n",
              "      <td>0.005961</td>\n",
              "      <td>0.001984</td>\n",
              "      <td>0.510628</td>\n",
              "      <td>0.510624</td>\n",
              "    </tr>\n",
              "    <tr>\n",
              "      <th>std</th>\n",
              "      <td>0.073003</td>\n",
              "      <td>0.269250</td>\n",
              "      <td>0.273094</td>\n",
              "      <td>0.179356</td>\n",
              "      <td>0.188171</td>\n",
              "      <td>0.078814</td>\n",
              "      <td>0.276773</td>\n",
              "      <td>0.270509</td>\n",
              "      <td>0.169345</td>\n",
              "      <td>0.263146</td>\n",
              "      <td>0.327255</td>\n",
              "      <td>0.180140</td>\n",
              "      <td>0.229822</td>\n",
              "      <td>0.240658</td>\n",
              "      <td>0.101743</td>\n",
              "      <td>0.407454</td>\n",
              "      <td>0.013383</td>\n",
              "      <td>0.031222</td>\n",
              "      <td>0.079873</td>\n",
              "      <td>0.017536</td>\n",
              "      <td>0.019252</td>\n",
              "      <td>0.039937</td>\n",
              "      <td>0.040701</td>\n",
              "      <td>0.019252</td>\n",
              "      <td>0.443168</td>\n",
              "      <td>0.289618</td>\n",
              "    </tr>\n",
              "    <tr>\n",
              "      <th>min</th>\n",
              "      <td>0.000000</td>\n",
              "      <td>0.000000</td>\n",
              "      <td>0.000000</td>\n",
              "      <td>0.000000</td>\n",
              "      <td>0.000000</td>\n",
              "      <td>0.000000</td>\n",
              "      <td>0.000000</td>\n",
              "      <td>0.000000</td>\n",
              "      <td>0.000000</td>\n",
              "      <td>0.000000</td>\n",
              "      <td>0.000000</td>\n",
              "      <td>0.000000</td>\n",
              "      <td>0.000000</td>\n",
              "      <td>0.000000</td>\n",
              "      <td>0.000000</td>\n",
              "      <td>0.000000</td>\n",
              "      <td>0.000000</td>\n",
              "      <td>0.000000</td>\n",
              "      <td>0.000000</td>\n",
              "      <td>0.000000</td>\n",
              "      <td>0.000000</td>\n",
              "      <td>0.000000</td>\n",
              "      <td>0.000000</td>\n",
              "      <td>0.000000</td>\n",
              "      <td>0.000000</td>\n",
              "      <td>0.000000</td>\n",
              "    </tr>\n",
              "    <tr>\n",
              "      <th>25%</th>\n",
              "      <td>0.003440</td>\n",
              "      <td>0.047299</td>\n",
              "      <td>0.030798</td>\n",
              "      <td>0.000000</td>\n",
              "      <td>0.425900</td>\n",
              "      <td>0.001772</td>\n",
              "      <td>0.199396</td>\n",
              "      <td>0.355240</td>\n",
              "      <td>0.030672</td>\n",
              "      <td>0.005161</td>\n",
              "      <td>0.184918</td>\n",
              "      <td>0.087591</td>\n",
              "      <td>0.413206</td>\n",
              "      <td>0.000000</td>\n",
              "      <td>0.000000</td>\n",
              "      <td>0.000000</td>\n",
              "      <td>0.000000</td>\n",
              "      <td>0.000000</td>\n",
              "      <td>0.000000</td>\n",
              "      <td>0.000000</td>\n",
              "      <td>0.000000</td>\n",
              "      <td>0.000000</td>\n",
              "      <td>0.000000</td>\n",
              "      <td>0.000000</td>\n",
              "      <td>0.026047</td>\n",
              "      <td>0.259259</td>\n",
              "    </tr>\n",
              "    <tr>\n",
              "      <th>50%</th>\n",
              "      <td>0.011760</td>\n",
              "      <td>0.249541</td>\n",
              "      <td>0.173077</td>\n",
              "      <td>0.005213</td>\n",
              "      <td>0.564800</td>\n",
              "      <td>0.004167</td>\n",
              "      <td>0.441088</td>\n",
              "      <td>0.621670</td>\n",
              "      <td>0.100053</td>\n",
              "      <td>0.027097</td>\n",
              "      <td>0.494362</td>\n",
              "      <td>0.167664</td>\n",
              "      <td>0.633104</td>\n",
              "      <td>0.002397</td>\n",
              "      <td>0.000156</td>\n",
              "      <td>0.000434</td>\n",
              "      <td>0.000000</td>\n",
              "      <td>0.000000</td>\n",
              "      <td>0.000000</td>\n",
              "      <td>0.000000</td>\n",
              "      <td>0.000000</td>\n",
              "      <td>0.000000</td>\n",
              "      <td>0.000000</td>\n",
              "      <td>0.000000</td>\n",
              "      <td>0.500050</td>\n",
              "      <td>0.518519</td>\n",
              "    </tr>\n",
              "    <tr>\n",
              "      <th>75%</th>\n",
              "      <td>0.031952</td>\n",
              "      <td>0.551580</td>\n",
              "      <td>0.484729</td>\n",
              "      <td>0.094062</td>\n",
              "      <td>0.703700</td>\n",
              "      <td>0.010539</td>\n",
              "      <td>0.712991</td>\n",
              "      <td>0.806394</td>\n",
              "      <td>0.224873</td>\n",
              "      <td>0.272258</td>\n",
              "      <td>0.838893</td>\n",
              "      <td>0.284672</td>\n",
              "      <td>0.755602</td>\n",
              "      <td>0.177391</td>\n",
              "      <td>0.023175</td>\n",
              "      <td>0.732812</td>\n",
              "      <td>0.000137</td>\n",
              "      <td>0.000303</td>\n",
              "      <td>0.012787</td>\n",
              "      <td>0.000101</td>\n",
              "      <td>0.000042</td>\n",
              "      <td>0.003552</td>\n",
              "      <td>0.001837</td>\n",
              "      <td>0.000000</td>\n",
              "      <td>0.999999</td>\n",
              "      <td>0.765432</td>\n",
              "    </tr>\n",
              "    <tr>\n",
              "      <th>max</th>\n",
              "      <td>1.000000</td>\n",
              "      <td>1.000000</td>\n",
              "      <td>1.000000</td>\n",
              "      <td>1.000000</td>\n",
              "      <td>1.000000</td>\n",
              "      <td>1.000000</td>\n",
              "      <td>1.000000</td>\n",
              "      <td>1.000000</td>\n",
              "      <td>1.000000</td>\n",
              "      <td>1.000000</td>\n",
              "      <td>1.000000</td>\n",
              "      <td>1.000000</td>\n",
              "      <td>1.000000</td>\n",
              "      <td>1.000000</td>\n",
              "      <td>1.000000</td>\n",
              "      <td>1.000000</td>\n",
              "      <td>1.000000</td>\n",
              "      <td>1.000000</td>\n",
              "      <td>1.000000</td>\n",
              "      <td>1.000000</td>\n",
              "      <td>1.000000</td>\n",
              "      <td>1.000000</td>\n",
              "      <td>1.000000</td>\n",
              "      <td>1.000000</td>\n",
              "      <td>1.000000</td>\n",
              "      <td>1.000000</td>\n",
              "    </tr>\n",
              "  </tbody>\n",
              "</table>\n",
              "</div>"
            ],
            "text/plain": [
              "       new_tests_smoothed_per_thousand  ...     date_diff\n",
              "count                      9006.000000  ...  14671.000000\n",
              "mean                          0.031861  ...      0.510624\n",
              "std                           0.073003  ...      0.289618\n",
              "min                           0.000000  ...      0.000000\n",
              "25%                           0.003440  ...      0.259259\n",
              "50%                           0.011760  ...      0.518519\n",
              "75%                           0.031952  ...      0.765432\n",
              "max                           1.000000  ...      1.000000\n",
              "\n",
              "[8 rows x 26 columns]"
            ]
          },
          "metadata": {},
          "execution_count": 38
        }
      ]
    },
    {
      "cell_type": "markdown",
      "metadata": {
        "id": "NGT4OiSvtYLG"
      },
      "source": [
        "## Impute Data"
      ]
    },
    {
      "cell_type": "code",
      "metadata": {
        "id": "dWSRSLlYyDgl"
      },
      "source": [
        "var['vaccine'] = ['people_vaccinated_per_hundred',\n",
        "                  'people_fully_vaccinated_per_hundred',\n",
        "                  'total_boosters_per_hundred']\n",
        "# inpute vaccine columns with nulls if date <= 31 Dec 2020\n",
        "owid3.loc[owid3.date <= pd.Timestamp(2020,12,31), var['vaccine']] = \\\n",
        "        owid3.loc[owid3.date <= pd.Timestamp(2020,12,31), var['vaccine']].fillna(0.0)"
      ],
      "execution_count": 39,
      "outputs": []
    },
    {
      "cell_type": "code",
      "metadata": {
        "id": "1B92NdPAoRgm",
        "colab": {
          "base_uri": "https://localhost:8080/"
        },
        "outputId": "90fe09bd-c18b-4320-ca74-6a18786f973d"
      },
      "source": [
        "owid3[var['vaccine']].info()"
      ],
      "execution_count": 40,
      "outputs": [
        {
          "output_type": "stream",
          "name": "stdout",
          "text": [
            "<class 'pandas.core.frame.DataFrame'>\n",
            "RangeIndex: 14671 entries, 0 to 14670\n",
            "Data columns (total 3 columns):\n",
            " #   Column                               Non-Null Count  Dtype  \n",
            "---  ------                               --------------  -----  \n",
            " 0   people_vaccinated_per_hundred        10122 non-null  float64\n",
            " 1   people_fully_vaccinated_per_hundred  9759 non-null   float64\n",
            " 2   total_boosters_per_hundred           6767 non-null   float64\n",
            "dtypes: float64(3)\n",
            "memory usage: 344.0 KB\n"
          ]
        }
      ]
    },
    {
      "cell_type": "code",
      "metadata": {
        "id": "376rjWIa8RQ2"
      },
      "source": [
        "# the KNN imputer will use the KNN to find examples with similar features and \n",
        "# impute the missing values according to the average of the n nearest neighbours\n",
        "imputer = KNNImputer(n_neighbors=10, add_indicator=False)\n",
        "\n",
        "# use the KNN imputer to first impute values that won't vary significantly with time:\n",
        "var['imputer_no_date'] = ['population_density', 'median_age',\n",
        "       'gdp_per_capita', 'extreme_poverty', 'handwashing_facilities',\n",
        "       'hospital_beds_per_thousand', 'life_expectancy',\n",
        "       'human_development_index']\n",
        "owid3[var['imputer_no_date']] = pd.DataFrame(imputer.fit_transform(owid3[var['imputer_no_date']]),\n",
        "                                        columns = var['imputer_no_date'])\n",
        "\n",
        "# next, use the KNN imputer to impute time-sensitive health-related values:\n",
        "var['imputer_date'] = ['new_tests_smoothed_per_thousand', 'people_vaccinated_per_hundred',\n",
        "       'people_fully_vaccinated_per_hundred', 'total_boosters_per_hundred',\n",
        "       'gdp_per_capita', 'hospital_beds_per_thousand',\n",
        "       'stringency_index', 'date_diff']\n",
        "owid3[var['imputer_date']] = pd.DataFrame(imputer.fit_transform(owid3[var['imputer_date']]),\n",
        "                                        columns = var['imputer_date'])"
      ],
      "execution_count": 41,
      "outputs": []
    },
    {
      "cell_type": "code",
      "metadata": {
        "colab": {
          "base_uri": "https://localhost:8080/"
        },
        "id": "qxGhogO6KBD9",
        "outputId": "ff851ba3-8bdc-45a8-c733-180b7d7f1b43"
      },
      "source": [
        "owid3.info() # the result is a fully populated DF:"
      ],
      "execution_count": 42,
      "outputs": [
        {
          "output_type": "stream",
          "name": "stdout",
          "text": [
            "<class 'pandas.core.frame.DataFrame'>\n",
            "RangeIndex: 14671 entries, 0 to 14670\n",
            "Data columns (total 30 columns):\n",
            " #   Column                               Non-Null Count  Dtype         \n",
            "---  ------                               --------------  -----         \n",
            " 0   iso_code                             14671 non-null  object        \n",
            " 1   location                             14671 non-null  object        \n",
            " 2   date                                 14671 non-null  datetime64[ns]\n",
            " 3   reproduction_rate                    14671 non-null  float64       \n",
            " 4   new_tests_smoothed_per_thousand      14671 non-null  float64       \n",
            " 5   people_vaccinated_per_hundred        14671 non-null  float64       \n",
            " 6   people_fully_vaccinated_per_hundred  14671 non-null  float64       \n",
            " 7   total_boosters_per_hundred           14671 non-null  float64       \n",
            " 8   stringency_index                     14671 non-null  float64       \n",
            " 9   population_density                   14671 non-null  float64       \n",
            " 10  median_age                           14671 non-null  float64       \n",
            " 11  gdp_per_capita                       14671 non-null  float64       \n",
            " 12  extreme_poverty                      14671 non-null  float64       \n",
            " 13  handwashing_facilities               14671 non-null  float64       \n",
            " 14  hospital_beds_per_thousand           14671 non-null  float64       \n",
            " 15  life_expectancy                      14671 non-null  float64       \n",
            " 16  human_development_index              14671 non-null  float64       \n",
            " 17  Alpha                                14671 non-null  float64       \n",
            " 18  Beta                                 14671 non-null  float64       \n",
            " 19  Delta                                14671 non-null  float64       \n",
            " 20  Epsilon                              14671 non-null  float64       \n",
            " 21  Eta                                  14671 non-null  float64       \n",
            " 22  Gamma                                14671 non-null  float64       \n",
            " 23  Iota                                 14671 non-null  float64       \n",
            " 24  Kappa                                14671 non-null  float64       \n",
            " 25  Lambda                               14671 non-null  float64       \n",
            " 26  Mu                                   14671 non-null  float64       \n",
            " 27  Omicron                              14671 non-null  float64       \n",
            " 28  non_who                              14671 non-null  float64       \n",
            " 29  date_diff                            14671 non-null  float64       \n",
            "dtypes: datetime64[ns](1), float64(27), object(2)\n",
            "memory usage: 3.4+ MB\n"
          ]
        }
      ]
    },
    {
      "cell_type": "markdown",
      "metadata": {
        "id": "mw5O0Ra9xNHX"
      },
      "source": [
        "## Save files externally for the next notebook"
      ]
    },
    {
      "cell_type": "code",
      "metadata": {
        "id": "-WeFQDf2AlIS"
      },
      "source": [
        "owid3.to_parquet('covid_owid_df.parquet') # output to a parquet file"
      ],
      "execution_count": 45,
      "outputs": []
    },
    {
      "cell_type": "code",
      "metadata": {
        "id": "Qd60fLY9CPHF",
        "colab": {
          "base_uri": "https://localhost:8080/"
        },
        "outputId": "dd115da5-b66a-4b7e-f831-2f705dda528d"
      },
      "source": [
        "var"
      ],
      "execution_count": 44,
      "outputs": [
        {
          "output_type": "execute_result",
          "data": {
            "text/plain": [
              "{'imputer_date': ['new_tests_smoothed_per_thousand',\n",
              "  'people_vaccinated_per_hundred',\n",
              "  'people_fully_vaccinated_per_hundred',\n",
              "  'total_boosters_per_hundred',\n",
              "  'gdp_per_capita',\n",
              "  'hospital_beds_per_thousand',\n",
              "  'stringency_index',\n",
              "  'date_diff'],\n",
              " 'imputer_no_date': ['population_density',\n",
              "  'median_age',\n",
              "  'gdp_per_capita',\n",
              "  'extreme_poverty',\n",
              "  'handwashing_facilities',\n",
              "  'hospital_beds_per_thousand',\n",
              "  'life_expectancy',\n",
              "  'human_development_index'],\n",
              " 'meta': ['date', 'iso_code', 'location'],\n",
              " 'number': ['new_tests_smoothed_per_thousand',\n",
              "  'people_vaccinated_per_hundred',\n",
              "  'people_fully_vaccinated_per_hundred',\n",
              "  'total_boosters_per_hundred',\n",
              "  'stringency_index',\n",
              "  'population_density',\n",
              "  'median_age',\n",
              "  'human_development_index',\n",
              "  'gdp_per_capita',\n",
              "  'extreme_poverty',\n",
              "  'handwashing_facilities',\n",
              "  'hospital_beds_per_thousand',\n",
              "  'life_expectancy'],\n",
              " 'scale': ['new_tests_smoothed_per_thousand',\n",
              "  'people_vaccinated_per_hundred',\n",
              "  'people_fully_vaccinated_per_hundred',\n",
              "  'total_boosters_per_hundred',\n",
              "  'stringency_index',\n",
              "  'population_density',\n",
              "  'median_age',\n",
              "  'human_development_index',\n",
              "  'gdp_per_capita',\n",
              "  'extreme_poverty',\n",
              "  'handwashing_facilities',\n",
              "  'hospital_beds_per_thousand',\n",
              "  'life_expectancy',\n",
              "  'Alpha',\n",
              "  'Beta',\n",
              "  'Delta',\n",
              "  'Epsilon',\n",
              "  'Eta',\n",
              "  'Gamma',\n",
              "  'Iota',\n",
              "  'Kappa',\n",
              "  'Lambda',\n",
              "  'Mu',\n",
              "  'Omicron',\n",
              "  'non_who',\n",
              "  'date_diff'],\n",
              " 'vaccine': ['people_vaccinated_per_hundred',\n",
              "  'people_fully_vaccinated_per_hundred',\n",
              "  'total_boosters_per_hundred'],\n",
              " 'variants': ['Alpha',\n",
              "  'Beta',\n",
              "  'Delta',\n",
              "  'Epsilon',\n",
              "  'Eta',\n",
              "  'Gamma',\n",
              "  'Iota',\n",
              "  'Kappa',\n",
              "  'Lambda',\n",
              "  'Mu',\n",
              "  'Omicron',\n",
              "  'non_who'],\n",
              " 'y': ['reproduction_rate']}"
            ]
          },
          "metadata": {},
          "execution_count": 44
        }
      ]
    },
    {
      "cell_type": "code",
      "metadata": {
        "id": "JSTP8PWaAx56"
      },
      "source": [
        "# save the variables to file\n",
        "with open('covid_owid_var_dictionary.pkl', 'wb') as f:\n",
        "    pickle.dump(var, f)"
      ],
      "execution_count": 46,
      "outputs": []
    }
  ]
}