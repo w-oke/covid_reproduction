{
  "nbformat": 4,
  "nbformat_minor": 0,
  "metadata": {
    "colab": {
      "name": "Untitled1.ipynb",
      "provenance": [],
      "authorship_tag": "ABX9TyPg6hrwWoUUNIEdTztxLJWi",
      "include_colab_link": true
    },
    "kernelspec": {
      "name": "python3",
      "display_name": "Python 3"
    },
    "language_info": {
      "name": "python"
    }
  },
  "cells": [
    {
      "cell_type": "markdown",
      "metadata": {
        "id": "view-in-github",
        "colab_type": "text"
      },
      "source": [
        "<a href=\"https://colab.research.google.com/github/w-oke/covid_reproduction/blob/main/owid%20exploration.ipynb\" target=\"_parent\"><img src=\"https://colab.research.google.com/assets/colab-badge.svg\" alt=\"Open In Colab\"/></a>"
      ]
    },
    {
      "cell_type": "code",
      "metadata": {
        "id": "wNgNIHZrPvxq"
      },
      "source": [
        "owid_link = 'https://github.com/owid/covid-19-data/raw/master/public/data/owid-covid-data.csv'\n",
        "owid_col_desc = 'https://github.com/owid/covid-19-data/raw/master/public/data/owid-covid-codebook.csv'"
      ],
      "execution_count": null,
      "outputs": []
    }
  ]
}