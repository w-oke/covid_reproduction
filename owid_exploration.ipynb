{
  "nbformat": 4,
  "nbformat_minor": 0,
  "metadata": {
    "colab": {
      "name": "owid_exploration.ipynb",
      "provenance": [],
      "authorship_tag": "ABX9TyPdSZocfUD0/Jcmw7eFhyA+",
      "include_colab_link": true
    },
    "kernelspec": {
      "name": "python3",
      "display_name": "Python 3"
    },
    "language_info": {
      "name": "python"
    }
  },
  "cells": [
    {
      "cell_type": "markdown",
      "metadata": {
        "id": "view-in-github",
        "colab_type": "text"
      },
      "source": [
        "<a href=\"https://colab.research.google.com/github/w-oke/covid_reproduction/blob/main/owid_exploration.ipynb\" target=\"_parent\"><img src=\"https://colab.research.google.com/assets/colab-badge.svg\" alt=\"Open In Colab\"/></a>"
      ]
    },
    {
      "cell_type": "code",
      "metadata": {
        "id": "vIXW7GbeaT8u"
      },
      "source": [
        "import pandas as pd\n",
        "import pickle"
      ],
      "execution_count": 2,
      "outputs": []
    },
    {
      "cell_type": "markdown",
      "metadata": {
        "id": "CFKG-7GiaU05"
      },
      "source": [
        "The Our World In Data (OWID) project provides COVID-19 data on its websites at https://ourworldindata.org/coronavirus and https://github.com/owid/covid-19-data/tree/master/public/data\n"
      ]
    },
    {
      "cell_type": "code",
      "metadata": {
        "id": "wNgNIHZrPvxq",
        "colab": {
          "base_uri": "https://localhost:8080/",
          "height": 206
        },
        "outputId": "1f641767-9ec6-47c8-8bc1-c863e4dc364b"
      },
      "source": [
        "# column descriptions:\n",
        "owid_col_desc_link = 'https://github.com/owid/covid-19-data/raw/master/public/data/owid-covid-codebook.csv'\n",
        "owid_col_desc = pd.read_csv(owid_col_desc_link)\n",
        "owid_col_desc.head()"
      ],
      "execution_count": 3,
      "outputs": [
        {
          "output_type": "execute_result",
          "data": {
            "text/html": [
              "<div>\n",
              "<style scoped>\n",
              "    .dataframe tbody tr th:only-of-type {\n",
              "        vertical-align: middle;\n",
              "    }\n",
              "\n",
              "    .dataframe tbody tr th {\n",
              "        vertical-align: top;\n",
              "    }\n",
              "\n",
              "    .dataframe thead th {\n",
              "        text-align: right;\n",
              "    }\n",
              "</style>\n",
              "<table border=\"1\" class=\"dataframe\">\n",
              "  <thead>\n",
              "    <tr style=\"text-align: right;\">\n",
              "      <th></th>\n",
              "      <th>column</th>\n",
              "      <th>source</th>\n",
              "      <th>category</th>\n",
              "      <th>description</th>\n",
              "    </tr>\n",
              "  </thead>\n",
              "  <tbody>\n",
              "    <tr>\n",
              "      <th>0</th>\n",
              "      <td>iso_code</td>\n",
              "      <td>International Organization for Standardization</td>\n",
              "      <td>Others</td>\n",
              "      <td>ISO 3166-1 alpha-3 – three-letter country codes</td>\n",
              "    </tr>\n",
              "    <tr>\n",
              "      <th>1</th>\n",
              "      <td>continent</td>\n",
              "      <td>Our World in Data</td>\n",
              "      <td>Others</td>\n",
              "      <td>Continent of the geographical location</td>\n",
              "    </tr>\n",
              "    <tr>\n",
              "      <th>2</th>\n",
              "      <td>location</td>\n",
              "      <td>Our World in Data</td>\n",
              "      <td>Others</td>\n",
              "      <td>Geographical location</td>\n",
              "    </tr>\n",
              "    <tr>\n",
              "      <th>3</th>\n",
              "      <td>date</td>\n",
              "      <td>Our World in Data</td>\n",
              "      <td>Others</td>\n",
              "      <td>Date of observation</td>\n",
              "    </tr>\n",
              "    <tr>\n",
              "      <th>4</th>\n",
              "      <td>total_cases</td>\n",
              "      <td>COVID-19 Data Repository by the Center for Sys...</td>\n",
              "      <td>Confirmed cases</td>\n",
              "      <td>Total confirmed cases of COVID-19</td>\n",
              "    </tr>\n",
              "  </tbody>\n",
              "</table>\n",
              "</div>"
            ],
            "text/plain": [
              "        column  ...                                      description\n",
              "0     iso_code  ...  ISO 3166-1 alpha-3 – three-letter country codes\n",
              "1    continent  ...           Continent of the geographical location\n",
              "2     location  ...                            Geographical location\n",
              "3         date  ...                              Date of observation\n",
              "4  total_cases  ...                Total confirmed cases of COVID-19\n",
              "\n",
              "[5 rows x 4 columns]"
            ]
          },
          "metadata": {},
          "execution_count": 3
        }
      ]
    },
    {
      "cell_type": "code",
      "metadata": {
        "id": "rX7Gg4DDbXf7"
      },
      "source": [
        "# create a list of all the columns in the dataset\n",
        "cols = owid_col_desc.column.to_list()"
      ],
      "execution_count": 4,
      "outputs": []
    },
    {
      "cell_type": "code",
      "metadata": {
        "id": "cfCiXsDrc8Ny"
      },
      "source": [
        "# possible independent variables\n",
        "var = {'y': [ \n",
        " # 'new_cases_smoothed_per_million',\n",
        " 'reproduction_rate',\n",
        " # 'positive_rate',\n",
        " # 'tests_per_case', # inverse of positiviy rate\n",
        " ]}\n",
        "\n",
        "# metadata - not intended for training\n",
        "var['meta'] = [    \n",
        " 'date',\n",
        " 'iso_code',\n",
        " 'location',\n",
        " # 'population', \n",
        "  ]\n",
        "\n",
        "var['number'] = [\n",
        " # 'tests_units',\n",
        " 'new_tests_smoothed_per_thousand',\n",
        " # 'total_vaccinations',\n",
        " # 'total_vaccinations_per_hundred', # use people_vaccinated & people_fully_vaccinated instead\n",
        " 'people_vaccinated_per_hundred',\n",
        " 'people_fully_vaccinated_per_hundred',\n",
        " 'total_boosters_per_hundred',\n",
        " 'stringency_index',\n",
        " 'population_density',\n",
        " 'median_age',\n",
        " 'human_development_index',\n",
        " #'aged_65_older',\n",
        " #'aged_70_older',\n",
        " 'gdp_per_capita',\n",
        " 'extreme_poverty',\n",
        " #'cardiovasc_death_rate',\n",
        " #'diabetes_prevalence',\n",
        " #'female_smokers',\n",
        " #'male_smokers',\n",
        " 'handwashing_facilities', # Share of the population with basic handwashing facilities on premises\n",
        " 'hospital_beds_per_thousand', # Hospital beds per 1,000 people, most recent year available since 2010\n",
        " 'life_expectancy',\n",
        " ]\n",
        "\n",
        "# save the variables to file\n",
        "with open('covid_owid_var_dictionary.pkl', 'wb') as f:\n",
        "    pickle.dump(var, f)"
      ],
      "execution_count": 5,
      "outputs": []
    },
    {
      "cell_type": "code",
      "metadata": {
        "id": "KyimQktVeszY",
        "colab": {
          "base_uri": "https://localhost:8080/"
        },
        "outputId": "2adc8d69-1d57-445a-afa1-191a4431b8f7"
      },
      "source": [
        "# create a single list of all the features\n",
        "var_all = [item for sublist in list(var.values()) for item in sublist]\n",
        "print('The first 4 items in \"var_all\" are: ', var_all[0:4])\n",
        "print('There are {} variables in var_all'.format(len(var_all)))\n",
        "\n",
        "# create a single string of all the features\n",
        "var_all2 = ', '.join(var_all)\n",
        "print('var_all2: ', var_all2)"
      ],
      "execution_count": 6,
      "outputs": [
        {
          "output_type": "stream",
          "name": "stdout",
          "text": [
            "The first 4 items in \"var_all\" are:  ['reproduction_rate', 'date', 'iso_code', 'location']\n",
            "There are 17 variables in var_all\n",
            "var_all2:  reproduction_rate, date, iso_code, location, new_tests_smoothed_per_thousand, people_vaccinated_per_hundred, people_fully_vaccinated_per_hundred, total_boosters_per_hundred, stringency_index, population_density, median_age, human_development_index, gdp_per_capita, extreme_poverty, handwashing_facilities, hospital_beds_per_thousand, life_expectancy\n"
          ]
        }
      ]
    },
    {
      "cell_type": "code",
      "metadata": {
        "colab": {
          "base_uri": "https://localhost:8080/"
        },
        "id": "g5DBocbolueM",
        "outputId": "fbff36fa-d97f-4114-a0db-082a986fd56a"
      },
      "source": [
        "# owid dataset:\n",
        "owid_link = 'https://github.com/owid/covid-19-data/raw/master/public/data/owid-covid-data.csv'\n",
        "owid = pd.read_csv(owid_link, usecols=var_all)\n",
        "owid.dropna(subset=['reproduction_rate'], inplace=True)\n",
        "owid['date'] = pd.to_datetime(owid['date']) # Convert the 'date' column to a Datetime format\n",
        "owid.info()"
      ],
      "execution_count": 7,
      "outputs": [
        {
          "output_type": "stream",
          "name": "stdout",
          "text": [
            "<class 'pandas.core.frame.DataFrame'>\n",
            "Int64Index: 107755 entries, 34 to 136247\n",
            "Data columns (total 17 columns):\n",
            " #   Column                               Non-Null Count   Dtype         \n",
            "---  ------                               --------------   -----         \n",
            " 0   iso_code                             107755 non-null  object        \n",
            " 1   location                             107755 non-null  object        \n",
            " 2   date                                 107755 non-null  datetime64[ns]\n",
            " 3   reproduction_rate                    107755 non-null  float64       \n",
            " 4   new_tests_smoothed_per_thousand      65855 non-null   float64       \n",
            " 5   people_vaccinated_per_hundred        27707 non-null   float64       \n",
            " 6   people_fully_vaccinated_per_hundred  25016 non-null   float64       \n",
            " 7   total_boosters_per_hundred           5413 non-null    float64       \n",
            " 8   stringency_index                     99508 non-null   float64       \n",
            " 9   population_density                   106023 non-null  float64       \n",
            " 10  median_age                           104448 non-null  float64       \n",
            " 11  gdp_per_capita                       103799 non-null  float64       \n",
            " 12  extreme_poverty                      72207 non-null   float64       \n",
            " 13  handwashing_facilities               53017 non-null   float64       \n",
            " 14  hospital_beds_per_thousand           96240 non-null   float64       \n",
            " 15  life_expectancy                      107151 non-null  float64       \n",
            " 16  human_development_index              104807 non-null  float64       \n",
            "dtypes: datetime64[ns](1), float64(14), object(2)\n",
            "memory usage: 14.8+ MB\n"
          ]
        }
      ]
    },
    {
      "cell_type": "markdown",
      "metadata": {
        "id": "xa4LYsEmzN7W"
      },
      "source": [
        "Note that:\n",
        "* about half the data has 'handwashing_facilities' data\n",
        "* about a quarter of the data has vaccination data, but this might be due to no vaccinations being available for large portions of the time\n"
      ]
    },
    {
      "cell_type": "code",
      "metadata": {
        "colab": {
          "base_uri": "https://localhost:8080/",
          "height": 312
        },
        "id": "VRPTS0_6-ojw",
        "outputId": "5efb4726-cbeb-4e1a-de0e-f673fe86105a"
      },
      "source": [
        "owid.head()"
      ],
      "execution_count": 9,
      "outputs": [
        {
          "output_type": "execute_result",
          "data": {
            "text/html": [
              "<div>\n",
              "<style scoped>\n",
              "    .dataframe tbody tr th:only-of-type {\n",
              "        vertical-align: middle;\n",
              "    }\n",
              "\n",
              "    .dataframe tbody tr th {\n",
              "        vertical-align: top;\n",
              "    }\n",
              "\n",
              "    .dataframe thead th {\n",
              "        text-align: right;\n",
              "    }\n",
              "</style>\n",
              "<table border=\"1\" class=\"dataframe\">\n",
              "  <thead>\n",
              "    <tr style=\"text-align: right;\">\n",
              "      <th></th>\n",
              "      <th>iso_code</th>\n",
              "      <th>location</th>\n",
              "      <th>date</th>\n",
              "      <th>reproduction_rate</th>\n",
              "      <th>new_tests_smoothed_per_thousand</th>\n",
              "      <th>people_vaccinated_per_hundred</th>\n",
              "      <th>people_fully_vaccinated_per_hundred</th>\n",
              "      <th>total_boosters_per_hundred</th>\n",
              "      <th>stringency_index</th>\n",
              "      <th>population_density</th>\n",
              "      <th>median_age</th>\n",
              "      <th>gdp_per_capita</th>\n",
              "      <th>extreme_poverty</th>\n",
              "      <th>handwashing_facilities</th>\n",
              "      <th>hospital_beds_per_thousand</th>\n",
              "      <th>life_expectancy</th>\n",
              "      <th>human_development_index</th>\n",
              "    </tr>\n",
              "  </thead>\n",
              "  <tbody>\n",
              "    <tr>\n",
              "      <th>34</th>\n",
              "      <td>AFG</td>\n",
              "      <td>Afghanistan</td>\n",
              "      <td>2020-03-29</td>\n",
              "      <td>1.51</td>\n",
              "      <td>NaN</td>\n",
              "      <td>NaN</td>\n",
              "      <td>NaN</td>\n",
              "      <td>NaN</td>\n",
              "      <td>67.59</td>\n",
              "      <td>54.422</td>\n",
              "      <td>18.6</td>\n",
              "      <td>1803.987</td>\n",
              "      <td>NaN</td>\n",
              "      <td>37.746</td>\n",
              "      <td>0.5</td>\n",
              "      <td>64.83</td>\n",
              "      <td>0.511</td>\n",
              "    </tr>\n",
              "    <tr>\n",
              "      <th>35</th>\n",
              "      <td>AFG</td>\n",
              "      <td>Afghanistan</td>\n",
              "      <td>2020-03-30</td>\n",
              "      <td>1.51</td>\n",
              "      <td>NaN</td>\n",
              "      <td>NaN</td>\n",
              "      <td>NaN</td>\n",
              "      <td>NaN</td>\n",
              "      <td>67.59</td>\n",
              "      <td>54.422</td>\n",
              "      <td>18.6</td>\n",
              "      <td>1803.987</td>\n",
              "      <td>NaN</td>\n",
              "      <td>37.746</td>\n",
              "      <td>0.5</td>\n",
              "      <td>64.83</td>\n",
              "      <td>0.511</td>\n",
              "    </tr>\n",
              "    <tr>\n",
              "      <th>36</th>\n",
              "      <td>AFG</td>\n",
              "      <td>Afghanistan</td>\n",
              "      <td>2020-03-31</td>\n",
              "      <td>1.52</td>\n",
              "      <td>NaN</td>\n",
              "      <td>NaN</td>\n",
              "      <td>NaN</td>\n",
              "      <td>NaN</td>\n",
              "      <td>67.59</td>\n",
              "      <td>54.422</td>\n",
              "      <td>18.6</td>\n",
              "      <td>1803.987</td>\n",
              "      <td>NaN</td>\n",
              "      <td>37.746</td>\n",
              "      <td>0.5</td>\n",
              "      <td>64.83</td>\n",
              "      <td>0.511</td>\n",
              "    </tr>\n",
              "    <tr>\n",
              "      <th>37</th>\n",
              "      <td>AFG</td>\n",
              "      <td>Afghanistan</td>\n",
              "      <td>2020-04-01</td>\n",
              "      <td>1.51</td>\n",
              "      <td>NaN</td>\n",
              "      <td>NaN</td>\n",
              "      <td>NaN</td>\n",
              "      <td>NaN</td>\n",
              "      <td>67.59</td>\n",
              "      <td>54.422</td>\n",
              "      <td>18.6</td>\n",
              "      <td>1803.987</td>\n",
              "      <td>NaN</td>\n",
              "      <td>37.746</td>\n",
              "      <td>0.5</td>\n",
              "      <td>64.83</td>\n",
              "      <td>0.511</td>\n",
              "    </tr>\n",
              "    <tr>\n",
              "      <th>38</th>\n",
              "      <td>AFG</td>\n",
              "      <td>Afghanistan</td>\n",
              "      <td>2020-04-02</td>\n",
              "      <td>1.51</td>\n",
              "      <td>NaN</td>\n",
              "      <td>NaN</td>\n",
              "      <td>NaN</td>\n",
              "      <td>NaN</td>\n",
              "      <td>67.59</td>\n",
              "      <td>54.422</td>\n",
              "      <td>18.6</td>\n",
              "      <td>1803.987</td>\n",
              "      <td>NaN</td>\n",
              "      <td>37.746</td>\n",
              "      <td>0.5</td>\n",
              "      <td>64.83</td>\n",
              "      <td>0.511</td>\n",
              "    </tr>\n",
              "  </tbody>\n",
              "</table>\n",
              "</div>"
            ],
            "text/plain": [
              "   iso_code     location  ... life_expectancy  human_development_index\n",
              "34      AFG  Afghanistan  ...           64.83                    0.511\n",
              "35      AFG  Afghanistan  ...           64.83                    0.511\n",
              "36      AFG  Afghanistan  ...           64.83                    0.511\n",
              "37      AFG  Afghanistan  ...           64.83                    0.511\n",
              "38      AFG  Afghanistan  ...           64.83                    0.511\n",
              "\n",
              "[5 rows x 17 columns]"
            ]
          },
          "metadata": {},
          "execution_count": 9
        }
      ]
    },
    {
      "cell_type": "markdown",
      "metadata": {
        "id": "AmakxKacyuK9"
      },
      "source": [
        "## Variant Data\n",
        "\n",
        "The OWID variant data is provided by country at a frequency of every two weeks."
      ]
    },
    {
      "cell_type": "code",
      "metadata": {
        "colab": {
          "base_uri": "https://localhost:8080/"
        },
        "id": "XY4bLGaMhM1F",
        "outputId": "00c01e43-3b73-447e-cc3f-04feb4b8c5f5"
      },
      "source": [
        "\n",
        "variant_link = 'https://github.com/owid/covid-19-data/raw/master/public/data/variants/covid-variants.csv'\n",
        "variants = pd.read_csv(variant_link)\n",
        "variants['date'] = pd.to_datetime(variants['date']) # Convert the 'date' column to a Datetime format\n",
        "variants.info()"
      ],
      "execution_count": 23,
      "outputs": [
        {
          "output_type": "stream",
          "name": "stdout",
          "text": [
            "<class 'pandas.core.frame.DataFrame'>\n",
            "RangeIndex: 54096 entries, 0 to 54095\n",
            "Data columns (total 6 columns):\n",
            " #   Column               Non-Null Count  Dtype         \n",
            "---  ------               --------------  -----         \n",
            " 0   location             54096 non-null  object        \n",
            " 1   date                 54096 non-null  datetime64[ns]\n",
            " 2   variant              54096 non-null  object        \n",
            " 3   num_sequences        54096 non-null  int64         \n",
            " 4   perc_sequences       54096 non-null  float64       \n",
            " 5   num_sequences_total  54096 non-null  int64         \n",
            "dtypes: datetime64[ns](1), float64(1), int64(2), object(2)\n",
            "memory usage: 2.5+ MB\n"
          ]
        }
      ]
    },
    {
      "cell_type": "code",
      "metadata": {
        "colab": {
          "base_uri": "https://localhost:8080/",
          "height": 206
        },
        "id": "x5WYITRhn0V-",
        "outputId": "ed415fe8-17ab-4772-a3cb-6c0d4588a183"
      },
      "source": [
        "variants.head()"
      ],
      "execution_count": 24,
      "outputs": [
        {
          "output_type": "execute_result",
          "data": {
            "text/html": [
              "<div>\n",
              "<style scoped>\n",
              "    .dataframe tbody tr th:only-of-type {\n",
              "        vertical-align: middle;\n",
              "    }\n",
              "\n",
              "    .dataframe tbody tr th {\n",
              "        vertical-align: top;\n",
              "    }\n",
              "\n",
              "    .dataframe thead th {\n",
              "        text-align: right;\n",
              "    }\n",
              "</style>\n",
              "<table border=\"1\" class=\"dataframe\">\n",
              "  <thead>\n",
              "    <tr style=\"text-align: right;\">\n",
              "      <th></th>\n",
              "      <th>location</th>\n",
              "      <th>date</th>\n",
              "      <th>variant</th>\n",
              "      <th>num_sequences</th>\n",
              "      <th>perc_sequences</th>\n",
              "      <th>num_sequences_total</th>\n",
              "    </tr>\n",
              "  </thead>\n",
              "  <tbody>\n",
              "    <tr>\n",
              "      <th>0</th>\n",
              "      <td>Angola</td>\n",
              "      <td>2020-12-21</td>\n",
              "      <td>Alpha</td>\n",
              "      <td>0</td>\n",
              "      <td>0.0</td>\n",
              "      <td>93</td>\n",
              "    </tr>\n",
              "    <tr>\n",
              "      <th>1</th>\n",
              "      <td>Angola</td>\n",
              "      <td>2020-12-21</td>\n",
              "      <td>B.1.1.277</td>\n",
              "      <td>0</td>\n",
              "      <td>0.0</td>\n",
              "      <td>93</td>\n",
              "    </tr>\n",
              "    <tr>\n",
              "      <th>2</th>\n",
              "      <td>Angola</td>\n",
              "      <td>2020-12-21</td>\n",
              "      <td>B.1.1.302</td>\n",
              "      <td>0</td>\n",
              "      <td>0.0</td>\n",
              "      <td>93</td>\n",
              "    </tr>\n",
              "    <tr>\n",
              "      <th>3</th>\n",
              "      <td>Angola</td>\n",
              "      <td>2020-12-21</td>\n",
              "      <td>B.1.1.519</td>\n",
              "      <td>0</td>\n",
              "      <td>0.0</td>\n",
              "      <td>93</td>\n",
              "    </tr>\n",
              "    <tr>\n",
              "      <th>4</th>\n",
              "      <td>Angola</td>\n",
              "      <td>2020-12-21</td>\n",
              "      <td>B.1.160</td>\n",
              "      <td>0</td>\n",
              "      <td>0.0</td>\n",
              "      <td>93</td>\n",
              "    </tr>\n",
              "  </tbody>\n",
              "</table>\n",
              "</div>"
            ],
            "text/plain": [
              "  location       date  ... perc_sequences  num_sequences_total\n",
              "0   Angola 2020-12-21  ...            0.0                   93\n",
              "1   Angola 2020-12-21  ...            0.0                   93\n",
              "2   Angola 2020-12-21  ...            0.0                   93\n",
              "3   Angola 2020-12-21  ...            0.0                   93\n",
              "4   Angola 2020-12-21  ...            0.0                   93\n",
              "\n",
              "[5 rows x 6 columns]"
            ]
          },
          "metadata": {},
          "execution_count": 24
        }
      ]
    },
    {
      "cell_type": "code",
      "metadata": {
        "colab": {
          "base_uri": "https://localhost:8080/"
        },
        "id": "YVTTj979qB62",
        "outputId": "0bb7c468-fae2-4e70-c3c0-07b48946ddc5"
      },
      "source": [
        "variants.drop(['num_sequences', 'num_sequences_total'], axis=1, inplace=True)\n",
        "variants.variant.unique()"
      ],
      "execution_count": 25,
      "outputs": [
        {
          "output_type": "execute_result",
          "data": {
            "text/plain": [
              "array(['Alpha', 'B.1.1.277', 'B.1.1.302', 'B.1.1.519', 'B.1.160',\n",
              "       'B.1.177', 'B.1.221', 'B.1.258', 'B.1.367', 'B.1.620', 'Beta',\n",
              "       'Delta', 'Epsilon', 'Eta', 'Gamma', 'Iota', 'Kappa', 'Lambda',\n",
              "       'Mu', 'Omicron', 'S:677H.Robin1', 'S:677P.Pelican', 'others',\n",
              "       'non_who'], dtype=object)"
            ]
          },
          "metadata": {},
          "execution_count": 25
        }
      ]
    },
    {
      "cell_type": "code",
      "metadata": {
        "id": "IgCJfKANn0K1"
      },
      "source": [
        "# create a list of the variants of interest\n",
        "who_variants = '''\n",
        "    Alpha\n",
        "    Beta\n",
        "    Delta\n",
        "    Epsilon\n",
        "    Eta\n",
        "    Gamma\n",
        "    Iota\n",
        "    Kappa\n",
        "    Lambda\n",
        "    Mu\n",
        "    Omicron\n",
        "    non_who'''.split()\n",
        "# note that the sum will add to 100% for any given day/location"
      ],
      "execution_count": 29,
      "outputs": []
    },
    {
      "cell_type": "code",
      "metadata": {
        "colab": {
          "base_uri": "https://localhost:8080/"
        },
        "id": "ehkMRukcn0AW",
        "outputId": "64a0c742-735a-46e8-f48b-5b3b739d0e1f"
      },
      "source": [
        "variants2 = variants[variants.variant.isin(who_variants)]\n",
        "variants2.info()"
      ],
      "execution_count": 28,
      "outputs": [
        {
          "output_type": "stream",
          "name": "stdout",
          "text": [
            "<class 'pandas.core.frame.DataFrame'>\n",
            "Int64Index: 27048 entries, 0 to 54095\n",
            "Data columns (total 4 columns):\n",
            " #   Column          Non-Null Count  Dtype         \n",
            "---  ------          --------------  -----         \n",
            " 0   location        27048 non-null  object        \n",
            " 1   date            27048 non-null  datetime64[ns]\n",
            " 2   variant         27048 non-null  object        \n",
            " 3   perc_sequences  27048 non-null  float64       \n",
            "dtypes: datetime64[ns](1), float64(1), object(2)\n",
            "memory usage: 1.0+ MB\n"
          ]
        }
      ]
    },
    {
      "cell_type": "code",
      "metadata": {
        "colab": {
          "base_uri": "https://localhost:8080/",
          "height": 424
        },
        "id": "LnWkGKOHtEJO",
        "outputId": "5927e119-f17b-4e6d-d99c-371560e650d9"
      },
      "source": [
        "variants3 = variants2.pivot(index=['location','date'], columns='variant', values='perc_sequences')\n",
        "variants3.reset_index(inplace=True)\n",
        "variants3"
      ],
      "execution_count": 40,
      "outputs": [
        {
          "output_type": "execute_result",
          "data": {
            "text/html": [
              "<div>\n",
              "<style scoped>\n",
              "    .dataframe tbody tr th:only-of-type {\n",
              "        vertical-align: middle;\n",
              "    }\n",
              "\n",
              "    .dataframe tbody tr th {\n",
              "        vertical-align: top;\n",
              "    }\n",
              "\n",
              "    .dataframe thead th {\n",
              "        text-align: right;\n",
              "    }\n",
              "</style>\n",
              "<table border=\"1\" class=\"dataframe\">\n",
              "  <thead>\n",
              "    <tr style=\"text-align: right;\">\n",
              "      <th>variant</th>\n",
              "      <th>location</th>\n",
              "      <th>date</th>\n",
              "      <th>Alpha</th>\n",
              "      <th>Beta</th>\n",
              "      <th>Delta</th>\n",
              "      <th>Epsilon</th>\n",
              "      <th>Eta</th>\n",
              "      <th>Gamma</th>\n",
              "      <th>Iota</th>\n",
              "      <th>Kappa</th>\n",
              "      <th>Lambda</th>\n",
              "      <th>Mu</th>\n",
              "      <th>Omicron</th>\n",
              "      <th>non_who</th>\n",
              "    </tr>\n",
              "  </thead>\n",
              "  <tbody>\n",
              "    <tr>\n",
              "      <th>0</th>\n",
              "      <td>Angola</td>\n",
              "      <td>2020-12-21</td>\n",
              "      <td>0.00</td>\n",
              "      <td>74.19</td>\n",
              "      <td>0.0</td>\n",
              "      <td>0.0</td>\n",
              "      <td>1.08</td>\n",
              "      <td>0.0</td>\n",
              "      <td>0.0</td>\n",
              "      <td>0.0</td>\n",
              "      <td>0.0</td>\n",
              "      <td>0.0</td>\n",
              "      <td>0.0</td>\n",
              "      <td>24.73</td>\n",
              "    </tr>\n",
              "    <tr>\n",
              "      <th>1</th>\n",
              "      <td>Angola</td>\n",
              "      <td>2021-01-25</td>\n",
              "      <td>5.77</td>\n",
              "      <td>3.85</td>\n",
              "      <td>0.0</td>\n",
              "      <td>0.0</td>\n",
              "      <td>0.00</td>\n",
              "      <td>0.0</td>\n",
              "      <td>0.0</td>\n",
              "      <td>0.0</td>\n",
              "      <td>0.0</td>\n",
              "      <td>0.0</td>\n",
              "      <td>0.0</td>\n",
              "      <td>90.38</td>\n",
              "    </tr>\n",
              "    <tr>\n",
              "      <th>2</th>\n",
              "      <td>Angola</td>\n",
              "      <td>2021-02-08</td>\n",
              "      <td>9.52</td>\n",
              "      <td>28.57</td>\n",
              "      <td>0.0</td>\n",
              "      <td>0.0</td>\n",
              "      <td>0.00</td>\n",
              "      <td>0.0</td>\n",
              "      <td>0.0</td>\n",
              "      <td>0.0</td>\n",
              "      <td>0.0</td>\n",
              "      <td>0.0</td>\n",
              "      <td>0.0</td>\n",
              "      <td>61.91</td>\n",
              "    </tr>\n",
              "    <tr>\n",
              "      <th>3</th>\n",
              "      <td>Angola</td>\n",
              "      <td>2021-02-22</td>\n",
              "      <td>2.56</td>\n",
              "      <td>41.03</td>\n",
              "      <td>0.0</td>\n",
              "      <td>0.0</td>\n",
              "      <td>0.00</td>\n",
              "      <td>0.0</td>\n",
              "      <td>0.0</td>\n",
              "      <td>0.0</td>\n",
              "      <td>0.0</td>\n",
              "      <td>0.0</td>\n",
              "      <td>0.0</td>\n",
              "      <td>56.41</td>\n",
              "    </tr>\n",
              "    <tr>\n",
              "      <th>4</th>\n",
              "      <td>Angola</td>\n",
              "      <td>2021-03-08</td>\n",
              "      <td>6.19</td>\n",
              "      <td>61.06</td>\n",
              "      <td>0.0</td>\n",
              "      <td>0.0</td>\n",
              "      <td>0.00</td>\n",
              "      <td>0.0</td>\n",
              "      <td>0.0</td>\n",
              "      <td>0.0</td>\n",
              "      <td>0.0</td>\n",
              "      <td>0.0</td>\n",
              "      <td>0.0</td>\n",
              "      <td>32.75</td>\n",
              "    </tr>\n",
              "    <tr>\n",
              "      <th>...</th>\n",
              "      <td>...</td>\n",
              "      <td>...</td>\n",
              "      <td>...</td>\n",
              "      <td>...</td>\n",
              "      <td>...</td>\n",
              "      <td>...</td>\n",
              "      <td>...</td>\n",
              "      <td>...</td>\n",
              "      <td>...</td>\n",
              "      <td>...</td>\n",
              "      <td>...</td>\n",
              "      <td>...</td>\n",
              "      <td>...</td>\n",
              "      <td>...</td>\n",
              "    </tr>\n",
              "    <tr>\n",
              "      <th>2249</th>\n",
              "      <td>Zimbabwe</td>\n",
              "      <td>2021-01-11</td>\n",
              "      <td>0.00</td>\n",
              "      <td>95.61</td>\n",
              "      <td>0.0</td>\n",
              "      <td>0.0</td>\n",
              "      <td>0.00</td>\n",
              "      <td>0.0</td>\n",
              "      <td>0.0</td>\n",
              "      <td>0.0</td>\n",
              "      <td>0.0</td>\n",
              "      <td>0.0</td>\n",
              "      <td>0.0</td>\n",
              "      <td>4.39</td>\n",
              "    </tr>\n",
              "    <tr>\n",
              "      <th>2250</th>\n",
              "      <td>Zimbabwe</td>\n",
              "      <td>2021-01-25</td>\n",
              "      <td>0.00</td>\n",
              "      <td>94.74</td>\n",
              "      <td>0.0</td>\n",
              "      <td>0.0</td>\n",
              "      <td>0.00</td>\n",
              "      <td>0.0</td>\n",
              "      <td>0.0</td>\n",
              "      <td>0.0</td>\n",
              "      <td>0.0</td>\n",
              "      <td>0.0</td>\n",
              "      <td>0.0</td>\n",
              "      <td>5.26</td>\n",
              "    </tr>\n",
              "    <tr>\n",
              "      <th>2251</th>\n",
              "      <td>Zimbabwe</td>\n",
              "      <td>2021-02-08</td>\n",
              "      <td>0.00</td>\n",
              "      <td>100.00</td>\n",
              "      <td>0.0</td>\n",
              "      <td>0.0</td>\n",
              "      <td>0.00</td>\n",
              "      <td>0.0</td>\n",
              "      <td>0.0</td>\n",
              "      <td>0.0</td>\n",
              "      <td>0.0</td>\n",
              "      <td>0.0</td>\n",
              "      <td>0.0</td>\n",
              "      <td>0.00</td>\n",
              "    </tr>\n",
              "    <tr>\n",
              "      <th>2252</th>\n",
              "      <td>Zimbabwe</td>\n",
              "      <td>2021-07-12</td>\n",
              "      <td>0.00</td>\n",
              "      <td>0.00</td>\n",
              "      <td>100.0</td>\n",
              "      <td>0.0</td>\n",
              "      <td>0.00</td>\n",
              "      <td>0.0</td>\n",
              "      <td>0.0</td>\n",
              "      <td>0.0</td>\n",
              "      <td>0.0</td>\n",
              "      <td>0.0</td>\n",
              "      <td>0.0</td>\n",
              "      <td>0.00</td>\n",
              "    </tr>\n",
              "    <tr>\n",
              "      <th>2253</th>\n",
              "      <td>Zimbabwe</td>\n",
              "      <td>2021-07-26</td>\n",
              "      <td>0.00</td>\n",
              "      <td>0.00</td>\n",
              "      <td>100.0</td>\n",
              "      <td>0.0</td>\n",
              "      <td>0.00</td>\n",
              "      <td>0.0</td>\n",
              "      <td>0.0</td>\n",
              "      <td>0.0</td>\n",
              "      <td>0.0</td>\n",
              "      <td>0.0</td>\n",
              "      <td>0.0</td>\n",
              "      <td>0.00</td>\n",
              "    </tr>\n",
              "  </tbody>\n",
              "</table>\n",
              "<p>2254 rows × 14 columns</p>\n",
              "</div>"
            ],
            "text/plain": [
              "variant  location       date  Alpha    Beta  ...  Lambda   Mu  Omicron  non_who\n",
              "0          Angola 2020-12-21   0.00   74.19  ...     0.0  0.0      0.0    24.73\n",
              "1          Angola 2021-01-25   5.77    3.85  ...     0.0  0.0      0.0    90.38\n",
              "2          Angola 2021-02-08   9.52   28.57  ...     0.0  0.0      0.0    61.91\n",
              "3          Angola 2021-02-22   2.56   41.03  ...     0.0  0.0      0.0    56.41\n",
              "4          Angola 2021-03-08   6.19   61.06  ...     0.0  0.0      0.0    32.75\n",
              "...           ...        ...    ...     ...  ...     ...  ...      ...      ...\n",
              "2249     Zimbabwe 2021-01-11   0.00   95.61  ...     0.0  0.0      0.0     4.39\n",
              "2250     Zimbabwe 2021-01-25   0.00   94.74  ...     0.0  0.0      0.0     5.26\n",
              "2251     Zimbabwe 2021-02-08   0.00  100.00  ...     0.0  0.0      0.0     0.00\n",
              "2252     Zimbabwe 2021-07-12   0.00    0.00  ...     0.0  0.0      0.0     0.00\n",
              "2253     Zimbabwe 2021-07-26   0.00    0.00  ...     0.0  0.0      0.0     0.00\n",
              "\n",
              "[2254 rows x 14 columns]"
            ]
          },
          "metadata": {},
          "execution_count": 40
        }
      ]
    },
    {
      "cell_type": "code",
      "metadata": {
        "colab": {
          "base_uri": "https://localhost:8080/"
        },
        "id": "TtmXq1L3upX2",
        "outputId": "0a6efe47-b4a7-4dde-c907-8b7c71eb086f"
      },
      "source": [
        "variants3.info()"
      ],
      "execution_count": 41,
      "outputs": [
        {
          "output_type": "stream",
          "name": "stdout",
          "text": [
            "<class 'pandas.core.frame.DataFrame'>\n",
            "RangeIndex: 2254 entries, 0 to 2253\n",
            "Data columns (total 14 columns):\n",
            " #   Column    Non-Null Count  Dtype         \n",
            "---  ------    --------------  -----         \n",
            " 0   location  2254 non-null   object        \n",
            " 1   date      2254 non-null   datetime64[ns]\n",
            " 2   Alpha     2254 non-null   float64       \n",
            " 3   Beta      2254 non-null   float64       \n",
            " 4   Delta     2254 non-null   float64       \n",
            " 5   Epsilon   2254 non-null   float64       \n",
            " 6   Eta       2254 non-null   float64       \n",
            " 7   Gamma     2254 non-null   float64       \n",
            " 8   Iota      2254 non-null   float64       \n",
            " 9   Kappa     2254 non-null   float64       \n",
            " 10  Lambda    2254 non-null   float64       \n",
            " 11  Mu        2254 non-null   float64       \n",
            " 12  Omicron   2254 non-null   float64       \n",
            " 13  non_who   2254 non-null   float64       \n",
            "dtypes: datetime64[ns](1), float64(12), object(1)\n",
            "memory usage: 246.7+ KB\n"
          ]
        }
      ]
    },
    {
      "cell_type": "markdown",
      "metadata": {
        "id": "Axl8CXTx43pD"
      },
      "source": [
        "We want to increase the amount of data available.  We will do this by:\n",
        "1. Populating dates between each 2-week date stamp.  The values will be the average of the previous and following week's data.\n",
        "2. Creating a 'Global' location for each week who's values will be the average of all available locations for that week."
      ]
    },
    {
      "cell_type": "code",
      "metadata": {
        "colab": {
          "base_uri": "https://localhost:8080/"
        },
        "id": "UvDPAiJg4u9E",
        "outputId": "7205b716-d44b-4ec3-b498-62f89bd0c326"
      },
      "source": [
        "dates_new = variants3.date[:-1] + pd.Timedelta('1W')\n",
        "dates_new"
      ],
      "execution_count": 52,
      "outputs": [
        {
          "output_type": "execute_result",
          "data": {
            "text/plain": [
              "0      2020-12-28\n",
              "1      2021-02-01\n",
              "2      2021-02-15\n",
              "3      2021-03-01\n",
              "4      2021-03-15\n",
              "          ...    \n",
              "2248   2021-01-11\n",
              "2249   2021-01-18\n",
              "2250   2021-02-01\n",
              "2251   2021-02-15\n",
              "2252   2021-07-19\n",
              "Name: date, Length: 2253, dtype: datetime64[ns]"
            ]
          },
          "metadata": {},
          "execution_count": 52
        }
      ]
    },
    {
      "cell_type": "code",
      "metadata": {
        "colab": {
          "base_uri": "https://localhost:8080/"
        },
        "id": "gTqu38m59Nbk",
        "outputId": "7fcab2f6-5545-46bf-9d99-45244a7ce3d0"
      },
      "source": [
        "variants3.date[0]+pd.Timedelta('1W')"
      ],
      "execution_count": 54,
      "outputs": [
        {
          "output_type": "execute_result",
          "data": {
            "text/plain": [
              "Timestamp('2020-12-28 00:00:00')"
            ]
          },
          "metadata": {},
          "execution_count": 54
        }
      ]
    },
    {
      "cell_type": "code",
      "metadata": {
        "id": "bSaeOmIi4ugk"
      },
      "source": [
        "# create a new dataframe based on the existing one, which will be populated with the dates between each 2-week datestamp. The values will be the average of the previous and following week's data.\n",
        "def edit_week(df, row1, row2, cols):\n",
        "    ''' If the two 2nd row is two weeks after the first row in the same location,\n",
        "    modify the first row so that its date is between the two dates and the variant data\n",
        "    contains the average values of the two rows (for the columns in cols).\n",
        "    Note: The df must be sorted by Location and Date!\n",
        "\n",
        "    df: the dataframe that will be modified\n",
        "    row1: the name of the row to be modified\n",
        "    row2: the name of the 2nd row to be checked/averaged\n",
        "    cols: a list of the columns to be averaged'''\n",
        "    if (df.location[row1] == df.location[row2]) and (df.date[row2] == df.date[row1]+pd.Timedelta('2W')):\n",
        "        df.loc[row1, 'date'] = df.loc[row1, 'date'] + pd.Timedelta('1W')\n",
        "        df.loc[row1,cols] = (df.loc[row1,cols] + df.loc[row2,cols])/2\n",
        "    else:\n",
        "        df.drop(row1, inplace=True)\n",
        "    return df"
      ],
      "execution_count": 94,
      "outputs": []
    },
    {
      "cell_type": "code",
      "metadata": {
        "id": "-WcUCrAHV0G7"
      },
      "source": [
        "variants3W = variants3.copy()\n",
        "cols = variants3.columns[2:].to_list() # identify the columns that have the variant data\n",
        "idx = variants3.index\n",
        "for n in range(len(idx)-1):\n",
        "    variants3W = edit_week(variants3W, idx[n], idx[n+1], cols)\n",
        "variants3W.drop(idx[-1], inplace=True) # drop the last row"
      ],
      "execution_count": 91,
      "outputs": []
    },
    {
      "cell_type": "code",
      "metadata": {
        "id": "bMNaPjPYV0DC",
        "outputId": "f28463ed-5f73-4787-bd06-a41573ba9965",
        "colab": {
          "base_uri": "https://localhost:8080/"
        }
      },
      "source": [
        "variants3W.info()"
      ],
      "execution_count": 92,
      "outputs": [
        {
          "output_type": "stream",
          "name": "stdout",
          "text": [
            "<class 'pandas.core.frame.DataFrame'>\n",
            "Int64Index: 1902 entries, 1 to 2252\n",
            "Data columns (total 14 columns):\n",
            " #   Column    Non-Null Count  Dtype         \n",
            "---  ------    --------------  -----         \n",
            " 0   location  1902 non-null   object        \n",
            " 1   date      1902 non-null   datetime64[ns]\n",
            " 2   Alpha     1902 non-null   float64       \n",
            " 3   Beta      1902 non-null   float64       \n",
            " 4   Delta     1902 non-null   float64       \n",
            " 5   Epsilon   1902 non-null   float64       \n",
            " 6   Eta       1902 non-null   float64       \n",
            " 7   Gamma     1902 non-null   float64       \n",
            " 8   Iota      1902 non-null   float64       \n",
            " 9   Kappa     1902 non-null   float64       \n",
            " 10  Lambda    1902 non-null   float64       \n",
            " 11  Mu        1902 non-null   float64       \n",
            " 12  Omicron   1902 non-null   float64       \n",
            " 13  non_who   1902 non-null   float64       \n",
            "dtypes: datetime64[ns](1), float64(12), object(1)\n",
            "memory usage: 222.9+ KB\n"
          ]
        }
      ]
    },
    {
      "cell_type": "code",
      "metadata": {
        "id": "CYZvs6gkVz5r",
        "outputId": "b56c5e49-5f10-4530-8328-55c37d05872d",
        "colab": {
          "base_uri": "https://localhost:8080/",
          "height": 206
        }
      },
      "source": [
        "variants4 = variants3.append(variants3W)\n",
        "variants4.sort_values(by=['location','date'], inplace=True)\n",
        "variants4.reset_index(drop=True, inplace=True)\n",
        "variants4.head()"
      ],
      "execution_count": 102,
      "outputs": [
        {
          "output_type": "execute_result",
          "data": {
            "text/html": [
              "<div>\n",
              "<style scoped>\n",
              "    .dataframe tbody tr th:only-of-type {\n",
              "        vertical-align: middle;\n",
              "    }\n",
              "\n",
              "    .dataframe tbody tr th {\n",
              "        vertical-align: top;\n",
              "    }\n",
              "\n",
              "    .dataframe thead th {\n",
              "        text-align: right;\n",
              "    }\n",
              "</style>\n",
              "<table border=\"1\" class=\"dataframe\">\n",
              "  <thead>\n",
              "    <tr style=\"text-align: right;\">\n",
              "      <th>variant</th>\n",
              "      <th>location</th>\n",
              "      <th>date</th>\n",
              "      <th>Alpha</th>\n",
              "      <th>Beta</th>\n",
              "      <th>Delta</th>\n",
              "      <th>Epsilon</th>\n",
              "      <th>Eta</th>\n",
              "      <th>Gamma</th>\n",
              "      <th>Iota</th>\n",
              "      <th>Kappa</th>\n",
              "      <th>Lambda</th>\n",
              "      <th>Mu</th>\n",
              "      <th>Omicron</th>\n",
              "      <th>non_who</th>\n",
              "    </tr>\n",
              "  </thead>\n",
              "  <tbody>\n",
              "    <tr>\n",
              "      <th>0</th>\n",
              "      <td>Angola</td>\n",
              "      <td>2020-12-21</td>\n",
              "      <td>0.000</td>\n",
              "      <td>74.19</td>\n",
              "      <td>0.0</td>\n",
              "      <td>0.0</td>\n",
              "      <td>1.08</td>\n",
              "      <td>0.0</td>\n",
              "      <td>0.0</td>\n",
              "      <td>0.0</td>\n",
              "      <td>0.0</td>\n",
              "      <td>0.0</td>\n",
              "      <td>0.0</td>\n",
              "      <td>24.730</td>\n",
              "    </tr>\n",
              "    <tr>\n",
              "      <th>1</th>\n",
              "      <td>Angola</td>\n",
              "      <td>2021-01-25</td>\n",
              "      <td>5.770</td>\n",
              "      <td>3.85</td>\n",
              "      <td>0.0</td>\n",
              "      <td>0.0</td>\n",
              "      <td>0.00</td>\n",
              "      <td>0.0</td>\n",
              "      <td>0.0</td>\n",
              "      <td>0.0</td>\n",
              "      <td>0.0</td>\n",
              "      <td>0.0</td>\n",
              "      <td>0.0</td>\n",
              "      <td>90.380</td>\n",
              "    </tr>\n",
              "    <tr>\n",
              "      <th>2</th>\n",
              "      <td>Angola</td>\n",
              "      <td>2021-02-01</td>\n",
              "      <td>7.645</td>\n",
              "      <td>16.21</td>\n",
              "      <td>0.0</td>\n",
              "      <td>0.0</td>\n",
              "      <td>0.00</td>\n",
              "      <td>0.0</td>\n",
              "      <td>0.0</td>\n",
              "      <td>0.0</td>\n",
              "      <td>0.0</td>\n",
              "      <td>0.0</td>\n",
              "      <td>0.0</td>\n",
              "      <td>76.145</td>\n",
              "    </tr>\n",
              "    <tr>\n",
              "      <th>3</th>\n",
              "      <td>Angola</td>\n",
              "      <td>2021-02-08</td>\n",
              "      <td>9.520</td>\n",
              "      <td>28.57</td>\n",
              "      <td>0.0</td>\n",
              "      <td>0.0</td>\n",
              "      <td>0.00</td>\n",
              "      <td>0.0</td>\n",
              "      <td>0.0</td>\n",
              "      <td>0.0</td>\n",
              "      <td>0.0</td>\n",
              "      <td>0.0</td>\n",
              "      <td>0.0</td>\n",
              "      <td>61.910</td>\n",
              "    </tr>\n",
              "    <tr>\n",
              "      <th>4</th>\n",
              "      <td>Angola</td>\n",
              "      <td>2021-02-15</td>\n",
              "      <td>6.040</td>\n",
              "      <td>34.80</td>\n",
              "      <td>0.0</td>\n",
              "      <td>0.0</td>\n",
              "      <td>0.00</td>\n",
              "      <td>0.0</td>\n",
              "      <td>0.0</td>\n",
              "      <td>0.0</td>\n",
              "      <td>0.0</td>\n",
              "      <td>0.0</td>\n",
              "      <td>0.0</td>\n",
              "      <td>59.160</td>\n",
              "    </tr>\n",
              "  </tbody>\n",
              "</table>\n",
              "</div>"
            ],
            "text/plain": [
              "variant location       date  Alpha   Beta  ...  Lambda   Mu  Omicron  non_who\n",
              "0         Angola 2020-12-21  0.000  74.19  ...     0.0  0.0      0.0   24.730\n",
              "1         Angola 2021-01-25  5.770   3.85  ...     0.0  0.0      0.0   90.380\n",
              "2         Angola 2021-02-01  7.645  16.21  ...     0.0  0.0      0.0   76.145\n",
              "3         Angola 2021-02-08  9.520  28.57  ...     0.0  0.0      0.0   61.910\n",
              "4         Angola 2021-02-15  6.040  34.80  ...     0.0  0.0      0.0   59.160\n",
              "\n",
              "[5 rows x 14 columns]"
            ]
          },
          "metadata": {},
          "execution_count": 102
        }
      ]
    },
    {
      "cell_type": "code",
      "metadata": {
        "id": "f59lTWGpydxr",
        "outputId": "9a3e6630-d331-4686-dd13-09791408c094",
        "colab": {
          "base_uri": "https://localhost:8080/"
        }
      },
      "source": [
        "variants4.shape"
      ],
      "execution_count": 113,
      "outputs": [
        {
          "output_type": "execute_result",
          "data": {
            "text/plain": [
              "(4156, 14)"
            ]
          },
          "metadata": {},
          "execution_count": 113
        }
      ]
    },
    {
      "cell_type": "markdown",
      "metadata": {
        "id": "MbtEC2uxfIye"
      },
      "source": [
        "### Create a 'Global' location\n",
        "With the average of all the countries data."
      ]
    },
    {
      "cell_type": "code",
      "metadata": {
        "id": "woadlGFcgLNB",
        "outputId": "501f6a16-00de-4bd9-f6a5-f0375965b2c4",
        "colab": {
          "base_uri": "https://localhost:8080/",
          "height": 206
        }
      },
      "source": [
        "variants_glob = variants4.groupby('date').mean()\n",
        "variants_glob['date'] = variants_glob.index\n",
        "variants_glob['location'] = 'Global'\n",
        "variants5 = variants4.append(variants_glob)\n",
        "variants5.reset_index(drop=True, inplace=True)\n",
        "variants5.tail()"
      ],
      "execution_count": 112,
      "outputs": [
        {
          "output_type": "execute_result",
          "data": {
            "text/html": [
              "<div>\n",
              "<style scoped>\n",
              "    .dataframe tbody tr th:only-of-type {\n",
              "        vertical-align: middle;\n",
              "    }\n",
              "\n",
              "    .dataframe tbody tr th {\n",
              "        vertical-align: top;\n",
              "    }\n",
              "\n",
              "    .dataframe thead th {\n",
              "        text-align: right;\n",
              "    }\n",
              "</style>\n",
              "<table border=\"1\" class=\"dataframe\">\n",
              "  <thead>\n",
              "    <tr style=\"text-align: right;\">\n",
              "      <th></th>\n",
              "      <th>location</th>\n",
              "      <th>date</th>\n",
              "      <th>Alpha</th>\n",
              "      <th>Beta</th>\n",
              "      <th>Delta</th>\n",
              "      <th>Epsilon</th>\n",
              "      <th>Eta</th>\n",
              "      <th>Gamma</th>\n",
              "      <th>Iota</th>\n",
              "      <th>Kappa</th>\n",
              "      <th>Lambda</th>\n",
              "      <th>Mu</th>\n",
              "      <th>Omicron</th>\n",
              "      <th>non_who</th>\n",
              "    </tr>\n",
              "  </thead>\n",
              "  <tbody>\n",
              "    <tr>\n",
              "      <th>4232</th>\n",
              "      <td>Global</td>\n",
              "      <td>2021-10-25</td>\n",
              "      <td>0.309245</td>\n",
              "      <td>0.028868</td>\n",
              "      <td>98.957453</td>\n",
              "      <td>0.0</td>\n",
              "      <td>0.000094</td>\n",
              "      <td>0.150566</td>\n",
              "      <td>0.0</td>\n",
              "      <td>0.000000</td>\n",
              "      <td>0.050189</td>\n",
              "      <td>0.340943</td>\n",
              "      <td>0.000000</td>\n",
              "      <td>0.162642</td>\n",
              "    </tr>\n",
              "    <tr>\n",
              "      <th>4233</th>\n",
              "      <td>Global</td>\n",
              "      <td>2021-11-01</td>\n",
              "      <td>0.082982</td>\n",
              "      <td>0.024386</td>\n",
              "      <td>98.388246</td>\n",
              "      <td>0.0</td>\n",
              "      <td>0.000175</td>\n",
              "      <td>0.421930</td>\n",
              "      <td>0.0</td>\n",
              "      <td>0.000000</td>\n",
              "      <td>0.711053</td>\n",
              "      <td>0.261228</td>\n",
              "      <td>0.000000</td>\n",
              "      <td>0.110000</td>\n",
              "    </tr>\n",
              "    <tr>\n",
              "      <th>4234</th>\n",
              "      <td>Global</td>\n",
              "      <td>2021-11-08</td>\n",
              "      <td>0.103571</td>\n",
              "      <td>0.000000</td>\n",
              "      <td>99.593714</td>\n",
              "      <td>0.0</td>\n",
              "      <td>0.000143</td>\n",
              "      <td>0.005000</td>\n",
              "      <td>0.0</td>\n",
              "      <td>0.000429</td>\n",
              "      <td>0.004000</td>\n",
              "      <td>0.244714</td>\n",
              "      <td>0.000000</td>\n",
              "      <td>0.048429</td>\n",
              "    </tr>\n",
              "    <tr>\n",
              "      <th>4235</th>\n",
              "      <td>Global</td>\n",
              "      <td>2021-11-15</td>\n",
              "      <td>0.069487</td>\n",
              "      <td>0.000000</td>\n",
              "      <td>99.452051</td>\n",
              "      <td>0.0</td>\n",
              "      <td>0.000000</td>\n",
              "      <td>0.000000</td>\n",
              "      <td>0.0</td>\n",
              "      <td>0.000769</td>\n",
              "      <td>0.007179</td>\n",
              "      <td>0.182564</td>\n",
              "      <td>0.126154</td>\n",
              "      <td>0.161795</td>\n",
              "    </tr>\n",
              "    <tr>\n",
              "      <th>4236</th>\n",
              "      <td>Global</td>\n",
              "      <td>2021-11-26</td>\n",
              "      <td>0.000000</td>\n",
              "      <td>0.000000</td>\n",
              "      <td>98.912857</td>\n",
              "      <td>0.0</td>\n",
              "      <td>0.000000</td>\n",
              "      <td>0.155714</td>\n",
              "      <td>0.0</td>\n",
              "      <td>0.000000</td>\n",
              "      <td>0.000000</td>\n",
              "      <td>0.931429</td>\n",
              "      <td>0.000000</td>\n",
              "      <td>0.000000</td>\n",
              "    </tr>\n",
              "  </tbody>\n",
              "</table>\n",
              "</div>"
            ],
            "text/plain": [
              "     location       date     Alpha  ...        Mu   Omicron   non_who\n",
              "4232   Global 2021-10-25  0.309245  ...  0.340943  0.000000  0.162642\n",
              "4233   Global 2021-11-01  0.082982  ...  0.261228  0.000000  0.110000\n",
              "4234   Global 2021-11-08  0.103571  ...  0.244714  0.000000  0.048429\n",
              "4235   Global 2021-11-15  0.069487  ...  0.182564  0.126154  0.161795\n",
              "4236   Global 2021-11-26  0.000000  ...  0.931429  0.000000  0.000000\n",
              "\n",
              "[5 rows x 14 columns]"
            ]
          },
          "metadata": {},
          "execution_count": 112
        }
      ]
    },
    {
      "cell_type": "code",
      "metadata": {
        "id": "P4sYljJZfH3p"
      },
      "source": [
        ""
      ],
      "execution_count": null,
      "outputs": []
    },
    {
      "cell_type": "code",
      "metadata": {
        "id": "hxPuNF09fHzL"
      },
      "source": [
        ""
      ],
      "execution_count": null,
      "outputs": []
    },
    {
      "cell_type": "code",
      "metadata": {
        "id": "fwy4dRnWfHu_"
      },
      "source": [
        ""
      ],
      "execution_count": null,
      "outputs": []
    },
    {
      "cell_type": "code",
      "metadata": {
        "id": "tZDS7oAQfHr4"
      },
      "source": [
        ""
      ],
      "execution_count": null,
      "outputs": []
    },
    {
      "cell_type": "code",
      "metadata": {
        "id": "vkITZD1UfHoa"
      },
      "source": [
        ""
      ],
      "execution_count": null,
      "outputs": []
    },
    {
      "cell_type": "markdown",
      "metadata": {
        "id": "HPrTc0IF4v3Z"
      },
      "source": [
        "## Merge the OWID and Variant data:"
      ]
    },
    {
      "cell_type": "code",
      "metadata": {
        "id": "EgraJGhWz-X8"
      },
      "source": [
        "owid2 = pd.merge(left=owid, right=variants4,\n",
        "    how=\"inner\",\n",
        "    on=['location', 'date'],\n",
        "    left_index=False,\n",
        "    right_index=False,\n",
        "    sort=False,\n",
        "    copy=True,\n",
        ")"
      ],
      "execution_count": 98,
      "outputs": []
    },
    {
      "cell_type": "code",
      "metadata": {
        "colab": {
          "base_uri": "https://localhost:8080/"
        },
        "id": "7GHN7IzS2CfF",
        "outputId": "0de3bb3f-4154-4eaa-b67f-1ac2bc5840d3"
      },
      "source": [
        "owid2.info()"
      ],
      "execution_count": 99,
      "outputs": [
        {
          "output_type": "stream",
          "name": "stdout",
          "text": [
            "<class 'pandas.core.frame.DataFrame'>\n",
            "Int64Index: 4027 entries, 0 to 4026\n",
            "Data columns (total 30 columns):\n",
            " #   Column                               Non-Null Count  Dtype         \n",
            "---  ------                               --------------  -----         \n",
            " 0   iso_code                             4027 non-null   object        \n",
            " 1   location                             4027 non-null   object        \n",
            " 2   date                                 4027 non-null   datetime64[ns]\n",
            " 3   reproduction_rate                    4027 non-null   float64       \n",
            " 4   new_tests_smoothed_per_thousand      3782 non-null   float64       \n",
            " 5   people_vaccinated_per_hundred        2242 non-null   float64       \n",
            " 6   people_fully_vaccinated_per_hundred  2109 non-null   float64       \n",
            " 7   total_boosters_per_hundred           552 non-null    float64       \n",
            " 8   stringency_index                     3994 non-null   float64       \n",
            " 9   population_density                   4027 non-null   float64       \n",
            " 10  median_age                           4013 non-null   float64       \n",
            " 11  gdp_per_capita                       4026 non-null   float64       \n",
            " 12  extreme_poverty                      2976 non-null   float64       \n",
            " 13  handwashing_facilities               993 non-null    float64       \n",
            " 14  hospital_beds_per_thousand           3910 non-null   float64       \n",
            " 15  life_expectancy                      4014 non-null   float64       \n",
            " 16  human_development_index              4014 non-null   float64       \n",
            " 17  index                                4027 non-null   int64         \n",
            " 18  Alpha                                4027 non-null   float64       \n",
            " 19  Beta                                 4027 non-null   float64       \n",
            " 20  Delta                                4027 non-null   float64       \n",
            " 21  Epsilon                              4027 non-null   float64       \n",
            " 22  Eta                                  4027 non-null   float64       \n",
            " 23  Gamma                                4027 non-null   float64       \n",
            " 24  Iota                                 4027 non-null   float64       \n",
            " 25  Kappa                                4027 non-null   float64       \n",
            " 26  Lambda                               4027 non-null   float64       \n",
            " 27  Mu                                   4027 non-null   float64       \n",
            " 28  Omicron                              4027 non-null   float64       \n",
            " 29  non_who                              4027 non-null   float64       \n",
            "dtypes: datetime64[ns](1), float64(26), int64(1), object(2)\n",
            "memory usage: 975.3+ KB\n"
          ]
        }
      ]
    },
    {
      "cell_type": "code",
      "metadata": {
        "colab": {
          "base_uri": "https://localhost:8080/",
          "height": 312
        },
        "id": "kw8ScSnIz-Ob",
        "outputId": "8bf182fb-9d5d-4ff7-9946-7b71b2adc752"
      },
      "source": [
        "owid2.head()"
      ],
      "execution_count": 44,
      "outputs": [
        {
          "output_type": "execute_result",
          "data": {
            "text/html": [
              "<div>\n",
              "<style scoped>\n",
              "    .dataframe tbody tr th:only-of-type {\n",
              "        vertical-align: middle;\n",
              "    }\n",
              "\n",
              "    .dataframe tbody tr th {\n",
              "        vertical-align: top;\n",
              "    }\n",
              "\n",
              "    .dataframe thead th {\n",
              "        text-align: right;\n",
              "    }\n",
              "</style>\n",
              "<table border=\"1\" class=\"dataframe\">\n",
              "  <thead>\n",
              "    <tr style=\"text-align: right;\">\n",
              "      <th></th>\n",
              "      <th>iso_code</th>\n",
              "      <th>location</th>\n",
              "      <th>date</th>\n",
              "      <th>reproduction_rate</th>\n",
              "      <th>new_tests_smoothed_per_thousand</th>\n",
              "      <th>people_vaccinated_per_hundred</th>\n",
              "      <th>people_fully_vaccinated_per_hundred</th>\n",
              "      <th>total_boosters_per_hundred</th>\n",
              "      <th>stringency_index</th>\n",
              "      <th>population_density</th>\n",
              "      <th>median_age</th>\n",
              "      <th>gdp_per_capita</th>\n",
              "      <th>extreme_poverty</th>\n",
              "      <th>handwashing_facilities</th>\n",
              "      <th>hospital_beds_per_thousand</th>\n",
              "      <th>life_expectancy</th>\n",
              "      <th>human_development_index</th>\n",
              "      <th>Alpha</th>\n",
              "      <th>Beta</th>\n",
              "      <th>Delta</th>\n",
              "      <th>Epsilon</th>\n",
              "      <th>Eta</th>\n",
              "      <th>Gamma</th>\n",
              "      <th>Iota</th>\n",
              "      <th>Kappa</th>\n",
              "      <th>Lambda</th>\n",
              "      <th>Mu</th>\n",
              "      <th>Omicron</th>\n",
              "      <th>non_who</th>\n",
              "    </tr>\n",
              "  </thead>\n",
              "  <tbody>\n",
              "    <tr>\n",
              "      <th>0</th>\n",
              "      <td>AGO</td>\n",
              "      <td>Angola</td>\n",
              "      <td>2020-12-21</td>\n",
              "      <td>0.96</td>\n",
              "      <td>NaN</td>\n",
              "      <td>NaN</td>\n",
              "      <td>NaN</td>\n",
              "      <td>NaN</td>\n",
              "      <td>65.74</td>\n",
              "      <td>23.89</td>\n",
              "      <td>16.8</td>\n",
              "      <td>5819.495</td>\n",
              "      <td>NaN</td>\n",
              "      <td>26.664</td>\n",
              "      <td>NaN</td>\n",
              "      <td>61.15</td>\n",
              "      <td>0.581</td>\n",
              "      <td>0.00</td>\n",
              "      <td>74.19</td>\n",
              "      <td>0.0</td>\n",
              "      <td>0.0</td>\n",
              "      <td>1.08</td>\n",
              "      <td>0.0</td>\n",
              "      <td>0.0</td>\n",
              "      <td>0.0</td>\n",
              "      <td>0.0</td>\n",
              "      <td>0.0</td>\n",
              "      <td>0.0</td>\n",
              "      <td>24.73</td>\n",
              "    </tr>\n",
              "    <tr>\n",
              "      <th>1</th>\n",
              "      <td>AGO</td>\n",
              "      <td>Angola</td>\n",
              "      <td>2021-01-25</td>\n",
              "      <td>0.91</td>\n",
              "      <td>NaN</td>\n",
              "      <td>NaN</td>\n",
              "      <td>NaN</td>\n",
              "      <td>NaN</td>\n",
              "      <td>62.96</td>\n",
              "      <td>23.89</td>\n",
              "      <td>16.8</td>\n",
              "      <td>5819.495</td>\n",
              "      <td>NaN</td>\n",
              "      <td>26.664</td>\n",
              "      <td>NaN</td>\n",
              "      <td>61.15</td>\n",
              "      <td>0.581</td>\n",
              "      <td>5.77</td>\n",
              "      <td>3.85</td>\n",
              "      <td>0.0</td>\n",
              "      <td>0.0</td>\n",
              "      <td>0.00</td>\n",
              "      <td>0.0</td>\n",
              "      <td>0.0</td>\n",
              "      <td>0.0</td>\n",
              "      <td>0.0</td>\n",
              "      <td>0.0</td>\n",
              "      <td>0.0</td>\n",
              "      <td>90.38</td>\n",
              "    </tr>\n",
              "    <tr>\n",
              "      <th>2</th>\n",
              "      <td>AGO</td>\n",
              "      <td>Angola</td>\n",
              "      <td>2021-02-08</td>\n",
              "      <td>0.88</td>\n",
              "      <td>NaN</td>\n",
              "      <td>NaN</td>\n",
              "      <td>NaN</td>\n",
              "      <td>NaN</td>\n",
              "      <td>61.11</td>\n",
              "      <td>23.89</td>\n",
              "      <td>16.8</td>\n",
              "      <td>5819.495</td>\n",
              "      <td>NaN</td>\n",
              "      <td>26.664</td>\n",
              "      <td>NaN</td>\n",
              "      <td>61.15</td>\n",
              "      <td>0.581</td>\n",
              "      <td>9.52</td>\n",
              "      <td>28.57</td>\n",
              "      <td>0.0</td>\n",
              "      <td>0.0</td>\n",
              "      <td>0.00</td>\n",
              "      <td>0.0</td>\n",
              "      <td>0.0</td>\n",
              "      <td>0.0</td>\n",
              "      <td>0.0</td>\n",
              "      <td>0.0</td>\n",
              "      <td>0.0</td>\n",
              "      <td>61.91</td>\n",
              "    </tr>\n",
              "    <tr>\n",
              "      <th>3</th>\n",
              "      <td>AGO</td>\n",
              "      <td>Angola</td>\n",
              "      <td>2021-02-22</td>\n",
              "      <td>0.99</td>\n",
              "      <td>NaN</td>\n",
              "      <td>NaN</td>\n",
              "      <td>NaN</td>\n",
              "      <td>NaN</td>\n",
              "      <td>58.33</td>\n",
              "      <td>23.89</td>\n",
              "      <td>16.8</td>\n",
              "      <td>5819.495</td>\n",
              "      <td>NaN</td>\n",
              "      <td>26.664</td>\n",
              "      <td>NaN</td>\n",
              "      <td>61.15</td>\n",
              "      <td>0.581</td>\n",
              "      <td>2.56</td>\n",
              "      <td>41.03</td>\n",
              "      <td>0.0</td>\n",
              "      <td>0.0</td>\n",
              "      <td>0.00</td>\n",
              "      <td>0.0</td>\n",
              "      <td>0.0</td>\n",
              "      <td>0.0</td>\n",
              "      <td>0.0</td>\n",
              "      <td>0.0</td>\n",
              "      <td>0.0</td>\n",
              "      <td>56.41</td>\n",
              "    </tr>\n",
              "    <tr>\n",
              "      <th>4</th>\n",
              "      <td>AGO</td>\n",
              "      <td>Angola</td>\n",
              "      <td>2021-03-08</td>\n",
              "      <td>1.07</td>\n",
              "      <td>NaN</td>\n",
              "      <td>0.02</td>\n",
              "      <td>NaN</td>\n",
              "      <td>NaN</td>\n",
              "      <td>58.33</td>\n",
              "      <td>23.89</td>\n",
              "      <td>16.8</td>\n",
              "      <td>5819.495</td>\n",
              "      <td>NaN</td>\n",
              "      <td>26.664</td>\n",
              "      <td>NaN</td>\n",
              "      <td>61.15</td>\n",
              "      <td>0.581</td>\n",
              "      <td>6.19</td>\n",
              "      <td>61.06</td>\n",
              "      <td>0.0</td>\n",
              "      <td>0.0</td>\n",
              "      <td>0.00</td>\n",
              "      <td>0.0</td>\n",
              "      <td>0.0</td>\n",
              "      <td>0.0</td>\n",
              "      <td>0.0</td>\n",
              "      <td>0.0</td>\n",
              "      <td>0.0</td>\n",
              "      <td>32.75</td>\n",
              "    </tr>\n",
              "  </tbody>\n",
              "</table>\n",
              "</div>"
            ],
            "text/plain": [
              "  iso_code location       date  ...   Mu  Omicron  non_who\n",
              "0      AGO   Angola 2020-12-21  ...  0.0      0.0    24.73\n",
              "1      AGO   Angola 2021-01-25  ...  0.0      0.0    90.38\n",
              "2      AGO   Angola 2021-02-08  ...  0.0      0.0    61.91\n",
              "3      AGO   Angola 2021-02-22  ...  0.0      0.0    56.41\n",
              "4      AGO   Angola 2021-03-08  ...  0.0      0.0    32.75\n",
              "\n",
              "[5 rows x 29 columns]"
            ]
          },
          "metadata": {},
          "execution_count": 44
        }
      ]
    },
    {
      "cell_type": "code",
      "metadata": {
        "id": "TzXPsnvjz-Ct"
      },
      "source": [
        ""
      ],
      "execution_count": null,
      "outputs": []
    },
    {
      "cell_type": "code",
      "metadata": {
        "id": "-WeFQDf2AlIS"
      },
      "source": [
        "owid.to_parquet('covid_owid_df.parquet') # output to a parquet file"
      ],
      "execution_count": null,
      "outputs": []
    },
    {
      "cell_type": "code",
      "metadata": {
        "id": "JSTP8PWaAx56"
      },
      "source": [
        ""
      ],
      "execution_count": null,
      "outputs": []
    }
  ]
}