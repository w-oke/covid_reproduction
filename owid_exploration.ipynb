{
  "nbformat": 4,
  "nbformat_minor": 0,
  "metadata": {
    "colab": {
      "name": "owid_exploration.ipynb",
      "provenance": [],
      "authorship_tag": "ABX9TyNwR0Rrbfm7E27qV5s4o/tK",
      "include_colab_link": true
    },
    "kernelspec": {
      "name": "python3",
      "display_name": "Python 3"
    },
    "language_info": {
      "name": "python"
    }
  },
  "cells": [
    {
      "cell_type": "markdown",
      "metadata": {
        "id": "view-in-github",
        "colab_type": "text"
      },
      "source": [
        "<a href=\"https://colab.research.google.com/github/w-oke/covid_reproduction/blob/main/owid_exploration.ipynb\" target=\"_parent\"><img src=\"https://colab.research.google.com/assets/colab-badge.svg\" alt=\"Open In Colab\"/></a>"
      ]
    },
    {
      "cell_type": "code",
      "metadata": {
        "id": "vIXW7GbeaT8u"
      },
      "source": [
        "import pandas as pd"
      ],
      "execution_count": null,
      "outputs": []
    },
    {
      "cell_type": "markdown",
      "metadata": {
        "id": "CFKG-7GiaU05"
      },
      "source": [
        "The Our World In Data (OWID) project provides COVID-19 data on its websites at https://ourworldindata.org/coronavirus and https://github.com/owid/covid-19-data/tree/master/public/data\n"
      ]
    },
    {
      "cell_type": "code",
      "metadata": {
        "id": "wNgNIHZrPvxq"
      },
      "source": [
        "owid_link = 'https://github.com/owid/covid-19-data/raw/master/public/data/owid-covid-data.csv'\n",
        "owid_col_desc_link = 'https://github.com/owid/covid-19-data/raw/master/public/data/owid-covid-codebook.csv'\n",
        "owid_col_desc = pd.read_csv(owid_col_desc_link)\n",
        "owid_col_desc.head()"
      ],
      "execution_count": null,
      "outputs": []
    },
    {
      "cell_type": "code",
      "metadata": {
        "id": "rX7Gg4DDbXf7",
        "colab": {
          "base_uri": "https://localhost:8080/"
        },
        "outputId": "708dfb89-2cf8-45a5-947c-9e6e388b3fae"
      },
      "source": [
        "cols = owid_col_desc.column.to_list()\n",
        "cols"
      ],
      "execution_count": null,
      "outputs": [
        {
          "output_type": "execute_result",
          "data": {
            "text/plain": [
              "['iso_code',\n",
              " 'continent',\n",
              " 'location',\n",
              " 'date',\n",
              " 'total_cases',\n",
              " 'new_cases',\n",
              " 'new_cases_smoothed',\n",
              " 'total_deaths',\n",
              " 'new_deaths',\n",
              " 'new_deaths_smoothed',\n",
              " 'total_cases_per_million',\n",
              " 'new_cases_per_million',\n",
              " 'new_cases_smoothed_per_million',\n",
              " 'total_deaths_per_million',\n",
              " 'new_deaths_per_million',\n",
              " 'new_deaths_smoothed_per_million',\n",
              " 'reproduction_rate',\n",
              " 'icu_patients',\n",
              " 'icu_patients_per_million',\n",
              " 'hosp_patients',\n",
              " 'hosp_patients_per_million',\n",
              " 'weekly_icu_admissions',\n",
              " 'weekly_icu_admissions_per_million',\n",
              " 'weekly_hosp_admissions',\n",
              " 'weekly_hosp_admissions_per_million',\n",
              " 'total_tests',\n",
              " 'new_tests',\n",
              " 'total_tests_per_thousand',\n",
              " 'new_tests_per_thousand',\n",
              " 'new_tests_smoothed',\n",
              " 'new_tests_smoothed_per_thousand',\n",
              " 'positive_rate',\n",
              " 'tests_per_case',\n",
              " 'tests_units',\n",
              " 'total_vaccinations',\n",
              " 'people_vaccinated',\n",
              " 'people_fully_vaccinated',\n",
              " 'total_boosters',\n",
              " 'new_vaccinations',\n",
              " 'new_vaccinations_smoothed',\n",
              " 'total_vaccinations_per_hundred',\n",
              " 'people_vaccinated_per_hundred',\n",
              " 'people_fully_vaccinated_per_hundred',\n",
              " 'total_boosters_per_hundred',\n",
              " 'new_vaccinations_smoothed_per_million',\n",
              " 'new_people_vaccinated_smoothed',\n",
              " 'new_people_vaccinated_smoothed_per_hundred',\n",
              " 'stringency_index',\n",
              " 'population',\n",
              " 'population_density',\n",
              " 'median_age',\n",
              " 'aged_65_older',\n",
              " 'aged_70_older',\n",
              " 'gdp_per_capita',\n",
              " 'extreme_poverty',\n",
              " 'cardiovasc_death_rate',\n",
              " 'diabetes_prevalence',\n",
              " 'female_smokers',\n",
              " 'male_smokers',\n",
              " 'handwashing_facilities',\n",
              " 'hospital_beds_per_thousand',\n",
              " 'life_expectancy',\n",
              " 'human_development_index',\n",
              " 'excess_mortality',\n",
              " 'excess_mortality_cumulative',\n",
              " 'excess_mortality_cumulative_absolute',\n",
              " 'excess_mortality_cumulative_per_million']"
            ]
          },
          "metadata": {},
          "execution_count": 8
        }
      ]
    },
    {
      "cell_type": "code",
      "metadata": {
        "id": "cfCiXsDrc8Ny"
      },
      "source": [
        "y_vars = [ # possible independent variables\n",
        " 'new_cases_smoothed_per_million',\n",
        " 'reproduction_rate',\n",
        " 'positive_rate',\n",
        " ]\n",
        "\n",
        "meta_var = [    # metadata - not intended for training\n",
        " 'date',\n",
        " 'iso_code',\n",
        " 'location',\n",
        " 'population',            ]\n",
        "\n",
        "pop_vars = \n",
        "\n",
        "cols = [\n",
        " 'new_tests_smoothed_per_thousand',\n",
        " 'tests_per_case', # inverse of positiviy rate (?)\n",
        " 'tests_units',\n",
        " # 'total_vaccinations',\n",
        " # 'total_vaccinations_per_hundred', # use people_vaccinated & people_fully_vaccinated instead\n",
        " # 'people_vaccinated',\n",
        " 'people_vaccinated_per_hundred',\n",
        " # 'people_fully_vaccinated',\n",
        " 'people_fully_vaccinated_per_hundred',\n",
        " 'total_boosters_per_hundred',\n",
        " 'stringency_index',\n",
        " 'population_density',\n",
        " 'median_age',\n",
        " 'human_development_index',\n",
        " #'aged_65_older',\n",
        " #'aged_70_older',\n",
        " 'gdp_per_capita',\n",
        " 'extreme_poverty',\n",
        " #'cardiovasc_death_rate',\n",
        " #'diabetes_prevalence',\n",
        " #'female_smokers',\n",
        " #'male_smokers',\n",
        " 'handwashing_facilities',\n",
        " 'hospital_beds_per_thousand',\n",
        " 'life_expectancy',\n",
        " ]"
      ],
      "execution_count": null,
      "outputs": []
    },
    {
      "cell_type": "code",
      "metadata": {
        "id": "KyimQktVeszY"
      },
      "source": [
        ""
      ],
      "execution_count": null,
      "outputs": []
    }
  ]
}