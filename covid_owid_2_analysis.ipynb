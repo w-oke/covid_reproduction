<<<<<<< Updated upstream
{
  "nbformat": 4,
  "nbformat_minor": 0,
  "metadata": {
    "colab": {
      "name": "covid_owid_2_analysis.ipynb",
      "provenance": [],
      "authorship_tag": "ABX9TyPrQvGmcGTIp3pb8RcmKmFQ",
      "include_colab_link": true
    },
    "kernelspec": {
      "name": "python3",
      "display_name": "Python 3"
    },
    "language_info": {
      "name": "python"
    }
  },
  "cells": [
    {
      "cell_type": "markdown",
      "metadata": {
        "id": "view-in-github",
        "colab_type": "text"
      },
      "source": [
        "<a href=\"https://colab.research.google.com/github/w-oke/covid_reproduction/blob/main/covid_owid_2_analysis.ipynb\" target=\"_parent\"><img src=\"https://colab.research.google.com/assets/colab-badge.svg\" alt=\"Open In Colab\"/></a>"
      ]
    },
    {
      "cell_type": "markdown",
      "metadata": {
        "id": "AcknS606OT5D"
      },
      "source": [
        "The data loaded in this Notebook is based on the output of: covid_owid_1_preparation.ipynb, which can be accessed from:\n",
        "https://github.com/w-oke/covid_reproduction."
      ]
    },
    {
      "cell_type": "code",
      "metadata": {
        "id": "vIXW7GbeaT8u"
      },
      "source": [
        "import pandas as pd\n",
        "import urllib.request\n",
        "import pickle"
      ],
      "execution_count": null,
      "outputs": []
    },
    {
      "cell_type": "code",
      "metadata": {
        "id": "laGKjQDkPOML",
        "colab": {
          "base_uri": "https://localhost:8080/"
        },
        "outputId": "d2befa8a-3e09-4adc-c700-ff5198d6b674"
      },
      "source": [
        "df_link = 'https://github.com/w-oke/covid_reproduction/raw/main/covid_owid_df.parquet'\n",
        "df1 = pd.read_parquet(df_link)\n",
        "df1.info()"
      ],
      "execution_count": null,
      "outputs": [
        {
          "output_type": "stream",
          "name": "stdout",
          "text": [
            "<class 'pandas.core.frame.DataFrame'>\n",
            "RangeIndex: 14301 entries, 0 to 14300\n",
            "Data columns (total 29 columns):\n",
            " #   Column                               Non-Null Count  Dtype         \n",
            "---  ------                               --------------  -----         \n",
            " 0   iso_code                             14301 non-null  object        \n",
            " 1   location                             14301 non-null  object        \n",
            " 2   date                                 14301 non-null  datetime64[ns]\n",
            " 3   reproduction_rate                    14301 non-null  float64       \n",
            " 4   new_tests_smoothed_per_thousand      8803 non-null   float64       \n",
            " 5   people_vaccinated_per_hundred        4093 non-null   float64       \n",
            " 6   people_fully_vaccinated_per_hundred  3690 non-null   float64       \n",
            " 7   total_boosters_per_hundred           738 non-null    float64       \n",
            " 8   stringency_index                     13289 non-null  float64       \n",
            " 9   population_density                   14064 non-null  float64       \n",
            " 10  median_age                           13854 non-null  float64       \n",
            " 11  gdp_per_capita                       13765 non-null  float64       \n",
            " 12  extreme_poverty                      9549 non-null   float64       \n",
            " 13  handwashing_facilities               7151 non-null   float64       \n",
            " 14  hospital_beds_per_thousand           12736 non-null  float64       \n",
            " 15  life_expectancy                      14221 non-null  float64       \n",
            " 16  human_development_index              13907 non-null  float64       \n",
            " 17  Alpha                                14301 non-null  float64       \n",
            " 18  Beta                                 14301 non-null  float64       \n",
            " 19  Delta                                14301 non-null  float64       \n",
            " 20  Epsilon                              14301 non-null  float64       \n",
            " 21  Eta                                  14301 non-null  float64       \n",
            " 22  Gamma                                14301 non-null  float64       \n",
            " 23  Iota                                 14301 non-null  float64       \n",
            " 24  Kappa                                14301 non-null  float64       \n",
            " 25  Lambda                               14301 non-null  float64       \n",
            " 26  Mu                                   14301 non-null  float64       \n",
            " 27  Omicron                              14301 non-null  float64       \n",
            " 28  non_who                              14301 non-null  float64       \n",
            "dtypes: datetime64[ns](1), float64(26), object(2)\n",
            "memory usage: 3.2+ MB\n"
          ]
        }
      ]
    },
    {
      "cell_type": "markdown",
      "metadata": {
        "id": "9HUGvAwBPxHS"
      },
      "source": [
        ""
      ]
    },
    {
      "cell_type": "markdown",
      "metadata": {
        "id": "xa4LYsEmzN7W"
      },
      "source": [
        "Note that:\n",
        "* about half the data has 'handwashing_facilities', 'extreme_poverty', and 'new_tests_smoothed_per_thousand'\n",
        "* about a quarter of the data has vaccination data\n",
        "\n",
        "It is thought that the reason that many of the vaccination and booster data values are null is due to the timeframes (2019-2020) and countries where no vaccinations were available or provided.  Most of these values could therefore be filled with 0 (zero).\n"
      ]
    },
    {
      "cell_type": "code",
      "metadata": {
        "id": "J3T5Y1ITPOEp",
        "colab": {
          "base_uri": "https://localhost:8080/",
          "height": 312
        },
        "outputId": "aa238f8d-2ca2-45d7-b2bc-c1419ebc0b63"
      },
      "source": [
        "df1.head()"
      ],
      "execution_count": null,
      "outputs": [
        {
          "output_type": "execute_result",
          "data": {
            "text/html": [
              "<div>\n",
              "<style scoped>\n",
              "    .dataframe tbody tr th:only-of-type {\n",
              "        vertical-align: middle;\n",
              "    }\n",
              "\n",
              "    .dataframe tbody tr th {\n",
              "        vertical-align: top;\n",
              "    }\n",
              "\n",
              "    .dataframe thead th {\n",
              "        text-align: right;\n",
              "    }\n",
              "</style>\n",
              "<table border=\"1\" class=\"dataframe\">\n",
              "  <thead>\n",
              "    <tr style=\"text-align: right;\">\n",
              "      <th></th>\n",
              "      <th>iso_code</th>\n",
              "      <th>location</th>\n",
              "      <th>date</th>\n",
              "      <th>reproduction_rate</th>\n",
              "      <th>new_tests_smoothed_per_thousand</th>\n",
              "      <th>people_vaccinated_per_hundred</th>\n",
              "      <th>people_fully_vaccinated_per_hundred</th>\n",
              "      <th>total_boosters_per_hundred</th>\n",
              "      <th>stringency_index</th>\n",
              "      <th>population_density</th>\n",
              "      <th>median_age</th>\n",
              "      <th>gdp_per_capita</th>\n",
              "      <th>extreme_poverty</th>\n",
              "      <th>handwashing_facilities</th>\n",
              "      <th>hospital_beds_per_thousand</th>\n",
              "      <th>life_expectancy</th>\n",
              "      <th>human_development_index</th>\n",
              "      <th>Alpha</th>\n",
              "      <th>Beta</th>\n",
              "      <th>Delta</th>\n",
              "      <th>Epsilon</th>\n",
              "      <th>Eta</th>\n",
              "      <th>Gamma</th>\n",
              "      <th>Iota</th>\n",
              "      <th>Kappa</th>\n",
              "      <th>Lambda</th>\n",
              "      <th>Mu</th>\n",
              "      <th>Omicron</th>\n",
              "      <th>non_who</th>\n",
              "    </tr>\n",
              "  </thead>\n",
              "  <tbody>\n",
              "    <tr>\n",
              "      <th>0</th>\n",
              "      <td>AGO</td>\n",
              "      <td>Angola</td>\n",
              "      <td>2020-12-21</td>\n",
              "      <td>0.96</td>\n",
              "      <td>NaN</td>\n",
              "      <td>NaN</td>\n",
              "      <td>NaN</td>\n",
              "      <td>NaN</td>\n",
              "      <td>65.74</td>\n",
              "      <td>23.89</td>\n",
              "      <td>16.8</td>\n",
              "      <td>5819.495</td>\n",
              "      <td>NaN</td>\n",
              "      <td>26.664</td>\n",
              "      <td>NaN</td>\n",
              "      <td>61.15</td>\n",
              "      <td>0.581</td>\n",
              "      <td>0.000</td>\n",
              "      <td>74.19</td>\n",
              "      <td>0.0</td>\n",
              "      <td>0.0</td>\n",
              "      <td>1.08</td>\n",
              "      <td>0.0</td>\n",
              "      <td>0.0</td>\n",
              "      <td>0.0</td>\n",
              "      <td>0.0</td>\n",
              "      <td>0.0</td>\n",
              "      <td>0.0</td>\n",
              "      <td>24.730</td>\n",
              "    </tr>\n",
              "    <tr>\n",
              "      <th>1</th>\n",
              "      <td>AGO</td>\n",
              "      <td>Angola</td>\n",
              "      <td>2021-01-25</td>\n",
              "      <td>0.91</td>\n",
              "      <td>NaN</td>\n",
              "      <td>NaN</td>\n",
              "      <td>NaN</td>\n",
              "      <td>NaN</td>\n",
              "      <td>62.96</td>\n",
              "      <td>23.89</td>\n",
              "      <td>16.8</td>\n",
              "      <td>5819.495</td>\n",
              "      <td>NaN</td>\n",
              "      <td>26.664</td>\n",
              "      <td>NaN</td>\n",
              "      <td>61.15</td>\n",
              "      <td>0.581</td>\n",
              "      <td>5.770</td>\n",
              "      <td>3.85</td>\n",
              "      <td>0.0</td>\n",
              "      <td>0.0</td>\n",
              "      <td>0.00</td>\n",
              "      <td>0.0</td>\n",
              "      <td>0.0</td>\n",
              "      <td>0.0</td>\n",
              "      <td>0.0</td>\n",
              "      <td>0.0</td>\n",
              "      <td>0.0</td>\n",
              "      <td>90.380</td>\n",
              "    </tr>\n",
              "    <tr>\n",
              "      <th>2</th>\n",
              "      <td>AGO</td>\n",
              "      <td>Angola</td>\n",
              "      <td>2021-02-01</td>\n",
              "      <td>0.87</td>\n",
              "      <td>NaN</td>\n",
              "      <td>NaN</td>\n",
              "      <td>NaN</td>\n",
              "      <td>NaN</td>\n",
              "      <td>62.96</td>\n",
              "      <td>23.89</td>\n",
              "      <td>16.8</td>\n",
              "      <td>5819.495</td>\n",
              "      <td>NaN</td>\n",
              "      <td>26.664</td>\n",
              "      <td>NaN</td>\n",
              "      <td>61.15</td>\n",
              "      <td>0.581</td>\n",
              "      <td>7.645</td>\n",
              "      <td>16.21</td>\n",
              "      <td>0.0</td>\n",
              "      <td>0.0</td>\n",
              "      <td>0.00</td>\n",
              "      <td>0.0</td>\n",
              "      <td>0.0</td>\n",
              "      <td>0.0</td>\n",
              "      <td>0.0</td>\n",
              "      <td>0.0</td>\n",
              "      <td>0.0</td>\n",
              "      <td>76.145</td>\n",
              "    </tr>\n",
              "    <tr>\n",
              "      <th>3</th>\n",
              "      <td>AGO</td>\n",
              "      <td>Angola</td>\n",
              "      <td>2021-02-08</td>\n",
              "      <td>0.88</td>\n",
              "      <td>NaN</td>\n",
              "      <td>NaN</td>\n",
              "      <td>NaN</td>\n",
              "      <td>NaN</td>\n",
              "      <td>61.11</td>\n",
              "      <td>23.89</td>\n",
              "      <td>16.8</td>\n",
              "      <td>5819.495</td>\n",
              "      <td>NaN</td>\n",
              "      <td>26.664</td>\n",
              "      <td>NaN</td>\n",
              "      <td>61.15</td>\n",
              "      <td>0.581</td>\n",
              "      <td>9.520</td>\n",
              "      <td>28.57</td>\n",
              "      <td>0.0</td>\n",
              "      <td>0.0</td>\n",
              "      <td>0.00</td>\n",
              "      <td>0.0</td>\n",
              "      <td>0.0</td>\n",
              "      <td>0.0</td>\n",
              "      <td>0.0</td>\n",
              "      <td>0.0</td>\n",
              "      <td>0.0</td>\n",
              "      <td>61.910</td>\n",
              "    </tr>\n",
              "    <tr>\n",
              "      <th>4</th>\n",
              "      <td>AGO</td>\n",
              "      <td>Angola</td>\n",
              "      <td>2021-02-15</td>\n",
              "      <td>0.90</td>\n",
              "      <td>NaN</td>\n",
              "      <td>NaN</td>\n",
              "      <td>NaN</td>\n",
              "      <td>NaN</td>\n",
              "      <td>61.11</td>\n",
              "      <td>23.89</td>\n",
              "      <td>16.8</td>\n",
              "      <td>5819.495</td>\n",
              "      <td>NaN</td>\n",
              "      <td>26.664</td>\n",
              "      <td>NaN</td>\n",
              "      <td>61.15</td>\n",
              "      <td>0.581</td>\n",
              "      <td>6.040</td>\n",
              "      <td>34.80</td>\n",
              "      <td>0.0</td>\n",
              "      <td>0.0</td>\n",
              "      <td>0.00</td>\n",
              "      <td>0.0</td>\n",
              "      <td>0.0</td>\n",
              "      <td>0.0</td>\n",
              "      <td>0.0</td>\n",
              "      <td>0.0</td>\n",
              "      <td>0.0</td>\n",
              "      <td>59.160</td>\n",
              "    </tr>\n",
              "  </tbody>\n",
              "</table>\n",
              "</div>"
            ],
            "text/plain": [
              "  iso_code location       date  ...   Mu  Omicron  non_who\n",
              "0      AGO   Angola 2020-12-21  ...  0.0      0.0   24.730\n",
              "1      AGO   Angola 2021-01-25  ...  0.0      0.0   90.380\n",
              "2      AGO   Angola 2021-02-01  ...  0.0      0.0   76.145\n",
              "3      AGO   Angola 2021-02-08  ...  0.0      0.0   61.910\n",
              "4      AGO   Angola 2021-02-15  ...  0.0      0.0   59.160\n",
              "\n",
              "[5 rows x 29 columns]"
            ]
          },
          "metadata": {},
          "execution_count": 18
        }
      ]
    },
    {
      "cell_type": "code",
      "metadata": {
        "id": "UwUVoHhRPN8S"
      },
      "source": [
        ""
      ],
      "execution_count": null,
      "outputs": []
    },
    {
      "cell_type": "code",
      "metadata": {
        "id": "wNgNIHZrPvxq",
        "colab": {
          "base_uri": "https://localhost:8080/",
          "height": 206
        },
        "outputId": "fe71bae4-91fb-4a8e-ec95-b91356d0e8eb"
      },
      "source": [
        "# column descriptions from OWID:\n",
        "owid_col_desc_link = 'https://github.com/owid/covid-19-data/raw/master/public/data/owid-covid-codebook.csv'\n",
        "owid_col_desc = pd.read_csv(owid_col_desc_link)\n",
        "owid_col_desc.head()\n",
        "# Note: the Variant data isn't described here, but is percentage by country or as calculated globally\n",
        "# on that date if the country's data wasn't available."
      ],
      "execution_count": null,
      "outputs": [
        {
          "output_type": "execute_result",
          "data": {
            "text/html": [
              "<div>\n",
              "<style scoped>\n",
              "    .dataframe tbody tr th:only-of-type {\n",
              "        vertical-align: middle;\n",
              "    }\n",
              "\n",
              "    .dataframe tbody tr th {\n",
              "        vertical-align: top;\n",
              "    }\n",
              "\n",
              "    .dataframe thead th {\n",
              "        text-align: right;\n",
              "    }\n",
              "</style>\n",
              "<table border=\"1\" class=\"dataframe\">\n",
              "  <thead>\n",
              "    <tr style=\"text-align: right;\">\n",
              "      <th></th>\n",
              "      <th>column</th>\n",
              "      <th>source</th>\n",
              "      <th>category</th>\n",
              "      <th>description</th>\n",
              "    </tr>\n",
              "  </thead>\n",
              "  <tbody>\n",
              "    <tr>\n",
              "      <th>0</th>\n",
              "      <td>iso_code</td>\n",
              "      <td>International Organization for Standardization</td>\n",
              "      <td>Others</td>\n",
              "      <td>ISO 3166-1 alpha-3 – three-letter country codes</td>\n",
              "    </tr>\n",
              "    <tr>\n",
              "      <th>1</th>\n",
              "      <td>continent</td>\n",
              "      <td>Our World in Data</td>\n",
              "      <td>Others</td>\n",
              "      <td>Continent of the geographical location</td>\n",
              "    </tr>\n",
              "    <tr>\n",
              "      <th>2</th>\n",
              "      <td>location</td>\n",
              "      <td>Our World in Data</td>\n",
              "      <td>Others</td>\n",
              "      <td>Geographical location</td>\n",
              "    </tr>\n",
              "    <tr>\n",
              "      <th>3</th>\n",
              "      <td>date</td>\n",
              "      <td>Our World in Data</td>\n",
              "      <td>Others</td>\n",
              "      <td>Date of observation</td>\n",
              "    </tr>\n",
              "    <tr>\n",
              "      <th>4</th>\n",
              "      <td>total_cases</td>\n",
              "      <td>COVID-19 Data Repository by the Center for Sys...</td>\n",
              "      <td>Confirmed cases</td>\n",
              "      <td>Total confirmed cases of COVID-19</td>\n",
              "    </tr>\n",
              "  </tbody>\n",
              "</table>\n",
              "</div>"
            ],
            "text/plain": [
              "        column  ...                                      description\n",
              "0     iso_code  ...  ISO 3166-1 alpha-3 – three-letter country codes\n",
              "1    continent  ...           Continent of the geographical location\n",
              "2     location  ...                            Geographical location\n",
              "3         date  ...                              Date of observation\n",
              "4  total_cases  ...                Total confirmed cases of COVID-19\n",
              "\n",
              "[5 rows x 4 columns]"
            ]
          },
          "metadata": {},
          "execution_count": 14
        }
      ]
    },
    {
      "cell_type": "code",
      "metadata": {
        "id": "KyimQktVeszY",
        "colab": {
          "base_uri": "https://localhost:8080/"
        },
        "outputId": "a67c6a43-1a0e-424c-acfb-740477f05318"
      },
      "source": [
        "# make sure that the var_dictionary.pkl matches the dataset imported above\n",
        "var_link = 'https://github.com/w-oke/covid_reproduction/raw/main/covid_owid_var_dictionary.pkl'\n",
        "\n",
        "a_file = \"covid_owid_var_dictionary.pkl\"\n",
        "data = urllib.request.urlretrieve(var_link, a_file)\n",
        "\n",
        "with open(a_file, 'rb') as f:\n",
        "        var = pickle.load(f)\n",
        "\n",
        "print('The variables in df have been categorized into 4 groups: ', var.keys())\n",
        "print()\n",
        "var"
      ],
      "execution_count": null,
      "outputs": [
        {
          "output_type": "stream",
          "name": "stdout",
          "text": [
            "dict_keys(['y', 'meta', 'number', 'variants'])\n",
            "The variables in df have been categorized into 4 groups:  None\n",
            "\n"
          ]
        },
        {
          "output_type": "execute_result",
          "data": {
            "text/plain": [
              "{'meta': ['date', 'iso_code', 'location'],\n",
              " 'number': ['new_tests_smoothed_per_thousand',\n",
              "  'people_vaccinated_per_hundred',\n",
              "  'people_fully_vaccinated_per_hundred',\n",
              "  'total_boosters_per_hundred',\n",
              "  'stringency_index',\n",
              "  'population_density',\n",
              "  'median_age',\n",
              "  'human_development_index',\n",
              "  'gdp_per_capita',\n",
              "  'extreme_poverty',\n",
              "  'handwashing_facilities',\n",
              "  'hospital_beds_per_thousand',\n",
              "  'life_expectancy'],\n",
              " 'variants': ['Alpha',\n",
              "  'Beta',\n",
              "  'Delta',\n",
              "  'Epsilon',\n",
              "  'Eta',\n",
              "  'Gamma',\n",
              "  'Iota',\n",
              "  'Kappa',\n",
              "  'Lambda',\n",
              "  'Mu',\n",
              "  'Omicron',\n",
              "  'non_who'],\n",
              " 'y': ['reproduction_rate']}"
            ]
          },
          "metadata": {},
          "execution_count": 22
        }
      ]
    },
    {
      "cell_type": "code",
      "metadata": {
        "id": "h-3MmvlfN_sq",
        "colab": {
          "base_uri": "https://localhost:8080/"
        },
        "outputId": "4a12907f-500e-4134-93e3-7cd9c8fa7827"
      },
      "source": [
        "# create a single list of all the features\n",
        "var_all = [item for sublist in list(var.values()) for item in sublist]\n",
        "print('The first 4 items in \"var_all\" are: ', var_all[0:4])\n",
        "print('There are {} variables in var_all'.format(len(var_all)))\n",
        "\n",
        "# create a single string of all the features\n",
        "var_all2 = ', '.join(var_all)\n",
        "print('var_all2: ', var_all2)"
      ],
      "execution_count": null,
      "outputs": [
        {
          "output_type": "stream",
          "name": "stdout",
          "text": [
            "The first 4 items in \"var_all\" are:  ['reproduction_rate', 'date', 'iso_code', 'location']\n",
            "There are 29 variables in var_all\n",
            "var_all2:  reproduction_rate, date, iso_code, location, new_tests_smoothed_per_thousand, people_vaccinated_per_hundred, people_fully_vaccinated_per_hundred, total_boosters_per_hundred, stringency_index, population_density, median_age, human_development_index, gdp_per_capita, extreme_poverty, handwashing_facilities, hospital_beds_per_thousand, life_expectancy, Alpha, Beta, Delta, Epsilon, Eta, Gamma, Iota, Kappa, Lambda, Mu, Omicron, non_who\n"
          ]
        }
      ]
    },
    {
      "cell_type": "code",
      "metadata": {
        "id": "zaAMKGfCN_V7"
      },
      "source": [
        ""
      ],
      "execution_count": null,
      "outputs": []
    }
  ]
}
=======
{"nbformat":4,"nbformat_minor":0,"metadata":{"colab":{"name":"covid_owid_2_analysis.ipynb","provenance":[]},"kernelspec":{"name":"python3","display_name":"Python 3"},"language_info":{"name":"python"}},"cells":[{"cell_type":"markdown","metadata":{"id":"view-in-github"},"source":["<a href=\"https://colab.research.google.com/github/w-oke/covid_reproduction/blob/main/covid_owid_2_analysis.ipynb\" target=\"_parent\"><img src=\"https://colab.research.google.com/assets/colab-badge.svg\" alt=\"Open In Colab\"/></a>"]},{"cell_type":"markdown","metadata":{"id":"AcknS606OT5D"},"source":["The data loaded in this Notebook is based on the output of: covid_owid_1_preparation.ipynb, which can be accessed from:\n","https://github.com/w-oke/covid_reproduction."]},{"cell_type":"markdown","metadata":{"id":"xZjlnk6VPbku"},"source":["# Ingesting Raw Data"]},{"cell_type":"code","metadata":{"id":"vIXW7GbeaT8u","executionInfo":{"status":"ok","timestamp":1638718504417,"user_tz":300,"elapsed":300,"user":{"displayName":"Robb Fournier","photoUrl":"https://lh3.googleusercontent.com/a-/AOh14Ggf07aJUsqCdCQWLJwhYQ6EePGYDfBdorxsYgZth_Y=s64","userId":"03623616614025655423"}}},"source":["import pandas as pd\n","import urllib.request\n","import pickle"],"execution_count":1,"outputs":[]},{"cell_type":"code","metadata":{"id":"laGKjQDkPOML","colab":{"base_uri":"https://localhost:8080/"},"executionInfo":{"status":"ok","timestamp":1638718509865,"user_tz":300,"elapsed":1689,"user":{"displayName":"Robb Fournier","photoUrl":"https://lh3.googleusercontent.com/a-/AOh14Ggf07aJUsqCdCQWLJwhYQ6EePGYDfBdorxsYgZth_Y=s64","userId":"03623616614025655423"}},"outputId":"7a5e37ea-8bb0-4eeb-b7ba-ec1815a72186"},"source":["df_link = 'https://github.com/w-oke/covid_reproduction/raw/main/covid_owid_df.parquet'\n","df1 = pd.read_parquet(df_link)\n","df1.info()"],"execution_count":2,"outputs":[{"output_type":"stream","name":"stdout","text":["<class 'pandas.core.frame.DataFrame'>\n","RangeIndex: 14301 entries, 0 to 14300\n","Data columns (total 29 columns):\n"," #   Column                               Non-Null Count  Dtype         \n","---  ------                               --------------  -----         \n"," 0   iso_code                             14301 non-null  object        \n"," 1   location                             14301 non-null  object        \n"," 2   date                                 14301 non-null  datetime64[ns]\n"," 3   reproduction_rate                    14301 non-null  float64       \n"," 4   new_tests_smoothed_per_thousand      8803 non-null   float64       \n"," 5   people_vaccinated_per_hundred        4093 non-null   float64       \n"," 6   people_fully_vaccinated_per_hundred  3690 non-null   float64       \n"," 7   total_boosters_per_hundred           738 non-null    float64       \n"," 8   stringency_index                     13289 non-null  float64       \n"," 9   population_density                   14064 non-null  float64       \n"," 10  median_age                           13854 non-null  float64       \n"," 11  gdp_per_capita                       13765 non-null  float64       \n"," 12  extreme_poverty                      9549 non-null   float64       \n"," 13  handwashing_facilities               7151 non-null   float64       \n"," 14  hospital_beds_per_thousand           12736 non-null  float64       \n"," 15  life_expectancy                      14221 non-null  float64       \n"," 16  human_development_index              13907 non-null  float64       \n"," 17  Alpha                                14301 non-null  float64       \n"," 18  Beta                                 14301 non-null  float64       \n"," 19  Delta                                14301 non-null  float64       \n"," 20  Epsilon                              14301 non-null  float64       \n"," 21  Eta                                  14301 non-null  float64       \n"," 22  Gamma                                14301 non-null  float64       \n"," 23  Iota                                 14301 non-null  float64       \n"," 24  Kappa                                14301 non-null  float64       \n"," 25  Lambda                               14301 non-null  float64       \n"," 26  Mu                                   14301 non-null  float64       \n"," 27  Omicron                              14301 non-null  float64       \n"," 28  non_who                              14301 non-null  float64       \n","dtypes: datetime64[ns](1), float64(26), object(2)\n","memory usage: 3.2+ MB\n"]}]},{"cell_type":"markdown","metadata":{"id":"9HUGvAwBPxHS"},"source":[""]},{"cell_type":"markdown","metadata":{"id":"xa4LYsEmzN7W"},"source":["Note that:\n","* about half the data has 'handwashing_facilities', 'extreme_poverty', and 'new_tests_smoothed_per_thousand'\n","* about a quarter of the data has vaccination data\n","\n","It is thought that the reason that many of the vaccination and booster data values are null is due to the timeframes (2019-2020) and countries where no vaccinations were available or provided.  Most of these values could therefore be filled with 0 (zero).\n"]},{"cell_type":"code","metadata":{"id":"J3T5Y1ITPOEp","colab":{"base_uri":"https://localhost:8080/","height":313},"executionInfo":{"status":"ok","timestamp":1638718513401,"user_tz":300,"elapsed":322,"user":{"displayName":"Robb Fournier","photoUrl":"https://lh3.googleusercontent.com/a-/AOh14Ggf07aJUsqCdCQWLJwhYQ6EePGYDfBdorxsYgZth_Y=s64","userId":"03623616614025655423"}},"outputId":"80c56ed7-dba6-4f07-8f51-7917ae152529"},"source":["df1.head()"],"execution_count":3,"outputs":[{"output_type":"execute_result","data":{"text/html":["<div>\n","<style scoped>\n","    .dataframe tbody tr th:only-of-type {\n","        vertical-align: middle;\n","    }\n","\n","    .dataframe tbody tr th {\n","        vertical-align: top;\n","    }\n","\n","    .dataframe thead th {\n","        text-align: right;\n","    }\n","</style>\n","<table border=\"1\" class=\"dataframe\">\n","  <thead>\n","    <tr style=\"text-align: right;\">\n","      <th></th>\n","      <th>iso_code</th>\n","      <th>location</th>\n","      <th>date</th>\n","      <th>reproduction_rate</th>\n","      <th>new_tests_smoothed_per_thousand</th>\n","      <th>people_vaccinated_per_hundred</th>\n","      <th>people_fully_vaccinated_per_hundred</th>\n","      <th>total_boosters_per_hundred</th>\n","      <th>stringency_index</th>\n","      <th>population_density</th>\n","      <th>median_age</th>\n","      <th>gdp_per_capita</th>\n","      <th>extreme_poverty</th>\n","      <th>handwashing_facilities</th>\n","      <th>hospital_beds_per_thousand</th>\n","      <th>life_expectancy</th>\n","      <th>human_development_index</th>\n","      <th>Alpha</th>\n","      <th>Beta</th>\n","      <th>Delta</th>\n","      <th>Epsilon</th>\n","      <th>Eta</th>\n","      <th>Gamma</th>\n","      <th>Iota</th>\n","      <th>Kappa</th>\n","      <th>Lambda</th>\n","      <th>Mu</th>\n","      <th>Omicron</th>\n","      <th>non_who</th>\n","    </tr>\n","  </thead>\n","  <tbody>\n","    <tr>\n","      <th>0</th>\n","      <td>AGO</td>\n","      <td>Angola</td>\n","      <td>2020-12-21</td>\n","      <td>0.96</td>\n","      <td>NaN</td>\n","      <td>NaN</td>\n","      <td>NaN</td>\n","      <td>NaN</td>\n","      <td>65.74</td>\n","      <td>23.89</td>\n","      <td>16.8</td>\n","      <td>5819.495</td>\n","      <td>NaN</td>\n","      <td>26.664</td>\n","      <td>NaN</td>\n","      <td>61.15</td>\n","      <td>0.581</td>\n","      <td>0.000</td>\n","      <td>74.19</td>\n","      <td>0.0</td>\n","      <td>0.0</td>\n","      <td>1.08</td>\n","      <td>0.0</td>\n","      <td>0.0</td>\n","      <td>0.0</td>\n","      <td>0.0</td>\n","      <td>0.0</td>\n","      <td>0.0</td>\n","      <td>24.730</td>\n","    </tr>\n","    <tr>\n","      <th>1</th>\n","      <td>AGO</td>\n","      <td>Angola</td>\n","      <td>2021-01-25</td>\n","      <td>0.91</td>\n","      <td>NaN</td>\n","      <td>NaN</td>\n","      <td>NaN</td>\n","      <td>NaN</td>\n","      <td>62.96</td>\n","      <td>23.89</td>\n","      <td>16.8</td>\n","      <td>5819.495</td>\n","      <td>NaN</td>\n","      <td>26.664</td>\n","      <td>NaN</td>\n","      <td>61.15</td>\n","      <td>0.581</td>\n","      <td>5.770</td>\n","      <td>3.85</td>\n","      <td>0.0</td>\n","      <td>0.0</td>\n","      <td>0.00</td>\n","      <td>0.0</td>\n","      <td>0.0</td>\n","      <td>0.0</td>\n","      <td>0.0</td>\n","      <td>0.0</td>\n","      <td>0.0</td>\n","      <td>90.380</td>\n","    </tr>\n","    <tr>\n","      <th>2</th>\n","      <td>AGO</td>\n","      <td>Angola</td>\n","      <td>2021-02-01</td>\n","      <td>0.87</td>\n","      <td>NaN</td>\n","      <td>NaN</td>\n","      <td>NaN</td>\n","      <td>NaN</td>\n","      <td>62.96</td>\n","      <td>23.89</td>\n","      <td>16.8</td>\n","      <td>5819.495</td>\n","      <td>NaN</td>\n","      <td>26.664</td>\n","      <td>NaN</td>\n","      <td>61.15</td>\n","      <td>0.581</td>\n","      <td>7.645</td>\n","      <td>16.21</td>\n","      <td>0.0</td>\n","      <td>0.0</td>\n","      <td>0.00</td>\n","      <td>0.0</td>\n","      <td>0.0</td>\n","      <td>0.0</td>\n","      <td>0.0</td>\n","      <td>0.0</td>\n","      <td>0.0</td>\n","      <td>76.145</td>\n","    </tr>\n","    <tr>\n","      <th>3</th>\n","      <td>AGO</td>\n","      <td>Angola</td>\n","      <td>2021-02-08</td>\n","      <td>0.88</td>\n","      <td>NaN</td>\n","      <td>NaN</td>\n","      <td>NaN</td>\n","      <td>NaN</td>\n","      <td>61.11</td>\n","      <td>23.89</td>\n","      <td>16.8</td>\n","      <td>5819.495</td>\n","      <td>NaN</td>\n","      <td>26.664</td>\n","      <td>NaN</td>\n","      <td>61.15</td>\n","      <td>0.581</td>\n","      <td>9.520</td>\n","      <td>28.57</td>\n","      <td>0.0</td>\n","      <td>0.0</td>\n","      <td>0.00</td>\n","      <td>0.0</td>\n","      <td>0.0</td>\n","      <td>0.0</td>\n","      <td>0.0</td>\n","      <td>0.0</td>\n","      <td>0.0</td>\n","      <td>61.910</td>\n","    </tr>\n","    <tr>\n","      <th>4</th>\n","      <td>AGO</td>\n","      <td>Angola</td>\n","      <td>2021-02-15</td>\n","      <td>0.90</td>\n","      <td>NaN</td>\n","      <td>NaN</td>\n","      <td>NaN</td>\n","      <td>NaN</td>\n","      <td>61.11</td>\n","      <td>23.89</td>\n","      <td>16.8</td>\n","      <td>5819.495</td>\n","      <td>NaN</td>\n","      <td>26.664</td>\n","      <td>NaN</td>\n","      <td>61.15</td>\n","      <td>0.581</td>\n","      <td>6.040</td>\n","      <td>34.80</td>\n","      <td>0.0</td>\n","      <td>0.0</td>\n","      <td>0.00</td>\n","      <td>0.0</td>\n","      <td>0.0</td>\n","      <td>0.0</td>\n","      <td>0.0</td>\n","      <td>0.0</td>\n","      <td>0.0</td>\n","      <td>59.160</td>\n","    </tr>\n","  </tbody>\n","</table>\n","</div>"],"text/plain":["  iso_code location       date  ...   Mu  Omicron  non_who\n","0      AGO   Angola 2020-12-21  ...  0.0      0.0   24.730\n","1      AGO   Angola 2021-01-25  ...  0.0      0.0   90.380\n","2      AGO   Angola 2021-02-01  ...  0.0      0.0   76.145\n","3      AGO   Angola 2021-02-08  ...  0.0      0.0   61.910\n","4      AGO   Angola 2021-02-15  ...  0.0      0.0   59.160\n","\n","[5 rows x 29 columns]"]},"metadata":{},"execution_count":3}]},{"cell_type":"code","metadata":{"id":"UwUVoHhRPN8S","executionInfo":{"status":"ok","timestamp":1638718515309,"user_tz":300,"elapsed":1,"user":{"displayName":"Robb Fournier","photoUrl":"https://lh3.googleusercontent.com/a-/AOh14Ggf07aJUsqCdCQWLJwhYQ6EePGYDfBdorxsYgZth_Y=s64","userId":"03623616614025655423"}}},"source":[""],"execution_count":3,"outputs":[]},{"cell_type":"code","metadata":{"id":"wNgNIHZrPvxq","colab":{"base_uri":"https://localhost:8080/","height":206},"executionInfo":{"status":"ok","timestamp":1638718518059,"user_tz":300,"elapsed":819,"user":{"displayName":"Robb Fournier","photoUrl":"https://lh3.googleusercontent.com/a-/AOh14Ggf07aJUsqCdCQWLJwhYQ6EePGYDfBdorxsYgZth_Y=s64","userId":"03623616614025655423"}},"outputId":"587d3f2a-0fe9-4e98-9b28-41689054b46b"},"source":["# column descriptions from OWID:\n","owid_col_desc_link = 'https://github.com/owid/covid-19-data/raw/master/public/data/owid-covid-codebook.csv'\n","owid_col_desc = pd.read_csv(owid_col_desc_link)\n","owid_col_desc.head()\n","# Note: the Variant data isn't described here, but is percentage by country or as calculated globally\n","# on that date if the country's data wasn't available."],"execution_count":4,"outputs":[{"output_type":"execute_result","data":{"text/html":["<div>\n","<style scoped>\n","    .dataframe tbody tr th:only-of-type {\n","        vertical-align: middle;\n","    }\n","\n","    .dataframe tbody tr th {\n","        vertical-align: top;\n","    }\n","\n","    .dataframe thead th {\n","        text-align: right;\n","    }\n","</style>\n","<table border=\"1\" class=\"dataframe\">\n","  <thead>\n","    <tr style=\"text-align: right;\">\n","      <th></th>\n","      <th>column</th>\n","      <th>source</th>\n","      <th>category</th>\n","      <th>description</th>\n","    </tr>\n","  </thead>\n","  <tbody>\n","    <tr>\n","      <th>0</th>\n","      <td>iso_code</td>\n","      <td>International Organization for Standardization</td>\n","      <td>Others</td>\n","      <td>ISO 3166-1 alpha-3 – three-letter country codes</td>\n","    </tr>\n","    <tr>\n","      <th>1</th>\n","      <td>continent</td>\n","      <td>Our World in Data</td>\n","      <td>Others</td>\n","      <td>Continent of the geographical location</td>\n","    </tr>\n","    <tr>\n","      <th>2</th>\n","      <td>location</td>\n","      <td>Our World in Data</td>\n","      <td>Others</td>\n","      <td>Geographical location</td>\n","    </tr>\n","    <tr>\n","      <th>3</th>\n","      <td>date</td>\n","      <td>Our World in Data</td>\n","      <td>Others</td>\n","      <td>Date of observation</td>\n","    </tr>\n","    <tr>\n","      <th>4</th>\n","      <td>total_cases</td>\n","      <td>COVID-19 Data Repository by the Center for Sys...</td>\n","      <td>Confirmed cases</td>\n","      <td>Total confirmed cases of COVID-19</td>\n","    </tr>\n","  </tbody>\n","</table>\n","</div>"],"text/plain":["        column  ...                                      description\n","0     iso_code  ...  ISO 3166-1 alpha-3 – three-letter country codes\n","1    continent  ...           Continent of the geographical location\n","2     location  ...                            Geographical location\n","3         date  ...                              Date of observation\n","4  total_cases  ...                Total confirmed cases of COVID-19\n","\n","[5 rows x 4 columns]"]},"metadata":{},"execution_count":4}]},{"cell_type":"code","metadata":{"id":"KyimQktVeszY","colab":{"base_uri":"https://localhost:8080/"},"executionInfo":{"status":"ok","timestamp":1638718522361,"user_tz":300,"elapsed":1174,"user":{"displayName":"Robb Fournier","photoUrl":"https://lh3.googleusercontent.com/a-/AOh14Ggf07aJUsqCdCQWLJwhYQ6EePGYDfBdorxsYgZth_Y=s64","userId":"03623616614025655423"}},"outputId":"b2fc5302-2d73-465e-8d6c-8dd5d1ee05e4"},"source":["# make sure that the var_dictionary.pkl matches the dataset imported above\n","var_link = 'https://github.com/w-oke/covid_reproduction/raw/main/covid_owid_var_dictionary.pkl'\n","\n","a_file = \"covid_owid_var_dictionary.pkl\"\n","data = urllib.request.urlretrieve(var_link, a_file)\n","\n","with open(a_file, 'rb') as f:\n","        var = pickle.load(f)\n","\n","print('The variables in df have been categorized into 4 groups: ', print(var.keys()))\n","print()\n","var"],"execution_count":5,"outputs":[{"output_type":"stream","name":"stdout","text":["dict_keys(['y', 'meta', 'number', 'variants'])\n","The variables in df have been categorized into 4 groups:  None\n","\n"]},{"output_type":"execute_result","data":{"text/plain":["{'meta': ['date', 'iso_code', 'location'],\n"," 'number': ['new_tests_smoothed_per_thousand',\n","  'people_vaccinated_per_hundred',\n","  'people_fully_vaccinated_per_hundred',\n","  'total_boosters_per_hundred',\n","  'stringency_index',\n","  'population_density',\n","  'median_age',\n","  'human_development_index',\n","  'gdp_per_capita',\n","  'extreme_poverty',\n","  'handwashing_facilities',\n","  'hospital_beds_per_thousand',\n","  'life_expectancy'],\n"," 'variants': ['Alpha',\n","  'Beta',\n","  'Delta',\n","  'Epsilon',\n","  'Eta',\n","  'Gamma',\n","  'Iota',\n","  'Kappa',\n","  'Lambda',\n","  'Mu',\n","  'Omicron',\n","  'non_who'],\n"," 'y': ['reproduction_rate']}"]},"metadata":{},"execution_count":5}]},{"cell_type":"code","metadata":{"id":"h-3MmvlfN_sq","colab":{"base_uri":"https://localhost:8080/"},"executionInfo":{"status":"ok","timestamp":1638718531029,"user_tz":300,"elapsed":260,"user":{"displayName":"Robb Fournier","photoUrl":"https://lh3.googleusercontent.com/a-/AOh14Ggf07aJUsqCdCQWLJwhYQ6EePGYDfBdorxsYgZth_Y=s64","userId":"03623616614025655423"}},"outputId":"ef9012ff-fe7c-4ae4-80fb-6097b0ebefbc"},"source":["# create a single list of all the features\n","var_all = [item for sublist in list(var.values()) for item in sublist]\n","print('The first 4 items in \"var_all\" are: ', var_all[0:4])\n","print('There are {} variables in var_all'.format(len(var_all)))\n","\n","# create a single string of all the features\n","var_all2 = ', '.join(var_all)\n","print('var_all2: ', var_all2)"],"execution_count":6,"outputs":[{"output_type":"stream","name":"stdout","text":["The first 4 items in \"var_all\" are:  ['reproduction_rate', 'date', 'iso_code', 'location']\n","There are 29 variables in var_all\n","var_all2:  reproduction_rate, date, iso_code, location, new_tests_smoothed_per_thousand, people_vaccinated_per_hundred, people_fully_vaccinated_per_hundred, total_boosters_per_hundred, stringency_index, population_density, median_age, human_development_index, gdp_per_capita, extreme_poverty, handwashing_facilities, hospital_beds_per_thousand, life_expectancy, Alpha, Beta, Delta, Epsilon, Eta, Gamma, Iota, Kappa, Lambda, Mu, Omicron, non_who\n"]}]},{"cell_type":"markdown","metadata":{"id":"7Ja73mlaPXq_"},"source":["# Data preparation and exploration"]},{"cell_type":"code","metadata":{"id":"XkDYXjXlPh6v","executionInfo":{"status":"ok","timestamp":1638718683438,"user_tz":300,"elapsed":318,"user":{"displayName":"Robb Fournier","photoUrl":"https://lh3.googleusercontent.com/a-/AOh14Ggf07aJUsqCdCQWLJwhYQ6EePGYDfBdorxsYgZth_Y=s64","userId":"03623616614025655423"}}},"source":["# 0   iso_code                             14301 non-null  object        \n","#  1   location                             14301 non-null  object        \n","#  2   date                                 14301 non-null  datetime64[ns]\n","#  3   reproduction_rate                    14301 non-null  float64       \n","#  4   new_tests_smoothed_per_thousand      8803 non-null   float64       \n","#  5   people_vaccinated_per_hundred        4093 non-null   float64       \n","#  6   people_fully_vaccinated_per_hundred  3690 non-null   float64       \n","#  7   total_boosters_per_hundred           738 non-null    float64       \n","#  8   stringency_index                     13289 non-null  float64       \n","#  9   population_density                   14064 non-null  float64       \n","#  10  median_age                           13854 non-null  float64       \n","#  11  gdp_per_capita                       13765 non-null  float64       \n","#  12  extreme_poverty                      9549 non-null   float64       \n","#  13  handwashing_facilities               7151 non-null   float64       \n","#  14  hospital_beds_per_thousand           12736 non-null  float64       \n","#  15  life_expectancy                      14221 non-null  float64       \n","#  16  human_development_index              13907 non-null  float64       \n","#  17  Alpha                                14301 non-null  float64       \n","#  18  Beta                                 14301 non-null  float64       \n","#  19  Delta                                14301 non-null  float64       \n","#  20  Epsilon                              14301 non-null  float64       \n","#  21  Eta                                  14301 non-null  float64       \n","#  22  Gamma                                14301 non-null  float64       \n","#  23  Iota                                 14301 non-null  float64       \n","#  24  Kappa                                14301 non-null  float64       \n","#  25  Lambda                               14301 non-null  float64       \n","#  26  Mu                                   14301 non-null  float64       \n","#  27  Omicron                              14301 non-null  float64       \n","#  28  non_who                              14301 non-null  float64    "],"execution_count":9,"outputs":[]},{"cell_type":"markdown","metadata":{"id":"HL3KATXaPs7q"},"source":["There are 14301 rows inside of our dataset. Examining the dataset, we see that there are a few columns that will require imputation or null treatments. \n","\n","* new_tests_smoothed_per_thousand ~ 6,000 nulls\n","* people_vaccinated_per_hundred ~ 10,000 nulls\n","* people_fully_vaccinated_per_hundred ~ 11,000 nulls\n","* total_boosters_per_hundred ~ 13,000 nulls\n","* stringency_index ~ 700 nulls\n","* median_age ~ 200 nulls\n","* gdp_per_capita ~ 300 nulls\n","* extreme_poverty ~ 5000 nulls\n","* handwashing_facilities ~ 7000 nulls\n","* hospital_beds_per_thousand ~ 2000 nulls\n","* human_development_index ~ 100 nulls"]},{"cell_type":"code","metadata":{"colab":{"base_uri":"https://localhost:8080/"},"id":"kPo9WsvdPrbC","executionInfo":{"status":"ok","timestamp":1638719113407,"user_tz":300,"elapsed":270,"user":{"displayName":"Robb Fournier","photoUrl":"https://lh3.googleusercontent.com/a-/AOh14Ggf07aJUsqCdCQWLJwhYQ6EePGYDfBdorxsYgZth_Y=s64","userId":"03623616614025655423"}},"outputId":"94869c36-900a-48b6-c529-c4afd8839092"},"source":["print(df1['new_tests_smoothed_per_thousand'].describe())\n","\n","# Since this is a regression problem, and through our knowledge of the subject, \n","# we can imputate 0 values for nulls to represent 0 new tests\n","\n","df1['new_tests_smoothed_per_thousand'].fillna(0, inplace=True)"],"execution_count":18,"outputs":[{"output_type":"stream","name":"stdout","text":["count    14301.000000\n","mean         1.614079\n","std          4.872622\n","min          0.000000\n","25%          0.000000\n","50%          0.180000\n","75%          1.469000\n","max         83.721000\n","Name: new_tests_smoothed_per_thousand, dtype: float64\n"]}]},{"cell_type":"code","metadata":{"colab":{"base_uri":"https://localhost:8080/"},"id":"rP372jIqQu59","executionInfo":{"status":"ok","timestamp":1638719171676,"user_tz":300,"elapsed":260,"user":{"displayName":"Robb Fournier","photoUrl":"https://lh3.googleusercontent.com/a-/AOh14Ggf07aJUsqCdCQWLJwhYQ6EePGYDfBdorxsYgZth_Y=s64","userId":"03623616614025655423"}},"outputId":"70b292be-f969-46d5-dfc4-7d034c529112"},"source":["print(df1['people_vaccinated_per_hundred'].describe())\n","\n","# Similar to the above cell, we can imputate 0 here.\n","\n","df1['people_vaccinated_per_hundred'].fillna(0, inplace=True)"],"execution_count":20,"outputs":[{"output_type":"stream","name":"stdout","text":["count    4093.000000\n","mean       29.124486\n","std        25.946311\n","min         0.000000\n","25%         4.200000\n","50%        22.040000\n","75%        52.040000\n","max        98.100000\n","Name: people_vaccinated_per_hundred, dtype: float64\n"]}]},{"cell_type":"code","metadata":{"colab":{"base_uri":"https://localhost:8080/"},"id":"0NrBFlM_RKU7","executionInfo":{"status":"ok","timestamp":1638719194298,"user_tz":300,"elapsed":267,"user":{"displayName":"Robb Fournier","photoUrl":"https://lh3.googleusercontent.com/a-/AOh14Ggf07aJUsqCdCQWLJwhYQ6EePGYDfBdorxsYgZth_Y=s64","userId":"03623616614025655423"}},"outputId":"3b88af12-661b-41d0-ec09-c51dba315089"},"source":["print(df1['people_fully_vaccinated_per_hundred'].describe())\n","\n","# Similar to the above cell, we can imputate 0 here.\n","\n","df1['people_fully_vaccinated_per_hundred'].fillna(0, inplace=True)"],"execution_count":21,"outputs":[{"output_type":"stream","name":"stdout","text":["count    3690.000000\n","mean       22.970561\n","std        23.518525\n","min         0.000000\n","25%         2.540000\n","50%        13.795000\n","75%        40.397500\n","max        88.400000\n","Name: people_fully_vaccinated_per_hundred, dtype: float64\n"]}]},{"cell_type":"code","metadata":{"colab":{"base_uri":"https://localhost:8080/"},"id":"32nvhxhHRoKL","executionInfo":{"status":"ok","timestamp":1638719231828,"user_tz":300,"elapsed":6,"user":{"displayName":"Robb Fournier","photoUrl":"https://lh3.googleusercontent.com/a-/AOh14Ggf07aJUsqCdCQWLJwhYQ6EePGYDfBdorxsYgZth_Y=s64","userId":"03623616614025655423"}},"outputId":"a7996ed2-ba17-4b26-fa6a-2d320f3a5b42"},"source":["print(df1['total_boosters_per_hundred'].describe())\n","\n","# Similar to the above cell, we can imputate 0 here.\n","\n","df1['total_boosters_per_hundred'].fillna(0, inplace=True)"],"execution_count":23,"outputs":[{"output_type":"stream","name":"stdout","text":["count    738.000000\n","mean       3.515393\n","std        7.522536\n","min        0.000000\n","25%        0.000000\n","50%        0.160000\n","75%        3.420000\n","max       43.360000\n","Name: total_boosters_per_hundred, dtype: float64\n"]}]},{"cell_type":"code","metadata":{"colab":{"base_uri":"https://localhost:8080/"},"id":"VPrNF_B8Rvpi","executionInfo":{"status":"ok","timestamp":1638720192724,"user_tz":300,"elapsed":290,"user":{"displayName":"Robb Fournier","photoUrl":"https://lh3.googleusercontent.com/a-/AOh14Ggf07aJUsqCdCQWLJwhYQ6EePGYDfBdorxsYgZth_Y=s64","userId":"03623616614025655423"}},"outputId":"3d134ef1-fb3c-45ce-a3ce-ac8e08f6c566"},"source":["print(df1['stringency_index'].describe(), \"\\n\\n\")\n","\n","null_stringency_nations = df1[df1['stringency_index'].isnull()].groupby(\"location\").count().sort_values(\"iso_code\", ascending=False)['iso_code']\n","\n","print(\"Geography of missing values\",\n","      null_stringency_nations)\n","\n","# Since the geography is mostly situated from several islands, it would be detrimental\n","# to completely remove the column. Given that there is a lack of details on the stringency index\n","# for these nations, we will assume a value of 0.\n","\n","df1['stringency_index'].fillna(0, inplace=True)"],"execution_count":49,"outputs":[{"output_type":"stream","name":"stdout","text":["count    14301.000000\n","mean        52.058753\n","std         23.135522\n","min          0.000000\n","25%         38.890000\n","50%         54.630000\n","75%         69.440000\n","max        100.000000\n","Name: stringency_index, dtype: float64 \n","\n","\n","Geography of missing values Series([], Name: iso_code, dtype: int64)\n"]}]},{"cell_type":"code","metadata":{"colab":{"base_uri":"https://localhost:8080/"},"id":"K6ZRfvErUxAG","executionInfo":{"status":"ok","timestamp":1638720362760,"user_tz":300,"elapsed":336,"user":{"displayName":"Robb Fournier","photoUrl":"https://lh3.googleusercontent.com/a-/AOh14Ggf07aJUsqCdCQWLJwhYQ6EePGYDfBdorxsYgZth_Y=s64","userId":"03623616614025655423"}},"outputId":"5a85672b-664c-491f-d00f-82f4d2a9bb56"},"source":["print(df1['median_age'].describe())\n","\n","# for age, we will use the median age - given the significant standard deviation\n","# that will be preferable to using the mean, which is more subject to outliers\n","\n","df1['median_age'].fillna(df1['median_age'].median(), inplace=True)"],"execution_count":53,"outputs":[{"output_type":"stream","name":"stdout","text":["count    13854.000000\n","mean        30.405190\n","std          9.162506\n","min         15.100000\n","25%         21.700000\n","50%         29.700000\n","75%         38.700000\n","max         48.200000\n","Name: median_age, dtype: float64\n"]}]},{"cell_type":"code","metadata":{"colab":{"base_uri":"https://localhost:8080/"},"id":"jRUijpiFVpMA","executionInfo":{"status":"ok","timestamp":1638725616502,"user_tz":300,"elapsed":527,"user":{"displayName":"Robb Fournier","photoUrl":"https://lh3.googleusercontent.com/a-/AOh14Ggf07aJUsqCdCQWLJwhYQ6EePGYDfBdorxsYgZth_Y=s64","userId":"03623616614025655423"}},"outputId":"6a1c8431-a094-4b26-a107-ab691b4fe084"},"source":["print(df1['gdp_per_capita'].describe())\n","\n","print(df1[df1['gdp_per_capita'].isnull()].groupby(\"location\").count())\n","\n","# In this case, since we are missing entire GDP per capita for entire countries, \n","# it will be too difficult to properly imputate for these distinct areas\n","# We will instead drop the feature\n","\n","df1.drop(\"gdp_per_capita\", axis=1, inplace=True)"],"execution_count":60,"outputs":[{"output_type":"stream","name":"stdout","text":["count     13765.000000\n","mean      18884.689561\n","std       19696.509909\n","min         661.240000\n","25%        4227.630000\n","50%       12294.876000\n","75%       26808.164000\n","max      116935.600000\n","Name: gdp_per_capita, dtype: float64\n","               iso_code  date  reproduction_rate  ...  Mu  Omicron  non_who\n","location                                          ...                      \n","Andorra              80    80                 80  ...  80       80       80\n","Cuba                 80    80                 80  ...  80       80       80\n","Liechtenstein        65    65                 65  ...  65       65       65\n","Monaco               74    74                 74  ...  74       74       74\n","Somalia              80    80                 80  ...  80       80       80\n","Syria                77    77                 77  ...  77       77       77\n","Taiwan               80    80                 80  ...  80       80       80\n","\n","[7 rows x 28 columns]\n"]}]},{"cell_type":"code","metadata":{"colab":{"base_uri":"https://localhost:8080/"},"id":"bqGWnl5PWJhY","executionInfo":{"status":"ok","timestamp":1638725645118,"user_tz":300,"elapsed":273,"user":{"displayName":"Robb Fournier","photoUrl":"https://lh3.googleusercontent.com/a-/AOh14Ggf07aJUsqCdCQWLJwhYQ6EePGYDfBdorxsYgZth_Y=s64","userId":"03623616614025655423"}},"outputId":"4a8956b1-453c-4d8d-9d26-e35b7e56993e"},"source":["print(df1['extreme_poverty'].describe())"],"execution_count":61,"outputs":[{"output_type":"stream","name":"stdout","text":["count    9549.000000\n","mean       13.711687\n","std        20.394417\n","min         0.100000\n","25%         0.500000\n","50%         2.200000\n","75%        21.200000\n","max        77.600000\n","Name: extreme_poverty, dtype: float64\n"]}]},{"cell_type":"code","metadata":{"id":"ssJujdxvqPDB"},"source":[""],"execution_count":null,"outputs":[]}]}
>>>>>>> Stashed changes
